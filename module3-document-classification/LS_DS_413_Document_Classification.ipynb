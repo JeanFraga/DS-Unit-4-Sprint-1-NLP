{
 "cells": [
  {
   "cell_type": "markdown",
   "metadata": {},
   "source": [
    "Lambda School Data Science\n",
    "\n",
    "*Unit 4, Sprint 1, Module 3*\n",
    "\n",
    "---"
   ]
  },
  {
   "cell_type": "markdown",
   "metadata": {},
   "source": [
    "# Document Classification (Prepare)\n",
    "\n",
    "Today's guided module project will be different. You already know how to do classification. You ready know how to extract features from documents. So? That means you're ready to combine and practice those skills in a kaggle competition. We we will open with a five minute sprint explaining the competition, and then give you 25 minutes to work. After those twenty five minutes are up, I will give a 5-minute demo an NLP technique that will help you with document classification (*and **maybe** the competition*).\n",
    "\n",
    "Today's all about having fun and practicing your skills. The competition will begin\n",
    "\n",
    "## Learning Objectives\n",
    "* <a href=\"#p0\">Part 0</a>: Kaggle Competition\n",
    "* <a href=\"#p1\">Part 1</a>: Text Feature Extraction & Classification Pipelines\n",
    "* <a href=\"#p2\">Part 2</a>: Latent Semantic Indexing\n",
    "* <a href=\"#p3\">Part 3</a>: Word Embeddings with Spacy"
   ]
  },
  {
   "cell_type": "markdown",
   "metadata": {},
   "source": [
    "# Text Feature Extraction & Classification Pieplines (Learn)\n",
    "<a id=\"p1\"></a>"
   ]
  },
  {
   "cell_type": "markdown",
   "metadata": {},
   "source": [
    "## Overview\n",
    "\n",
    "Sklearn pipelines allow you to stitch together multiple components of a machine learning process. The idea is that you can pass you raw data and get predictions out of the pipeline. This ability to pass raw input and receive a prediction from a singular class makes pipelines well suited for production, because you can pickle a a pipeline without worry about other data preprocessing steps. "
   ]
  },
  {
   "cell_type": "code",
   "execution_count": 2,
   "metadata": {},
   "outputs": [],
   "source": [
    "# Import Statements\n",
    "from sklearn.pipeline import Pipeline\n",
    "from sklearn.datasets import fetch_20newsgroups\n",
    "from sklearn.ensemble import RandomForestClassifier\n",
    "from sklearn.model_selection import GridSearchCV\n",
    "from sklearn.feature_extraction.text import TfidfVectorizer"
   ]
  },
  {
   "cell_type": "code",
   "execution_count": 3,
   "metadata": {},
   "outputs": [
    {
     "name": "stderr",
     "output_type": "stream",
     "text": [
      "Downloading 20news dataset. This may take a few minutes.\n",
      "Downloading dataset from https://ndownloader.figshare.com/files/5975967 (14 MB)\n"
     ]
    }
   ],
   "source": [
    "# Dataset\n",
    "from sklearn.datasets import fetch_20newsgroups\n",
    "\n",
    "categories = ['alt.atheism',\n",
    "              'talk.religion.misc']\n",
    "\n",
    "data = fetch_20newsgroups(subset='train', categories=categories)"
   ]
  },
  {
   "cell_type": "code",
   "execution_count": 4,
   "metadata": {},
   "outputs": [],
   "source": [
    "# Create Pipeline Components\n",
    "\n",
    "vect = TfidfVectorizer(stop_words='english', ngram_range=(1,2))\n",
    "rfc = RandomForestClassifier()"
   ]
  },
  {
   "cell_type": "code",
   "execution_count": 5,
   "metadata": {},
   "outputs": [],
   "source": [
    "# Define the Pipeline\n",
    "pipe = Pipeline([\n",
    "                 #Vectorizer\n",
    "                 ('vect', vect), \n",
    "                 # Classifier\n",
    "                 ('clf', rfc)\n",
    "                ])"
   ]
  },
  {
   "cell_type": "code",
   "execution_count": 6,
   "metadata": {},
   "outputs": [
    {
     "name": "stdout",
     "output_type": "stream",
     "text": [
      "Fitting 5 folds for each of 32 candidates, totalling 160 fits\n"
     ]
    },
    {
     "name": "stderr",
     "output_type": "stream",
     "text": [
      "[Parallel(n_jobs=-1)]: Using backend LokyBackend with 8 concurrent workers.\n",
      "[Parallel(n_jobs=-1)]: Done  34 tasks      | elapsed:    7.4s\n",
      "[Parallel(n_jobs=-1)]: Done 160 out of 160 | elapsed:   27.7s finished\n"
     ]
    },
    {
     "data": {
      "text/plain": [
       "GridSearchCV(cv=5, error_score='raise-deprecating',\n",
       "       estimator=Pipeline(memory=None,\n",
       "     steps=[('vect', TfidfVectorizer(analyzer='word', binary=False, decode_error='strict',\n",
       "        dtype=<class 'numpy.float64'>, encoding='utf-8', input='content',\n",
       "        lowercase=True, max_df=1.0, max_features=None, min_df=1,\n",
       "        ngram_range=(1, 2), norm='l2', preprocessor=None, smooth_idf=True,\n",
       "...obs=None,\n",
       "            oob_score=False, random_state=None, verbose=0,\n",
       "            warm_start=False))]),\n",
       "       fit_params=None, iid='warn', n_jobs=-1,\n",
       "       param_grid={'vect__max_df': (0.75, 1.0), 'vect__min_df': (0.02, 0.05), 'vect__max_features': (500, 1000), 'clf__n_estimators': (5, 10), 'clf__max_depth': (15, 20)},\n",
       "       pre_dispatch='2*n_jobs', refit=True, return_train_score='warn',\n",
       "       scoring=None, verbose=1)"
      ]
     },
     "execution_count": 6,
     "metadata": {},
     "output_type": "execute_result"
    }
   ],
   "source": [
    "parameters = {\n",
    "    'vect__max_df': ( 0.75, 1.0),\n",
    "    'vect__min_df': (.02, .05),\n",
    "    'vect__max_features': (500,1000),\n",
    "    'clf__n_estimators':(5, 10,),\n",
    "    'clf__max_depth':(15,20)\n",
    "}\n",
    "\n",
    "grid_search = GridSearchCV(pipe,parameters, cv=5, n_jobs=-1, verbose=1)\n",
    "grid_search.fit(data.data, data.target)"
   ]
  },
  {
   "cell_type": "code",
   "execution_count": 7,
   "metadata": {},
   "outputs": [
    {
     "data": {
      "text/plain": [
       "0.8938156359393232"
      ]
     },
     "execution_count": 7,
     "metadata": {},
     "output_type": "execute_result"
    }
   ],
   "source": [
    "grid_search.best_score_"
   ]
  },
  {
   "cell_type": "code",
   "execution_count": 8,
   "metadata": {},
   "outputs": [
    {
     "data": {
      "text/plain": [
       "array([1, 1], dtype=int64)"
      ]
     },
     "execution_count": 8,
     "metadata": {},
     "output_type": "execute_result"
    }
   ],
   "source": [
    "grid_search.predict(['Send me lots of money now', 'you won the lottery in Nigeria'])"
   ]
  },
  {
   "cell_type": "markdown",
   "metadata": {},
   "source": [
    "## Follow Along \n",
    "\n",
    "What you should be doing now:\n",
    "1. Join the Kaggle Competition\n",
    "2. Download the data\n",
    "3. Train a model (try using the pipe method I just demoed)"
   ]
  },
  {
   "cell_type": "markdown",
   "metadata": {},
   "source": [
    "### Load Competition Data"
   ]
  },
  {
   "cell_type": "code",
   "execution_count": 3,
   "metadata": {},
   "outputs": [],
   "source": [
    "import pandas as pd\n",
    "train = pd.read_csv('./data/train.csv')\n",
    "test = pd.read_csv('./data/test.csv')"
   ]
  },
  {
   "cell_type": "markdown",
   "metadata": {},
   "source": [
    "### Define Pipeline Components"
   ]
  },
  {
   "cell_type": "code",
   "execution_count": 5,
   "metadata": {},
   "outputs": [],
   "source": [
    "vect = TfidfVectorizer(stop_words='english', ngram_range=(1,2))\n",
    "clf = RandomForestClassifier()\n",
    "\n",
    "pipe = Pipeline([('vect', vect),\n",
    "                 ('clf', clf)])"
   ]
  },
  {
   "cell_type": "code",
   "execution_count": 18,
   "metadata": {},
   "outputs": [
    {
     "data": {
      "text/html": [
       "<div>\n",
       "<style scoped>\n",
       "    .dataframe tbody tr th:only-of-type {\n",
       "        vertical-align: middle;\n",
       "    }\n",
       "\n",
       "    .dataframe tbody tr th {\n",
       "        vertical-align: top;\n",
       "    }\n",
       "\n",
       "    .dataframe thead th {\n",
       "        text-align: right;\n",
       "    }\n",
       "</style>\n",
       "<table border=\"1\" class=\"dataframe\">\n",
       "  <thead>\n",
       "    <tr style=\"text-align: right;\">\n",
       "      <th></th>\n",
       "      <th>id</th>\n",
       "      <th>description</th>\n",
       "      <th>category</th>\n",
       "    </tr>\n",
       "  </thead>\n",
       "  <tbody>\n",
       "    <tr>\n",
       "      <th>0</th>\n",
       "      <td>1</td>\n",
       "      <td>A marriage of 13 and 18 year old bourbons. A m...</td>\n",
       "      <td>2</td>\n",
       "    </tr>\n",
       "    <tr>\n",
       "      <th>1</th>\n",
       "      <td>2</td>\n",
       "      <td>There have been some legendary Bowmores from t...</td>\n",
       "      <td>1</td>\n",
       "    </tr>\n",
       "    <tr>\n",
       "      <th>2</th>\n",
       "      <td>3</td>\n",
       "      <td>This bottling celebrates master distiller Park...</td>\n",
       "      <td>2</td>\n",
       "    </tr>\n",
       "    <tr>\n",
       "      <th>3</th>\n",
       "      <td>4</td>\n",
       "      <td>What impresses me most is how this whisky evol...</td>\n",
       "      <td>1</td>\n",
       "    </tr>\n",
       "    <tr>\n",
       "      <th>4</th>\n",
       "      <td>9</td>\n",
       "      <td>A caramel-laden fruit bouquet, followed by une...</td>\n",
       "      <td>2</td>\n",
       "    </tr>\n",
       "  </tbody>\n",
       "</table>\n",
       "</div>"
      ],
      "text/plain": [
       "   id                                        description  category\n",
       "0   1  A marriage of 13 and 18 year old bourbons. A m...         2\n",
       "1   2  There have been some legendary Bowmores from t...         1\n",
       "2   3  This bottling celebrates master distiller Park...         2\n",
       "3   4  What impresses me most is how this whisky evol...         1\n",
       "4   9  A caramel-laden fruit bouquet, followed by une...         2"
      ]
     },
     "execution_count": 18,
     "metadata": {},
     "output_type": "execute_result"
    }
   ],
   "source": [
    "train.head()"
   ]
  },
  {
   "cell_type": "markdown",
   "metadata": {},
   "source": [
    "### Define Your Search Space\n",
    "You're looking for both the best hyperparameters of your vectorizer and your classification model. "
   ]
  },
  {
   "cell_type": "code",
   "execution_count": 6,
   "metadata": {
    "collapsed": true,
    "jupyter": {
     "outputs_hidden": true
    }
   },
   "outputs": [
    {
     "name": "stdout",
     "output_type": "stream",
     "text": [
      "Fitting 3 folds for each of 900 candidates, totalling 2700 fits\n"
     ]
    },
    {
     "name": "stderr",
     "output_type": "stream",
     "text": [
      "[Parallel(n_jobs=-1)]: Using backend LokyBackend with 8 concurrent workers.\n",
      "[Parallel(n_jobs=-1)]: Done  34 tasks      | elapsed:    6.1s\n"
     ]
    },
    {
     "ename": "KeyboardInterrupt",
     "evalue": "",
     "output_type": "error",
     "traceback": [
      "\u001b[1;31m---------------------------------------------------------------------------\u001b[0m",
      "\u001b[1;31mKeyboardInterrupt\u001b[0m                         Traceback (most recent call last)",
      "\u001b[1;32m<ipython-input-6-992061cfd3ab>\u001b[0m in \u001b[0;36m<module>\u001b[1;34m\u001b[0m\n\u001b[0;32m      8\u001b[0m \u001b[1;33m\u001b[0m\u001b[0m\n\u001b[0;32m      9\u001b[0m \u001b[0mgrid_search\u001b[0m \u001b[1;33m=\u001b[0m \u001b[0mGridSearchCV\u001b[0m\u001b[1;33m(\u001b[0m\u001b[0mpipe\u001b[0m\u001b[1;33m,\u001b[0m\u001b[0mparameters\u001b[0m\u001b[1;33m,\u001b[0m \u001b[0mcv\u001b[0m\u001b[1;33m=\u001b[0m\u001b[1;36m3\u001b[0m\u001b[1;33m,\u001b[0m \u001b[0mn_jobs\u001b[0m\u001b[1;33m=\u001b[0m\u001b[1;33m-\u001b[0m\u001b[1;36m1\u001b[0m\u001b[1;33m,\u001b[0m \u001b[0mverbose\u001b[0m\u001b[1;33m=\u001b[0m\u001b[1;36m1\u001b[0m\u001b[1;33m)\u001b[0m\u001b[1;33m\u001b[0m\u001b[1;33m\u001b[0m\u001b[0m\n\u001b[1;32m---> 10\u001b[1;33m \u001b[0mgrid_search\u001b[0m\u001b[1;33m.\u001b[0m\u001b[0mfit\u001b[0m\u001b[1;33m(\u001b[0m\u001b[0mtrain\u001b[0m\u001b[1;33m.\u001b[0m\u001b[0mdescription\u001b[0m\u001b[1;33m,\u001b[0m \u001b[0mtrain\u001b[0m\u001b[1;33m.\u001b[0m\u001b[0mcategory\u001b[0m\u001b[1;33m)\u001b[0m\u001b[1;33m\u001b[0m\u001b[1;33m\u001b[0m\u001b[0m\n\u001b[0m",
      "\u001b[1;32mC:\\ProgramData\\Anaconda3\\envs\\U4-S1-NLP\\lib\\site-packages\\sklearn\\model_selection\\_search.py\u001b[0m in \u001b[0;36mfit\u001b[1;34m(self, X, y, groups, **fit_params)\u001b[0m\n\u001b[0;32m    720\u001b[0m                 \u001b[1;32mreturn\u001b[0m \u001b[0mresults_container\u001b[0m\u001b[1;33m[\u001b[0m\u001b[1;36m0\u001b[0m\u001b[1;33m]\u001b[0m\u001b[1;33m\u001b[0m\u001b[1;33m\u001b[0m\u001b[0m\n\u001b[0;32m    721\u001b[0m \u001b[1;33m\u001b[0m\u001b[0m\n\u001b[1;32m--> 722\u001b[1;33m             \u001b[0mself\u001b[0m\u001b[1;33m.\u001b[0m\u001b[0m_run_search\u001b[0m\u001b[1;33m(\u001b[0m\u001b[0mevaluate_candidates\u001b[0m\u001b[1;33m)\u001b[0m\u001b[1;33m\u001b[0m\u001b[1;33m\u001b[0m\u001b[0m\n\u001b[0m\u001b[0;32m    723\u001b[0m \u001b[1;33m\u001b[0m\u001b[0m\n\u001b[0;32m    724\u001b[0m         \u001b[0mresults\u001b[0m \u001b[1;33m=\u001b[0m \u001b[0mresults_container\u001b[0m\u001b[1;33m[\u001b[0m\u001b[1;36m0\u001b[0m\u001b[1;33m]\u001b[0m\u001b[1;33m\u001b[0m\u001b[1;33m\u001b[0m\u001b[0m\n",
      "\u001b[1;32mC:\\ProgramData\\Anaconda3\\envs\\U4-S1-NLP\\lib\\site-packages\\sklearn\\model_selection\\_search.py\u001b[0m in \u001b[0;36m_run_search\u001b[1;34m(self, evaluate_candidates)\u001b[0m\n\u001b[0;32m   1189\u001b[0m     \u001b[1;32mdef\u001b[0m \u001b[0m_run_search\u001b[0m\u001b[1;33m(\u001b[0m\u001b[0mself\u001b[0m\u001b[1;33m,\u001b[0m \u001b[0mevaluate_candidates\u001b[0m\u001b[1;33m)\u001b[0m\u001b[1;33m:\u001b[0m\u001b[1;33m\u001b[0m\u001b[1;33m\u001b[0m\u001b[0m\n\u001b[0;32m   1190\u001b[0m         \u001b[1;34m\"\"\"Search all candidates in param_grid\"\"\"\u001b[0m\u001b[1;33m\u001b[0m\u001b[1;33m\u001b[0m\u001b[0m\n\u001b[1;32m-> 1191\u001b[1;33m         \u001b[0mevaluate_candidates\u001b[0m\u001b[1;33m(\u001b[0m\u001b[0mParameterGrid\u001b[0m\u001b[1;33m(\u001b[0m\u001b[0mself\u001b[0m\u001b[1;33m.\u001b[0m\u001b[0mparam_grid\u001b[0m\u001b[1;33m)\u001b[0m\u001b[1;33m)\u001b[0m\u001b[1;33m\u001b[0m\u001b[1;33m\u001b[0m\u001b[0m\n\u001b[0m\u001b[0;32m   1192\u001b[0m \u001b[1;33m\u001b[0m\u001b[0m\n\u001b[0;32m   1193\u001b[0m \u001b[1;33m\u001b[0m\u001b[0m\n",
      "\u001b[1;32mC:\\ProgramData\\Anaconda3\\envs\\U4-S1-NLP\\lib\\site-packages\\sklearn\\model_selection\\_search.py\u001b[0m in \u001b[0;36mevaluate_candidates\u001b[1;34m(candidate_params)\u001b[0m\n\u001b[0;32m    709\u001b[0m                                \u001b[1;32mfor\u001b[0m \u001b[0mparameters\u001b[0m\u001b[1;33m,\u001b[0m \u001b[1;33m(\u001b[0m\u001b[0mtrain\u001b[0m\u001b[1;33m,\u001b[0m \u001b[0mtest\u001b[0m\u001b[1;33m)\u001b[0m\u001b[1;33m\u001b[0m\u001b[1;33m\u001b[0m\u001b[0m\n\u001b[0;32m    710\u001b[0m                                in product(candidate_params,\n\u001b[1;32m--> 711\u001b[1;33m                                           cv.split(X, y, groups)))\n\u001b[0m\u001b[0;32m    712\u001b[0m \u001b[1;33m\u001b[0m\u001b[0m\n\u001b[0;32m    713\u001b[0m                 \u001b[0mall_candidate_params\u001b[0m\u001b[1;33m.\u001b[0m\u001b[0mextend\u001b[0m\u001b[1;33m(\u001b[0m\u001b[0mcandidate_params\u001b[0m\u001b[1;33m)\u001b[0m\u001b[1;33m\u001b[0m\u001b[1;33m\u001b[0m\u001b[0m\n",
      "\u001b[1;32mC:\\ProgramData\\Anaconda3\\envs\\U4-S1-NLP\\lib\\site-packages\\sklearn\\externals\\joblib\\parallel.py\u001b[0m in \u001b[0;36m__call__\u001b[1;34m(self, iterable)\u001b[0m\n\u001b[0;32m    928\u001b[0m \u001b[1;33m\u001b[0m\u001b[0m\n\u001b[0;32m    929\u001b[0m             \u001b[1;32mwith\u001b[0m \u001b[0mself\u001b[0m\u001b[1;33m.\u001b[0m\u001b[0m_backend\u001b[0m\u001b[1;33m.\u001b[0m\u001b[0mretrieval_context\u001b[0m\u001b[1;33m(\u001b[0m\u001b[1;33m)\u001b[0m\u001b[1;33m:\u001b[0m\u001b[1;33m\u001b[0m\u001b[1;33m\u001b[0m\u001b[0m\n\u001b[1;32m--> 930\u001b[1;33m                 \u001b[0mself\u001b[0m\u001b[1;33m.\u001b[0m\u001b[0mretrieve\u001b[0m\u001b[1;33m(\u001b[0m\u001b[1;33m)\u001b[0m\u001b[1;33m\u001b[0m\u001b[1;33m\u001b[0m\u001b[0m\n\u001b[0m\u001b[0;32m    931\u001b[0m             \u001b[1;31m# Make sure that we get a last message telling us we are done\u001b[0m\u001b[1;33m\u001b[0m\u001b[1;33m\u001b[0m\u001b[1;33m\u001b[0m\u001b[0m\n\u001b[0;32m    932\u001b[0m             \u001b[0melapsed_time\u001b[0m \u001b[1;33m=\u001b[0m \u001b[0mtime\u001b[0m\u001b[1;33m.\u001b[0m\u001b[0mtime\u001b[0m\u001b[1;33m(\u001b[0m\u001b[1;33m)\u001b[0m \u001b[1;33m-\u001b[0m \u001b[0mself\u001b[0m\u001b[1;33m.\u001b[0m\u001b[0m_start_time\u001b[0m\u001b[1;33m\u001b[0m\u001b[1;33m\u001b[0m\u001b[0m\n",
      "\u001b[1;32mC:\\ProgramData\\Anaconda3\\envs\\U4-S1-NLP\\lib\\site-packages\\sklearn\\externals\\joblib\\parallel.py\u001b[0m in \u001b[0;36mretrieve\u001b[1;34m(self)\u001b[0m\n\u001b[0;32m    831\u001b[0m             \u001b[1;32mtry\u001b[0m\u001b[1;33m:\u001b[0m\u001b[1;33m\u001b[0m\u001b[1;33m\u001b[0m\u001b[0m\n\u001b[0;32m    832\u001b[0m                 \u001b[1;32mif\u001b[0m \u001b[0mgetattr\u001b[0m\u001b[1;33m(\u001b[0m\u001b[0mself\u001b[0m\u001b[1;33m.\u001b[0m\u001b[0m_backend\u001b[0m\u001b[1;33m,\u001b[0m \u001b[1;34m'supports_timeout'\u001b[0m\u001b[1;33m,\u001b[0m \u001b[1;32mFalse\u001b[0m\u001b[1;33m)\u001b[0m\u001b[1;33m:\u001b[0m\u001b[1;33m\u001b[0m\u001b[1;33m\u001b[0m\u001b[0m\n\u001b[1;32m--> 833\u001b[1;33m                     \u001b[0mself\u001b[0m\u001b[1;33m.\u001b[0m\u001b[0m_output\u001b[0m\u001b[1;33m.\u001b[0m\u001b[0mextend\u001b[0m\u001b[1;33m(\u001b[0m\u001b[0mjob\u001b[0m\u001b[1;33m.\u001b[0m\u001b[0mget\u001b[0m\u001b[1;33m(\u001b[0m\u001b[0mtimeout\u001b[0m\u001b[1;33m=\u001b[0m\u001b[0mself\u001b[0m\u001b[1;33m.\u001b[0m\u001b[0mtimeout\u001b[0m\u001b[1;33m)\u001b[0m\u001b[1;33m)\u001b[0m\u001b[1;33m\u001b[0m\u001b[1;33m\u001b[0m\u001b[0m\n\u001b[0m\u001b[0;32m    834\u001b[0m                 \u001b[1;32melse\u001b[0m\u001b[1;33m:\u001b[0m\u001b[1;33m\u001b[0m\u001b[1;33m\u001b[0m\u001b[0m\n\u001b[0;32m    835\u001b[0m                     \u001b[0mself\u001b[0m\u001b[1;33m.\u001b[0m\u001b[0m_output\u001b[0m\u001b[1;33m.\u001b[0m\u001b[0mextend\u001b[0m\u001b[1;33m(\u001b[0m\u001b[0mjob\u001b[0m\u001b[1;33m.\u001b[0m\u001b[0mget\u001b[0m\u001b[1;33m(\u001b[0m\u001b[1;33m)\u001b[0m\u001b[1;33m)\u001b[0m\u001b[1;33m\u001b[0m\u001b[1;33m\u001b[0m\u001b[0m\n",
      "\u001b[1;32mC:\\ProgramData\\Anaconda3\\envs\\U4-S1-NLP\\lib\\site-packages\\sklearn\\externals\\joblib\\_parallel_backends.py\u001b[0m in \u001b[0;36mwrap_future_result\u001b[1;34m(future, timeout)\u001b[0m\n\u001b[0;32m    519\u001b[0m         AsyncResults.get from multiprocessing.\"\"\"\n\u001b[0;32m    520\u001b[0m         \u001b[1;32mtry\u001b[0m\u001b[1;33m:\u001b[0m\u001b[1;33m\u001b[0m\u001b[1;33m\u001b[0m\u001b[0m\n\u001b[1;32m--> 521\u001b[1;33m             \u001b[1;32mreturn\u001b[0m \u001b[0mfuture\u001b[0m\u001b[1;33m.\u001b[0m\u001b[0mresult\u001b[0m\u001b[1;33m(\u001b[0m\u001b[0mtimeout\u001b[0m\u001b[1;33m=\u001b[0m\u001b[0mtimeout\u001b[0m\u001b[1;33m)\u001b[0m\u001b[1;33m\u001b[0m\u001b[1;33m\u001b[0m\u001b[0m\n\u001b[0m\u001b[0;32m    522\u001b[0m         \u001b[1;32mexcept\u001b[0m \u001b[0mLokyTimeoutError\u001b[0m\u001b[1;33m:\u001b[0m\u001b[1;33m\u001b[0m\u001b[1;33m\u001b[0m\u001b[0m\n\u001b[0;32m    523\u001b[0m             \u001b[1;32mraise\u001b[0m \u001b[0mTimeoutError\u001b[0m\u001b[1;33m(\u001b[0m\u001b[1;33m)\u001b[0m\u001b[1;33m\u001b[0m\u001b[1;33m\u001b[0m\u001b[0m\n",
      "\u001b[1;32mC:\\ProgramData\\Anaconda3\\envs\\U4-S1-NLP\\lib\\concurrent\\futures\\_base.py\u001b[0m in \u001b[0;36mresult\u001b[1;34m(self, timeout)\u001b[0m\n\u001b[0;32m    428\u001b[0m                 \u001b[1;32mreturn\u001b[0m \u001b[0mself\u001b[0m\u001b[1;33m.\u001b[0m\u001b[0m__get_result\u001b[0m\u001b[1;33m(\u001b[0m\u001b[1;33m)\u001b[0m\u001b[1;33m\u001b[0m\u001b[1;33m\u001b[0m\u001b[0m\n\u001b[0;32m    429\u001b[0m \u001b[1;33m\u001b[0m\u001b[0m\n\u001b[1;32m--> 430\u001b[1;33m             \u001b[0mself\u001b[0m\u001b[1;33m.\u001b[0m\u001b[0m_condition\u001b[0m\u001b[1;33m.\u001b[0m\u001b[0mwait\u001b[0m\u001b[1;33m(\u001b[0m\u001b[0mtimeout\u001b[0m\u001b[1;33m)\u001b[0m\u001b[1;33m\u001b[0m\u001b[1;33m\u001b[0m\u001b[0m\n\u001b[0m\u001b[0;32m    431\u001b[0m \u001b[1;33m\u001b[0m\u001b[0m\n\u001b[0;32m    432\u001b[0m             \u001b[1;32mif\u001b[0m \u001b[0mself\u001b[0m\u001b[1;33m.\u001b[0m\u001b[0m_state\u001b[0m \u001b[1;32min\u001b[0m \u001b[1;33m[\u001b[0m\u001b[0mCANCELLED\u001b[0m\u001b[1;33m,\u001b[0m \u001b[0mCANCELLED_AND_NOTIFIED\u001b[0m\u001b[1;33m]\u001b[0m\u001b[1;33m:\u001b[0m\u001b[1;33m\u001b[0m\u001b[1;33m\u001b[0m\u001b[0m\n",
      "\u001b[1;32mC:\\ProgramData\\Anaconda3\\envs\\U4-S1-NLP\\lib\\threading.py\u001b[0m in \u001b[0;36mwait\u001b[1;34m(self, timeout)\u001b[0m\n\u001b[0;32m    294\u001b[0m         \u001b[1;32mtry\u001b[0m\u001b[1;33m:\u001b[0m    \u001b[1;31m# restore state no matter what (e.g., KeyboardInterrupt)\u001b[0m\u001b[1;33m\u001b[0m\u001b[1;33m\u001b[0m\u001b[0m\n\u001b[0;32m    295\u001b[0m             \u001b[1;32mif\u001b[0m \u001b[0mtimeout\u001b[0m \u001b[1;32mis\u001b[0m \u001b[1;32mNone\u001b[0m\u001b[1;33m:\u001b[0m\u001b[1;33m\u001b[0m\u001b[1;33m\u001b[0m\u001b[0m\n\u001b[1;32m--> 296\u001b[1;33m                 \u001b[0mwaiter\u001b[0m\u001b[1;33m.\u001b[0m\u001b[0macquire\u001b[0m\u001b[1;33m(\u001b[0m\u001b[1;33m)\u001b[0m\u001b[1;33m\u001b[0m\u001b[1;33m\u001b[0m\u001b[0m\n\u001b[0m\u001b[0;32m    297\u001b[0m                 \u001b[0mgotit\u001b[0m \u001b[1;33m=\u001b[0m \u001b[1;32mTrue\u001b[0m\u001b[1;33m\u001b[0m\u001b[1;33m\u001b[0m\u001b[0m\n\u001b[0;32m    298\u001b[0m             \u001b[1;32melse\u001b[0m\u001b[1;33m:\u001b[0m\u001b[1;33m\u001b[0m\u001b[1;33m\u001b[0m\u001b[0m\n",
      "\u001b[1;31mKeyboardInterrupt\u001b[0m: "
     ]
    }
   ],
   "source": [
    "parameters = {\n",
    "    'vect__max_df': (0.75, .98, 1.0),\n",
    "    'vect__min_df': (.02, .05, .1),\n",
    "    'vect__max_features': (50 , 250, 500, 1000, 1500),\n",
    "    'clf__n_estimators':(5, 10, 15, 20),\n",
    "    'clf__max_depth':(1, 5,10,15,20)\n",
    "}\n",
    "\n",
    "grid_search = GridSearchCV(pipe,parameters, cv=3, n_jobs=-1, verbose=1)\n",
    "grid_search.fit(train.description, train.category)"
   ]
  },
  {
   "cell_type": "code",
   "execution_count": 48,
   "metadata": {},
   "outputs": [
    {
     "ename": "AttributeError",
     "evalue": "'GridSearchCV' object has no attribute 'best_score_'",
     "output_type": "error",
     "traceback": [
      "\u001b[1;31m---------------------------------------------------------------------------\u001b[0m",
      "\u001b[1;31mAttributeError\u001b[0m                            Traceback (most recent call last)",
      "\u001b[1;32m<ipython-input-48-99e6964859a0>\u001b[0m in \u001b[0;36m<module>\u001b[1;34m\u001b[0m\n\u001b[1;32m----> 1\u001b[1;33m \u001b[0mgrid_search\u001b[0m\u001b[1;33m.\u001b[0m\u001b[0mbest_score_\u001b[0m\u001b[1;33m\u001b[0m\u001b[1;33m\u001b[0m\u001b[0m\n\u001b[0m",
      "\u001b[1;31mAttributeError\u001b[0m: 'GridSearchCV' object has no attribute 'best_score_'"
     ]
    }
   ],
   "source": [
    "grid_search.best_score_"
   ]
  },
  {
   "cell_type": "markdown",
   "metadata": {},
   "source": [
    "### Make a Submission File\n",
    "*Note:* You are only allowed two submissions a day. Only submit if you feel you cannot achieve higher test accuracy. "
   ]
  },
  {
   "cell_type": "code",
   "execution_count": 27,
   "metadata": {},
   "outputs": [],
   "source": [
    "# Predictions on test sample\n",
    "pred = grid_search.predict(test['description'])"
   ]
  },
  {
   "cell_type": "code",
   "execution_count": 29,
   "metadata": {},
   "outputs": [],
   "source": [
    "submission = pd.DataFrame({'id': test['id'], 'category':pred})\n",
    "submission['category'] = submission['category'].astype('int64')"
   ]
  },
  {
   "cell_type": "code",
   "execution_count": 30,
   "metadata": {},
   "outputs": [
    {
     "data": {
      "text/html": [
       "<div>\n",
       "<style scoped>\n",
       "    .dataframe tbody tr th:only-of-type {\n",
       "        vertical-align: middle;\n",
       "    }\n",
       "\n",
       "    .dataframe tbody tr th {\n",
       "        vertical-align: top;\n",
       "    }\n",
       "\n",
       "    .dataframe thead th {\n",
       "        text-align: right;\n",
       "    }\n",
       "</style>\n",
       "<table border=\"1\" class=\"dataframe\">\n",
       "  <thead>\n",
       "    <tr style=\"text-align: right;\">\n",
       "      <th></th>\n",
       "      <th>id</th>\n",
       "      <th>category</th>\n",
       "    </tr>\n",
       "  </thead>\n",
       "  <tbody>\n",
       "    <tr>\n",
       "      <th>0</th>\n",
       "      <td>955</td>\n",
       "      <td>2</td>\n",
       "    </tr>\n",
       "    <tr>\n",
       "      <th>1</th>\n",
       "      <td>3532</td>\n",
       "      <td>2</td>\n",
       "    </tr>\n",
       "    <tr>\n",
       "      <th>2</th>\n",
       "      <td>1390</td>\n",
       "      <td>1</td>\n",
       "    </tr>\n",
       "    <tr>\n",
       "      <th>3</th>\n",
       "      <td>1024</td>\n",
       "      <td>1</td>\n",
       "    </tr>\n",
       "    <tr>\n",
       "      <th>4</th>\n",
       "      <td>1902</td>\n",
       "      <td>1</td>\n",
       "    </tr>\n",
       "  </tbody>\n",
       "</table>\n",
       "</div>"
      ],
      "text/plain": [
       "     id  category\n",
       "0   955         2\n",
       "1  3532         2\n",
       "2  1390         1\n",
       "3  1024         1\n",
       "4  1902         1"
      ]
     },
     "execution_count": 30,
     "metadata": {},
     "output_type": "execute_result"
    }
   ],
   "source": [
    "# Make Sure the Category is an Integer\n",
    "submission.head()"
   ]
  },
  {
   "cell_type": "code",
   "execution_count": 31,
   "metadata": {},
   "outputs": [],
   "source": [
    "# Save your Submission File\n",
    "# Best to Use an Integer or Timestamp for different versions of your model\n",
    "submission.to_csv('./data/submission2.csv', index=False)"
   ]
  },
  {
   "cell_type": "markdown",
   "metadata": {},
   "source": [
    "## Challenge\n",
    "\n",
    "You're trying to achienve 90% Accuracy on your model."
   ]
  },
  {
   "cell_type": "markdown",
   "metadata": {},
   "source": [
    "## Latent Semantic Indexing (Learn)\n",
    "<a id=\"p2\"></a>"
   ]
  },
  {
   "cell_type": "markdown",
   "metadata": {},
   "source": [
    "## Overview"
   ]
  },
  {
   "cell_type": "code",
   "execution_count": null,
   "metadata": {},
   "outputs": [],
   "source": []
  },
  {
   "cell_type": "code",
   "execution_count": 8,
   "metadata": {},
   "outputs": [],
   "source": [
    "# Import\n",
    "\n",
    "from sklearn.decomposition import TruncatedSVD\n",
    "\n",
    "svd = TruncatedSVD(n_components=100, \n",
    "                   algorithm='randomized',\n",
    "                   n_iter=10)"
   ]
  },
  {
   "cell_type": "code",
   "execution_count": 9,
   "metadata": {},
   "outputs": [],
   "source": [
    "params = { \n",
    "    'lsi__svd__n_components': [10,100,250],\n",
    "    'lsi__vect__max_df':[.9, .95, 1.0],\n",
    "    'clf__n_estimators':(5, 10,20)\n",
    "    \n",
    "}"
   ]
  },
  {
   "cell_type": "code",
   "execution_count": 10,
   "metadata": {},
   "outputs": [
    {
     "ename": "NameError",
     "evalue": "name 'rfc' is not defined",
     "output_type": "error",
     "traceback": [
      "\u001b[1;31m---------------------------------------------------------------------------\u001b[0m",
      "\u001b[1;31mNameError\u001b[0m                                 Traceback (most recent call last)",
      "\u001b[1;32m<ipython-input-10-dc330e206c26>\u001b[0m in \u001b[0;36m<module>\u001b[1;34m\u001b[0m\n\u001b[0;32m      4\u001b[0m \u001b[1;33m\u001b[0m\u001b[0m\n\u001b[0;32m      5\u001b[0m \u001b[1;31m# Pipe\u001b[0m\u001b[1;33m\u001b[0m\u001b[1;33m\u001b[0m\u001b[1;33m\u001b[0m\u001b[0m\n\u001b[1;32m----> 6\u001b[1;33m \u001b[0mpipe\u001b[0m \u001b[1;33m=\u001b[0m \u001b[0mPipeline\u001b[0m\u001b[1;33m(\u001b[0m\u001b[1;33m[\u001b[0m\u001b[1;33m(\u001b[0m\u001b[1;34m'lsi'\u001b[0m\u001b[1;33m,\u001b[0m \u001b[0mlsi\u001b[0m\u001b[1;33m)\u001b[0m\u001b[1;33m,\u001b[0m \u001b[1;33m(\u001b[0m\u001b[1;34m'clf'\u001b[0m\u001b[1;33m,\u001b[0m \u001b[0mrfc\u001b[0m\u001b[1;33m)\u001b[0m\u001b[1;33m]\u001b[0m\u001b[1;33m)\u001b[0m\u001b[1;33m\u001b[0m\u001b[1;33m\u001b[0m\u001b[0m\n\u001b[0m",
      "\u001b[1;31mNameError\u001b[0m: name 'rfc' is not defined"
     ]
    }
   ],
   "source": [
    "# LSI\n",
    "lsi = Pipeline([('vect', vect), ('svd', svd)])\n",
    "\n",
    "\n",
    "# Pipe\n",
    "pipe = Pipeline([('lsi', lsi), ('clf', rfc)])"
   ]
  },
  {
   "cell_type": "code",
   "execution_count": 37,
   "metadata": {
    "collapsed": true,
    "jupyter": {
     "outputs_hidden": true
    }
   },
   "outputs": [
    {
     "name": "stdout",
     "output_type": "stream",
     "text": [
      "Fitting 5 folds for each of 27 candidates, totalling 135 fits\n"
     ]
    },
    {
     "name": "stderr",
     "output_type": "stream",
     "text": [
      "[Parallel(n_jobs=-1)]: Using backend LokyBackend with 8 concurrent workers.\n",
      "[Parallel(n_jobs=-1)]: Done  34 tasks      | elapsed:  3.3min\n"
     ]
    },
    {
     "ename": "KeyboardInterrupt",
     "evalue": "",
     "output_type": "error",
     "traceback": [
      "\u001b[1;31m---------------------------------------------------------------------------\u001b[0m",
      "\u001b[1;31mKeyboardInterrupt\u001b[0m                         Traceback (most recent call last)",
      "\u001b[1;32m<ipython-input-37-cf4f870da595>\u001b[0m in \u001b[0;36m<module>\u001b[1;34m\u001b[0m\n\u001b[0;32m      1\u001b[0m \u001b[1;31m# Fit\u001b[0m\u001b[1;33m\u001b[0m\u001b[1;33m\u001b[0m\u001b[1;33m\u001b[0m\u001b[0m\n\u001b[0;32m      2\u001b[0m \u001b[0mgrid_search\u001b[0m \u001b[1;33m=\u001b[0m \u001b[0mGridSearchCV\u001b[0m\u001b[1;33m(\u001b[0m\u001b[0mpipe\u001b[0m\u001b[1;33m,\u001b[0m\u001b[0mparams\u001b[0m\u001b[1;33m,\u001b[0m \u001b[0mcv\u001b[0m\u001b[1;33m=\u001b[0m\u001b[1;36m5\u001b[0m\u001b[1;33m,\u001b[0m \u001b[0mn_jobs\u001b[0m\u001b[1;33m=\u001b[0m\u001b[1;33m-\u001b[0m\u001b[1;36m1\u001b[0m\u001b[1;33m,\u001b[0m \u001b[0mverbose\u001b[0m\u001b[1;33m=\u001b[0m\u001b[1;36m1\u001b[0m\u001b[1;33m)\u001b[0m\u001b[1;33m\u001b[0m\u001b[1;33m\u001b[0m\u001b[0m\n\u001b[1;32m----> 3\u001b[1;33m \u001b[0mgrid_search\u001b[0m\u001b[1;33m.\u001b[0m\u001b[0mfit\u001b[0m\u001b[1;33m(\u001b[0m\u001b[0mdata\u001b[0m\u001b[1;33m.\u001b[0m\u001b[0mdata\u001b[0m\u001b[1;33m,\u001b[0m \u001b[0mdata\u001b[0m\u001b[1;33m.\u001b[0m\u001b[0mtarget\u001b[0m\u001b[1;33m)\u001b[0m\u001b[1;33m\u001b[0m\u001b[1;33m\u001b[0m\u001b[0m\n\u001b[0m",
      "\u001b[1;32mC:\\ProgramData\\Anaconda3\\envs\\U4-S1-NLP\\lib\\site-packages\\sklearn\\model_selection\\_search.py\u001b[0m in \u001b[0;36mfit\u001b[1;34m(self, X, y, groups, **fit_params)\u001b[0m\n\u001b[0;32m    720\u001b[0m                 \u001b[1;32mreturn\u001b[0m \u001b[0mresults_container\u001b[0m\u001b[1;33m[\u001b[0m\u001b[1;36m0\u001b[0m\u001b[1;33m]\u001b[0m\u001b[1;33m\u001b[0m\u001b[1;33m\u001b[0m\u001b[0m\n\u001b[0;32m    721\u001b[0m \u001b[1;33m\u001b[0m\u001b[0m\n\u001b[1;32m--> 722\u001b[1;33m             \u001b[0mself\u001b[0m\u001b[1;33m.\u001b[0m\u001b[0m_run_search\u001b[0m\u001b[1;33m(\u001b[0m\u001b[0mevaluate_candidates\u001b[0m\u001b[1;33m)\u001b[0m\u001b[1;33m\u001b[0m\u001b[1;33m\u001b[0m\u001b[0m\n\u001b[0m\u001b[0;32m    723\u001b[0m \u001b[1;33m\u001b[0m\u001b[0m\n\u001b[0;32m    724\u001b[0m         \u001b[0mresults\u001b[0m \u001b[1;33m=\u001b[0m \u001b[0mresults_container\u001b[0m\u001b[1;33m[\u001b[0m\u001b[1;36m0\u001b[0m\u001b[1;33m]\u001b[0m\u001b[1;33m\u001b[0m\u001b[1;33m\u001b[0m\u001b[0m\n",
      "\u001b[1;32mC:\\ProgramData\\Anaconda3\\envs\\U4-S1-NLP\\lib\\site-packages\\sklearn\\model_selection\\_search.py\u001b[0m in \u001b[0;36m_run_search\u001b[1;34m(self, evaluate_candidates)\u001b[0m\n\u001b[0;32m   1189\u001b[0m     \u001b[1;32mdef\u001b[0m \u001b[0m_run_search\u001b[0m\u001b[1;33m(\u001b[0m\u001b[0mself\u001b[0m\u001b[1;33m,\u001b[0m \u001b[0mevaluate_candidates\u001b[0m\u001b[1;33m)\u001b[0m\u001b[1;33m:\u001b[0m\u001b[1;33m\u001b[0m\u001b[1;33m\u001b[0m\u001b[0m\n\u001b[0;32m   1190\u001b[0m         \u001b[1;34m\"\"\"Search all candidates in param_grid\"\"\"\u001b[0m\u001b[1;33m\u001b[0m\u001b[1;33m\u001b[0m\u001b[0m\n\u001b[1;32m-> 1191\u001b[1;33m         \u001b[0mevaluate_candidates\u001b[0m\u001b[1;33m(\u001b[0m\u001b[0mParameterGrid\u001b[0m\u001b[1;33m(\u001b[0m\u001b[0mself\u001b[0m\u001b[1;33m.\u001b[0m\u001b[0mparam_grid\u001b[0m\u001b[1;33m)\u001b[0m\u001b[1;33m)\u001b[0m\u001b[1;33m\u001b[0m\u001b[1;33m\u001b[0m\u001b[0m\n\u001b[0m\u001b[0;32m   1192\u001b[0m \u001b[1;33m\u001b[0m\u001b[0m\n\u001b[0;32m   1193\u001b[0m \u001b[1;33m\u001b[0m\u001b[0m\n",
      "\u001b[1;32mC:\\ProgramData\\Anaconda3\\envs\\U4-S1-NLP\\lib\\site-packages\\sklearn\\model_selection\\_search.py\u001b[0m in \u001b[0;36mevaluate_candidates\u001b[1;34m(candidate_params)\u001b[0m\n\u001b[0;32m    709\u001b[0m                                \u001b[1;32mfor\u001b[0m \u001b[0mparameters\u001b[0m\u001b[1;33m,\u001b[0m \u001b[1;33m(\u001b[0m\u001b[0mtrain\u001b[0m\u001b[1;33m,\u001b[0m \u001b[0mtest\u001b[0m\u001b[1;33m)\u001b[0m\u001b[1;33m\u001b[0m\u001b[1;33m\u001b[0m\u001b[0m\n\u001b[0;32m    710\u001b[0m                                in product(candidate_params,\n\u001b[1;32m--> 711\u001b[1;33m                                           cv.split(X, y, groups)))\n\u001b[0m\u001b[0;32m    712\u001b[0m \u001b[1;33m\u001b[0m\u001b[0m\n\u001b[0;32m    713\u001b[0m                 \u001b[0mall_candidate_params\u001b[0m\u001b[1;33m.\u001b[0m\u001b[0mextend\u001b[0m\u001b[1;33m(\u001b[0m\u001b[0mcandidate_params\u001b[0m\u001b[1;33m)\u001b[0m\u001b[1;33m\u001b[0m\u001b[1;33m\u001b[0m\u001b[0m\n",
      "\u001b[1;32mC:\\ProgramData\\Anaconda3\\envs\\U4-S1-NLP\\lib\\site-packages\\sklearn\\externals\\joblib\\parallel.py\u001b[0m in \u001b[0;36m__call__\u001b[1;34m(self, iterable)\u001b[0m\n\u001b[0;32m    928\u001b[0m \u001b[1;33m\u001b[0m\u001b[0m\n\u001b[0;32m    929\u001b[0m             \u001b[1;32mwith\u001b[0m \u001b[0mself\u001b[0m\u001b[1;33m.\u001b[0m\u001b[0m_backend\u001b[0m\u001b[1;33m.\u001b[0m\u001b[0mretrieval_context\u001b[0m\u001b[1;33m(\u001b[0m\u001b[1;33m)\u001b[0m\u001b[1;33m:\u001b[0m\u001b[1;33m\u001b[0m\u001b[1;33m\u001b[0m\u001b[0m\n\u001b[1;32m--> 930\u001b[1;33m                 \u001b[0mself\u001b[0m\u001b[1;33m.\u001b[0m\u001b[0mretrieve\u001b[0m\u001b[1;33m(\u001b[0m\u001b[1;33m)\u001b[0m\u001b[1;33m\u001b[0m\u001b[1;33m\u001b[0m\u001b[0m\n\u001b[0m\u001b[0;32m    931\u001b[0m             \u001b[1;31m# Make sure that we get a last message telling us we are done\u001b[0m\u001b[1;33m\u001b[0m\u001b[1;33m\u001b[0m\u001b[1;33m\u001b[0m\u001b[0m\n\u001b[0;32m    932\u001b[0m             \u001b[0melapsed_time\u001b[0m \u001b[1;33m=\u001b[0m \u001b[0mtime\u001b[0m\u001b[1;33m.\u001b[0m\u001b[0mtime\u001b[0m\u001b[1;33m(\u001b[0m\u001b[1;33m)\u001b[0m \u001b[1;33m-\u001b[0m \u001b[0mself\u001b[0m\u001b[1;33m.\u001b[0m\u001b[0m_start_time\u001b[0m\u001b[1;33m\u001b[0m\u001b[1;33m\u001b[0m\u001b[0m\n",
      "\u001b[1;32mC:\\ProgramData\\Anaconda3\\envs\\U4-S1-NLP\\lib\\site-packages\\sklearn\\externals\\joblib\\parallel.py\u001b[0m in \u001b[0;36mretrieve\u001b[1;34m(self)\u001b[0m\n\u001b[0;32m    831\u001b[0m             \u001b[1;32mtry\u001b[0m\u001b[1;33m:\u001b[0m\u001b[1;33m\u001b[0m\u001b[1;33m\u001b[0m\u001b[0m\n\u001b[0;32m    832\u001b[0m                 \u001b[1;32mif\u001b[0m \u001b[0mgetattr\u001b[0m\u001b[1;33m(\u001b[0m\u001b[0mself\u001b[0m\u001b[1;33m.\u001b[0m\u001b[0m_backend\u001b[0m\u001b[1;33m,\u001b[0m \u001b[1;34m'supports_timeout'\u001b[0m\u001b[1;33m,\u001b[0m \u001b[1;32mFalse\u001b[0m\u001b[1;33m)\u001b[0m\u001b[1;33m:\u001b[0m\u001b[1;33m\u001b[0m\u001b[1;33m\u001b[0m\u001b[0m\n\u001b[1;32m--> 833\u001b[1;33m                     \u001b[0mself\u001b[0m\u001b[1;33m.\u001b[0m\u001b[0m_output\u001b[0m\u001b[1;33m.\u001b[0m\u001b[0mextend\u001b[0m\u001b[1;33m(\u001b[0m\u001b[0mjob\u001b[0m\u001b[1;33m.\u001b[0m\u001b[0mget\u001b[0m\u001b[1;33m(\u001b[0m\u001b[0mtimeout\u001b[0m\u001b[1;33m=\u001b[0m\u001b[0mself\u001b[0m\u001b[1;33m.\u001b[0m\u001b[0mtimeout\u001b[0m\u001b[1;33m)\u001b[0m\u001b[1;33m)\u001b[0m\u001b[1;33m\u001b[0m\u001b[1;33m\u001b[0m\u001b[0m\n\u001b[0m\u001b[0;32m    834\u001b[0m                 \u001b[1;32melse\u001b[0m\u001b[1;33m:\u001b[0m\u001b[1;33m\u001b[0m\u001b[1;33m\u001b[0m\u001b[0m\n\u001b[0;32m    835\u001b[0m                     \u001b[0mself\u001b[0m\u001b[1;33m.\u001b[0m\u001b[0m_output\u001b[0m\u001b[1;33m.\u001b[0m\u001b[0mextend\u001b[0m\u001b[1;33m(\u001b[0m\u001b[0mjob\u001b[0m\u001b[1;33m.\u001b[0m\u001b[0mget\u001b[0m\u001b[1;33m(\u001b[0m\u001b[1;33m)\u001b[0m\u001b[1;33m)\u001b[0m\u001b[1;33m\u001b[0m\u001b[1;33m\u001b[0m\u001b[0m\n",
      "\u001b[1;32mC:\\ProgramData\\Anaconda3\\envs\\U4-S1-NLP\\lib\\site-packages\\sklearn\\externals\\joblib\\_parallel_backends.py\u001b[0m in \u001b[0;36mwrap_future_result\u001b[1;34m(future, timeout)\u001b[0m\n\u001b[0;32m    519\u001b[0m         AsyncResults.get from multiprocessing.\"\"\"\n\u001b[0;32m    520\u001b[0m         \u001b[1;32mtry\u001b[0m\u001b[1;33m:\u001b[0m\u001b[1;33m\u001b[0m\u001b[1;33m\u001b[0m\u001b[0m\n\u001b[1;32m--> 521\u001b[1;33m             \u001b[1;32mreturn\u001b[0m \u001b[0mfuture\u001b[0m\u001b[1;33m.\u001b[0m\u001b[0mresult\u001b[0m\u001b[1;33m(\u001b[0m\u001b[0mtimeout\u001b[0m\u001b[1;33m=\u001b[0m\u001b[0mtimeout\u001b[0m\u001b[1;33m)\u001b[0m\u001b[1;33m\u001b[0m\u001b[1;33m\u001b[0m\u001b[0m\n\u001b[0m\u001b[0;32m    522\u001b[0m         \u001b[1;32mexcept\u001b[0m \u001b[0mLokyTimeoutError\u001b[0m\u001b[1;33m:\u001b[0m\u001b[1;33m\u001b[0m\u001b[1;33m\u001b[0m\u001b[0m\n\u001b[0;32m    523\u001b[0m             \u001b[1;32mraise\u001b[0m \u001b[0mTimeoutError\u001b[0m\u001b[1;33m(\u001b[0m\u001b[1;33m)\u001b[0m\u001b[1;33m\u001b[0m\u001b[1;33m\u001b[0m\u001b[0m\n",
      "\u001b[1;32mC:\\ProgramData\\Anaconda3\\envs\\U4-S1-NLP\\lib\\concurrent\\futures\\_base.py\u001b[0m in \u001b[0;36mresult\u001b[1;34m(self, timeout)\u001b[0m\n\u001b[0;32m    428\u001b[0m                 \u001b[1;32mreturn\u001b[0m \u001b[0mself\u001b[0m\u001b[1;33m.\u001b[0m\u001b[0m__get_result\u001b[0m\u001b[1;33m(\u001b[0m\u001b[1;33m)\u001b[0m\u001b[1;33m\u001b[0m\u001b[1;33m\u001b[0m\u001b[0m\n\u001b[0;32m    429\u001b[0m \u001b[1;33m\u001b[0m\u001b[0m\n\u001b[1;32m--> 430\u001b[1;33m             \u001b[0mself\u001b[0m\u001b[1;33m.\u001b[0m\u001b[0m_condition\u001b[0m\u001b[1;33m.\u001b[0m\u001b[0mwait\u001b[0m\u001b[1;33m(\u001b[0m\u001b[0mtimeout\u001b[0m\u001b[1;33m)\u001b[0m\u001b[1;33m\u001b[0m\u001b[1;33m\u001b[0m\u001b[0m\n\u001b[0m\u001b[0;32m    431\u001b[0m \u001b[1;33m\u001b[0m\u001b[0m\n\u001b[0;32m    432\u001b[0m             \u001b[1;32mif\u001b[0m \u001b[0mself\u001b[0m\u001b[1;33m.\u001b[0m\u001b[0m_state\u001b[0m \u001b[1;32min\u001b[0m \u001b[1;33m[\u001b[0m\u001b[0mCANCELLED\u001b[0m\u001b[1;33m,\u001b[0m \u001b[0mCANCELLED_AND_NOTIFIED\u001b[0m\u001b[1;33m]\u001b[0m\u001b[1;33m:\u001b[0m\u001b[1;33m\u001b[0m\u001b[1;33m\u001b[0m\u001b[0m\n",
      "\u001b[1;32mC:\\ProgramData\\Anaconda3\\envs\\U4-S1-NLP\\lib\\threading.py\u001b[0m in \u001b[0;36mwait\u001b[1;34m(self, timeout)\u001b[0m\n\u001b[0;32m    294\u001b[0m         \u001b[1;32mtry\u001b[0m\u001b[1;33m:\u001b[0m    \u001b[1;31m# restore state no matter what (e.g., KeyboardInterrupt)\u001b[0m\u001b[1;33m\u001b[0m\u001b[1;33m\u001b[0m\u001b[0m\n\u001b[0;32m    295\u001b[0m             \u001b[1;32mif\u001b[0m \u001b[0mtimeout\u001b[0m \u001b[1;32mis\u001b[0m \u001b[1;32mNone\u001b[0m\u001b[1;33m:\u001b[0m\u001b[1;33m\u001b[0m\u001b[1;33m\u001b[0m\u001b[0m\n\u001b[1;32m--> 296\u001b[1;33m                 \u001b[0mwaiter\u001b[0m\u001b[1;33m.\u001b[0m\u001b[0macquire\u001b[0m\u001b[1;33m(\u001b[0m\u001b[1;33m)\u001b[0m\u001b[1;33m\u001b[0m\u001b[1;33m\u001b[0m\u001b[0m\n\u001b[0m\u001b[0;32m    297\u001b[0m                 \u001b[0mgotit\u001b[0m \u001b[1;33m=\u001b[0m \u001b[1;32mTrue\u001b[0m\u001b[1;33m\u001b[0m\u001b[1;33m\u001b[0m\u001b[0m\n\u001b[0;32m    298\u001b[0m             \u001b[1;32melse\u001b[0m\u001b[1;33m:\u001b[0m\u001b[1;33m\u001b[0m\u001b[1;33m\u001b[0m\u001b[0m\n",
      "\u001b[1;31mKeyboardInterrupt\u001b[0m: "
     ]
    }
   ],
   "source": [
    "# Fit\n",
    "grid_search = GridSearchCV(pipe,params, cv=5, n_jobs=-1, verbose=1)\n",
    "grid_search.fit(data.data, data.target)"
   ]
  },
  {
   "cell_type": "code",
   "execution_count": 14,
   "metadata": {},
   "outputs": [
    {
     "data": {
      "text/plain": [
       "0.8786464410735122"
      ]
     },
     "execution_count": 14,
     "metadata": {},
     "output_type": "execute_result"
    }
   ],
   "source": [
    "grid_search.best_score_"
   ]
  },
  {
   "cell_type": "markdown",
   "metadata": {},
   "source": [
    "## Follow Along\n",
    "1. Join the Kaggle Competition\n",
    "2. Download the data\n",
    "3. Train a model & try: \n",
    "    - Creating a Text Extraction & Classification Pipeline\n",
    "    - Tune the pipeline with a `GridSearchCV` or `RandomizedSearchCV`\n",
    "    - Add some Latent Semantic Indexing (lsi) into your pipeline. *Note:* You can grid search a nested pipeline, but you have to use double underscores ie `lsi__svd__n_components`\n",
    "4. Make a submission to Kaggle \n"
   ]
  },
  {
   "cell_type": "markdown",
   "metadata": {},
   "source": [
    "### Define Pipeline Components"
   ]
  },
  {
   "cell_type": "code",
   "execution_count": 11,
   "metadata": {},
   "outputs": [],
   "source": [
    "from xgboost import XGBClassifier\n",
    "lsi = Pipeline([('vect', vect), ('svd', svd)])\n",
    "vect = TfidfVectorizer(stop_words='english', ngram_range=(1,2))\n",
    "clf = XGBClassifier()\n",
    "\n",
    "pipe = Pipeline([('lsi', lsi), ('clf', clf)])"
   ]
  },
  {
   "cell_type": "markdown",
   "metadata": {},
   "source": [
    "### Define Your Search Space\n",
    "You're looking for both the best hyperparameters of your vectorizer and your classification model. "
   ]
  },
  {
   "cell_type": "code",
   "execution_count": 13,
   "metadata": {
    "collapsed": true,
    "jupyter": {
     "outputs_hidden": true
    }
   },
   "outputs": [
    {
     "name": "stdout",
     "output_type": "stream",
     "text": [
      "Fitting 3 folds for each of 216 candidates, totalling 648 fits\n",
      "[CV] clf__max_depth=3, clf__min_child_samples=100, clf__min_child_weight=1e-05, clf__num_leaves=6, clf__tree_method=gpu_exact, lsi__svd__n_components=250, lsi__vect__max_df=0.93 \n"
     ]
    },
    {
     "name": "stderr",
     "output_type": "stream",
     "text": [
      "[Parallel(n_jobs=1)]: Using backend SequentialBackend with 1 concurrent workers.\n"
     ]
    },
    {
     "name": "stdout",
     "output_type": "stream",
     "text": [
      "[CV]  clf__max_depth=3, clf__min_child_samples=100, clf__min_child_weight=1e-05, clf__num_leaves=6, clf__tree_method=gpu_exact, lsi__svd__n_components=250, lsi__vect__max_df=0.93, score=0.9223638470451911, total=   8.8s\n",
      "[CV] clf__max_depth=3, clf__min_child_samples=100, clf__min_child_weight=1e-05, clf__num_leaves=6, clf__tree_method=gpu_exact, lsi__svd__n_components=250, lsi__vect__max_df=0.93 \n"
     ]
    },
    {
     "name": "stderr",
     "output_type": "stream",
     "text": [
      "[Parallel(n_jobs=1)]: Done   1 out of   1 | elapsed:    9.0s remaining:    0.0s\n"
     ]
    },
    {
     "name": "stdout",
     "output_type": "stream",
     "text": [
      "[CV]  clf__max_depth=3, clf__min_child_samples=100, clf__min_child_weight=1e-05, clf__num_leaves=6, clf__tree_method=gpu_exact, lsi__svd__n_components=250, lsi__vect__max_df=0.93, score=0.9304750869061413, total=   8.3s\n",
      "[CV] clf__max_depth=3, clf__min_child_samples=100, clf__min_child_weight=1e-05, clf__num_leaves=6, clf__tree_method=gpu_exact, lsi__svd__n_components=250, lsi__vect__max_df=0.93 \n"
     ]
    },
    {
     "name": "stderr",
     "output_type": "stream",
     "text": [
      "[Parallel(n_jobs=1)]: Done   2 out of   2 | elapsed:   17.7s remaining:    0.0s\n"
     ]
    },
    {
     "name": "stdout",
     "output_type": "stream",
     "text": [
      "[CV]  clf__max_depth=3, clf__min_child_samples=100, clf__min_child_weight=1e-05, clf__num_leaves=6, clf__tree_method=gpu_exact, lsi__svd__n_components=250, lsi__vect__max_df=0.93, score=0.8965116279069767, total=   8.6s\n",
      "[CV] clf__max_depth=3, clf__min_child_samples=100, clf__min_child_weight=1e-05, clf__num_leaves=6, clf__tree_method=gpu_exact, lsi__svd__n_components=250, lsi__vect__max_df=0.95 \n"
     ]
    },
    {
     "name": "stderr",
     "output_type": "stream",
     "text": [
      "[Parallel(n_jobs=1)]: Done   3 out of   3 | elapsed:   26.7s remaining:    0.0s\n"
     ]
    },
    {
     "name": "stdout",
     "output_type": "stream",
     "text": [
      "[CV]  clf__max_depth=3, clf__min_child_samples=100, clf__min_child_weight=1e-05, clf__num_leaves=6, clf__tree_method=gpu_exact, lsi__svd__n_components=250, lsi__vect__max_df=0.95, score=0.9316338354577057, total=   8.2s\n",
      "[CV] clf__max_depth=3, clf__min_child_samples=100, clf__min_child_weight=1e-05, clf__num_leaves=6, clf__tree_method=gpu_exact, lsi__svd__n_components=250, lsi__vect__max_df=0.95 \n"
     ]
    },
    {
     "name": "stderr",
     "output_type": "stream",
     "text": [
      "[Parallel(n_jobs=1)]: Done   4 out of   4 | elapsed:   35.3s remaining:    0.0s\n"
     ]
    },
    {
     "name": "stdout",
     "output_type": "stream",
     "text": [
      "[CV]  clf__max_depth=3, clf__min_child_samples=100, clf__min_child_weight=1e-05, clf__num_leaves=6, clf__tree_method=gpu_exact, lsi__svd__n_components=250, lsi__vect__max_df=0.95, score=0.9304750869061413, total=   7.8s\n",
      "[CV] clf__max_depth=3, clf__min_child_samples=100, clf__min_child_weight=1e-05, clf__num_leaves=6, clf__tree_method=gpu_exact, lsi__svd__n_components=250, lsi__vect__max_df=0.95 \n"
     ]
    },
    {
     "name": "stderr",
     "output_type": "stream",
     "text": [
      "[Parallel(n_jobs=1)]: Done   5 out of   5 | elapsed:   43.4s remaining:    0.0s\n"
     ]
    },
    {
     "name": "stdout",
     "output_type": "stream",
     "text": [
      "[CV]  clf__max_depth=3, clf__min_child_samples=100, clf__min_child_weight=1e-05, clf__num_leaves=6, clf__tree_method=gpu_exact, lsi__svd__n_components=250, lsi__vect__max_df=0.95, score=0.8988372093023256, total=   8.2s\n",
      "[CV] clf__max_depth=3, clf__min_child_samples=100, clf__min_child_weight=1e-05, clf__num_leaves=6, clf__tree_method=gpu_exact, lsi__svd__n_components=250, lsi__vect__max_df=0.98 \n"
     ]
    },
    {
     "name": "stderr",
     "output_type": "stream",
     "text": [
      "[Parallel(n_jobs=1)]: Done   6 out of   6 | elapsed:   52.0s remaining:    0.0s\n"
     ]
    },
    {
     "name": "stdout",
     "output_type": "stream",
     "text": [
      "[CV]  clf__max_depth=3, clf__min_child_samples=100, clf__min_child_weight=1e-05, clf__num_leaves=6, clf__tree_method=gpu_exact, lsi__svd__n_components=250, lsi__vect__max_df=0.98, score=0.9258400926998841, total=  10.9s\n",
      "[CV] clf__max_depth=3, clf__min_child_samples=100, clf__min_child_weight=1e-05, clf__num_leaves=6, clf__tree_method=gpu_exact, lsi__svd__n_components=250, lsi__vect__max_df=0.98 \n"
     ]
    },
    {
     "name": "stderr",
     "output_type": "stream",
     "text": [
      "[Parallel(n_jobs=1)]: Done   7 out of   7 | elapsed:  1.1min remaining:    0.0s\n"
     ]
    },
    {
     "name": "stdout",
     "output_type": "stream",
     "text": [
      "[CV]  clf__max_depth=3, clf__min_child_samples=100, clf__min_child_weight=1e-05, clf__num_leaves=6, clf__tree_method=gpu_exact, lsi__svd__n_components=250, lsi__vect__max_df=0.98, score=0.9212050984936269, total=  10.1s\n",
      "[CV] clf__max_depth=3, clf__min_child_samples=100, clf__min_child_weight=1e-05, clf__num_leaves=6, clf__tree_method=gpu_exact, lsi__svd__n_components=250, lsi__vect__max_df=0.98 \n"
     ]
    },
    {
     "name": "stderr",
     "output_type": "stream",
     "text": [
      "[Parallel(n_jobs=1)]: Done   8 out of   8 | elapsed:  1.2min remaining:    0.0s\n"
     ]
    },
    {
     "name": "stdout",
     "output_type": "stream",
     "text": [
      "[CV]  clf__max_depth=3, clf__min_child_samples=100, clf__min_child_weight=1e-05, clf__num_leaves=6, clf__tree_method=gpu_exact, lsi__svd__n_components=250, lsi__vect__max_df=0.98, score=0.8976744186046511, total=   9.1s\n",
      "[CV] clf__max_depth=3, clf__min_child_samples=100, clf__min_child_weight=1e-05, clf__num_leaves=6, clf__tree_method=gpu_exact, lsi__svd__n_components=300, lsi__vect__max_df=0.93 \n"
     ]
    },
    {
     "name": "stderr",
     "output_type": "stream",
     "text": [
      "[Parallel(n_jobs=1)]: Done   9 out of   9 | elapsed:  1.4min remaining:    0.0s\n"
     ]
    },
    {
     "name": "stdout",
     "output_type": "stream",
     "text": [
      "[CV]  clf__max_depth=3, clf__min_child_samples=100, clf__min_child_weight=1e-05, clf__num_leaves=6, clf__tree_method=gpu_exact, lsi__svd__n_components=300, lsi__vect__max_df=0.93, score=0.9212050984936269, total=   9.7s\n",
      "[CV] clf__max_depth=3, clf__min_child_samples=100, clf__min_child_weight=1e-05, clf__num_leaves=6, clf__tree_method=gpu_exact, lsi__svd__n_components=300, lsi__vect__max_df=0.93 \n",
      "[CV]  clf__max_depth=3, clf__min_child_samples=100, clf__min_child_weight=1e-05, clf__num_leaves=6, clf__tree_method=gpu_exact, lsi__svd__n_components=300, lsi__vect__max_df=0.93, score=0.9269988412514485, total=  10.2s\n",
      "[CV] clf__max_depth=3, clf__min_child_samples=100, clf__min_child_weight=1e-05, clf__num_leaves=6, clf__tree_method=gpu_exact, lsi__svd__n_components=300, lsi__vect__max_df=0.93 \n",
      "[CV]  clf__max_depth=3, clf__min_child_samples=100, clf__min_child_weight=1e-05, clf__num_leaves=6, clf__tree_method=gpu_exact, lsi__svd__n_components=300, lsi__vect__max_df=0.93, score=0.9011627906976745, total=   9.6s\n",
      "[CV] clf__max_depth=3, clf__min_child_samples=100, clf__min_child_weight=1e-05, clf__num_leaves=6, clf__tree_method=gpu_exact, lsi__svd__n_components=300, lsi__vect__max_df=0.95 \n",
      "[CV]  clf__max_depth=3, clf__min_child_samples=100, clf__min_child_weight=1e-05, clf__num_leaves=6, clf__tree_method=gpu_exact, lsi__svd__n_components=300, lsi__vect__max_df=0.95, score=0.9258400926998841, total=  10.8s\n",
      "[CV] clf__max_depth=3, clf__min_child_samples=100, clf__min_child_weight=1e-05, clf__num_leaves=6, clf__tree_method=gpu_exact, lsi__svd__n_components=300, lsi__vect__max_df=0.95 \n",
      "[CV]  clf__max_depth=3, clf__min_child_samples=100, clf__min_child_weight=1e-05, clf__num_leaves=6, clf__tree_method=gpu_exact, lsi__svd__n_components=300, lsi__vect__max_df=0.95, score=0.9304750869061413, total=  11.9s\n",
      "[CV] clf__max_depth=3, clf__min_child_samples=100, clf__min_child_weight=1e-05, clf__num_leaves=6, clf__tree_method=gpu_exact, lsi__svd__n_components=300, lsi__vect__max_df=0.95 \n",
      "[CV]  clf__max_depth=3, clf__min_child_samples=100, clf__min_child_weight=1e-05, clf__num_leaves=6, clf__tree_method=gpu_exact, lsi__svd__n_components=300, lsi__vect__max_df=0.95, score=0.9023255813953488, total=  10.6s\n",
      "[CV] clf__max_depth=3, clf__min_child_samples=100, clf__min_child_weight=1e-05, clf__num_leaves=6, clf__tree_method=gpu_exact, lsi__svd__n_components=300, lsi__vect__max_df=0.98 \n",
      "[CV]  clf__max_depth=3, clf__min_child_samples=100, clf__min_child_weight=1e-05, clf__num_leaves=6, clf__tree_method=gpu_exact, lsi__svd__n_components=300, lsi__vect__max_df=0.98, score=0.9246813441483198, total=  11.0s\n",
      "[CV] clf__max_depth=3, clf__min_child_samples=100, clf__min_child_weight=1e-05, clf__num_leaves=6, clf__tree_method=gpu_exact, lsi__svd__n_components=300, lsi__vect__max_df=0.98 \n",
      "[CV]  clf__max_depth=3, clf__min_child_samples=100, clf__min_child_weight=1e-05, clf__num_leaves=6, clf__tree_method=gpu_exact, lsi__svd__n_components=300, lsi__vect__max_df=0.98, score=0.9258400926998841, total=  11.1s\n",
      "[CV] clf__max_depth=3, clf__min_child_samples=100, clf__min_child_weight=1e-05, clf__num_leaves=6, clf__tree_method=gpu_exact, lsi__svd__n_components=300, lsi__vect__max_df=0.98 \n",
      "[CV]  clf__max_depth=3, clf__min_child_samples=100, clf__min_child_weight=1e-05, clf__num_leaves=6, clf__tree_method=gpu_exact, lsi__svd__n_components=300, lsi__vect__max_df=0.98, score=0.8976744186046511, total=  11.1s\n",
      "[CV] clf__max_depth=3, clf__min_child_samples=100, clf__min_child_weight=1e-05, clf__num_leaves=50, clf__tree_method=gpu_exact, lsi__svd__n_components=250, lsi__vect__max_df=0.93 \n",
      "[CV]  clf__max_depth=3, clf__min_child_samples=100, clf__min_child_weight=1e-05, clf__num_leaves=50, clf__tree_method=gpu_exact, lsi__svd__n_components=250, lsi__vect__max_df=0.93, score=0.9246813441483198, total=   9.2s\n",
      "[CV] clf__max_depth=3, clf__min_child_samples=100, clf__min_child_weight=1e-05, clf__num_leaves=50, clf__tree_method=gpu_exact, lsi__svd__n_components=250, lsi__vect__max_df=0.93 \n",
      "[CV]  clf__max_depth=3, clf__min_child_samples=100, clf__min_child_weight=1e-05, clf__num_leaves=50, clf__tree_method=gpu_exact, lsi__svd__n_components=250, lsi__vect__max_df=0.93, score=0.9258400926998841, total=   9.5s\n",
      "[CV] clf__max_depth=3, clf__min_child_samples=100, clf__min_child_weight=1e-05, clf__num_leaves=50, clf__tree_method=gpu_exact, lsi__svd__n_components=250, lsi__vect__max_df=0.93 \n",
      "[CV]  clf__max_depth=3, clf__min_child_samples=100, clf__min_child_weight=1e-05, clf__num_leaves=50, clf__tree_method=gpu_exact, lsi__svd__n_components=250, lsi__vect__max_df=0.93, score=0.9023255813953488, total=   9.3s\n",
      "[CV] clf__max_depth=3, clf__min_child_samples=100, clf__min_child_weight=1e-05, clf__num_leaves=50, clf__tree_method=gpu_exact, lsi__svd__n_components=250, lsi__vect__max_df=0.95 \n",
      "[CV]  clf__max_depth=3, clf__min_child_samples=100, clf__min_child_weight=1e-05, clf__num_leaves=50, clf__tree_method=gpu_exact, lsi__svd__n_components=250, lsi__vect__max_df=0.95, score=0.9200463499420626, total=   9.5s\n",
      "[CV] clf__max_depth=3, clf__min_child_samples=100, clf__min_child_weight=1e-05, clf__num_leaves=50, clf__tree_method=gpu_exact, lsi__svd__n_components=250, lsi__vect__max_df=0.95 \n",
      "[CV]  clf__max_depth=3, clf__min_child_samples=100, clf__min_child_weight=1e-05, clf__num_leaves=50, clf__tree_method=gpu_exact, lsi__svd__n_components=250, lsi__vect__max_df=0.95, score=0.9281575898030128, total=  10.0s\n",
      "[CV] clf__max_depth=3, clf__min_child_samples=100, clf__min_child_weight=1e-05, clf__num_leaves=50, clf__tree_method=gpu_exact, lsi__svd__n_components=250, lsi__vect__max_df=0.95 \n",
      "[CV]  clf__max_depth=3, clf__min_child_samples=100, clf__min_child_weight=1e-05, clf__num_leaves=50, clf__tree_method=gpu_exact, lsi__svd__n_components=250, lsi__vect__max_df=0.95, score=0.8965116279069767, total=   9.4s\n",
      "[CV] clf__max_depth=3, clf__min_child_samples=100, clf__min_child_weight=1e-05, clf__num_leaves=50, clf__tree_method=gpu_exact, lsi__svd__n_components=250, lsi__vect__max_df=0.98 \n",
      "[CV]  clf__max_depth=3, clf__min_child_samples=100, clf__min_child_weight=1e-05, clf__num_leaves=50, clf__tree_method=gpu_exact, lsi__svd__n_components=250, lsi__vect__max_df=0.98, score=0.9200463499420626, total=   9.4s\n",
      "[CV] clf__max_depth=3, clf__min_child_samples=100, clf__min_child_weight=1e-05, clf__num_leaves=50, clf__tree_method=gpu_exact, lsi__svd__n_components=250, lsi__vect__max_df=0.98 \n",
      "[CV]  clf__max_depth=3, clf__min_child_samples=100, clf__min_child_weight=1e-05, clf__num_leaves=50, clf__tree_method=gpu_exact, lsi__svd__n_components=250, lsi__vect__max_df=0.98, score=0.9269988412514485, total=  10.1s\n",
      "[CV] clf__max_depth=3, clf__min_child_samples=100, clf__min_child_weight=1e-05, clf__num_leaves=50, clf__tree_method=gpu_exact, lsi__svd__n_components=250, lsi__vect__max_df=0.98 \n",
      "[CV]  clf__max_depth=3, clf__min_child_samples=100, clf__min_child_weight=1e-05, clf__num_leaves=50, clf__tree_method=gpu_exact, lsi__svd__n_components=250, lsi__vect__max_df=0.98, score=0.9, total=   9.6s\n",
      "[CV] clf__max_depth=3, clf__min_child_samples=100, clf__min_child_weight=1e-05, clf__num_leaves=50, clf__tree_method=gpu_exact, lsi__svd__n_components=300, lsi__vect__max_df=0.93 \n",
      "[CV]  clf__max_depth=3, clf__min_child_samples=100, clf__min_child_weight=1e-05, clf__num_leaves=50, clf__tree_method=gpu_exact, lsi__svd__n_components=300, lsi__vect__max_df=0.93, score=0.9177288528389339, total=  11.4s\n",
      "[CV] clf__max_depth=3, clf__min_child_samples=100, clf__min_child_weight=1e-05, clf__num_leaves=50, clf__tree_method=gpu_exact, lsi__svd__n_components=300, lsi__vect__max_df=0.93 \n",
      "[CV]  clf__max_depth=3, clf__min_child_samples=100, clf__min_child_weight=1e-05, clf__num_leaves=50, clf__tree_method=gpu_exact, lsi__svd__n_components=300, lsi__vect__max_df=0.93, score=0.9269988412514485, total=  11.6s\n",
      "[CV] clf__max_depth=3, clf__min_child_samples=100, clf__min_child_weight=1e-05, clf__num_leaves=50, clf__tree_method=gpu_exact, lsi__svd__n_components=300, lsi__vect__max_df=0.93 \n",
      "[CV]  clf__max_depth=3, clf__min_child_samples=100, clf__min_child_weight=1e-05, clf__num_leaves=50, clf__tree_method=gpu_exact, lsi__svd__n_components=300, lsi__vect__max_df=0.93, score=0.8988372093023256, total=  12.3s\n",
      "[CV] clf__max_depth=3, clf__min_child_samples=100, clf__min_child_weight=1e-05, clf__num_leaves=50, clf__tree_method=gpu_exact, lsi__svd__n_components=300, lsi__vect__max_df=0.95 \n",
      "[CV]  clf__max_depth=3, clf__min_child_samples=100, clf__min_child_weight=1e-05, clf__num_leaves=50, clf__tree_method=gpu_exact, lsi__svd__n_components=300, lsi__vect__max_df=0.95, score=0.9212050984936269, total=  11.3s\n",
      "[CV] clf__max_depth=3, clf__min_child_samples=100, clf__min_child_weight=1e-05, clf__num_leaves=50, clf__tree_method=gpu_exact, lsi__svd__n_components=300, lsi__vect__max_df=0.95 \n",
      "[CV]  clf__max_depth=3, clf__min_child_samples=100, clf__min_child_weight=1e-05, clf__num_leaves=50, clf__tree_method=gpu_exact, lsi__svd__n_components=300, lsi__vect__max_df=0.95, score=0.9246813441483198, total=  12.3s\n",
      "[CV] clf__max_depth=3, clf__min_child_samples=100, clf__min_child_weight=1e-05, clf__num_leaves=50, clf__tree_method=gpu_exact, lsi__svd__n_components=300, lsi__vect__max_df=0.95 \n",
      "[CV]  clf__max_depth=3, clf__min_child_samples=100, clf__min_child_weight=1e-05, clf__num_leaves=50, clf__tree_method=gpu_exact, lsi__svd__n_components=300, lsi__vect__max_df=0.95, score=0.8930232558139535, total=  11.8s\n",
      "[CV] clf__max_depth=3, clf__min_child_samples=100, clf__min_child_weight=1e-05, clf__num_leaves=50, clf__tree_method=gpu_exact, lsi__svd__n_components=300, lsi__vect__max_df=0.98 \n",
      "[CV]  clf__max_depth=3, clf__min_child_samples=100, clf__min_child_weight=1e-05, clf__num_leaves=50, clf__tree_method=gpu_exact, lsi__svd__n_components=300, lsi__vect__max_df=0.98, score=0.9258400926998841, total=  11.6s\n",
      "[CV] clf__max_depth=3, clf__min_child_samples=100, clf__min_child_weight=1e-05, clf__num_leaves=50, clf__tree_method=gpu_exact, lsi__svd__n_components=300, lsi__vect__max_df=0.98 \n",
      "[CV]  clf__max_depth=3, clf__min_child_samples=100, clf__min_child_weight=1e-05, clf__num_leaves=50, clf__tree_method=gpu_exact, lsi__svd__n_components=300, lsi__vect__max_df=0.98, score=0.9269988412514485, total=   9.1s\n",
      "[CV] clf__max_depth=3, clf__min_child_samples=100, clf__min_child_weight=1e-05, clf__num_leaves=50, clf__tree_method=gpu_exact, lsi__svd__n_components=300, lsi__vect__max_df=0.98 \n",
      "[CV]  clf__max_depth=3, clf__min_child_samples=100, clf__min_child_weight=1e-05, clf__num_leaves=50, clf__tree_method=gpu_exact, lsi__svd__n_components=300, lsi__vect__max_df=0.98, score=0.8965116279069767, total=  12.0s\n",
      "[CV] clf__max_depth=3, clf__min_child_samples=100, clf__min_child_weight=1, clf__num_leaves=6, clf__tree_method=gpu_exact, lsi__svd__n_components=250, lsi__vect__max_df=0.93 \n",
      "[CV]  clf__max_depth=3, clf__min_child_samples=100, clf__min_child_weight=1, clf__num_leaves=6, clf__tree_method=gpu_exact, lsi__svd__n_components=250, lsi__vect__max_df=0.93, score=0.9212050984936269, total=   8.4s\n",
      "[CV] clf__max_depth=3, clf__min_child_samples=100, clf__min_child_weight=1, clf__num_leaves=6, clf__tree_method=gpu_exact, lsi__svd__n_components=250, lsi__vect__max_df=0.93 \n",
      "[CV]  clf__max_depth=3, clf__min_child_samples=100, clf__min_child_weight=1, clf__num_leaves=6, clf__tree_method=gpu_exact, lsi__svd__n_components=250, lsi__vect__max_df=0.93, score=0.9316338354577057, total=   8.8s\n",
      "[CV] clf__max_depth=3, clf__min_child_samples=100, clf__min_child_weight=1, clf__num_leaves=6, clf__tree_method=gpu_exact, lsi__svd__n_components=250, lsi__vect__max_df=0.93 \n",
      "[CV]  clf__max_depth=3, clf__min_child_samples=100, clf__min_child_weight=1, clf__num_leaves=6, clf__tree_method=gpu_exact, lsi__svd__n_components=250, lsi__vect__max_df=0.93, score=0.9023255813953488, total=   9.2s\n",
      "[CV] clf__max_depth=3, clf__min_child_samples=100, clf__min_child_weight=1, clf__num_leaves=6, clf__tree_method=gpu_exact, lsi__svd__n_components=250, lsi__vect__max_df=0.95 \n",
      "[CV]  clf__max_depth=3, clf__min_child_samples=100, clf__min_child_weight=1, clf__num_leaves=6, clf__tree_method=gpu_exact, lsi__svd__n_components=250, lsi__vect__max_df=0.95, score=0.9246813441483198, total=   8.7s\n",
      "[CV] clf__max_depth=3, clf__min_child_samples=100, clf__min_child_weight=1, clf__num_leaves=6, clf__tree_method=gpu_exact, lsi__svd__n_components=250, lsi__vect__max_df=0.95 \n",
      "[CV]  clf__max_depth=3, clf__min_child_samples=100, clf__min_child_weight=1, clf__num_leaves=6, clf__tree_method=gpu_exact, lsi__svd__n_components=250, lsi__vect__max_df=0.95, score=0.9269988412514485, total=   9.2s\n",
      "[CV] clf__max_depth=3, clf__min_child_samples=100, clf__min_child_weight=1, clf__num_leaves=6, clf__tree_method=gpu_exact, lsi__svd__n_components=250, lsi__vect__max_df=0.95 \n",
      "[CV]  clf__max_depth=3, clf__min_child_samples=100, clf__min_child_weight=1, clf__num_leaves=6, clf__tree_method=gpu_exact, lsi__svd__n_components=250, lsi__vect__max_df=0.95, score=0.8988372093023256, total=   9.4s\n",
      "[CV] clf__max_depth=3, clf__min_child_samples=100, clf__min_child_weight=1, clf__num_leaves=6, clf__tree_method=gpu_exact, lsi__svd__n_components=250, lsi__vect__max_df=0.98 \n",
      "[CV]  clf__max_depth=3, clf__min_child_samples=100, clf__min_child_weight=1, clf__num_leaves=6, clf__tree_method=gpu_exact, lsi__svd__n_components=250, lsi__vect__max_df=0.98, score=0.9188876013904983, total=   8.7s\n",
      "[CV] clf__max_depth=3, clf__min_child_samples=100, clf__min_child_weight=1, clf__num_leaves=6, clf__tree_method=gpu_exact, lsi__svd__n_components=250, lsi__vect__max_df=0.98 \n",
      "[CV]  clf__max_depth=3, clf__min_child_samples=100, clf__min_child_weight=1, clf__num_leaves=6, clf__tree_method=gpu_exact, lsi__svd__n_components=250, lsi__vect__max_df=0.98, score=0.929316338354577, total=   9.0s\n",
      "[CV] clf__max_depth=3, clf__min_child_samples=100, clf__min_child_weight=1, clf__num_leaves=6, clf__tree_method=gpu_exact, lsi__svd__n_components=250, lsi__vect__max_df=0.98 \n",
      "[CV]  clf__max_depth=3, clf__min_child_samples=100, clf__min_child_weight=1, clf__num_leaves=6, clf__tree_method=gpu_exact, lsi__svd__n_components=250, lsi__vect__max_df=0.98, score=0.9011627906976745, total=   9.4s\n",
      "[CV] clf__max_depth=3, clf__min_child_samples=100, clf__min_child_weight=1, clf__num_leaves=6, clf__tree_method=gpu_exact, lsi__svd__n_components=300, lsi__vect__max_df=0.93 \n",
      "[CV]  clf__max_depth=3, clf__min_child_samples=100, clf__min_child_weight=1, clf__num_leaves=6, clf__tree_method=gpu_exact, lsi__svd__n_components=300, lsi__vect__max_df=0.93, score=0.9258400926998841, total=  11.5s\n",
      "[CV] clf__max_depth=3, clf__min_child_samples=100, clf__min_child_weight=1, clf__num_leaves=6, clf__tree_method=gpu_exact, lsi__svd__n_components=300, lsi__vect__max_df=0.93 \n",
      "[CV]  clf__max_depth=3, clf__min_child_samples=100, clf__min_child_weight=1, clf__num_leaves=6, clf__tree_method=gpu_exact, lsi__svd__n_components=300, lsi__vect__max_df=0.93, score=0.9258400926998841, total=  11.4s\n",
      "[CV] clf__max_depth=3, clf__min_child_samples=100, clf__min_child_weight=1, clf__num_leaves=6, clf__tree_method=gpu_exact, lsi__svd__n_components=300, lsi__vect__max_df=0.93 \n",
      "[CV]  clf__max_depth=3, clf__min_child_samples=100, clf__min_child_weight=1, clf__num_leaves=6, clf__tree_method=gpu_exact, lsi__svd__n_components=300, lsi__vect__max_df=0.93, score=0.8965116279069767, total=  11.6s\n",
      "[CV] clf__max_depth=3, clf__min_child_samples=100, clf__min_child_weight=1, clf__num_leaves=6, clf__tree_method=gpu_exact, lsi__svd__n_components=300, lsi__vect__max_df=0.95 \n",
      "[CV]  clf__max_depth=3, clf__min_child_samples=100, clf__min_child_weight=1, clf__num_leaves=6, clf__tree_method=gpu_exact, lsi__svd__n_components=300, lsi__vect__max_df=0.95, score=0.9212050984936269, total=  11.1s\n",
      "[CV] clf__max_depth=3, clf__min_child_samples=100, clf__min_child_weight=1, clf__num_leaves=6, clf__tree_method=gpu_exact, lsi__svd__n_components=300, lsi__vect__max_df=0.95 \n",
      "[CV]  clf__max_depth=3, clf__min_child_samples=100, clf__min_child_weight=1, clf__num_leaves=6, clf__tree_method=gpu_exact, lsi__svd__n_components=300, lsi__vect__max_df=0.95, score=0.9281575898030128, total=  11.9s\n",
      "[CV] clf__max_depth=3, clf__min_child_samples=100, clf__min_child_weight=1, clf__num_leaves=6, clf__tree_method=gpu_exact, lsi__svd__n_components=300, lsi__vect__max_df=0.95 \n",
      "[CV]  clf__max_depth=3, clf__min_child_samples=100, clf__min_child_weight=1, clf__num_leaves=6, clf__tree_method=gpu_exact, lsi__svd__n_components=300, lsi__vect__max_df=0.95, score=0.9023255813953488, total=  11.5s\n",
      "[CV] clf__max_depth=3, clf__min_child_samples=100, clf__min_child_weight=1, clf__num_leaves=6, clf__tree_method=gpu_exact, lsi__svd__n_components=300, lsi__vect__max_df=0.98 \n",
      "[CV]  clf__max_depth=3, clf__min_child_samples=100, clf__min_child_weight=1, clf__num_leaves=6, clf__tree_method=gpu_exact, lsi__svd__n_components=300, lsi__vect__max_df=0.98, score=0.9223638470451911, total=  11.3s\n",
      "[CV] clf__max_depth=3, clf__min_child_samples=100, clf__min_child_weight=1, clf__num_leaves=6, clf__tree_method=gpu_exact, lsi__svd__n_components=300, lsi__vect__max_df=0.98 \n",
      "[CV]  clf__max_depth=3, clf__min_child_samples=100, clf__min_child_weight=1, clf__num_leaves=6, clf__tree_method=gpu_exact, lsi__svd__n_components=300, lsi__vect__max_df=0.98, score=0.9281575898030128, total=  12.0s\n",
      "[CV] clf__max_depth=3, clf__min_child_samples=100, clf__min_child_weight=1, clf__num_leaves=6, clf__tree_method=gpu_exact, lsi__svd__n_components=300, lsi__vect__max_df=0.98 \n",
      "[CV]  clf__max_depth=3, clf__min_child_samples=100, clf__min_child_weight=1, clf__num_leaves=6, clf__tree_method=gpu_exact, lsi__svd__n_components=300, lsi__vect__max_df=0.98, score=0.8941860465116279, total=  11.9s\n",
      "[CV] clf__max_depth=3, clf__min_child_samples=100, clf__min_child_weight=1, clf__num_leaves=50, clf__tree_method=gpu_exact, lsi__svd__n_components=250, lsi__vect__max_df=0.93 \n",
      "[CV]  clf__max_depth=3, clf__min_child_samples=100, clf__min_child_weight=1, clf__num_leaves=50, clf__tree_method=gpu_exact, lsi__svd__n_components=250, lsi__vect__max_df=0.93, score=0.9200463499420626, total=   9.4s\n",
      "[CV] clf__max_depth=3, clf__min_child_samples=100, clf__min_child_weight=1, clf__num_leaves=50, clf__tree_method=gpu_exact, lsi__svd__n_components=250, lsi__vect__max_df=0.93 \n",
      "[CV]  clf__max_depth=3, clf__min_child_samples=100, clf__min_child_weight=1, clf__num_leaves=50, clf__tree_method=gpu_exact, lsi__svd__n_components=250, lsi__vect__max_df=0.93, score=0.9246813441483198, total=  10.0s\n",
      "[CV] clf__max_depth=3, clf__min_child_samples=100, clf__min_child_weight=1, clf__num_leaves=50, clf__tree_method=gpu_exact, lsi__svd__n_components=250, lsi__vect__max_df=0.93 \n",
      "[CV]  clf__max_depth=3, clf__min_child_samples=100, clf__min_child_weight=1, clf__num_leaves=50, clf__tree_method=gpu_exact, lsi__svd__n_components=250, lsi__vect__max_df=0.93, score=0.8988372093023256, total=   9.7s\n",
      "[CV] clf__max_depth=3, clf__min_child_samples=100, clf__min_child_weight=1, clf__num_leaves=50, clf__tree_method=gpu_exact, lsi__svd__n_components=250, lsi__vect__max_df=0.95 \n",
      "[CV]  clf__max_depth=3, clf__min_child_samples=100, clf__min_child_weight=1, clf__num_leaves=50, clf__tree_method=gpu_exact, lsi__svd__n_components=250, lsi__vect__max_df=0.95, score=0.9223638470451911, total=   9.4s\n",
      "[CV] clf__max_depth=3, clf__min_child_samples=100, clf__min_child_weight=1, clf__num_leaves=50, clf__tree_method=gpu_exact, lsi__svd__n_components=250, lsi__vect__max_df=0.95 \n",
      "[CV]  clf__max_depth=3, clf__min_child_samples=100, clf__min_child_weight=1, clf__num_leaves=50, clf__tree_method=gpu_exact, lsi__svd__n_components=250, lsi__vect__max_df=0.95, score=0.9246813441483198, total=   9.6s\n",
      "[CV] clf__max_depth=3, clf__min_child_samples=100, clf__min_child_weight=1, clf__num_leaves=50, clf__tree_method=gpu_exact, lsi__svd__n_components=250, lsi__vect__max_df=0.95 \n",
      "[CV]  clf__max_depth=3, clf__min_child_samples=100, clf__min_child_weight=1, clf__num_leaves=50, clf__tree_method=gpu_exact, lsi__svd__n_components=250, lsi__vect__max_df=0.95, score=0.9011627906976745, total=   9.7s\n",
      "[CV] clf__max_depth=3, clf__min_child_samples=100, clf__min_child_weight=1, clf__num_leaves=50, clf__tree_method=gpu_exact, lsi__svd__n_components=250, lsi__vect__max_df=0.98 \n",
      "[CV]  clf__max_depth=3, clf__min_child_samples=100, clf__min_child_weight=1, clf__num_leaves=50, clf__tree_method=gpu_exact, lsi__svd__n_components=250, lsi__vect__max_df=0.98, score=0.9235225955967555, total=  10.2s\n",
      "[CV] clf__max_depth=3, clf__min_child_samples=100, clf__min_child_weight=1, clf__num_leaves=50, clf__tree_method=gpu_exact, lsi__svd__n_components=250, lsi__vect__max_df=0.98 \n",
      "[CV]  clf__max_depth=3, clf__min_child_samples=100, clf__min_child_weight=1, clf__num_leaves=50, clf__tree_method=gpu_exact, lsi__svd__n_components=250, lsi__vect__max_df=0.98, score=0.9246813441483198, total=  10.5s\n",
      "[CV] clf__max_depth=3, clf__min_child_samples=100, clf__min_child_weight=1, clf__num_leaves=50, clf__tree_method=gpu_exact, lsi__svd__n_components=250, lsi__vect__max_df=0.98 \n",
      "[CV]  clf__max_depth=3, clf__min_child_samples=100, clf__min_child_weight=1, clf__num_leaves=50, clf__tree_method=gpu_exact, lsi__svd__n_components=250, lsi__vect__max_df=0.98, score=0.8988372093023256, total=   9.5s\n",
      "[CV] clf__max_depth=3, clf__min_child_samples=100, clf__min_child_weight=1, clf__num_leaves=50, clf__tree_method=gpu_exact, lsi__svd__n_components=300, lsi__vect__max_df=0.93 \n",
      "[CV]  clf__max_depth=3, clf__min_child_samples=100, clf__min_child_weight=1, clf__num_leaves=50, clf__tree_method=gpu_exact, lsi__svd__n_components=300, lsi__vect__max_df=0.93, score=0.9177288528389339, total=  11.5s\n",
      "[CV] clf__max_depth=3, clf__min_child_samples=100, clf__min_child_weight=1, clf__num_leaves=50, clf__tree_method=gpu_exact, lsi__svd__n_components=300, lsi__vect__max_df=0.93 \n",
      "[CV]  clf__max_depth=3, clf__min_child_samples=100, clf__min_child_weight=1, clf__num_leaves=50, clf__tree_method=gpu_exact, lsi__svd__n_components=300, lsi__vect__max_df=0.93, score=0.9258400926998841, total=  11.4s\n",
      "[CV] clf__max_depth=3, clf__min_child_samples=100, clf__min_child_weight=1, clf__num_leaves=50, clf__tree_method=gpu_exact, lsi__svd__n_components=300, lsi__vect__max_df=0.93 \n",
      "[CV]  clf__max_depth=3, clf__min_child_samples=100, clf__min_child_weight=1, clf__num_leaves=50, clf__tree_method=gpu_exact, lsi__svd__n_components=300, lsi__vect__max_df=0.93, score=0.8941860465116279, total=   8.8s\n",
      "[CV] clf__max_depth=3, clf__min_child_samples=100, clf__min_child_weight=1, clf__num_leaves=50, clf__tree_method=gpu_exact, lsi__svd__n_components=300, lsi__vect__max_df=0.95 \n",
      "[CV]  clf__max_depth=3, clf__min_child_samples=100, clf__min_child_weight=1, clf__num_leaves=50, clf__tree_method=gpu_exact, lsi__svd__n_components=300, lsi__vect__max_df=0.95, score=0.9223638470451911, total=  10.4s\n",
      "[CV] clf__max_depth=3, clf__min_child_samples=100, clf__min_child_weight=1, clf__num_leaves=50, clf__tree_method=gpu_exact, lsi__svd__n_components=300, lsi__vect__max_df=0.95 \n",
      "[CV]  clf__max_depth=3, clf__min_child_samples=100, clf__min_child_weight=1, clf__num_leaves=50, clf__tree_method=gpu_exact, lsi__svd__n_components=300, lsi__vect__max_df=0.95, score=0.929316338354577, total=  10.6s\n",
      "[CV] clf__max_depth=3, clf__min_child_samples=100, clf__min_child_weight=1, clf__num_leaves=50, clf__tree_method=gpu_exact, lsi__svd__n_components=300, lsi__vect__max_df=0.95 \n",
      "[CV]  clf__max_depth=3, clf__min_child_samples=100, clf__min_child_weight=1, clf__num_leaves=50, clf__tree_method=gpu_exact, lsi__svd__n_components=300, lsi__vect__max_df=0.95, score=0.9, total=  10.6s\n",
      "[CV] clf__max_depth=3, clf__min_child_samples=100, clf__min_child_weight=1, clf__num_leaves=50, clf__tree_method=gpu_exact, lsi__svd__n_components=300, lsi__vect__max_df=0.98 \n",
      "[CV]  clf__max_depth=3, clf__min_child_samples=100, clf__min_child_weight=1, clf__num_leaves=50, clf__tree_method=gpu_exact, lsi__svd__n_components=300, lsi__vect__max_df=0.98, score=0.9223638470451911, total=  10.8s\n",
      "[CV] clf__max_depth=3, clf__min_child_samples=100, clf__min_child_weight=1, clf__num_leaves=50, clf__tree_method=gpu_exact, lsi__svd__n_components=300, lsi__vect__max_df=0.98 \n",
      "[CV]  clf__max_depth=3, clf__min_child_samples=100, clf__min_child_weight=1, clf__num_leaves=50, clf__tree_method=gpu_exact, lsi__svd__n_components=300, lsi__vect__max_df=0.98, score=0.9235225955967555, total=  11.3s\n",
      "[CV] clf__max_depth=3, clf__min_child_samples=100, clf__min_child_weight=1, clf__num_leaves=50, clf__tree_method=gpu_exact, lsi__svd__n_components=300, lsi__vect__max_df=0.98 \n",
      "[CV]  clf__max_depth=3, clf__min_child_samples=100, clf__min_child_weight=1, clf__num_leaves=50, clf__tree_method=gpu_exact, lsi__svd__n_components=300, lsi__vect__max_df=0.98, score=0.8965116279069767, total=  11.3s\n",
      "[CV] clf__max_depth=3, clf__min_child_samples=100, clf__min_child_weight=10000.0, clf__num_leaves=6, clf__tree_method=gpu_exact, lsi__svd__n_components=250, lsi__vect__max_df=0.93 \n",
      "[CV]  clf__max_depth=3, clf__min_child_samples=100, clf__min_child_weight=10000.0, clf__num_leaves=6, clf__tree_method=gpu_exact, lsi__svd__n_components=250, lsi__vect__max_df=0.93, score=0.6326767091541136, total=   8.6s\n",
      "[CV] clf__max_depth=3, clf__min_child_samples=100, clf__min_child_weight=10000.0, clf__num_leaves=6, clf__tree_method=gpu_exact, lsi__svd__n_components=250, lsi__vect__max_df=0.93 \n",
      "[CV]  clf__max_depth=3, clf__min_child_samples=100, clf__min_child_weight=10000.0, clf__num_leaves=6, clf__tree_method=gpu_exact, lsi__svd__n_components=250, lsi__vect__max_df=0.93, score=0.6326767091541136, total=   9.5s\n",
      "[CV] clf__max_depth=3, clf__min_child_samples=100, clf__min_child_weight=10000.0, clf__num_leaves=6, clf__tree_method=gpu_exact, lsi__svd__n_components=250, lsi__vect__max_df=0.93 \n",
      "[CV]  clf__max_depth=3, clf__min_child_samples=100, clf__min_child_weight=10000.0, clf__num_leaves=6, clf__tree_method=gpu_exact, lsi__svd__n_components=250, lsi__vect__max_df=0.93, score=0.6337209302325582, total=   9.0s\n",
      "[CV] clf__max_depth=3, clf__min_child_samples=100, clf__min_child_weight=10000.0, clf__num_leaves=6, clf__tree_method=gpu_exact, lsi__svd__n_components=250, lsi__vect__max_df=0.95 \n",
      "[CV]  clf__max_depth=3, clf__min_child_samples=100, clf__min_child_weight=10000.0, clf__num_leaves=6, clf__tree_method=gpu_exact, lsi__svd__n_components=250, lsi__vect__max_df=0.95, score=0.6326767091541136, total=   9.2s\n",
      "[CV] clf__max_depth=3, clf__min_child_samples=100, clf__min_child_weight=10000.0, clf__num_leaves=6, clf__tree_method=gpu_exact, lsi__svd__n_components=250, lsi__vect__max_df=0.95 \n",
      "[CV]  clf__max_depth=3, clf__min_child_samples=100, clf__min_child_weight=10000.0, clf__num_leaves=6, clf__tree_method=gpu_exact, lsi__svd__n_components=250, lsi__vect__max_df=0.95, score=0.6326767091541136, total=   9.5s\n",
      "[CV] clf__max_depth=3, clf__min_child_samples=100, clf__min_child_weight=10000.0, clf__num_leaves=6, clf__tree_method=gpu_exact, lsi__svd__n_components=250, lsi__vect__max_df=0.95 \n",
      "[CV]  clf__max_depth=3, clf__min_child_samples=100, clf__min_child_weight=10000.0, clf__num_leaves=6, clf__tree_method=gpu_exact, lsi__svd__n_components=250, lsi__vect__max_df=0.95, score=0.6337209302325582, total=   9.6s\n",
      "[CV] clf__max_depth=3, clf__min_child_samples=100, clf__min_child_weight=10000.0, clf__num_leaves=6, clf__tree_method=gpu_exact, lsi__svd__n_components=250, lsi__vect__max_df=0.98 \n",
      "[CV]  clf__max_depth=3, clf__min_child_samples=100, clf__min_child_weight=10000.0, clf__num_leaves=6, clf__tree_method=gpu_exact, lsi__svd__n_components=250, lsi__vect__max_df=0.98, score=0.6326767091541136, total=   9.0s\n",
      "[CV] clf__max_depth=3, clf__min_child_samples=100, clf__min_child_weight=10000.0, clf__num_leaves=6, clf__tree_method=gpu_exact, lsi__svd__n_components=250, lsi__vect__max_df=0.98 \n",
      "[CV]  clf__max_depth=3, clf__min_child_samples=100, clf__min_child_weight=10000.0, clf__num_leaves=6, clf__tree_method=gpu_exact, lsi__svd__n_components=250, lsi__vect__max_df=0.98, score=0.6326767091541136, total=   9.4s\n",
      "[CV] clf__max_depth=3, clf__min_child_samples=100, clf__min_child_weight=10000.0, clf__num_leaves=6, clf__tree_method=gpu_exact, lsi__svd__n_components=250, lsi__vect__max_df=0.98 \n",
      "[CV]  clf__max_depth=3, clf__min_child_samples=100, clf__min_child_weight=10000.0, clf__num_leaves=6, clf__tree_method=gpu_exact, lsi__svd__n_components=250, lsi__vect__max_df=0.98, score=0.6337209302325582, total=   9.4s\n",
      "[CV] clf__max_depth=3, clf__min_child_samples=100, clf__min_child_weight=10000.0, clf__num_leaves=6, clf__tree_method=gpu_exact, lsi__svd__n_components=300, lsi__vect__max_df=0.93 \n",
      "[CV]  clf__max_depth=3, clf__min_child_samples=100, clf__min_child_weight=10000.0, clf__num_leaves=6, clf__tree_method=gpu_exact, lsi__svd__n_components=300, lsi__vect__max_df=0.93, score=0.6326767091541136, total=  11.4s\n",
      "[CV] clf__max_depth=3, clf__min_child_samples=100, clf__min_child_weight=10000.0, clf__num_leaves=6, clf__tree_method=gpu_exact, lsi__svd__n_components=300, lsi__vect__max_df=0.93 \n",
      "[CV]  clf__max_depth=3, clf__min_child_samples=100, clf__min_child_weight=10000.0, clf__num_leaves=6, clf__tree_method=gpu_exact, lsi__svd__n_components=300, lsi__vect__max_df=0.93, score=0.6326767091541136, total=  11.3s\n",
      "[CV] clf__max_depth=3, clf__min_child_samples=100, clf__min_child_weight=10000.0, clf__num_leaves=6, clf__tree_method=gpu_exact, lsi__svd__n_components=300, lsi__vect__max_df=0.93 \n",
      "[CV]  clf__max_depth=3, clf__min_child_samples=100, clf__min_child_weight=10000.0, clf__num_leaves=6, clf__tree_method=gpu_exact, lsi__svd__n_components=300, lsi__vect__max_df=0.93, score=0.6337209302325582, total=  11.4s\n",
      "[CV] clf__max_depth=3, clf__min_child_samples=100, clf__min_child_weight=10000.0, clf__num_leaves=6, clf__tree_method=gpu_exact, lsi__svd__n_components=300, lsi__vect__max_df=0.95 \n",
      "[CV]  clf__max_depth=3, clf__min_child_samples=100, clf__min_child_weight=10000.0, clf__num_leaves=6, clf__tree_method=gpu_exact, lsi__svd__n_components=300, lsi__vect__max_df=0.95, score=0.6326767091541136, total=  10.9s\n",
      "[CV] clf__max_depth=3, clf__min_child_samples=100, clf__min_child_weight=10000.0, clf__num_leaves=6, clf__tree_method=gpu_exact, lsi__svd__n_components=300, lsi__vect__max_df=0.95 \n",
      "[CV]  clf__max_depth=3, clf__min_child_samples=100, clf__min_child_weight=10000.0, clf__num_leaves=6, clf__tree_method=gpu_exact, lsi__svd__n_components=300, lsi__vect__max_df=0.95, score=0.6326767091541136, total=  11.4s\n",
      "[CV] clf__max_depth=3, clf__min_child_samples=100, clf__min_child_weight=10000.0, clf__num_leaves=6, clf__tree_method=gpu_exact, lsi__svd__n_components=300, lsi__vect__max_df=0.95 \n",
      "[CV]  clf__max_depth=3, clf__min_child_samples=100, clf__min_child_weight=10000.0, clf__num_leaves=6, clf__tree_method=gpu_exact, lsi__svd__n_components=300, lsi__vect__max_df=0.95, score=0.6337209302325582, total=  11.6s\n",
      "[CV] clf__max_depth=3, clf__min_child_samples=100, clf__min_child_weight=10000.0, clf__num_leaves=6, clf__tree_method=gpu_exact, lsi__svd__n_components=300, lsi__vect__max_df=0.98 \n",
      "[CV]  clf__max_depth=3, clf__min_child_samples=100, clf__min_child_weight=10000.0, clf__num_leaves=6, clf__tree_method=gpu_exact, lsi__svd__n_components=300, lsi__vect__max_df=0.98, score=0.6326767091541136, total=  11.3s\n",
      "[CV] clf__max_depth=3, clf__min_child_samples=100, clf__min_child_weight=10000.0, clf__num_leaves=6, clf__tree_method=gpu_exact, lsi__svd__n_components=300, lsi__vect__max_df=0.98 \n",
      "[CV]  clf__max_depth=3, clf__min_child_samples=100, clf__min_child_weight=10000.0, clf__num_leaves=6, clf__tree_method=gpu_exact, lsi__svd__n_components=300, lsi__vect__max_df=0.98, score=0.6326767091541136, total=  11.4s\n",
      "[CV] clf__max_depth=3, clf__min_child_samples=100, clf__min_child_weight=10000.0, clf__num_leaves=6, clf__tree_method=gpu_exact, lsi__svd__n_components=300, lsi__vect__max_df=0.98 \n",
      "[CV]  clf__max_depth=3, clf__min_child_samples=100, clf__min_child_weight=10000.0, clf__num_leaves=6, clf__tree_method=gpu_exact, lsi__svd__n_components=300, lsi__vect__max_df=0.98, score=0.6337209302325582, total=  11.4s\n",
      "[CV] clf__max_depth=3, clf__min_child_samples=100, clf__min_child_weight=10000.0, clf__num_leaves=50, clf__tree_method=gpu_exact, lsi__svd__n_components=250, lsi__vect__max_df=0.93 \n",
      "[CV]  clf__max_depth=3, clf__min_child_samples=100, clf__min_child_weight=10000.0, clf__num_leaves=50, clf__tree_method=gpu_exact, lsi__svd__n_components=250, lsi__vect__max_df=0.93, score=0.6326767091541136, total=   9.0s\n",
      "[CV] clf__max_depth=3, clf__min_child_samples=100, clf__min_child_weight=10000.0, clf__num_leaves=50, clf__tree_method=gpu_exact, lsi__svd__n_components=250, lsi__vect__max_df=0.93 \n",
      "[CV]  clf__max_depth=3, clf__min_child_samples=100, clf__min_child_weight=10000.0, clf__num_leaves=50, clf__tree_method=gpu_exact, lsi__svd__n_components=250, lsi__vect__max_df=0.93, score=0.6326767091541136, total=   9.4s\n",
      "[CV] clf__max_depth=3, clf__min_child_samples=100, clf__min_child_weight=10000.0, clf__num_leaves=50, clf__tree_method=gpu_exact, lsi__svd__n_components=250, lsi__vect__max_df=0.93 \n",
      "[CV]  clf__max_depth=3, clf__min_child_samples=100, clf__min_child_weight=10000.0, clf__num_leaves=50, clf__tree_method=gpu_exact, lsi__svd__n_components=250, lsi__vect__max_df=0.93, score=0.6337209302325582, total=   9.5s\n",
      "[CV] clf__max_depth=3, clf__min_child_samples=100, clf__min_child_weight=10000.0, clf__num_leaves=50, clf__tree_method=gpu_exact, lsi__svd__n_components=250, lsi__vect__max_df=0.95 \n",
      "[CV]  clf__max_depth=3, clf__min_child_samples=100, clf__min_child_weight=10000.0, clf__num_leaves=50, clf__tree_method=gpu_exact, lsi__svd__n_components=250, lsi__vect__max_df=0.95, score=0.6326767091541136, total=   8.8s\n",
      "[CV] clf__max_depth=3, clf__min_child_samples=100, clf__min_child_weight=10000.0, clf__num_leaves=50, clf__tree_method=gpu_exact, lsi__svd__n_components=250, lsi__vect__max_df=0.95 \n",
      "[CV]  clf__max_depth=3, clf__min_child_samples=100, clf__min_child_weight=10000.0, clf__num_leaves=50, clf__tree_method=gpu_exact, lsi__svd__n_components=250, lsi__vect__max_df=0.95, score=0.6326767091541136, total=   9.2s\n",
      "[CV] clf__max_depth=3, clf__min_child_samples=100, clf__min_child_weight=10000.0, clf__num_leaves=50, clf__tree_method=gpu_exact, lsi__svd__n_components=250, lsi__vect__max_df=0.95 \n",
      "[CV]  clf__max_depth=3, clf__min_child_samples=100, clf__min_child_weight=10000.0, clf__num_leaves=50, clf__tree_method=gpu_exact, lsi__svd__n_components=250, lsi__vect__max_df=0.95, score=0.6337209302325582, total=   9.2s\n",
      "[CV] clf__max_depth=3, clf__min_child_samples=100, clf__min_child_weight=10000.0, clf__num_leaves=50, clf__tree_method=gpu_exact, lsi__svd__n_components=250, lsi__vect__max_df=0.98 \n",
      "[CV]  clf__max_depth=3, clf__min_child_samples=100, clf__min_child_weight=10000.0, clf__num_leaves=50, clf__tree_method=gpu_exact, lsi__svd__n_components=250, lsi__vect__max_df=0.98, score=0.6326767091541136, total=   9.2s\n",
      "[CV] clf__max_depth=3, clf__min_child_samples=100, clf__min_child_weight=10000.0, clf__num_leaves=50, clf__tree_method=gpu_exact, lsi__svd__n_components=250, lsi__vect__max_df=0.98 \n",
      "[CV]  clf__max_depth=3, clf__min_child_samples=100, clf__min_child_weight=10000.0, clf__num_leaves=50, clf__tree_method=gpu_exact, lsi__svd__n_components=250, lsi__vect__max_df=0.98, score=0.6326767091541136, total=   9.5s\n",
      "[CV] clf__max_depth=3, clf__min_child_samples=100, clf__min_child_weight=10000.0, clf__num_leaves=50, clf__tree_method=gpu_exact, lsi__svd__n_components=250, lsi__vect__max_df=0.98 \n",
      "[CV]  clf__max_depth=3, clf__min_child_samples=100, clf__min_child_weight=10000.0, clf__num_leaves=50, clf__tree_method=gpu_exact, lsi__svd__n_components=250, lsi__vect__max_df=0.98, score=0.6337209302325582, total=   9.6s\n",
      "[CV] clf__max_depth=3, clf__min_child_samples=100, clf__min_child_weight=10000.0, clf__num_leaves=50, clf__tree_method=gpu_exact, lsi__svd__n_components=300, lsi__vect__max_df=0.93 \n",
      "[CV]  clf__max_depth=3, clf__min_child_samples=100, clf__min_child_weight=10000.0, clf__num_leaves=50, clf__tree_method=gpu_exact, lsi__svd__n_components=300, lsi__vect__max_df=0.93, score=0.6326767091541136, total=  10.9s\n",
      "[CV] clf__max_depth=3, clf__min_child_samples=100, clf__min_child_weight=10000.0, clf__num_leaves=50, clf__tree_method=gpu_exact, lsi__svd__n_components=300, lsi__vect__max_df=0.93 \n",
      "[CV]  clf__max_depth=3, clf__min_child_samples=100, clf__min_child_weight=10000.0, clf__num_leaves=50, clf__tree_method=gpu_exact, lsi__svd__n_components=300, lsi__vect__max_df=0.93, score=0.6326767091541136, total=  11.3s\n",
      "[CV] clf__max_depth=3, clf__min_child_samples=100, clf__min_child_weight=10000.0, clf__num_leaves=50, clf__tree_method=gpu_exact, lsi__svd__n_components=300, lsi__vect__max_df=0.93 \n",
      "[CV]  clf__max_depth=3, clf__min_child_samples=100, clf__min_child_weight=10000.0, clf__num_leaves=50, clf__tree_method=gpu_exact, lsi__svd__n_components=300, lsi__vect__max_df=0.93, score=0.6337209302325582, total=  11.7s\n",
      "[CV] clf__max_depth=3, clf__min_child_samples=100, clf__min_child_weight=10000.0, clf__num_leaves=50, clf__tree_method=gpu_exact, lsi__svd__n_components=300, lsi__vect__max_df=0.95 \n",
      "[CV]  clf__max_depth=3, clf__min_child_samples=100, clf__min_child_weight=10000.0, clf__num_leaves=50, clf__tree_method=gpu_exact, lsi__svd__n_components=300, lsi__vect__max_df=0.95, score=0.6326767091541136, total=  12.3s\n",
      "[CV] clf__max_depth=3, clf__min_child_samples=100, clf__min_child_weight=10000.0, clf__num_leaves=50, clf__tree_method=gpu_exact, lsi__svd__n_components=300, lsi__vect__max_df=0.95 \n",
      "[CV]  clf__max_depth=3, clf__min_child_samples=100, clf__min_child_weight=10000.0, clf__num_leaves=50, clf__tree_method=gpu_exact, lsi__svd__n_components=300, lsi__vect__max_df=0.95, score=0.6326767091541136, total=  11.9s\n",
      "[CV] clf__max_depth=3, clf__min_child_samples=100, clf__min_child_weight=10000.0, clf__num_leaves=50, clf__tree_method=gpu_exact, lsi__svd__n_components=300, lsi__vect__max_df=0.95 \n",
      "[CV]  clf__max_depth=3, clf__min_child_samples=100, clf__min_child_weight=10000.0, clf__num_leaves=50, clf__tree_method=gpu_exact, lsi__svd__n_components=300, lsi__vect__max_df=0.95, score=0.6337209302325582, total=  12.9s\n",
      "[CV] clf__max_depth=3, clf__min_child_samples=100, clf__min_child_weight=10000.0, clf__num_leaves=50, clf__tree_method=gpu_exact, lsi__svd__n_components=300, lsi__vect__max_df=0.98 \n",
      "[CV]  clf__max_depth=3, clf__min_child_samples=100, clf__min_child_weight=10000.0, clf__num_leaves=50, clf__tree_method=gpu_exact, lsi__svd__n_components=300, lsi__vect__max_df=0.98, score=0.6326767091541136, total=  12.5s\n",
      "[CV] clf__max_depth=3, clf__min_child_samples=100, clf__min_child_weight=10000.0, clf__num_leaves=50, clf__tree_method=gpu_exact, lsi__svd__n_components=300, lsi__vect__max_df=0.98 \n",
      "[CV]  clf__max_depth=3, clf__min_child_samples=100, clf__min_child_weight=10000.0, clf__num_leaves=50, clf__tree_method=gpu_exact, lsi__svd__n_components=300, lsi__vect__max_df=0.98, score=0.6326767091541136, total=  11.3s\n",
      "[CV] clf__max_depth=3, clf__min_child_samples=100, clf__min_child_weight=10000.0, clf__num_leaves=50, clf__tree_method=gpu_exact, lsi__svd__n_components=300, lsi__vect__max_df=0.98 \n",
      "[CV]  clf__max_depth=3, clf__min_child_samples=100, clf__min_child_weight=10000.0, clf__num_leaves=50, clf__tree_method=gpu_exact, lsi__svd__n_components=300, lsi__vect__max_df=0.98, score=0.6337209302325582, total=  12.3s\n",
      "[CV] clf__max_depth=3, clf__min_child_samples=500, clf__min_child_weight=1e-05, clf__num_leaves=6, clf__tree_method=gpu_exact, lsi__svd__n_components=250, lsi__vect__max_df=0.93 \n",
      "[CV]  clf__max_depth=3, clf__min_child_samples=500, clf__min_child_weight=1e-05, clf__num_leaves=6, clf__tree_method=gpu_exact, lsi__svd__n_components=250, lsi__vect__max_df=0.93, score=0.9212050984936269, total=   9.9s\n",
      "[CV] clf__max_depth=3, clf__min_child_samples=500, clf__min_child_weight=1e-05, clf__num_leaves=6, clf__tree_method=gpu_exact, lsi__svd__n_components=250, lsi__vect__max_df=0.93 \n",
      "[CV]  clf__max_depth=3, clf__min_child_samples=500, clf__min_child_weight=1e-05, clf__num_leaves=6, clf__tree_method=gpu_exact, lsi__svd__n_components=250, lsi__vect__max_df=0.93, score=0.9258400926998841, total=   9.3s\n",
      "[CV] clf__max_depth=3, clf__min_child_samples=500, clf__min_child_weight=1e-05, clf__num_leaves=6, clf__tree_method=gpu_exact, lsi__svd__n_components=250, lsi__vect__max_df=0.93 \n",
      "[CV]  clf__max_depth=3, clf__min_child_samples=500, clf__min_child_weight=1e-05, clf__num_leaves=6, clf__tree_method=gpu_exact, lsi__svd__n_components=250, lsi__vect__max_df=0.93, score=0.9, total=   9.2s\n",
      "[CV] clf__max_depth=3, clf__min_child_samples=500, clf__min_child_weight=1e-05, clf__num_leaves=6, clf__tree_method=gpu_exact, lsi__svd__n_components=250, lsi__vect__max_df=0.95 \n",
      "[CV]  clf__max_depth=3, clf__min_child_samples=500, clf__min_child_weight=1e-05, clf__num_leaves=6, clf__tree_method=gpu_exact, lsi__svd__n_components=250, lsi__vect__max_df=0.95, score=0.9177288528389339, total=   9.3s\n",
      "[CV] clf__max_depth=3, clf__min_child_samples=500, clf__min_child_weight=1e-05, clf__num_leaves=6, clf__tree_method=gpu_exact, lsi__svd__n_components=250, lsi__vect__max_df=0.95 \n",
      "[CV]  clf__max_depth=3, clf__min_child_samples=500, clf__min_child_weight=1e-05, clf__num_leaves=6, clf__tree_method=gpu_exact, lsi__svd__n_components=250, lsi__vect__max_df=0.95, score=0.9281575898030128, total=   9.1s\n",
      "[CV] clf__max_depth=3, clf__min_child_samples=500, clf__min_child_weight=1e-05, clf__num_leaves=6, clf__tree_method=gpu_exact, lsi__svd__n_components=250, lsi__vect__max_df=0.95 \n",
      "[CV]  clf__max_depth=3, clf__min_child_samples=500, clf__min_child_weight=1e-05, clf__num_leaves=6, clf__tree_method=gpu_exact, lsi__svd__n_components=250, lsi__vect__max_df=0.95, score=0.8953488372093024, total=   9.8s\n",
      "[CV] clf__max_depth=3, clf__min_child_samples=500, clf__min_child_weight=1e-05, clf__num_leaves=6, clf__tree_method=gpu_exact, lsi__svd__n_components=250, lsi__vect__max_df=0.98 \n",
      "[CV]  clf__max_depth=3, clf__min_child_samples=500, clf__min_child_weight=1e-05, clf__num_leaves=6, clf__tree_method=gpu_exact, lsi__svd__n_components=250, lsi__vect__max_df=0.98, score=0.9188876013904983, total=   9.0s\n",
      "[CV] clf__max_depth=3, clf__min_child_samples=500, clf__min_child_weight=1e-05, clf__num_leaves=6, clf__tree_method=gpu_exact, lsi__svd__n_components=250, lsi__vect__max_df=0.98 \n",
      "[CV]  clf__max_depth=3, clf__min_child_samples=500, clf__min_child_weight=1e-05, clf__num_leaves=6, clf__tree_method=gpu_exact, lsi__svd__n_components=250, lsi__vect__max_df=0.98, score=0.9281575898030128, total=   9.3s\n",
      "[CV] clf__max_depth=3, clf__min_child_samples=500, clf__min_child_weight=1e-05, clf__num_leaves=6, clf__tree_method=gpu_exact, lsi__svd__n_components=250, lsi__vect__max_df=0.98 \n",
      "[CV]  clf__max_depth=3, clf__min_child_samples=500, clf__min_child_weight=1e-05, clf__num_leaves=6, clf__tree_method=gpu_exact, lsi__svd__n_components=250, lsi__vect__max_df=0.98, score=0.8930232558139535, total=   9.0s\n",
      "[CV] clf__max_depth=3, clf__min_child_samples=500, clf__min_child_weight=1e-05, clf__num_leaves=6, clf__tree_method=gpu_exact, lsi__svd__n_components=300, lsi__vect__max_df=0.93 \n",
      "[CV]  clf__max_depth=3, clf__min_child_samples=500, clf__min_child_weight=1e-05, clf__num_leaves=6, clf__tree_method=gpu_exact, lsi__svd__n_components=300, lsi__vect__max_df=0.93, score=0.9258400926998841, total=  10.7s\n",
      "[CV] clf__max_depth=3, clf__min_child_samples=500, clf__min_child_weight=1e-05, clf__num_leaves=6, clf__tree_method=gpu_exact, lsi__svd__n_components=300, lsi__vect__max_df=0.93 \n",
      "[CV]  clf__max_depth=3, clf__min_child_samples=500, clf__min_child_weight=1e-05, clf__num_leaves=6, clf__tree_method=gpu_exact, lsi__svd__n_components=300, lsi__vect__max_df=0.93, score=0.9304750869061413, total=  12.2s\n",
      "[CV] clf__max_depth=3, clf__min_child_samples=500, clf__min_child_weight=1e-05, clf__num_leaves=6, clf__tree_method=gpu_exact, lsi__svd__n_components=300, lsi__vect__max_df=0.93 \n",
      "[CV]  clf__max_depth=3, clf__min_child_samples=500, clf__min_child_weight=1e-05, clf__num_leaves=6, clf__tree_method=gpu_exact, lsi__svd__n_components=300, lsi__vect__max_df=0.93, score=0.8941860465116279, total=  11.7s\n",
      "[CV] clf__max_depth=3, clf__min_child_samples=500, clf__min_child_weight=1e-05, clf__num_leaves=6, clf__tree_method=gpu_exact, lsi__svd__n_components=300, lsi__vect__max_df=0.95 \n",
      "[CV]  clf__max_depth=3, clf__min_child_samples=500, clf__min_child_weight=1e-05, clf__num_leaves=6, clf__tree_method=gpu_exact, lsi__svd__n_components=300, lsi__vect__max_df=0.95, score=0.9223638470451911, total=  10.6s\n",
      "[CV] clf__max_depth=3, clf__min_child_samples=500, clf__min_child_weight=1e-05, clf__num_leaves=6, clf__tree_method=gpu_exact, lsi__svd__n_components=300, lsi__vect__max_df=0.95 \n",
      "[CV]  clf__max_depth=3, clf__min_child_samples=500, clf__min_child_weight=1e-05, clf__num_leaves=6, clf__tree_method=gpu_exact, lsi__svd__n_components=300, lsi__vect__max_df=0.95, score=0.9281575898030128, total=  10.7s\n",
      "[CV] clf__max_depth=3, clf__min_child_samples=500, clf__min_child_weight=1e-05, clf__num_leaves=6, clf__tree_method=gpu_exact, lsi__svd__n_components=300, lsi__vect__max_df=0.95 \n",
      "[CV]  clf__max_depth=3, clf__min_child_samples=500, clf__min_child_weight=1e-05, clf__num_leaves=6, clf__tree_method=gpu_exact, lsi__svd__n_components=300, lsi__vect__max_df=0.95, score=0.8941860465116279, total=  11.0s\n",
      "[CV] clf__max_depth=3, clf__min_child_samples=500, clf__min_child_weight=1e-05, clf__num_leaves=6, clf__tree_method=gpu_exact, lsi__svd__n_components=300, lsi__vect__max_df=0.98 \n",
      "[CV]  clf__max_depth=3, clf__min_child_samples=500, clf__min_child_weight=1e-05, clf__num_leaves=6, clf__tree_method=gpu_exact, lsi__svd__n_components=300, lsi__vect__max_df=0.98, score=0.9212050984936269, total=  11.7s\n",
      "[CV] clf__max_depth=3, clf__min_child_samples=500, clf__min_child_weight=1e-05, clf__num_leaves=6, clf__tree_method=gpu_exact, lsi__svd__n_components=300, lsi__vect__max_df=0.98 \n",
      "[CV]  clf__max_depth=3, clf__min_child_samples=500, clf__min_child_weight=1e-05, clf__num_leaves=6, clf__tree_method=gpu_exact, lsi__svd__n_components=300, lsi__vect__max_df=0.98, score=0.9258400926998841, total=  11.5s\n",
      "[CV] clf__max_depth=3, clf__min_child_samples=500, clf__min_child_weight=1e-05, clf__num_leaves=6, clf__tree_method=gpu_exact, lsi__svd__n_components=300, lsi__vect__max_df=0.98 \n",
      "[CV]  clf__max_depth=3, clf__min_child_samples=500, clf__min_child_weight=1e-05, clf__num_leaves=6, clf__tree_method=gpu_exact, lsi__svd__n_components=300, lsi__vect__max_df=0.98, score=0.8953488372093024, total=  12.0s\n",
      "[CV] clf__max_depth=3, clf__min_child_samples=500, clf__min_child_weight=1e-05, clf__num_leaves=50, clf__tree_method=gpu_exact, lsi__svd__n_components=250, lsi__vect__max_df=0.93 \n",
      "[CV]  clf__max_depth=3, clf__min_child_samples=500, clf__min_child_weight=1e-05, clf__num_leaves=50, clf__tree_method=gpu_exact, lsi__svd__n_components=250, lsi__vect__max_df=0.93, score=0.9188876013904983, total=   9.1s\n",
      "[CV] clf__max_depth=3, clf__min_child_samples=500, clf__min_child_weight=1e-05, clf__num_leaves=50, clf__tree_method=gpu_exact, lsi__svd__n_components=250, lsi__vect__max_df=0.93 \n",
      "[CV]  clf__max_depth=3, clf__min_child_samples=500, clf__min_child_weight=1e-05, clf__num_leaves=50, clf__tree_method=gpu_exact, lsi__svd__n_components=250, lsi__vect__max_df=0.93, score=0.9316338354577057, total=   8.8s\n",
      "[CV] clf__max_depth=3, clf__min_child_samples=500, clf__min_child_weight=1e-05, clf__num_leaves=50, clf__tree_method=gpu_exact, lsi__svd__n_components=250, lsi__vect__max_df=0.93 \n",
      "[CV]  clf__max_depth=3, clf__min_child_samples=500, clf__min_child_weight=1e-05, clf__num_leaves=50, clf__tree_method=gpu_exact, lsi__svd__n_components=250, lsi__vect__max_df=0.93, score=0.8965116279069767, total=   9.1s\n",
      "[CV] clf__max_depth=3, clf__min_child_samples=500, clf__min_child_weight=1e-05, clf__num_leaves=50, clf__tree_method=gpu_exact, lsi__svd__n_components=250, lsi__vect__max_df=0.95 \n",
      "[CV]  clf__max_depth=3, clf__min_child_samples=500, clf__min_child_weight=1e-05, clf__num_leaves=50, clf__tree_method=gpu_exact, lsi__svd__n_components=250, lsi__vect__max_df=0.95, score=0.9246813441483198, total=   8.9s\n",
      "[CV] clf__max_depth=3, clf__min_child_samples=500, clf__min_child_weight=1e-05, clf__num_leaves=50, clf__tree_method=gpu_exact, lsi__svd__n_components=250, lsi__vect__max_df=0.95 \n",
      "[CV]  clf__max_depth=3, clf__min_child_samples=500, clf__min_child_weight=1e-05, clf__num_leaves=50, clf__tree_method=gpu_exact, lsi__svd__n_components=250, lsi__vect__max_df=0.95, score=0.929316338354577, total=  10.5s\n",
      "[CV] clf__max_depth=3, clf__min_child_samples=500, clf__min_child_weight=1e-05, clf__num_leaves=50, clf__tree_method=gpu_exact, lsi__svd__n_components=250, lsi__vect__max_df=0.95 \n",
      "[CV]  clf__max_depth=3, clf__min_child_samples=500, clf__min_child_weight=1e-05, clf__num_leaves=50, clf__tree_method=gpu_exact, lsi__svd__n_components=250, lsi__vect__max_df=0.95, score=0.8953488372093024, total=   9.6s\n",
      "[CV] clf__max_depth=3, clf__min_child_samples=500, clf__min_child_weight=1e-05, clf__num_leaves=50, clf__tree_method=gpu_exact, lsi__svd__n_components=250, lsi__vect__max_df=0.98 \n",
      "[CV]  clf__max_depth=3, clf__min_child_samples=500, clf__min_child_weight=1e-05, clf__num_leaves=50, clf__tree_method=gpu_exact, lsi__svd__n_components=250, lsi__vect__max_df=0.98, score=0.9188876013904983, total=   8.9s\n",
      "[CV] clf__max_depth=3, clf__min_child_samples=500, clf__min_child_weight=1e-05, clf__num_leaves=50, clf__tree_method=gpu_exact, lsi__svd__n_components=250, lsi__vect__max_df=0.98 \n",
      "[CV]  clf__max_depth=3, clf__min_child_samples=500, clf__min_child_weight=1e-05, clf__num_leaves=50, clf__tree_method=gpu_exact, lsi__svd__n_components=250, lsi__vect__max_df=0.98, score=0.9258400926998841, total=   9.4s\n",
      "[CV] clf__max_depth=3, clf__min_child_samples=500, clf__min_child_weight=1e-05, clf__num_leaves=50, clf__tree_method=gpu_exact, lsi__svd__n_components=250, lsi__vect__max_df=0.98 \n",
      "[CV]  clf__max_depth=3, clf__min_child_samples=500, clf__min_child_weight=1e-05, clf__num_leaves=50, clf__tree_method=gpu_exact, lsi__svd__n_components=250, lsi__vect__max_df=0.98, score=0.9034883720930232, total=   9.2s\n",
      "[CV] clf__max_depth=3, clf__min_child_samples=500, clf__min_child_weight=1e-05, clf__num_leaves=50, clf__tree_method=gpu_exact, lsi__svd__n_components=300, lsi__vect__max_df=0.93 \n",
      "[CV]  clf__max_depth=3, clf__min_child_samples=500, clf__min_child_weight=1e-05, clf__num_leaves=50, clf__tree_method=gpu_exact, lsi__svd__n_components=300, lsi__vect__max_df=0.93, score=0.9200463499420626, total=  11.2s\n",
      "[CV] clf__max_depth=3, clf__min_child_samples=500, clf__min_child_weight=1e-05, clf__num_leaves=50, clf__tree_method=gpu_exact, lsi__svd__n_components=300, lsi__vect__max_df=0.93 \n",
      "[CV]  clf__max_depth=3, clf__min_child_samples=500, clf__min_child_weight=1e-05, clf__num_leaves=50, clf__tree_method=gpu_exact, lsi__svd__n_components=300, lsi__vect__max_df=0.93, score=0.9269988412514485, total=  11.5s\n",
      "[CV] clf__max_depth=3, clf__min_child_samples=500, clf__min_child_weight=1e-05, clf__num_leaves=50, clf__tree_method=gpu_exact, lsi__svd__n_components=300, lsi__vect__max_df=0.93 \n",
      "[CV]  clf__max_depth=3, clf__min_child_samples=500, clf__min_child_weight=1e-05, clf__num_leaves=50, clf__tree_method=gpu_exact, lsi__svd__n_components=300, lsi__vect__max_df=0.93, score=0.8953488372093024, total=  11.4s\n",
      "[CV] clf__max_depth=3, clf__min_child_samples=500, clf__min_child_weight=1e-05, clf__num_leaves=50, clf__tree_method=gpu_exact, lsi__svd__n_components=300, lsi__vect__max_df=0.95 \n",
      "[CV]  clf__max_depth=3, clf__min_child_samples=500, clf__min_child_weight=1e-05, clf__num_leaves=50, clf__tree_method=gpu_exact, lsi__svd__n_components=300, lsi__vect__max_df=0.95, score=0.9212050984936269, total=  11.0s\n",
      "[CV] clf__max_depth=3, clf__min_child_samples=500, clf__min_child_weight=1e-05, clf__num_leaves=50, clf__tree_method=gpu_exact, lsi__svd__n_components=300, lsi__vect__max_df=0.95 \n",
      "[CV]  clf__max_depth=3, clf__min_child_samples=500, clf__min_child_weight=1e-05, clf__num_leaves=50, clf__tree_method=gpu_exact, lsi__svd__n_components=300, lsi__vect__max_df=0.95, score=0.9223638470451911, total=  11.3s\n",
      "[CV] clf__max_depth=3, clf__min_child_samples=500, clf__min_child_weight=1e-05, clf__num_leaves=50, clf__tree_method=gpu_exact, lsi__svd__n_components=300, lsi__vect__max_df=0.95 \n",
      "[CV]  clf__max_depth=3, clf__min_child_samples=500, clf__min_child_weight=1e-05, clf__num_leaves=50, clf__tree_method=gpu_exact, lsi__svd__n_components=300, lsi__vect__max_df=0.95, score=0.8965116279069767, total=  11.8s\n",
      "[CV] clf__max_depth=3, clf__min_child_samples=500, clf__min_child_weight=1e-05, clf__num_leaves=50, clf__tree_method=gpu_exact, lsi__svd__n_components=300, lsi__vect__max_df=0.98 \n",
      "[CV]  clf__max_depth=3, clf__min_child_samples=500, clf__min_child_weight=1e-05, clf__num_leaves=50, clf__tree_method=gpu_exact, lsi__svd__n_components=300, lsi__vect__max_df=0.98, score=0.9258400926998841, total=  10.8s\n",
      "[CV] clf__max_depth=3, clf__min_child_samples=500, clf__min_child_weight=1e-05, clf__num_leaves=50, clf__tree_method=gpu_exact, lsi__svd__n_components=300, lsi__vect__max_df=0.98 \n",
      "[CV]  clf__max_depth=3, clf__min_child_samples=500, clf__min_child_weight=1e-05, clf__num_leaves=50, clf__tree_method=gpu_exact, lsi__svd__n_components=300, lsi__vect__max_df=0.98, score=0.9304750869061413, total=  11.2s\n",
      "[CV] clf__max_depth=3, clf__min_child_samples=500, clf__min_child_weight=1e-05, clf__num_leaves=50, clf__tree_method=gpu_exact, lsi__svd__n_components=300, lsi__vect__max_df=0.98 \n",
      "[CV]  clf__max_depth=3, clf__min_child_samples=500, clf__min_child_weight=1e-05, clf__num_leaves=50, clf__tree_method=gpu_exact, lsi__svd__n_components=300, lsi__vect__max_df=0.98, score=0.8965116279069767, total=  12.0s\n",
      "[CV] clf__max_depth=3, clf__min_child_samples=500, clf__min_child_weight=1, clf__num_leaves=6, clf__tree_method=gpu_exact, lsi__svd__n_components=250, lsi__vect__max_df=0.93 \n",
      "[CV]  clf__max_depth=3, clf__min_child_samples=500, clf__min_child_weight=1, clf__num_leaves=6, clf__tree_method=gpu_exact, lsi__svd__n_components=250, lsi__vect__max_df=0.93, score=0.9165701042873696, total=   9.6s\n",
      "[CV] clf__max_depth=3, clf__min_child_samples=500, clf__min_child_weight=1, clf__num_leaves=6, clf__tree_method=gpu_exact, lsi__svd__n_components=250, lsi__vect__max_df=0.93 \n",
      "[CV]  clf__max_depth=3, clf__min_child_samples=500, clf__min_child_weight=1, clf__num_leaves=6, clf__tree_method=gpu_exact, lsi__svd__n_components=250, lsi__vect__max_df=0.93, score=0.9269988412514485, total=   9.2s\n",
      "[CV] clf__max_depth=3, clf__min_child_samples=500, clf__min_child_weight=1, clf__num_leaves=6, clf__tree_method=gpu_exact, lsi__svd__n_components=250, lsi__vect__max_df=0.93 \n",
      "[CV]  clf__max_depth=3, clf__min_child_samples=500, clf__min_child_weight=1, clf__num_leaves=6, clf__tree_method=gpu_exact, lsi__svd__n_components=250, lsi__vect__max_df=0.93, score=0.9011627906976745, total=   9.1s\n",
      "[CV] clf__max_depth=3, clf__min_child_samples=500, clf__min_child_weight=1, clf__num_leaves=6, clf__tree_method=gpu_exact, lsi__svd__n_components=250, lsi__vect__max_df=0.95 \n",
      "[CV]  clf__max_depth=3, clf__min_child_samples=500, clf__min_child_weight=1, clf__num_leaves=6, clf__tree_method=gpu_exact, lsi__svd__n_components=250, lsi__vect__max_df=0.95, score=0.9212050984936269, total=   8.9s\n",
      "[CV] clf__max_depth=3, clf__min_child_samples=500, clf__min_child_weight=1, clf__num_leaves=6, clf__tree_method=gpu_exact, lsi__svd__n_components=250, lsi__vect__max_df=0.95 \n",
      "[CV]  clf__max_depth=3, clf__min_child_samples=500, clf__min_child_weight=1, clf__num_leaves=6, clf__tree_method=gpu_exact, lsi__svd__n_components=250, lsi__vect__max_df=0.95, score=0.9258400926998841, total=   9.0s\n",
      "[CV] clf__max_depth=3, clf__min_child_samples=500, clf__min_child_weight=1, clf__num_leaves=6, clf__tree_method=gpu_exact, lsi__svd__n_components=250, lsi__vect__max_df=0.95 \n",
      "[CV]  clf__max_depth=3, clf__min_child_samples=500, clf__min_child_weight=1, clf__num_leaves=6, clf__tree_method=gpu_exact, lsi__svd__n_components=250, lsi__vect__max_df=0.95, score=0.9023255813953488, total=   9.4s\n",
      "[CV] clf__max_depth=3, clf__min_child_samples=500, clf__min_child_weight=1, clf__num_leaves=6, clf__tree_method=gpu_exact, lsi__svd__n_components=250, lsi__vect__max_df=0.98 \n",
      "[CV]  clf__max_depth=3, clf__min_child_samples=500, clf__min_child_weight=1, clf__num_leaves=6, clf__tree_method=gpu_exact, lsi__svd__n_components=250, lsi__vect__max_df=0.98, score=0.9246813441483198, total=   8.9s\n",
      "[CV] clf__max_depth=3, clf__min_child_samples=500, clf__min_child_weight=1, clf__num_leaves=6, clf__tree_method=gpu_exact, lsi__svd__n_components=250, lsi__vect__max_df=0.98 \n",
      "[CV]  clf__max_depth=3, clf__min_child_samples=500, clf__min_child_weight=1, clf__num_leaves=6, clf__tree_method=gpu_exact, lsi__svd__n_components=250, lsi__vect__max_df=0.98, score=0.9258400926998841, total=  10.0s\n",
      "[CV] clf__max_depth=3, clf__min_child_samples=500, clf__min_child_weight=1, clf__num_leaves=6, clf__tree_method=gpu_exact, lsi__svd__n_components=250, lsi__vect__max_df=0.98 \n",
      "[CV]  clf__max_depth=3, clf__min_child_samples=500, clf__min_child_weight=1, clf__num_leaves=6, clf__tree_method=gpu_exact, lsi__svd__n_components=250, lsi__vect__max_df=0.98, score=0.9011627906976745, total=   9.0s\n",
      "[CV] clf__max_depth=3, clf__min_child_samples=500, clf__min_child_weight=1, clf__num_leaves=6, clf__tree_method=gpu_exact, lsi__svd__n_components=300, lsi__vect__max_df=0.93 \n",
      "[CV]  clf__max_depth=3, clf__min_child_samples=500, clf__min_child_weight=1, clf__num_leaves=6, clf__tree_method=gpu_exact, lsi__svd__n_components=300, lsi__vect__max_df=0.93, score=0.9200463499420626, total=  10.8s\n",
      "[CV] clf__max_depth=3, clf__min_child_samples=500, clf__min_child_weight=1, clf__num_leaves=6, clf__tree_method=gpu_exact, lsi__svd__n_components=300, lsi__vect__max_df=0.93 \n",
      "[CV]  clf__max_depth=3, clf__min_child_samples=500, clf__min_child_weight=1, clf__num_leaves=6, clf__tree_method=gpu_exact, lsi__svd__n_components=300, lsi__vect__max_df=0.93, score=0.9246813441483198, total=  11.1s\n",
      "[CV] clf__max_depth=3, clf__min_child_samples=500, clf__min_child_weight=1, clf__num_leaves=6, clf__tree_method=gpu_exact, lsi__svd__n_components=300, lsi__vect__max_df=0.93 \n",
      "[CV]  clf__max_depth=3, clf__min_child_samples=500, clf__min_child_weight=1, clf__num_leaves=6, clf__tree_method=gpu_exact, lsi__svd__n_components=300, lsi__vect__max_df=0.93, score=0.9023255813953488, total=  10.9s\n",
      "[CV] clf__max_depth=3, clf__min_child_samples=500, clf__min_child_weight=1, clf__num_leaves=6, clf__tree_method=gpu_exact, lsi__svd__n_components=300, lsi__vect__max_df=0.95 \n",
      "[CV]  clf__max_depth=3, clf__min_child_samples=500, clf__min_child_weight=1, clf__num_leaves=6, clf__tree_method=gpu_exact, lsi__svd__n_components=300, lsi__vect__max_df=0.95, score=0.9223638470451911, total=  11.5s\n",
      "[CV] clf__max_depth=3, clf__min_child_samples=500, clf__min_child_weight=1, clf__num_leaves=6, clf__tree_method=gpu_exact, lsi__svd__n_components=300, lsi__vect__max_df=0.95 \n",
      "[CV]  clf__max_depth=3, clf__min_child_samples=500, clf__min_child_weight=1, clf__num_leaves=6, clf__tree_method=gpu_exact, lsi__svd__n_components=300, lsi__vect__max_df=0.95, score=0.9235225955967555, total=  11.7s\n",
      "[CV] clf__max_depth=3, clf__min_child_samples=500, clf__min_child_weight=1, clf__num_leaves=6, clf__tree_method=gpu_exact, lsi__svd__n_components=300, lsi__vect__max_df=0.95 \n",
      "[CV]  clf__max_depth=3, clf__min_child_samples=500, clf__min_child_weight=1, clf__num_leaves=6, clf__tree_method=gpu_exact, lsi__svd__n_components=300, lsi__vect__max_df=0.95, score=0.9034883720930232, total=  11.9s\n",
      "[CV] clf__max_depth=3, clf__min_child_samples=500, clf__min_child_weight=1, clf__num_leaves=6, clf__tree_method=gpu_exact, lsi__svd__n_components=300, lsi__vect__max_df=0.98 \n",
      "[CV]  clf__max_depth=3, clf__min_child_samples=500, clf__min_child_weight=1, clf__num_leaves=6, clf__tree_method=gpu_exact, lsi__svd__n_components=300, lsi__vect__max_df=0.98, score=0.9212050984936269, total=  11.6s\n",
      "[CV] clf__max_depth=3, clf__min_child_samples=500, clf__min_child_weight=1, clf__num_leaves=6, clf__tree_method=gpu_exact, lsi__svd__n_components=300, lsi__vect__max_df=0.98 \n",
      "[CV]  clf__max_depth=3, clf__min_child_samples=500, clf__min_child_weight=1, clf__num_leaves=6, clf__tree_method=gpu_exact, lsi__svd__n_components=300, lsi__vect__max_df=0.98, score=0.9269988412514485, total=  11.4s\n",
      "[CV] clf__max_depth=3, clf__min_child_samples=500, clf__min_child_weight=1, clf__num_leaves=6, clf__tree_method=gpu_exact, lsi__svd__n_components=300, lsi__vect__max_df=0.98 \n",
      "[CV]  clf__max_depth=3, clf__min_child_samples=500, clf__min_child_weight=1, clf__num_leaves=6, clf__tree_method=gpu_exact, lsi__svd__n_components=300, lsi__vect__max_df=0.98, score=0.8988372093023256, total=  11.2s\n",
      "[CV] clf__max_depth=3, clf__min_child_samples=500, clf__min_child_weight=1, clf__num_leaves=50, clf__tree_method=gpu_exact, lsi__svd__n_components=250, lsi__vect__max_df=0.93 \n",
      "[CV]  clf__max_depth=3, clf__min_child_samples=500, clf__min_child_weight=1, clf__num_leaves=50, clf__tree_method=gpu_exact, lsi__svd__n_components=250, lsi__vect__max_df=0.93, score=0.9200463499420626, total=   9.1s\n",
      "[CV] clf__max_depth=3, clf__min_child_samples=500, clf__min_child_weight=1, clf__num_leaves=50, clf__tree_method=gpu_exact, lsi__svd__n_components=250, lsi__vect__max_df=0.93 \n",
      "[CV]  clf__max_depth=3, clf__min_child_samples=500, clf__min_child_weight=1, clf__num_leaves=50, clf__tree_method=gpu_exact, lsi__svd__n_components=250, lsi__vect__max_df=0.93, score=0.9269988412514485, total=   8.9s\n",
      "[CV] clf__max_depth=3, clf__min_child_samples=500, clf__min_child_weight=1, clf__num_leaves=50, clf__tree_method=gpu_exact, lsi__svd__n_components=250, lsi__vect__max_df=0.93 \n",
      "[CV]  clf__max_depth=3, clf__min_child_samples=500, clf__min_child_weight=1, clf__num_leaves=50, clf__tree_method=gpu_exact, lsi__svd__n_components=250, lsi__vect__max_df=0.93, score=0.8976744186046511, total=   9.0s\n",
      "[CV] clf__max_depth=3, clf__min_child_samples=500, clf__min_child_weight=1, clf__num_leaves=50, clf__tree_method=gpu_exact, lsi__svd__n_components=250, lsi__vect__max_df=0.95 \n",
      "[CV]  clf__max_depth=3, clf__min_child_samples=500, clf__min_child_weight=1, clf__num_leaves=50, clf__tree_method=gpu_exact, lsi__svd__n_components=250, lsi__vect__max_df=0.95, score=0.9258400926998841, total=   8.7s\n",
      "[CV] clf__max_depth=3, clf__min_child_samples=500, clf__min_child_weight=1, clf__num_leaves=50, clf__tree_method=gpu_exact, lsi__svd__n_components=250, lsi__vect__max_df=0.95 \n",
      "[CV]  clf__max_depth=3, clf__min_child_samples=500, clf__min_child_weight=1, clf__num_leaves=50, clf__tree_method=gpu_exact, lsi__svd__n_components=250, lsi__vect__max_df=0.95, score=0.929316338354577, total=   9.6s\n",
      "[CV] clf__max_depth=3, clf__min_child_samples=500, clf__min_child_weight=1, clf__num_leaves=50, clf__tree_method=gpu_exact, lsi__svd__n_components=250, lsi__vect__max_df=0.95 \n",
      "[CV]  clf__max_depth=3, clf__min_child_samples=500, clf__min_child_weight=1, clf__num_leaves=50, clf__tree_method=gpu_exact, lsi__svd__n_components=250, lsi__vect__max_df=0.95, score=0.8930232558139535, total=  10.1s\n",
      "[CV] clf__max_depth=3, clf__min_child_samples=500, clf__min_child_weight=1, clf__num_leaves=50, clf__tree_method=gpu_exact, lsi__svd__n_components=250, lsi__vect__max_df=0.98 \n",
      "[CV]  clf__max_depth=3, clf__min_child_samples=500, clf__min_child_weight=1, clf__num_leaves=50, clf__tree_method=gpu_exact, lsi__svd__n_components=250, lsi__vect__max_df=0.98, score=0.9246813441483198, total=   9.3s\n",
      "[CV] clf__max_depth=3, clf__min_child_samples=500, clf__min_child_weight=1, clf__num_leaves=50, clf__tree_method=gpu_exact, lsi__svd__n_components=250, lsi__vect__max_df=0.98 \n",
      "[CV]  clf__max_depth=3, clf__min_child_samples=500, clf__min_child_weight=1, clf__num_leaves=50, clf__tree_method=gpu_exact, lsi__svd__n_components=250, lsi__vect__max_df=0.98, score=0.9304750869061413, total=   9.9s\n",
      "[CV] clf__max_depth=3, clf__min_child_samples=500, clf__min_child_weight=1, clf__num_leaves=50, clf__tree_method=gpu_exact, lsi__svd__n_components=250, lsi__vect__max_df=0.98 \n",
      "[CV]  clf__max_depth=3, clf__min_child_samples=500, clf__min_child_weight=1, clf__num_leaves=50, clf__tree_method=gpu_exact, lsi__svd__n_components=250, lsi__vect__max_df=0.98, score=0.8976744186046511, total=  10.4s\n",
      "[CV] clf__max_depth=3, clf__min_child_samples=500, clf__min_child_weight=1, clf__num_leaves=50, clf__tree_method=gpu_exact, lsi__svd__n_components=300, lsi__vect__max_df=0.93 \n",
      "[CV]  clf__max_depth=3, clf__min_child_samples=500, clf__min_child_weight=1, clf__num_leaves=50, clf__tree_method=gpu_exact, lsi__svd__n_components=300, lsi__vect__max_df=0.93, score=0.9200463499420626, total=  12.7s\n",
      "[CV] clf__max_depth=3, clf__min_child_samples=500, clf__min_child_weight=1, clf__num_leaves=50, clf__tree_method=gpu_exact, lsi__svd__n_components=300, lsi__vect__max_df=0.93 \n",
      "[CV]  clf__max_depth=3, clf__min_child_samples=500, clf__min_child_weight=1, clf__num_leaves=50, clf__tree_method=gpu_exact, lsi__svd__n_components=300, lsi__vect__max_df=0.93, score=0.9281575898030128, total=  11.2s\n",
      "[CV] clf__max_depth=3, clf__min_child_samples=500, clf__min_child_weight=1, clf__num_leaves=50, clf__tree_method=gpu_exact, lsi__svd__n_components=300, lsi__vect__max_df=0.93 \n",
      "[CV]  clf__max_depth=3, clf__min_child_samples=500, clf__min_child_weight=1, clf__num_leaves=50, clf__tree_method=gpu_exact, lsi__svd__n_components=300, lsi__vect__max_df=0.93, score=0.9023255813953488, total=  11.4s\n",
      "[CV] clf__max_depth=3, clf__min_child_samples=500, clf__min_child_weight=1, clf__num_leaves=50, clf__tree_method=gpu_exact, lsi__svd__n_components=300, lsi__vect__max_df=0.95 \n",
      "[CV]  clf__max_depth=3, clf__min_child_samples=500, clf__min_child_weight=1, clf__num_leaves=50, clf__tree_method=gpu_exact, lsi__svd__n_components=300, lsi__vect__max_df=0.95, score=0.9177288528389339, total=  10.8s\n",
      "[CV] clf__max_depth=3, clf__min_child_samples=500, clf__min_child_weight=1, clf__num_leaves=50, clf__tree_method=gpu_exact, lsi__svd__n_components=300, lsi__vect__max_df=0.95 \n",
      "[CV]  clf__max_depth=3, clf__min_child_samples=500, clf__min_child_weight=1, clf__num_leaves=50, clf__tree_method=gpu_exact, lsi__svd__n_components=300, lsi__vect__max_df=0.95, score=0.929316338354577, total=  10.9s\n",
      "[CV] clf__max_depth=3, clf__min_child_samples=500, clf__min_child_weight=1, clf__num_leaves=50, clf__tree_method=gpu_exact, lsi__svd__n_components=300, lsi__vect__max_df=0.95 \n",
      "[CV]  clf__max_depth=3, clf__min_child_samples=500, clf__min_child_weight=1, clf__num_leaves=50, clf__tree_method=gpu_exact, lsi__svd__n_components=300, lsi__vect__max_df=0.95, score=0.8976744186046511, total=  11.1s\n",
      "[CV] clf__max_depth=3, clf__min_child_samples=500, clf__min_child_weight=1, clf__num_leaves=50, clf__tree_method=gpu_exact, lsi__svd__n_components=300, lsi__vect__max_df=0.98 \n",
      "[CV]  clf__max_depth=3, clf__min_child_samples=500, clf__min_child_weight=1, clf__num_leaves=50, clf__tree_method=gpu_exact, lsi__svd__n_components=300, lsi__vect__max_df=0.98, score=0.9212050984936269, total=  11.0s\n",
      "[CV] clf__max_depth=3, clf__min_child_samples=500, clf__min_child_weight=1, clf__num_leaves=50, clf__tree_method=gpu_exact, lsi__svd__n_components=300, lsi__vect__max_df=0.98 \n",
      "[CV]  clf__max_depth=3, clf__min_child_samples=500, clf__min_child_weight=1, clf__num_leaves=50, clf__tree_method=gpu_exact, lsi__svd__n_components=300, lsi__vect__max_df=0.98, score=0.9235225955967555, total=  12.4s\n",
      "[CV] clf__max_depth=3, clf__min_child_samples=500, clf__min_child_weight=1, clf__num_leaves=50, clf__tree_method=gpu_exact, lsi__svd__n_components=300, lsi__vect__max_df=0.98 \n",
      "[CV]  clf__max_depth=3, clf__min_child_samples=500, clf__min_child_weight=1, clf__num_leaves=50, clf__tree_method=gpu_exact, lsi__svd__n_components=300, lsi__vect__max_df=0.98, score=0.9023255813953488, total=  11.6s\n",
      "[CV] clf__max_depth=3, clf__min_child_samples=500, clf__min_child_weight=10000.0, clf__num_leaves=6, clf__tree_method=gpu_exact, lsi__svd__n_components=250, lsi__vect__max_df=0.93 \n",
      "[CV]  clf__max_depth=3, clf__min_child_samples=500, clf__min_child_weight=10000.0, clf__num_leaves=6, clf__tree_method=gpu_exact, lsi__svd__n_components=250, lsi__vect__max_df=0.93, score=0.6326767091541136, total=   8.7s\n",
      "[CV] clf__max_depth=3, clf__min_child_samples=500, clf__min_child_weight=10000.0, clf__num_leaves=6, clf__tree_method=gpu_exact, lsi__svd__n_components=250, lsi__vect__max_df=0.93 \n",
      "[CV]  clf__max_depth=3, clf__min_child_samples=500, clf__min_child_weight=10000.0, clf__num_leaves=6, clf__tree_method=gpu_exact, lsi__svd__n_components=250, lsi__vect__max_df=0.93, score=0.6326767091541136, total=   9.3s\n",
      "[CV] clf__max_depth=3, clf__min_child_samples=500, clf__min_child_weight=10000.0, clf__num_leaves=6, clf__tree_method=gpu_exact, lsi__svd__n_components=250, lsi__vect__max_df=0.93 \n",
      "[CV]  clf__max_depth=3, clf__min_child_samples=500, clf__min_child_weight=10000.0, clf__num_leaves=6, clf__tree_method=gpu_exact, lsi__svd__n_components=250, lsi__vect__max_df=0.93, score=0.6337209302325582, total=   9.2s\n",
      "[CV] clf__max_depth=3, clf__min_child_samples=500, clf__min_child_weight=10000.0, clf__num_leaves=6, clf__tree_method=gpu_exact, lsi__svd__n_components=250, lsi__vect__max_df=0.95 \n",
      "[CV]  clf__max_depth=3, clf__min_child_samples=500, clf__min_child_weight=10000.0, clf__num_leaves=6, clf__tree_method=gpu_exact, lsi__svd__n_components=250, lsi__vect__max_df=0.95, score=0.6326767091541136, total=   9.1s\n",
      "[CV] clf__max_depth=3, clf__min_child_samples=500, clf__min_child_weight=10000.0, clf__num_leaves=6, clf__tree_method=gpu_exact, lsi__svd__n_components=250, lsi__vect__max_df=0.95 \n",
      "[CV]  clf__max_depth=3, clf__min_child_samples=500, clf__min_child_weight=10000.0, clf__num_leaves=6, clf__tree_method=gpu_exact, lsi__svd__n_components=250, lsi__vect__max_df=0.95, score=0.6326767091541136, total=   9.4s\n",
      "[CV] clf__max_depth=3, clf__min_child_samples=500, clf__min_child_weight=10000.0, clf__num_leaves=6, clf__tree_method=gpu_exact, lsi__svd__n_components=250, lsi__vect__max_df=0.95 \n",
      "[CV]  clf__max_depth=3, clf__min_child_samples=500, clf__min_child_weight=10000.0, clf__num_leaves=6, clf__tree_method=gpu_exact, lsi__svd__n_components=250, lsi__vect__max_df=0.95, score=0.6337209302325582, total=   9.1s\n",
      "[CV] clf__max_depth=3, clf__min_child_samples=500, clf__min_child_weight=10000.0, clf__num_leaves=6, clf__tree_method=gpu_exact, lsi__svd__n_components=250, lsi__vect__max_df=0.98 \n",
      "[CV]  clf__max_depth=3, clf__min_child_samples=500, clf__min_child_weight=10000.0, clf__num_leaves=6, clf__tree_method=gpu_exact, lsi__svd__n_components=250, lsi__vect__max_df=0.98, score=0.6326767091541136, total=   9.2s\n",
      "[CV] clf__max_depth=3, clf__min_child_samples=500, clf__min_child_weight=10000.0, clf__num_leaves=6, clf__tree_method=gpu_exact, lsi__svd__n_components=250, lsi__vect__max_df=0.98 \n",
      "[CV]  clf__max_depth=3, clf__min_child_samples=500, clf__min_child_weight=10000.0, clf__num_leaves=6, clf__tree_method=gpu_exact, lsi__svd__n_components=250, lsi__vect__max_df=0.98, score=0.6326767091541136, total=   9.8s\n",
      "[CV] clf__max_depth=3, clf__min_child_samples=500, clf__min_child_weight=10000.0, clf__num_leaves=6, clf__tree_method=gpu_exact, lsi__svd__n_components=250, lsi__vect__max_df=0.98 \n",
      "[CV]  clf__max_depth=3, clf__min_child_samples=500, clf__min_child_weight=10000.0, clf__num_leaves=6, clf__tree_method=gpu_exact, lsi__svd__n_components=250, lsi__vect__max_df=0.98, score=0.6337209302325582, total=   9.2s\n",
      "[CV] clf__max_depth=3, clf__min_child_samples=500, clf__min_child_weight=10000.0, clf__num_leaves=6, clf__tree_method=gpu_exact, lsi__svd__n_components=300, lsi__vect__max_df=0.93 \n",
      "[CV]  clf__max_depth=3, clf__min_child_samples=500, clf__min_child_weight=10000.0, clf__num_leaves=6, clf__tree_method=gpu_exact, lsi__svd__n_components=300, lsi__vect__max_df=0.93, score=0.6326767091541136, total=  10.8s\n",
      "[CV] clf__max_depth=3, clf__min_child_samples=500, clf__min_child_weight=10000.0, clf__num_leaves=6, clf__tree_method=gpu_exact, lsi__svd__n_components=300, lsi__vect__max_df=0.93 \n",
      "[CV]  clf__max_depth=3, clf__min_child_samples=500, clf__min_child_weight=10000.0, clf__num_leaves=6, clf__tree_method=gpu_exact, lsi__svd__n_components=300, lsi__vect__max_df=0.93, score=0.6326767091541136, total=  10.9s\n",
      "[CV] clf__max_depth=3, clf__min_child_samples=500, clf__min_child_weight=10000.0, clf__num_leaves=6, clf__tree_method=gpu_exact, lsi__svd__n_components=300, lsi__vect__max_df=0.93 \n",
      "[CV]  clf__max_depth=3, clf__min_child_samples=500, clf__min_child_weight=10000.0, clf__num_leaves=6, clf__tree_method=gpu_exact, lsi__svd__n_components=300, lsi__vect__max_df=0.93, score=0.6337209302325582, total=  11.8s\n",
      "[CV] clf__max_depth=3, clf__min_child_samples=500, clf__min_child_weight=10000.0, clf__num_leaves=6, clf__tree_method=gpu_exact, lsi__svd__n_components=300, lsi__vect__max_df=0.95 \n",
      "[CV]  clf__max_depth=3, clf__min_child_samples=500, clf__min_child_weight=10000.0, clf__num_leaves=6, clf__tree_method=gpu_exact, lsi__svd__n_components=300, lsi__vect__max_df=0.95, score=0.6326767091541136, total=  10.3s\n",
      "[CV] clf__max_depth=3, clf__min_child_samples=500, clf__min_child_weight=10000.0, clf__num_leaves=6, clf__tree_method=gpu_exact, lsi__svd__n_components=300, lsi__vect__max_df=0.95 \n",
      "[CV]  clf__max_depth=3, clf__min_child_samples=500, clf__min_child_weight=10000.0, clf__num_leaves=6, clf__tree_method=gpu_exact, lsi__svd__n_components=300, lsi__vect__max_df=0.95, score=0.6326767091541136, total=  11.2s\n",
      "[CV] clf__max_depth=3, clf__min_child_samples=500, clf__min_child_weight=10000.0, clf__num_leaves=6, clf__tree_method=gpu_exact, lsi__svd__n_components=300, lsi__vect__max_df=0.95 \n",
      "[CV]  clf__max_depth=3, clf__min_child_samples=500, clf__min_child_weight=10000.0, clf__num_leaves=6, clf__tree_method=gpu_exact, lsi__svd__n_components=300, lsi__vect__max_df=0.95, score=0.6337209302325582, total=  11.4s\n",
      "[CV] clf__max_depth=3, clf__min_child_samples=500, clf__min_child_weight=10000.0, clf__num_leaves=6, clf__tree_method=gpu_exact, lsi__svd__n_components=300, lsi__vect__max_df=0.98 \n",
      "[CV]  clf__max_depth=3, clf__min_child_samples=500, clf__min_child_weight=10000.0, clf__num_leaves=6, clf__tree_method=gpu_exact, lsi__svd__n_components=300, lsi__vect__max_df=0.98, score=0.6326767091541136, total=  11.1s\n",
      "[CV] clf__max_depth=3, clf__min_child_samples=500, clf__min_child_weight=10000.0, clf__num_leaves=6, clf__tree_method=gpu_exact, lsi__svd__n_components=300, lsi__vect__max_df=0.98 \n",
      "[CV]  clf__max_depth=3, clf__min_child_samples=500, clf__min_child_weight=10000.0, clf__num_leaves=6, clf__tree_method=gpu_exact, lsi__svd__n_components=300, lsi__vect__max_df=0.98, score=0.6326767091541136, total=  10.9s\n",
      "[CV] clf__max_depth=3, clf__min_child_samples=500, clf__min_child_weight=10000.0, clf__num_leaves=6, clf__tree_method=gpu_exact, lsi__svd__n_components=300, lsi__vect__max_df=0.98 \n",
      "[CV]  clf__max_depth=3, clf__min_child_samples=500, clf__min_child_weight=10000.0, clf__num_leaves=6, clf__tree_method=gpu_exact, lsi__svd__n_components=300, lsi__vect__max_df=0.98, score=0.6337209302325582, total=  11.5s\n",
      "[CV] clf__max_depth=3, clf__min_child_samples=500, clf__min_child_weight=10000.0, clf__num_leaves=50, clf__tree_method=gpu_exact, lsi__svd__n_components=250, lsi__vect__max_df=0.93 \n",
      "[CV]  clf__max_depth=3, clf__min_child_samples=500, clf__min_child_weight=10000.0, clf__num_leaves=50, clf__tree_method=gpu_exact, lsi__svd__n_components=250, lsi__vect__max_df=0.93, score=0.6326767091541136, total=   8.7s\n",
      "[CV] clf__max_depth=3, clf__min_child_samples=500, clf__min_child_weight=10000.0, clf__num_leaves=50, clf__tree_method=gpu_exact, lsi__svd__n_components=250, lsi__vect__max_df=0.93 \n",
      "[CV]  clf__max_depth=3, clf__min_child_samples=500, clf__min_child_weight=10000.0, clf__num_leaves=50, clf__tree_method=gpu_exact, lsi__svd__n_components=250, lsi__vect__max_df=0.93, score=0.6326767091541136, total=   9.7s\n",
      "[CV] clf__max_depth=3, clf__min_child_samples=500, clf__min_child_weight=10000.0, clf__num_leaves=50, clf__tree_method=gpu_exact, lsi__svd__n_components=250, lsi__vect__max_df=0.93 \n",
      "[CV]  clf__max_depth=3, clf__min_child_samples=500, clf__min_child_weight=10000.0, clf__num_leaves=50, clf__tree_method=gpu_exact, lsi__svd__n_components=250, lsi__vect__max_df=0.93, score=0.6337209302325582, total=   9.3s\n",
      "[CV] clf__max_depth=3, clf__min_child_samples=500, clf__min_child_weight=10000.0, clf__num_leaves=50, clf__tree_method=gpu_exact, lsi__svd__n_components=250, lsi__vect__max_df=0.95 \n",
      "[CV]  clf__max_depth=3, clf__min_child_samples=500, clf__min_child_weight=10000.0, clf__num_leaves=50, clf__tree_method=gpu_exact, lsi__svd__n_components=250, lsi__vect__max_df=0.95, score=0.6326767091541136, total=   8.6s\n",
      "[CV] clf__max_depth=3, clf__min_child_samples=500, clf__min_child_weight=10000.0, clf__num_leaves=50, clf__tree_method=gpu_exact, lsi__svd__n_components=250, lsi__vect__max_df=0.95 \n",
      "[CV]  clf__max_depth=3, clf__min_child_samples=500, clf__min_child_weight=10000.0, clf__num_leaves=50, clf__tree_method=gpu_exact, lsi__svd__n_components=250, lsi__vect__max_df=0.95, score=0.6326767091541136, total=   8.8s\n",
      "[CV] clf__max_depth=3, clf__min_child_samples=500, clf__min_child_weight=10000.0, clf__num_leaves=50, clf__tree_method=gpu_exact, lsi__svd__n_components=250, lsi__vect__max_df=0.95 \n",
      "[CV]  clf__max_depth=3, clf__min_child_samples=500, clf__min_child_weight=10000.0, clf__num_leaves=50, clf__tree_method=gpu_exact, lsi__svd__n_components=250, lsi__vect__max_df=0.95, score=0.6337209302325582, total=  10.1s\n",
      "[CV] clf__max_depth=3, clf__min_child_samples=500, clf__min_child_weight=10000.0, clf__num_leaves=50, clf__tree_method=gpu_exact, lsi__svd__n_components=250, lsi__vect__max_df=0.98 \n",
      "[CV]  clf__max_depth=3, clf__min_child_samples=500, clf__min_child_weight=10000.0, clf__num_leaves=50, clf__tree_method=gpu_exact, lsi__svd__n_components=250, lsi__vect__max_df=0.98, score=0.6326767091541136, total=   8.8s\n",
      "[CV] clf__max_depth=3, clf__min_child_samples=500, clf__min_child_weight=10000.0, clf__num_leaves=50, clf__tree_method=gpu_exact, lsi__svd__n_components=250, lsi__vect__max_df=0.98 \n",
      "[CV]  clf__max_depth=3, clf__min_child_samples=500, clf__min_child_weight=10000.0, clf__num_leaves=50, clf__tree_method=gpu_exact, lsi__svd__n_components=250, lsi__vect__max_df=0.98, score=0.6326767091541136, total=   8.9s\n",
      "[CV] clf__max_depth=3, clf__min_child_samples=500, clf__min_child_weight=10000.0, clf__num_leaves=50, clf__tree_method=gpu_exact, lsi__svd__n_components=250, lsi__vect__max_df=0.98 \n",
      "[CV]  clf__max_depth=3, clf__min_child_samples=500, clf__min_child_weight=10000.0, clf__num_leaves=50, clf__tree_method=gpu_exact, lsi__svd__n_components=250, lsi__vect__max_df=0.98, score=0.6337209302325582, total=   9.5s\n",
      "[CV] clf__max_depth=3, clf__min_child_samples=500, clf__min_child_weight=10000.0, clf__num_leaves=50, clf__tree_method=gpu_exact, lsi__svd__n_components=300, lsi__vect__max_df=0.93 \n",
      "[CV]  clf__max_depth=3, clf__min_child_samples=500, clf__min_child_weight=10000.0, clf__num_leaves=50, clf__tree_method=gpu_exact, lsi__svd__n_components=300, lsi__vect__max_df=0.93, score=0.6326767091541136, total=  11.9s\n",
      "[CV] clf__max_depth=3, clf__min_child_samples=500, clf__min_child_weight=10000.0, clf__num_leaves=50, clf__tree_method=gpu_exact, lsi__svd__n_components=300, lsi__vect__max_df=0.93 \n",
      "[CV]  clf__max_depth=3, clf__min_child_samples=500, clf__min_child_weight=10000.0, clf__num_leaves=50, clf__tree_method=gpu_exact, lsi__svd__n_components=300, lsi__vect__max_df=0.93, score=0.6326767091541136, total=  12.1s\n",
      "[CV] clf__max_depth=3, clf__min_child_samples=500, clf__min_child_weight=10000.0, clf__num_leaves=50, clf__tree_method=gpu_exact, lsi__svd__n_components=300, lsi__vect__max_df=0.93 \n",
      "[CV]  clf__max_depth=3, clf__min_child_samples=500, clf__min_child_weight=10000.0, clf__num_leaves=50, clf__tree_method=gpu_exact, lsi__svd__n_components=300, lsi__vect__max_df=0.93, score=0.6337209302325582, total=  11.9s\n",
      "[CV] clf__max_depth=3, clf__min_child_samples=500, clf__min_child_weight=10000.0, clf__num_leaves=50, clf__tree_method=gpu_exact, lsi__svd__n_components=300, lsi__vect__max_df=0.95 \n",
      "[CV]  clf__max_depth=3, clf__min_child_samples=500, clf__min_child_weight=10000.0, clf__num_leaves=50, clf__tree_method=gpu_exact, lsi__svd__n_components=300, lsi__vect__max_df=0.95, score=0.6326767091541136, total=  10.8s\n",
      "[CV] clf__max_depth=3, clf__min_child_samples=500, clf__min_child_weight=10000.0, clf__num_leaves=50, clf__tree_method=gpu_exact, lsi__svd__n_components=300, lsi__vect__max_df=0.95 \n",
      "[CV]  clf__max_depth=3, clf__min_child_samples=500, clf__min_child_weight=10000.0, clf__num_leaves=50, clf__tree_method=gpu_exact, lsi__svd__n_components=300, lsi__vect__max_df=0.95, score=0.6326767091541136, total=  11.2s\n",
      "[CV] clf__max_depth=3, clf__min_child_samples=500, clf__min_child_weight=10000.0, clf__num_leaves=50, clf__tree_method=gpu_exact, lsi__svd__n_components=300, lsi__vect__max_df=0.95 \n",
      "[CV]  clf__max_depth=3, clf__min_child_samples=500, clf__min_child_weight=10000.0, clf__num_leaves=50, clf__tree_method=gpu_exact, lsi__svd__n_components=300, lsi__vect__max_df=0.95, score=0.6337209302325582, total=  11.4s\n",
      "[CV] clf__max_depth=3, clf__min_child_samples=500, clf__min_child_weight=10000.0, clf__num_leaves=50, clf__tree_method=gpu_exact, lsi__svd__n_components=300, lsi__vect__max_df=0.98 \n",
      "[CV]  clf__max_depth=3, clf__min_child_samples=500, clf__min_child_weight=10000.0, clf__num_leaves=50, clf__tree_method=gpu_exact, lsi__svd__n_components=300, lsi__vect__max_df=0.98, score=0.6326767091541136, total=  10.6s\n",
      "[CV] clf__max_depth=3, clf__min_child_samples=500, clf__min_child_weight=10000.0, clf__num_leaves=50, clf__tree_method=gpu_exact, lsi__svd__n_components=300, lsi__vect__max_df=0.98 \n",
      "[CV]  clf__max_depth=3, clf__min_child_samples=500, clf__min_child_weight=10000.0, clf__num_leaves=50, clf__tree_method=gpu_exact, lsi__svd__n_components=300, lsi__vect__max_df=0.98, score=0.6326767091541136, total=  11.0s\n",
      "[CV] clf__max_depth=3, clf__min_child_samples=500, clf__min_child_weight=10000.0, clf__num_leaves=50, clf__tree_method=gpu_exact, lsi__svd__n_components=300, lsi__vect__max_df=0.98 \n",
      "[CV]  clf__max_depth=3, clf__min_child_samples=500, clf__min_child_weight=10000.0, clf__num_leaves=50, clf__tree_method=gpu_exact, lsi__svd__n_components=300, lsi__vect__max_df=0.98, score=0.6337209302325582, total=  10.7s\n",
      "[CV] clf__max_depth=5, clf__min_child_samples=100, clf__min_child_weight=1e-05, clf__num_leaves=6, clf__tree_method=gpu_exact, lsi__svd__n_components=250, lsi__vect__max_df=0.93 \n",
      "[CV]  clf__max_depth=5, clf__min_child_samples=100, clf__min_child_weight=1e-05, clf__num_leaves=6, clf__tree_method=gpu_exact, lsi__svd__n_components=250, lsi__vect__max_df=0.93, score=0.9177288528389339, total=   9.3s\n",
      "[CV] clf__max_depth=5, clf__min_child_samples=100, clf__min_child_weight=1e-05, clf__num_leaves=6, clf__tree_method=gpu_exact, lsi__svd__n_components=250, lsi__vect__max_df=0.93 \n",
      "[CV]  clf__max_depth=5, clf__min_child_samples=100, clf__min_child_weight=1e-05, clf__num_leaves=6, clf__tree_method=gpu_exact, lsi__svd__n_components=250, lsi__vect__max_df=0.93, score=0.9246813441483198, total=   9.5s\n",
      "[CV] clf__max_depth=5, clf__min_child_samples=100, clf__min_child_weight=1e-05, clf__num_leaves=6, clf__tree_method=gpu_exact, lsi__svd__n_components=250, lsi__vect__max_df=0.93 \n",
      "[CV]  clf__max_depth=5, clf__min_child_samples=100, clf__min_child_weight=1e-05, clf__num_leaves=6, clf__tree_method=gpu_exact, lsi__svd__n_components=250, lsi__vect__max_df=0.93, score=0.8895348837209303, total=   9.6s\n",
      "[CV] clf__max_depth=5, clf__min_child_samples=100, clf__min_child_weight=1e-05, clf__num_leaves=6, clf__tree_method=gpu_exact, lsi__svd__n_components=250, lsi__vect__max_df=0.95 \n",
      "[CV]  clf__max_depth=5, clf__min_child_samples=100, clf__min_child_weight=1e-05, clf__num_leaves=6, clf__tree_method=gpu_exact, lsi__svd__n_components=250, lsi__vect__max_df=0.95, score=0.9177288528389339, total=   9.5s\n",
      "[CV] clf__max_depth=5, clf__min_child_samples=100, clf__min_child_weight=1e-05, clf__num_leaves=6, clf__tree_method=gpu_exact, lsi__svd__n_components=250, lsi__vect__max_df=0.95 \n",
      "[CV]  clf__max_depth=5, clf__min_child_samples=100, clf__min_child_weight=1e-05, clf__num_leaves=6, clf__tree_method=gpu_exact, lsi__svd__n_components=250, lsi__vect__max_df=0.95, score=0.9200463499420626, total=   9.5s\n",
      "[CV] clf__max_depth=5, clf__min_child_samples=100, clf__min_child_weight=1e-05, clf__num_leaves=6, clf__tree_method=gpu_exact, lsi__svd__n_components=250, lsi__vect__max_df=0.95 \n",
      "[CV]  clf__max_depth=5, clf__min_child_samples=100, clf__min_child_weight=1e-05, clf__num_leaves=6, clf__tree_method=gpu_exact, lsi__svd__n_components=250, lsi__vect__max_df=0.95, score=0.8837209302325582, total=   9.5s\n",
      "[CV] clf__max_depth=5, clf__min_child_samples=100, clf__min_child_weight=1e-05, clf__num_leaves=6, clf__tree_method=gpu_exact, lsi__svd__n_components=250, lsi__vect__max_df=0.98 \n",
      "[CV]  clf__max_depth=5, clf__min_child_samples=100, clf__min_child_weight=1e-05, clf__num_leaves=6, clf__tree_method=gpu_exact, lsi__svd__n_components=250, lsi__vect__max_df=0.98, score=0.9188876013904983, total=   9.7s\n",
      "[CV] clf__max_depth=5, clf__min_child_samples=100, clf__min_child_weight=1e-05, clf__num_leaves=6, clf__tree_method=gpu_exact, lsi__svd__n_components=250, lsi__vect__max_df=0.98 \n",
      "[CV]  clf__max_depth=5, clf__min_child_samples=100, clf__min_child_weight=1e-05, clf__num_leaves=6, clf__tree_method=gpu_exact, lsi__svd__n_components=250, lsi__vect__max_df=0.98, score=0.9200463499420626, total=   9.4s\n",
      "[CV] clf__max_depth=5, clf__min_child_samples=100, clf__min_child_weight=1e-05, clf__num_leaves=6, clf__tree_method=gpu_exact, lsi__svd__n_components=250, lsi__vect__max_df=0.98 \n",
      "[CV]  clf__max_depth=5, clf__min_child_samples=100, clf__min_child_weight=1e-05, clf__num_leaves=6, clf__tree_method=gpu_exact, lsi__svd__n_components=250, lsi__vect__max_df=0.98, score=0.8941860465116279, total=   9.7s\n",
      "[CV] clf__max_depth=5, clf__min_child_samples=100, clf__min_child_weight=1e-05, clf__num_leaves=6, clf__tree_method=gpu_exact, lsi__svd__n_components=300, lsi__vect__max_df=0.93 \n",
      "[CV]  clf__max_depth=5, clf__min_child_samples=100, clf__min_child_weight=1e-05, clf__num_leaves=6, clf__tree_method=gpu_exact, lsi__svd__n_components=300, lsi__vect__max_df=0.93, score=0.9154113557358053, total=  11.8s\n",
      "[CV] clf__max_depth=5, clf__min_child_samples=100, clf__min_child_weight=1e-05, clf__num_leaves=6, clf__tree_method=gpu_exact, lsi__svd__n_components=300, lsi__vect__max_df=0.93 \n",
      "[CV]  clf__max_depth=5, clf__min_child_samples=100, clf__min_child_weight=1e-05, clf__num_leaves=6, clf__tree_method=gpu_exact, lsi__svd__n_components=300, lsi__vect__max_df=0.93, score=0.9212050984936269, total=  11.5s\n",
      "[CV] clf__max_depth=5, clf__min_child_samples=100, clf__min_child_weight=1e-05, clf__num_leaves=6, clf__tree_method=gpu_exact, lsi__svd__n_components=300, lsi__vect__max_df=0.93 \n",
      "[CV]  clf__max_depth=5, clf__min_child_samples=100, clf__min_child_weight=1e-05, clf__num_leaves=6, clf__tree_method=gpu_exact, lsi__svd__n_components=300, lsi__vect__max_df=0.93, score=0.891860465116279, total=  12.0s\n",
      "[CV] clf__max_depth=5, clf__min_child_samples=100, clf__min_child_weight=1e-05, clf__num_leaves=6, clf__tree_method=gpu_exact, lsi__svd__n_components=300, lsi__vect__max_df=0.95 \n",
      "[CV]  clf__max_depth=5, clf__min_child_samples=100, clf__min_child_weight=1e-05, clf__num_leaves=6, clf__tree_method=gpu_exact, lsi__svd__n_components=300, lsi__vect__max_df=0.95, score=0.9154113557358053, total=  13.1s\n",
      "[CV] clf__max_depth=5, clf__min_child_samples=100, clf__min_child_weight=1e-05, clf__num_leaves=6, clf__tree_method=gpu_exact, lsi__svd__n_components=300, lsi__vect__max_df=0.95 \n",
      "[CV]  clf__max_depth=5, clf__min_child_samples=100, clf__min_child_weight=1e-05, clf__num_leaves=6, clf__tree_method=gpu_exact, lsi__svd__n_components=300, lsi__vect__max_df=0.95, score=0.9200463499420626, total=  11.9s\n",
      "[CV] clf__max_depth=5, clf__min_child_samples=100, clf__min_child_weight=1e-05, clf__num_leaves=6, clf__tree_method=gpu_exact, lsi__svd__n_components=300, lsi__vect__max_df=0.95 \n",
      "[CV]  clf__max_depth=5, clf__min_child_samples=100, clf__min_child_weight=1e-05, clf__num_leaves=6, clf__tree_method=gpu_exact, lsi__svd__n_components=300, lsi__vect__max_df=0.95, score=0.8883720930232558, total=  11.7s\n",
      "[CV] clf__max_depth=5, clf__min_child_samples=100, clf__min_child_weight=1e-05, clf__num_leaves=6, clf__tree_method=gpu_exact, lsi__svd__n_components=300, lsi__vect__max_df=0.98 \n",
      "[CV]  clf__max_depth=5, clf__min_child_samples=100, clf__min_child_weight=1e-05, clf__num_leaves=6, clf__tree_method=gpu_exact, lsi__svd__n_components=300, lsi__vect__max_df=0.98, score=0.9154113557358053, total=  11.5s\n",
      "[CV] clf__max_depth=5, clf__min_child_samples=100, clf__min_child_weight=1e-05, clf__num_leaves=6, clf__tree_method=gpu_exact, lsi__svd__n_components=300, lsi__vect__max_df=0.98 \n",
      "[CV]  clf__max_depth=5, clf__min_child_samples=100, clf__min_child_weight=1e-05, clf__num_leaves=6, clf__tree_method=gpu_exact, lsi__svd__n_components=300, lsi__vect__max_df=0.98, score=0.9165701042873696, total=  12.3s\n",
      "[CV] clf__max_depth=5, clf__min_child_samples=100, clf__min_child_weight=1e-05, clf__num_leaves=6, clf__tree_method=gpu_exact, lsi__svd__n_components=300, lsi__vect__max_df=0.98 \n",
      "[CV]  clf__max_depth=5, clf__min_child_samples=100, clf__min_child_weight=1e-05, clf__num_leaves=6, clf__tree_method=gpu_exact, lsi__svd__n_components=300, lsi__vect__max_df=0.98, score=0.8930232558139535, total=  12.1s\n",
      "[CV] clf__max_depth=5, clf__min_child_samples=100, clf__min_child_weight=1e-05, clf__num_leaves=50, clf__tree_method=gpu_exact, lsi__svd__n_components=250, lsi__vect__max_df=0.93 \n",
      "[CV]  clf__max_depth=5, clf__min_child_samples=100, clf__min_child_weight=1e-05, clf__num_leaves=50, clf__tree_method=gpu_exact, lsi__svd__n_components=250, lsi__vect__max_df=0.93, score=0.9165701042873696, total=   9.6s\n",
      "[CV] clf__max_depth=5, clf__min_child_samples=100, clf__min_child_weight=1e-05, clf__num_leaves=50, clf__tree_method=gpu_exact, lsi__svd__n_components=250, lsi__vect__max_df=0.93 \n",
      "[CV]  clf__max_depth=5, clf__min_child_samples=100, clf__min_child_weight=1e-05, clf__num_leaves=50, clf__tree_method=gpu_exact, lsi__svd__n_components=250, lsi__vect__max_df=0.93, score=0.9188876013904983, total=   9.9s\n",
      "[CV] clf__max_depth=5, clf__min_child_samples=100, clf__min_child_weight=1e-05, clf__num_leaves=50, clf__tree_method=gpu_exact, lsi__svd__n_components=250, lsi__vect__max_df=0.93 \n",
      "[CV]  clf__max_depth=5, clf__min_child_samples=100, clf__min_child_weight=1e-05, clf__num_leaves=50, clf__tree_method=gpu_exact, lsi__svd__n_components=250, lsi__vect__max_df=0.93, score=0.8860465116279069, total=  10.1s\n",
      "[CV] clf__max_depth=5, clf__min_child_samples=100, clf__min_child_weight=1e-05, clf__num_leaves=50, clf__tree_method=gpu_exact, lsi__svd__n_components=250, lsi__vect__max_df=0.95 \n",
      "[CV]  clf__max_depth=5, clf__min_child_samples=100, clf__min_child_weight=1e-05, clf__num_leaves=50, clf__tree_method=gpu_exact, lsi__svd__n_components=250, lsi__vect__max_df=0.95, score=0.9188876013904983, total=   9.4s\n",
      "[CV] clf__max_depth=5, clf__min_child_samples=100, clf__min_child_weight=1e-05, clf__num_leaves=50, clf__tree_method=gpu_exact, lsi__svd__n_components=250, lsi__vect__max_df=0.95 \n",
      "[CV]  clf__max_depth=5, clf__min_child_samples=100, clf__min_child_weight=1e-05, clf__num_leaves=50, clf__tree_method=gpu_exact, lsi__svd__n_components=250, lsi__vect__max_df=0.95, score=0.9223638470451911, total=   9.3s\n",
      "[CV] clf__max_depth=5, clf__min_child_samples=100, clf__min_child_weight=1e-05, clf__num_leaves=50, clf__tree_method=gpu_exact, lsi__svd__n_components=250, lsi__vect__max_df=0.95 \n",
      "[CV]  clf__max_depth=5, clf__min_child_samples=100, clf__min_child_weight=1e-05, clf__num_leaves=50, clf__tree_method=gpu_exact, lsi__svd__n_components=250, lsi__vect__max_df=0.95, score=0.8860465116279069, total=   9.5s\n",
      "[CV] clf__max_depth=5, clf__min_child_samples=100, clf__min_child_weight=1e-05, clf__num_leaves=50, clf__tree_method=gpu_exact, lsi__svd__n_components=250, lsi__vect__max_df=0.98 \n",
      "[CV]  clf__max_depth=5, clf__min_child_samples=100, clf__min_child_weight=1e-05, clf__num_leaves=50, clf__tree_method=gpu_exact, lsi__svd__n_components=250, lsi__vect__max_df=0.98, score=0.9130938586326767, total=   9.5s\n",
      "[CV] clf__max_depth=5, clf__min_child_samples=100, clf__min_child_weight=1e-05, clf__num_leaves=50, clf__tree_method=gpu_exact, lsi__svd__n_components=250, lsi__vect__max_df=0.98 \n",
      "[CV]  clf__max_depth=5, clf__min_child_samples=100, clf__min_child_weight=1e-05, clf__num_leaves=50, clf__tree_method=gpu_exact, lsi__svd__n_components=250, lsi__vect__max_df=0.98, score=0.9200463499420626, total=   9.9s\n",
      "[CV] clf__max_depth=5, clf__min_child_samples=100, clf__min_child_weight=1e-05, clf__num_leaves=50, clf__tree_method=gpu_exact, lsi__svd__n_components=250, lsi__vect__max_df=0.98 \n",
      "[CV]  clf__max_depth=5, clf__min_child_samples=100, clf__min_child_weight=1e-05, clf__num_leaves=50, clf__tree_method=gpu_exact, lsi__svd__n_components=250, lsi__vect__max_df=0.98, score=0.891860465116279, total=   9.7s\n",
      "[CV] clf__max_depth=5, clf__min_child_samples=100, clf__min_child_weight=1e-05, clf__num_leaves=50, clf__tree_method=gpu_exact, lsi__svd__n_components=300, lsi__vect__max_df=0.93 \n",
      "[CV]  clf__max_depth=5, clf__min_child_samples=100, clf__min_child_weight=1e-05, clf__num_leaves=50, clf__tree_method=gpu_exact, lsi__svd__n_components=300, lsi__vect__max_df=0.93, score=0.9200463499420626, total=  11.1s\n",
      "[CV] clf__max_depth=5, clf__min_child_samples=100, clf__min_child_weight=1e-05, clf__num_leaves=50, clf__tree_method=gpu_exact, lsi__svd__n_components=300, lsi__vect__max_df=0.93 \n",
      "[CV]  clf__max_depth=5, clf__min_child_samples=100, clf__min_child_weight=1e-05, clf__num_leaves=50, clf__tree_method=gpu_exact, lsi__svd__n_components=300, lsi__vect__max_df=0.93, score=0.9200463499420626, total=  12.0s\n",
      "[CV] clf__max_depth=5, clf__min_child_samples=100, clf__min_child_weight=1e-05, clf__num_leaves=50, clf__tree_method=gpu_exact, lsi__svd__n_components=300, lsi__vect__max_df=0.93 \n",
      "[CV]  clf__max_depth=5, clf__min_child_samples=100, clf__min_child_weight=1e-05, clf__num_leaves=50, clf__tree_method=gpu_exact, lsi__svd__n_components=300, lsi__vect__max_df=0.93, score=0.8860465116279069, total=  11.6s\n",
      "[CV] clf__max_depth=5, clf__min_child_samples=100, clf__min_child_weight=1e-05, clf__num_leaves=50, clf__tree_method=gpu_exact, lsi__svd__n_components=300, lsi__vect__max_df=0.95 \n",
      "[CV]  clf__max_depth=5, clf__min_child_samples=100, clf__min_child_weight=1e-05, clf__num_leaves=50, clf__tree_method=gpu_exact, lsi__svd__n_components=300, lsi__vect__max_df=0.95, score=0.9154113557358053, total=  10.9s\n",
      "[CV] clf__max_depth=5, clf__min_child_samples=100, clf__min_child_weight=1e-05, clf__num_leaves=50, clf__tree_method=gpu_exact, lsi__svd__n_components=300, lsi__vect__max_df=0.95 \n",
      "[CV]  clf__max_depth=5, clf__min_child_samples=100, clf__min_child_weight=1e-05, clf__num_leaves=50, clf__tree_method=gpu_exact, lsi__svd__n_components=300, lsi__vect__max_df=0.95, score=0.9212050984936269, total=  11.2s\n",
      "[CV] clf__max_depth=5, clf__min_child_samples=100, clf__min_child_weight=1e-05, clf__num_leaves=50, clf__tree_method=gpu_exact, lsi__svd__n_components=300, lsi__vect__max_df=0.95 \n",
      "[CV]  clf__max_depth=5, clf__min_child_samples=100, clf__min_child_weight=1e-05, clf__num_leaves=50, clf__tree_method=gpu_exact, lsi__svd__n_components=300, lsi__vect__max_df=0.95, score=0.8906976744186047, total=  11.3s\n",
      "[CV] clf__max_depth=5, clf__min_child_samples=100, clf__min_child_weight=1e-05, clf__num_leaves=50, clf__tree_method=gpu_exact, lsi__svd__n_components=300, lsi__vect__max_df=0.98 \n",
      "[CV]  clf__max_depth=5, clf__min_child_samples=100, clf__min_child_weight=1e-05, clf__num_leaves=50, clf__tree_method=gpu_exact, lsi__svd__n_components=300, lsi__vect__max_df=0.98, score=0.9177288528389339, total=  11.1s\n",
      "[CV] clf__max_depth=5, clf__min_child_samples=100, clf__min_child_weight=1e-05, clf__num_leaves=50, clf__tree_method=gpu_exact, lsi__svd__n_components=300, lsi__vect__max_df=0.98 \n",
      "[CV]  clf__max_depth=5, clf__min_child_samples=100, clf__min_child_weight=1e-05, clf__num_leaves=50, clf__tree_method=gpu_exact, lsi__svd__n_components=300, lsi__vect__max_df=0.98, score=0.9235225955967555, total=  12.2s\n",
      "[CV] clf__max_depth=5, clf__min_child_samples=100, clf__min_child_weight=1e-05, clf__num_leaves=50, clf__tree_method=gpu_exact, lsi__svd__n_components=300, lsi__vect__max_df=0.98 \n",
      "[CV]  clf__max_depth=5, clf__min_child_samples=100, clf__min_child_weight=1e-05, clf__num_leaves=50, clf__tree_method=gpu_exact, lsi__svd__n_components=300, lsi__vect__max_df=0.98, score=0.8895348837209303, total=  14.2s\n",
      "[CV] clf__max_depth=5, clf__min_child_samples=100, clf__min_child_weight=1, clf__num_leaves=6, clf__tree_method=gpu_exact, lsi__svd__n_components=250, lsi__vect__max_df=0.93 \n",
      "[CV]  clf__max_depth=5, clf__min_child_samples=100, clf__min_child_weight=1, clf__num_leaves=6, clf__tree_method=gpu_exact, lsi__svd__n_components=250, lsi__vect__max_df=0.93, score=0.9177288528389339, total=  11.7s\n",
      "[CV] clf__max_depth=5, clf__min_child_samples=100, clf__min_child_weight=1, clf__num_leaves=6, clf__tree_method=gpu_exact, lsi__svd__n_components=250, lsi__vect__max_df=0.93 \n",
      "[CV]  clf__max_depth=5, clf__min_child_samples=100, clf__min_child_weight=1, clf__num_leaves=6, clf__tree_method=gpu_exact, lsi__svd__n_components=250, lsi__vect__max_df=0.93, score=0.9246813441483198, total=   9.7s\n",
      "[CV] clf__max_depth=5, clf__min_child_samples=100, clf__min_child_weight=1, clf__num_leaves=6, clf__tree_method=gpu_exact, lsi__svd__n_components=250, lsi__vect__max_df=0.93 \n",
      "[CV]  clf__max_depth=5, clf__min_child_samples=100, clf__min_child_weight=1, clf__num_leaves=6, clf__tree_method=gpu_exact, lsi__svd__n_components=250, lsi__vect__max_df=0.93, score=0.8906976744186047, total=   9.7s\n",
      "[CV] clf__max_depth=5, clf__min_child_samples=100, clf__min_child_weight=1, clf__num_leaves=6, clf__tree_method=gpu_exact, lsi__svd__n_components=250, lsi__vect__max_df=0.95 \n",
      "[CV]  clf__max_depth=5, clf__min_child_samples=100, clf__min_child_weight=1, clf__num_leaves=6, clf__tree_method=gpu_exact, lsi__svd__n_components=250, lsi__vect__max_df=0.95, score=0.9188876013904983, total=   9.5s\n",
      "[CV] clf__max_depth=5, clf__min_child_samples=100, clf__min_child_weight=1, clf__num_leaves=6, clf__tree_method=gpu_exact, lsi__svd__n_components=250, lsi__vect__max_df=0.95 \n",
      "[CV]  clf__max_depth=5, clf__min_child_samples=100, clf__min_child_weight=1, clf__num_leaves=6, clf__tree_method=gpu_exact, lsi__svd__n_components=250, lsi__vect__max_df=0.95, score=0.9258400926998841, total=  10.1s\n",
      "[CV] clf__max_depth=5, clf__min_child_samples=100, clf__min_child_weight=1, clf__num_leaves=6, clf__tree_method=gpu_exact, lsi__svd__n_components=250, lsi__vect__max_df=0.95 \n",
      "[CV]  clf__max_depth=5, clf__min_child_samples=100, clf__min_child_weight=1, clf__num_leaves=6, clf__tree_method=gpu_exact, lsi__svd__n_components=250, lsi__vect__max_df=0.95, score=0.8848837209302326, total=  10.6s\n",
      "[CV] clf__max_depth=5, clf__min_child_samples=100, clf__min_child_weight=1, clf__num_leaves=6, clf__tree_method=gpu_exact, lsi__svd__n_components=250, lsi__vect__max_df=0.98 \n",
      "[CV]  clf__max_depth=5, clf__min_child_samples=100, clf__min_child_weight=1, clf__num_leaves=6, clf__tree_method=gpu_exact, lsi__svd__n_components=250, lsi__vect__max_df=0.98, score=0.9165701042873696, total=  10.8s\n",
      "[CV] clf__max_depth=5, clf__min_child_samples=100, clf__min_child_weight=1, clf__num_leaves=6, clf__tree_method=gpu_exact, lsi__svd__n_components=250, lsi__vect__max_df=0.98 \n",
      "[CV]  clf__max_depth=5, clf__min_child_samples=100, clf__min_child_weight=1, clf__num_leaves=6, clf__tree_method=gpu_exact, lsi__svd__n_components=250, lsi__vect__max_df=0.98, score=0.9269988412514485, total=  11.6s\n",
      "[CV] clf__max_depth=5, clf__min_child_samples=100, clf__min_child_weight=1, clf__num_leaves=6, clf__tree_method=gpu_exact, lsi__svd__n_components=250, lsi__vect__max_df=0.98 \n",
      "[CV]  clf__max_depth=5, clf__min_child_samples=100, clf__min_child_weight=1, clf__num_leaves=6, clf__tree_method=gpu_exact, lsi__svd__n_components=250, lsi__vect__max_df=0.98, score=0.8895348837209303, total=  11.5s\n",
      "[CV] clf__max_depth=5, clf__min_child_samples=100, clf__min_child_weight=1, clf__num_leaves=6, clf__tree_method=gpu_exact, lsi__svd__n_components=300, lsi__vect__max_df=0.93 \n",
      "[CV]  clf__max_depth=5, clf__min_child_samples=100, clf__min_child_weight=1, clf__num_leaves=6, clf__tree_method=gpu_exact, lsi__svd__n_components=300, lsi__vect__max_df=0.93, score=0.9142526071842411, total=  14.0s\n",
      "[CV] clf__max_depth=5, clf__min_child_samples=100, clf__min_child_weight=1, clf__num_leaves=6, clf__tree_method=gpu_exact, lsi__svd__n_components=300, lsi__vect__max_df=0.93 \n",
      "[CV]  clf__max_depth=5, clf__min_child_samples=100, clf__min_child_weight=1, clf__num_leaves=6, clf__tree_method=gpu_exact, lsi__svd__n_components=300, lsi__vect__max_df=0.93, score=0.9200463499420626, total=  14.8s\n",
      "[CV] clf__max_depth=5, clf__min_child_samples=100, clf__min_child_weight=1, clf__num_leaves=6, clf__tree_method=gpu_exact, lsi__svd__n_components=300, lsi__vect__max_df=0.93 \n",
      "[CV]  clf__max_depth=5, clf__min_child_samples=100, clf__min_child_weight=1, clf__num_leaves=6, clf__tree_method=gpu_exact, lsi__svd__n_components=300, lsi__vect__max_df=0.93, score=0.8906976744186047, total=  14.0s\n",
      "[CV] clf__max_depth=5, clf__min_child_samples=100, clf__min_child_weight=1, clf__num_leaves=6, clf__tree_method=gpu_exact, lsi__svd__n_components=300, lsi__vect__max_df=0.95 \n",
      "[CV]  clf__max_depth=5, clf__min_child_samples=100, clf__min_child_weight=1, clf__num_leaves=6, clf__tree_method=gpu_exact, lsi__svd__n_components=300, lsi__vect__max_df=0.95, score=0.9200463499420626, total=  13.5s\n",
      "[CV] clf__max_depth=5, clf__min_child_samples=100, clf__min_child_weight=1, clf__num_leaves=6, clf__tree_method=gpu_exact, lsi__svd__n_components=300, lsi__vect__max_df=0.95 \n",
      "[CV]  clf__max_depth=5, clf__min_child_samples=100, clf__min_child_weight=1, clf__num_leaves=6, clf__tree_method=gpu_exact, lsi__svd__n_components=300, lsi__vect__max_df=0.95, score=0.9235225955967555, total=  13.7s\n",
      "[CV] clf__max_depth=5, clf__min_child_samples=100, clf__min_child_weight=1, clf__num_leaves=6, clf__tree_method=gpu_exact, lsi__svd__n_components=300, lsi__vect__max_df=0.95 \n",
      "[CV]  clf__max_depth=5, clf__min_child_samples=100, clf__min_child_weight=1, clf__num_leaves=6, clf__tree_method=gpu_exact, lsi__svd__n_components=300, lsi__vect__max_df=0.95, score=0.8906976744186047, total=  13.5s\n",
      "[CV] clf__max_depth=5, clf__min_child_samples=100, clf__min_child_weight=1, clf__num_leaves=6, clf__tree_method=gpu_exact, lsi__svd__n_components=300, lsi__vect__max_df=0.98 \n",
      "[CV]  clf__max_depth=5, clf__min_child_samples=100, clf__min_child_weight=1, clf__num_leaves=6, clf__tree_method=gpu_exact, lsi__svd__n_components=300, lsi__vect__max_df=0.98, score=0.9212050984936269, total=  13.6s\n",
      "[CV] clf__max_depth=5, clf__min_child_samples=100, clf__min_child_weight=1, clf__num_leaves=6, clf__tree_method=gpu_exact, lsi__svd__n_components=300, lsi__vect__max_df=0.98 \n",
      "[CV]  clf__max_depth=5, clf__min_child_samples=100, clf__min_child_weight=1, clf__num_leaves=6, clf__tree_method=gpu_exact, lsi__svd__n_components=300, lsi__vect__max_df=0.98, score=0.9223638470451911, total=  13.9s\n",
      "[CV] clf__max_depth=5, clf__min_child_samples=100, clf__min_child_weight=1, clf__num_leaves=6, clf__tree_method=gpu_exact, lsi__svd__n_components=300, lsi__vect__max_df=0.98 \n",
      "[CV]  clf__max_depth=5, clf__min_child_samples=100, clf__min_child_weight=1, clf__num_leaves=6, clf__tree_method=gpu_exact, lsi__svd__n_components=300, lsi__vect__max_df=0.98, score=0.8930232558139535, total=  13.4s\n",
      "[CV] clf__max_depth=5, clf__min_child_samples=100, clf__min_child_weight=1, clf__num_leaves=50, clf__tree_method=gpu_exact, lsi__svd__n_components=250, lsi__vect__max_df=0.93 \n",
      "[CV]  clf__max_depth=5, clf__min_child_samples=100, clf__min_child_weight=1, clf__num_leaves=50, clf__tree_method=gpu_exact, lsi__svd__n_components=250, lsi__vect__max_df=0.93, score=0.9154113557358053, total=  10.8s\n",
      "[CV] clf__max_depth=5, clf__min_child_samples=100, clf__min_child_weight=1, clf__num_leaves=50, clf__tree_method=gpu_exact, lsi__svd__n_components=250, lsi__vect__max_df=0.93 \n",
      "[CV]  clf__max_depth=5, clf__min_child_samples=100, clf__min_child_weight=1, clf__num_leaves=50, clf__tree_method=gpu_exact, lsi__svd__n_components=250, lsi__vect__max_df=0.93, score=0.9212050984936269, total=  10.6s\n",
      "[CV] clf__max_depth=5, clf__min_child_samples=100, clf__min_child_weight=1, clf__num_leaves=50, clf__tree_method=gpu_exact, lsi__svd__n_components=250, lsi__vect__max_df=0.93 \n",
      "[CV]  clf__max_depth=5, clf__min_child_samples=100, clf__min_child_weight=1, clf__num_leaves=50, clf__tree_method=gpu_exact, lsi__svd__n_components=250, lsi__vect__max_df=0.93, score=0.8883720930232558, total=  10.8s\n",
      "[CV] clf__max_depth=5, clf__min_child_samples=100, clf__min_child_weight=1, clf__num_leaves=50, clf__tree_method=gpu_exact, lsi__svd__n_components=250, lsi__vect__max_df=0.95 \n",
      "[CV]  clf__max_depth=5, clf__min_child_samples=100, clf__min_child_weight=1, clf__num_leaves=50, clf__tree_method=gpu_exact, lsi__svd__n_components=250, lsi__vect__max_df=0.95, score=0.9130938586326767, total=  10.7s\n",
      "[CV] clf__max_depth=5, clf__min_child_samples=100, clf__min_child_weight=1, clf__num_leaves=50, clf__tree_method=gpu_exact, lsi__svd__n_components=250, lsi__vect__max_df=0.95 \n",
      "[CV]  clf__max_depth=5, clf__min_child_samples=100, clf__min_child_weight=1, clf__num_leaves=50, clf__tree_method=gpu_exact, lsi__svd__n_components=250, lsi__vect__max_df=0.95, score=0.9200463499420626, total=  10.5s\n",
      "[CV] clf__max_depth=5, clf__min_child_samples=100, clf__min_child_weight=1, clf__num_leaves=50, clf__tree_method=gpu_exact, lsi__svd__n_components=250, lsi__vect__max_df=0.95 \n",
      "[CV]  clf__max_depth=5, clf__min_child_samples=100, clf__min_child_weight=1, clf__num_leaves=50, clf__tree_method=gpu_exact, lsi__svd__n_components=250, lsi__vect__max_df=0.95, score=0.8941860465116279, total=  11.0s\n",
      "[CV] clf__max_depth=5, clf__min_child_samples=100, clf__min_child_weight=1, clf__num_leaves=50, clf__tree_method=gpu_exact, lsi__svd__n_components=250, lsi__vect__max_df=0.98 \n",
      "[CV]  clf__max_depth=5, clf__min_child_samples=100, clf__min_child_weight=1, clf__num_leaves=50, clf__tree_method=gpu_exact, lsi__svd__n_components=250, lsi__vect__max_df=0.98, score=0.9212050984936269, total=   9.3s\n",
      "[CV] clf__max_depth=5, clf__min_child_samples=100, clf__min_child_weight=1, clf__num_leaves=50, clf__tree_method=gpu_exact, lsi__svd__n_components=250, lsi__vect__max_df=0.98 \n",
      "[CV]  clf__max_depth=5, clf__min_child_samples=100, clf__min_child_weight=1, clf__num_leaves=50, clf__tree_method=gpu_exact, lsi__svd__n_components=250, lsi__vect__max_df=0.98, score=0.9223638470451911, total=   9.3s\n",
      "[CV] clf__max_depth=5, clf__min_child_samples=100, clf__min_child_weight=1, clf__num_leaves=50, clf__tree_method=gpu_exact, lsi__svd__n_components=250, lsi__vect__max_df=0.98 \n",
      "[CV]  clf__max_depth=5, clf__min_child_samples=100, clf__min_child_weight=1, clf__num_leaves=50, clf__tree_method=gpu_exact, lsi__svd__n_components=250, lsi__vect__max_df=0.98, score=0.8906976744186047, total=   9.4s\n",
      "[CV] clf__max_depth=5, clf__min_child_samples=100, clf__min_child_weight=1, clf__num_leaves=50, clf__tree_method=gpu_exact, lsi__svd__n_components=300, lsi__vect__max_df=0.93 \n",
      "[CV]  clf__max_depth=5, clf__min_child_samples=100, clf__min_child_weight=1, clf__num_leaves=50, clf__tree_method=gpu_exact, lsi__svd__n_components=300, lsi__vect__max_df=0.93, score=0.9107763615295481, total=  11.1s\n",
      "[CV] clf__max_depth=5, clf__min_child_samples=100, clf__min_child_weight=1, clf__num_leaves=50, clf__tree_method=gpu_exact, lsi__svd__n_components=300, lsi__vect__max_df=0.93 \n",
      "[CV]  clf__max_depth=5, clf__min_child_samples=100, clf__min_child_weight=1, clf__num_leaves=50, clf__tree_method=gpu_exact, lsi__svd__n_components=300, lsi__vect__max_df=0.93, score=0.9200463499420626, total=  11.4s\n",
      "[CV] clf__max_depth=5, clf__min_child_samples=100, clf__min_child_weight=1, clf__num_leaves=50, clf__tree_method=gpu_exact, lsi__svd__n_components=300, lsi__vect__max_df=0.93 \n",
      "[CV]  clf__max_depth=5, clf__min_child_samples=100, clf__min_child_weight=1, clf__num_leaves=50, clf__tree_method=gpu_exact, lsi__svd__n_components=300, lsi__vect__max_df=0.93, score=0.8883720930232558, total=  11.4s\n",
      "[CV] clf__max_depth=5, clf__min_child_samples=100, clf__min_child_weight=1, clf__num_leaves=50, clf__tree_method=gpu_exact, lsi__svd__n_components=300, lsi__vect__max_df=0.95 \n",
      "[CV]  clf__max_depth=5, clf__min_child_samples=100, clf__min_child_weight=1, clf__num_leaves=50, clf__tree_method=gpu_exact, lsi__svd__n_components=300, lsi__vect__max_df=0.95, score=0.9177288528389339, total=  11.0s\n",
      "[CV] clf__max_depth=5, clf__min_child_samples=100, clf__min_child_weight=1, clf__num_leaves=50, clf__tree_method=gpu_exact, lsi__svd__n_components=300, lsi__vect__max_df=0.95 \n",
      "[CV]  clf__max_depth=5, clf__min_child_samples=100, clf__min_child_weight=1, clf__num_leaves=50, clf__tree_method=gpu_exact, lsi__svd__n_components=300, lsi__vect__max_df=0.95, score=0.9246813441483198, total=  11.2s\n",
      "[CV] clf__max_depth=5, clf__min_child_samples=100, clf__min_child_weight=1, clf__num_leaves=50, clf__tree_method=gpu_exact, lsi__svd__n_components=300, lsi__vect__max_df=0.95 \n",
      "[CV]  clf__max_depth=5, clf__min_child_samples=100, clf__min_child_weight=1, clf__num_leaves=50, clf__tree_method=gpu_exact, lsi__svd__n_components=300, lsi__vect__max_df=0.95, score=0.8930232558139535, total=  11.6s\n",
      "[CV] clf__max_depth=5, clf__min_child_samples=100, clf__min_child_weight=1, clf__num_leaves=50, clf__tree_method=gpu_exact, lsi__svd__n_components=300, lsi__vect__max_df=0.98 \n",
      "[CV]  clf__max_depth=5, clf__min_child_samples=100, clf__min_child_weight=1, clf__num_leaves=50, clf__tree_method=gpu_exact, lsi__svd__n_components=300, lsi__vect__max_df=0.98, score=0.9188876013904983, total=  11.2s\n",
      "[CV] clf__max_depth=5, clf__min_child_samples=100, clf__min_child_weight=1, clf__num_leaves=50, clf__tree_method=gpu_exact, lsi__svd__n_components=300, lsi__vect__max_df=0.98 \n",
      "[CV]  clf__max_depth=5, clf__min_child_samples=100, clf__min_child_weight=1, clf__num_leaves=50, clf__tree_method=gpu_exact, lsi__svd__n_components=300, lsi__vect__max_df=0.98, score=0.9212050984936269, total=  11.5s\n",
      "[CV] clf__max_depth=5, clf__min_child_samples=100, clf__min_child_weight=1, clf__num_leaves=50, clf__tree_method=gpu_exact, lsi__svd__n_components=300, lsi__vect__max_df=0.98 \n",
      "[CV]  clf__max_depth=5, clf__min_child_samples=100, clf__min_child_weight=1, clf__num_leaves=50, clf__tree_method=gpu_exact, lsi__svd__n_components=300, lsi__vect__max_df=0.98, score=0.8872093023255814, total=  11.3s\n",
      "[CV] clf__max_depth=5, clf__min_child_samples=100, clf__min_child_weight=10000.0, clf__num_leaves=6, clf__tree_method=gpu_exact, lsi__svd__n_components=250, lsi__vect__max_df=0.93 \n",
      "[CV]  clf__max_depth=5, clf__min_child_samples=100, clf__min_child_weight=10000.0, clf__num_leaves=6, clf__tree_method=gpu_exact, lsi__svd__n_components=250, lsi__vect__max_df=0.93, score=0.6326767091541136, total=   9.1s\n",
      "[CV] clf__max_depth=5, clf__min_child_samples=100, clf__min_child_weight=10000.0, clf__num_leaves=6, clf__tree_method=gpu_exact, lsi__svd__n_components=250, lsi__vect__max_df=0.93 \n",
      "[CV]  clf__max_depth=5, clf__min_child_samples=100, clf__min_child_weight=10000.0, clf__num_leaves=6, clf__tree_method=gpu_exact, lsi__svd__n_components=250, lsi__vect__max_df=0.93, score=0.6326767091541136, total=   9.2s\n",
      "[CV] clf__max_depth=5, clf__min_child_samples=100, clf__min_child_weight=10000.0, clf__num_leaves=6, clf__tree_method=gpu_exact, lsi__svd__n_components=250, lsi__vect__max_df=0.93 \n",
      "[CV]  clf__max_depth=5, clf__min_child_samples=100, clf__min_child_weight=10000.0, clf__num_leaves=6, clf__tree_method=gpu_exact, lsi__svd__n_components=250, lsi__vect__max_df=0.93, score=0.6337209302325582, total=   9.2s\n",
      "[CV] clf__max_depth=5, clf__min_child_samples=100, clf__min_child_weight=10000.0, clf__num_leaves=6, clf__tree_method=gpu_exact, lsi__svd__n_components=250, lsi__vect__max_df=0.95 \n",
      "[CV]  clf__max_depth=5, clf__min_child_samples=100, clf__min_child_weight=10000.0, clf__num_leaves=6, clf__tree_method=gpu_exact, lsi__svd__n_components=250, lsi__vect__max_df=0.95, score=0.6326767091541136, total=   9.2s\n",
      "[CV] clf__max_depth=5, clf__min_child_samples=100, clf__min_child_weight=10000.0, clf__num_leaves=6, clf__tree_method=gpu_exact, lsi__svd__n_components=250, lsi__vect__max_df=0.95 \n",
      "[CV]  clf__max_depth=5, clf__min_child_samples=100, clf__min_child_weight=10000.0, clf__num_leaves=6, clf__tree_method=gpu_exact, lsi__svd__n_components=250, lsi__vect__max_df=0.95, score=0.6326767091541136, total=   9.2s\n",
      "[CV] clf__max_depth=5, clf__min_child_samples=100, clf__min_child_weight=10000.0, clf__num_leaves=6, clf__tree_method=gpu_exact, lsi__svd__n_components=250, lsi__vect__max_df=0.95 \n",
      "[CV]  clf__max_depth=5, clf__min_child_samples=100, clf__min_child_weight=10000.0, clf__num_leaves=6, clf__tree_method=gpu_exact, lsi__svd__n_components=250, lsi__vect__max_df=0.95, score=0.6337209302325582, total=   9.5s\n",
      "[CV] clf__max_depth=5, clf__min_child_samples=100, clf__min_child_weight=10000.0, clf__num_leaves=6, clf__tree_method=gpu_exact, lsi__svd__n_components=250, lsi__vect__max_df=0.98 \n",
      "[CV]  clf__max_depth=5, clf__min_child_samples=100, clf__min_child_weight=10000.0, clf__num_leaves=6, clf__tree_method=gpu_exact, lsi__svd__n_components=250, lsi__vect__max_df=0.98, score=0.6326767091541136, total=   9.0s\n",
      "[CV] clf__max_depth=5, clf__min_child_samples=100, clf__min_child_weight=10000.0, clf__num_leaves=6, clf__tree_method=gpu_exact, lsi__svd__n_components=250, lsi__vect__max_df=0.98 \n",
      "[CV]  clf__max_depth=5, clf__min_child_samples=100, clf__min_child_weight=10000.0, clf__num_leaves=6, clf__tree_method=gpu_exact, lsi__svd__n_components=250, lsi__vect__max_df=0.98, score=0.6326767091541136, total=   9.2s\n",
      "[CV] clf__max_depth=5, clf__min_child_samples=100, clf__min_child_weight=10000.0, clf__num_leaves=6, clf__tree_method=gpu_exact, lsi__svd__n_components=250, lsi__vect__max_df=0.98 \n",
      "[CV]  clf__max_depth=5, clf__min_child_samples=100, clf__min_child_weight=10000.0, clf__num_leaves=6, clf__tree_method=gpu_exact, lsi__svd__n_components=250, lsi__vect__max_df=0.98, score=0.6337209302325582, total=  10.2s\n",
      "[CV] clf__max_depth=5, clf__min_child_samples=100, clf__min_child_weight=10000.0, clf__num_leaves=6, clf__tree_method=gpu_exact, lsi__svd__n_components=300, lsi__vect__max_df=0.93 \n",
      "[CV]  clf__max_depth=5, clf__min_child_samples=100, clf__min_child_weight=10000.0, clf__num_leaves=6, clf__tree_method=gpu_exact, lsi__svd__n_components=300, lsi__vect__max_df=0.93, score=0.6326767091541136, total=  13.9s\n",
      "[CV] clf__max_depth=5, clf__min_child_samples=100, clf__min_child_weight=10000.0, clf__num_leaves=6, clf__tree_method=gpu_exact, lsi__svd__n_components=300, lsi__vect__max_df=0.93 \n",
      "[CV]  clf__max_depth=5, clf__min_child_samples=100, clf__min_child_weight=10000.0, clf__num_leaves=6, clf__tree_method=gpu_exact, lsi__svd__n_components=300, lsi__vect__max_df=0.93, score=0.6326767091541136, total=  14.0s\n",
      "[CV] clf__max_depth=5, clf__min_child_samples=100, clf__min_child_weight=10000.0, clf__num_leaves=6, clf__tree_method=gpu_exact, lsi__svd__n_components=300, lsi__vect__max_df=0.93 \n",
      "[CV]  clf__max_depth=5, clf__min_child_samples=100, clf__min_child_weight=10000.0, clf__num_leaves=6, clf__tree_method=gpu_exact, lsi__svd__n_components=300, lsi__vect__max_df=0.93, score=0.6337209302325582, total=  11.8s\n",
      "[CV] clf__max_depth=5, clf__min_child_samples=100, clf__min_child_weight=10000.0, clf__num_leaves=6, clf__tree_method=gpu_exact, lsi__svd__n_components=300, lsi__vect__max_df=0.95 \n",
      "[CV]  clf__max_depth=5, clf__min_child_samples=100, clf__min_child_weight=10000.0, clf__num_leaves=6, clf__tree_method=gpu_exact, lsi__svd__n_components=300, lsi__vect__max_df=0.95, score=0.6326767091541136, total=  12.3s\n",
      "[CV] clf__max_depth=5, clf__min_child_samples=100, clf__min_child_weight=10000.0, clf__num_leaves=6, clf__tree_method=gpu_exact, lsi__svd__n_components=300, lsi__vect__max_df=0.95 \n",
      "[CV]  clf__max_depth=5, clf__min_child_samples=100, clf__min_child_weight=10000.0, clf__num_leaves=6, clf__tree_method=gpu_exact, lsi__svd__n_components=300, lsi__vect__max_df=0.95, score=0.6326767091541136, total=  12.1s\n",
      "[CV] clf__max_depth=5, clf__min_child_samples=100, clf__min_child_weight=10000.0, clf__num_leaves=6, clf__tree_method=gpu_exact, lsi__svd__n_components=300, lsi__vect__max_df=0.95 \n",
      "[CV]  clf__max_depth=5, clf__min_child_samples=100, clf__min_child_weight=10000.0, clf__num_leaves=6, clf__tree_method=gpu_exact, lsi__svd__n_components=300, lsi__vect__max_df=0.95, score=0.6337209302325582, total=  11.9s\n",
      "[CV] clf__max_depth=5, clf__min_child_samples=100, clf__min_child_weight=10000.0, clf__num_leaves=6, clf__tree_method=gpu_exact, lsi__svd__n_components=300, lsi__vect__max_df=0.98 \n",
      "[CV]  clf__max_depth=5, clf__min_child_samples=100, clf__min_child_weight=10000.0, clf__num_leaves=6, clf__tree_method=gpu_exact, lsi__svd__n_components=300, lsi__vect__max_df=0.98, score=0.6326767091541136, total=  10.1s\n",
      "[CV] clf__max_depth=5, clf__min_child_samples=100, clf__min_child_weight=10000.0, clf__num_leaves=6, clf__tree_method=gpu_exact, lsi__svd__n_components=300, lsi__vect__max_df=0.98 \n",
      "[CV]  clf__max_depth=5, clf__min_child_samples=100, clf__min_child_weight=10000.0, clf__num_leaves=6, clf__tree_method=gpu_exact, lsi__svd__n_components=300, lsi__vect__max_df=0.98, score=0.6326767091541136, total=  10.0s\n",
      "[CV] clf__max_depth=5, clf__min_child_samples=100, clf__min_child_weight=10000.0, clf__num_leaves=6, clf__tree_method=gpu_exact, lsi__svd__n_components=300, lsi__vect__max_df=0.98 \n",
      "[CV]  clf__max_depth=5, clf__min_child_samples=100, clf__min_child_weight=10000.0, clf__num_leaves=6, clf__tree_method=gpu_exact, lsi__svd__n_components=300, lsi__vect__max_df=0.98, score=0.6337209302325582, total=   9.6s\n",
      "[CV] clf__max_depth=5, clf__min_child_samples=100, clf__min_child_weight=10000.0, clf__num_leaves=50, clf__tree_method=gpu_exact, lsi__svd__n_components=250, lsi__vect__max_df=0.93 \n",
      "[CV]  clf__max_depth=5, clf__min_child_samples=100, clf__min_child_weight=10000.0, clf__num_leaves=50, clf__tree_method=gpu_exact, lsi__svd__n_components=250, lsi__vect__max_df=0.93, score=0.6326767091541136, total=   8.7s\n",
      "[CV] clf__max_depth=5, clf__min_child_samples=100, clf__min_child_weight=10000.0, clf__num_leaves=50, clf__tree_method=gpu_exact, lsi__svd__n_components=250, lsi__vect__max_df=0.93 \n",
      "[CV]  clf__max_depth=5, clf__min_child_samples=100, clf__min_child_weight=10000.0, clf__num_leaves=50, clf__tree_method=gpu_exact, lsi__svd__n_components=250, lsi__vect__max_df=0.93, score=0.6326767091541136, total=   8.4s\n",
      "[CV] clf__max_depth=5, clf__min_child_samples=100, clf__min_child_weight=10000.0, clf__num_leaves=50, clf__tree_method=gpu_exact, lsi__svd__n_components=250, lsi__vect__max_df=0.93 \n",
      "[CV]  clf__max_depth=5, clf__min_child_samples=100, clf__min_child_weight=10000.0, clf__num_leaves=50, clf__tree_method=gpu_exact, lsi__svd__n_components=250, lsi__vect__max_df=0.93, score=0.6337209302325582, total=   8.2s\n",
      "[CV] clf__max_depth=5, clf__min_child_samples=100, clf__min_child_weight=10000.0, clf__num_leaves=50, clf__tree_method=gpu_exact, lsi__svd__n_components=250, lsi__vect__max_df=0.95 \n",
      "[CV]  clf__max_depth=5, clf__min_child_samples=100, clf__min_child_weight=10000.0, clf__num_leaves=50, clf__tree_method=gpu_exact, lsi__svd__n_components=250, lsi__vect__max_df=0.95, score=0.6326767091541136, total=   7.7s\n",
      "[CV] clf__max_depth=5, clf__min_child_samples=100, clf__min_child_weight=10000.0, clf__num_leaves=50, clf__tree_method=gpu_exact, lsi__svd__n_components=250, lsi__vect__max_df=0.95 \n",
      "[CV]  clf__max_depth=5, clf__min_child_samples=100, clf__min_child_weight=10000.0, clf__num_leaves=50, clf__tree_method=gpu_exact, lsi__svd__n_components=250, lsi__vect__max_df=0.95, score=0.6326767091541136, total=   9.0s\n",
      "[CV] clf__max_depth=5, clf__min_child_samples=100, clf__min_child_weight=10000.0, clf__num_leaves=50, clf__tree_method=gpu_exact, lsi__svd__n_components=250, lsi__vect__max_df=0.95 \n",
      "[CV]  clf__max_depth=5, clf__min_child_samples=100, clf__min_child_weight=10000.0, clf__num_leaves=50, clf__tree_method=gpu_exact, lsi__svd__n_components=250, lsi__vect__max_df=0.95, score=0.6337209302325582, total=   8.2s\n",
      "[CV] clf__max_depth=5, clf__min_child_samples=100, clf__min_child_weight=10000.0, clf__num_leaves=50, clf__tree_method=gpu_exact, lsi__svd__n_components=250, lsi__vect__max_df=0.98 \n",
      "[CV]  clf__max_depth=5, clf__min_child_samples=100, clf__min_child_weight=10000.0, clf__num_leaves=50, clf__tree_method=gpu_exact, lsi__svd__n_components=250, lsi__vect__max_df=0.98, score=0.6326767091541136, total=   7.5s\n",
      "[CV] clf__max_depth=5, clf__min_child_samples=100, clf__min_child_weight=10000.0, clf__num_leaves=50, clf__tree_method=gpu_exact, lsi__svd__n_components=250, lsi__vect__max_df=0.98 \n",
      "[CV]  clf__max_depth=5, clf__min_child_samples=100, clf__min_child_weight=10000.0, clf__num_leaves=50, clf__tree_method=gpu_exact, lsi__svd__n_components=250, lsi__vect__max_df=0.98, score=0.6326767091541136, total=   7.9s\n",
      "[CV] clf__max_depth=5, clf__min_child_samples=100, clf__min_child_weight=10000.0, clf__num_leaves=50, clf__tree_method=gpu_exact, lsi__svd__n_components=250, lsi__vect__max_df=0.98 \n",
      "[CV]  clf__max_depth=5, clf__min_child_samples=100, clf__min_child_weight=10000.0, clf__num_leaves=50, clf__tree_method=gpu_exact, lsi__svd__n_components=250, lsi__vect__max_df=0.98, score=0.6337209302325582, total=   7.7s\n",
      "[CV] clf__max_depth=5, clf__min_child_samples=100, clf__min_child_weight=10000.0, clf__num_leaves=50, clf__tree_method=gpu_exact, lsi__svd__n_components=300, lsi__vect__max_df=0.93 \n",
      "[CV]  clf__max_depth=5, clf__min_child_samples=100, clf__min_child_weight=10000.0, clf__num_leaves=50, clf__tree_method=gpu_exact, lsi__svd__n_components=300, lsi__vect__max_df=0.93, score=0.6326767091541136, total=  10.1s\n",
      "[CV] clf__max_depth=5, clf__min_child_samples=100, clf__min_child_weight=10000.0, clf__num_leaves=50, clf__tree_method=gpu_exact, lsi__svd__n_components=300, lsi__vect__max_df=0.93 \n",
      "[CV]  clf__max_depth=5, clf__min_child_samples=100, clf__min_child_weight=10000.0, clf__num_leaves=50, clf__tree_method=gpu_exact, lsi__svd__n_components=300, lsi__vect__max_df=0.93, score=0.6326767091541136, total=   9.8s\n",
      "[CV] clf__max_depth=5, clf__min_child_samples=100, clf__min_child_weight=10000.0, clf__num_leaves=50, clf__tree_method=gpu_exact, lsi__svd__n_components=300, lsi__vect__max_df=0.93 \n",
      "[CV]  clf__max_depth=5, clf__min_child_samples=100, clf__min_child_weight=10000.0, clf__num_leaves=50, clf__tree_method=gpu_exact, lsi__svd__n_components=300, lsi__vect__max_df=0.93, score=0.6337209302325582, total=   9.3s\n",
      "[CV] clf__max_depth=5, clf__min_child_samples=100, clf__min_child_weight=10000.0, clf__num_leaves=50, clf__tree_method=gpu_exact, lsi__svd__n_components=300, lsi__vect__max_df=0.95 \n",
      "[CV]  clf__max_depth=5, clf__min_child_samples=100, clf__min_child_weight=10000.0, clf__num_leaves=50, clf__tree_method=gpu_exact, lsi__svd__n_components=300, lsi__vect__max_df=0.95, score=0.6326767091541136, total=   9.2s\n",
      "[CV] clf__max_depth=5, clf__min_child_samples=100, clf__min_child_weight=10000.0, clf__num_leaves=50, clf__tree_method=gpu_exact, lsi__svd__n_components=300, lsi__vect__max_df=0.95 \n",
      "[CV]  clf__max_depth=5, clf__min_child_samples=100, clf__min_child_weight=10000.0, clf__num_leaves=50, clf__tree_method=gpu_exact, lsi__svd__n_components=300, lsi__vect__max_df=0.95, score=0.6326767091541136, total=   9.2s\n",
      "[CV] clf__max_depth=5, clf__min_child_samples=100, clf__min_child_weight=10000.0, clf__num_leaves=50, clf__tree_method=gpu_exact, lsi__svd__n_components=300, lsi__vect__max_df=0.95 \n",
      "[CV]  clf__max_depth=5, clf__min_child_samples=100, clf__min_child_weight=10000.0, clf__num_leaves=50, clf__tree_method=gpu_exact, lsi__svd__n_components=300, lsi__vect__max_df=0.95, score=0.6337209302325582, total=   9.5s\n",
      "[CV] clf__max_depth=5, clf__min_child_samples=100, clf__min_child_weight=10000.0, clf__num_leaves=50, clf__tree_method=gpu_exact, lsi__svd__n_components=300, lsi__vect__max_df=0.98 \n",
      "[CV]  clf__max_depth=5, clf__min_child_samples=100, clf__min_child_weight=10000.0, clf__num_leaves=50, clf__tree_method=gpu_exact, lsi__svd__n_components=300, lsi__vect__max_df=0.98, score=0.6326767091541136, total=   8.6s\n",
      "[CV] clf__max_depth=5, clf__min_child_samples=100, clf__min_child_weight=10000.0, clf__num_leaves=50, clf__tree_method=gpu_exact, lsi__svd__n_components=300, lsi__vect__max_df=0.98 \n",
      "[CV]  clf__max_depth=5, clf__min_child_samples=100, clf__min_child_weight=10000.0, clf__num_leaves=50, clf__tree_method=gpu_exact, lsi__svd__n_components=300, lsi__vect__max_df=0.98, score=0.6326767091541136, total=   8.8s\n",
      "[CV] clf__max_depth=5, clf__min_child_samples=100, clf__min_child_weight=10000.0, clf__num_leaves=50, clf__tree_method=gpu_exact, lsi__svd__n_components=300, lsi__vect__max_df=0.98 \n",
      "[CV]  clf__max_depth=5, clf__min_child_samples=100, clf__min_child_weight=10000.0, clf__num_leaves=50, clf__tree_method=gpu_exact, lsi__svd__n_components=300, lsi__vect__max_df=0.98, score=0.6337209302325582, total=   9.2s\n",
      "[CV] clf__max_depth=5, clf__min_child_samples=500, clf__min_child_weight=1e-05, clf__num_leaves=6, clf__tree_method=gpu_exact, lsi__svd__n_components=250, lsi__vect__max_df=0.93 \n",
      "[CV]  clf__max_depth=5, clf__min_child_samples=500, clf__min_child_weight=1e-05, clf__num_leaves=6, clf__tree_method=gpu_exact, lsi__svd__n_components=250, lsi__vect__max_df=0.93, score=0.9177288528389339, total=   7.2s\n",
      "[CV] clf__max_depth=5, clf__min_child_samples=500, clf__min_child_weight=1e-05, clf__num_leaves=6, clf__tree_method=gpu_exact, lsi__svd__n_components=250, lsi__vect__max_df=0.93 \n",
      "[CV]  clf__max_depth=5, clf__min_child_samples=500, clf__min_child_weight=1e-05, clf__num_leaves=6, clf__tree_method=gpu_exact, lsi__svd__n_components=250, lsi__vect__max_df=0.93, score=0.9235225955967555, total=   7.6s\n",
      "[CV] clf__max_depth=5, clf__min_child_samples=500, clf__min_child_weight=1e-05, clf__num_leaves=6, clf__tree_method=gpu_exact, lsi__svd__n_components=250, lsi__vect__max_df=0.93 \n",
      "[CV]  clf__max_depth=5, clf__min_child_samples=500, clf__min_child_weight=1e-05, clf__num_leaves=6, clf__tree_method=gpu_exact, lsi__svd__n_components=250, lsi__vect__max_df=0.93, score=0.8848837209302326, total=   7.6s\n",
      "[CV] clf__max_depth=5, clf__min_child_samples=500, clf__min_child_weight=1e-05, clf__num_leaves=6, clf__tree_method=gpu_exact, lsi__svd__n_components=250, lsi__vect__max_df=0.95 \n",
      "[CV]  clf__max_depth=5, clf__min_child_samples=500, clf__min_child_weight=1e-05, clf__num_leaves=6, clf__tree_method=gpu_exact, lsi__svd__n_components=250, lsi__vect__max_df=0.95, score=0.9142526071842411, total=   7.6s\n",
      "[CV] clf__max_depth=5, clf__min_child_samples=500, clf__min_child_weight=1e-05, clf__num_leaves=6, clf__tree_method=gpu_exact, lsi__svd__n_components=250, lsi__vect__max_df=0.95 \n",
      "[CV]  clf__max_depth=5, clf__min_child_samples=500, clf__min_child_weight=1e-05, clf__num_leaves=6, clf__tree_method=gpu_exact, lsi__svd__n_components=250, lsi__vect__max_df=0.95, score=0.9223638470451911, total=   7.4s\n",
      "[CV] clf__max_depth=5, clf__min_child_samples=500, clf__min_child_weight=1e-05, clf__num_leaves=6, clf__tree_method=gpu_exact, lsi__svd__n_components=250, lsi__vect__max_df=0.95 \n",
      "[CV]  clf__max_depth=5, clf__min_child_samples=500, clf__min_child_weight=1e-05, clf__num_leaves=6, clf__tree_method=gpu_exact, lsi__svd__n_components=250, lsi__vect__max_df=0.95, score=0.8930232558139535, total=   7.7s\n",
      "[CV] clf__max_depth=5, clf__min_child_samples=500, clf__min_child_weight=1e-05, clf__num_leaves=6, clf__tree_method=gpu_exact, lsi__svd__n_components=250, lsi__vect__max_df=0.98 \n",
      "[CV]  clf__max_depth=5, clf__min_child_samples=500, clf__min_child_weight=1e-05, clf__num_leaves=6, clf__tree_method=gpu_exact, lsi__svd__n_components=250, lsi__vect__max_df=0.98, score=0.9154113557358053, total=   7.3s\n",
      "[CV] clf__max_depth=5, clf__min_child_samples=500, clf__min_child_weight=1e-05, clf__num_leaves=6, clf__tree_method=gpu_exact, lsi__svd__n_components=250, lsi__vect__max_df=0.98 \n",
      "[CV]  clf__max_depth=5, clf__min_child_samples=500, clf__min_child_weight=1e-05, clf__num_leaves=6, clf__tree_method=gpu_exact, lsi__svd__n_components=250, lsi__vect__max_df=0.98, score=0.9212050984936269, total=   7.5s\n",
      "[CV] clf__max_depth=5, clf__min_child_samples=500, clf__min_child_weight=1e-05, clf__num_leaves=6, clf__tree_method=gpu_exact, lsi__svd__n_components=250, lsi__vect__max_df=0.98 \n",
      "[CV]  clf__max_depth=5, clf__min_child_samples=500, clf__min_child_weight=1e-05, clf__num_leaves=6, clf__tree_method=gpu_exact, lsi__svd__n_components=250, lsi__vect__max_df=0.98, score=0.8906976744186047, total=   7.5s\n",
      "[CV] clf__max_depth=5, clf__min_child_samples=500, clf__min_child_weight=1e-05, clf__num_leaves=6, clf__tree_method=gpu_exact, lsi__svd__n_components=300, lsi__vect__max_df=0.93 \n",
      "[CV]  clf__max_depth=5, clf__min_child_samples=500, clf__min_child_weight=1e-05, clf__num_leaves=6, clf__tree_method=gpu_exact, lsi__svd__n_components=300, lsi__vect__max_df=0.93, score=0.9188876013904983, total=   9.1s\n",
      "[CV] clf__max_depth=5, clf__min_child_samples=500, clf__min_child_weight=1e-05, clf__num_leaves=6, clf__tree_method=gpu_exact, lsi__svd__n_components=300, lsi__vect__max_df=0.93 \n",
      "[CV]  clf__max_depth=5, clf__min_child_samples=500, clf__min_child_weight=1e-05, clf__num_leaves=6, clf__tree_method=gpu_exact, lsi__svd__n_components=300, lsi__vect__max_df=0.93, score=0.9235225955967555, total=   9.4s\n",
      "[CV] clf__max_depth=5, clf__min_child_samples=500, clf__min_child_weight=1e-05, clf__num_leaves=6, clf__tree_method=gpu_exact, lsi__svd__n_components=300, lsi__vect__max_df=0.93 \n",
      "[CV]  clf__max_depth=5, clf__min_child_samples=500, clf__min_child_weight=1e-05, clf__num_leaves=6, clf__tree_method=gpu_exact, lsi__svd__n_components=300, lsi__vect__max_df=0.93, score=0.8895348837209303, total=   9.3s\n",
      "[CV] clf__max_depth=5, clf__min_child_samples=500, clf__min_child_weight=1e-05, clf__num_leaves=6, clf__tree_method=gpu_exact, lsi__svd__n_components=300, lsi__vect__max_df=0.95 \n",
      "[CV]  clf__max_depth=5, clf__min_child_samples=500, clf__min_child_weight=1e-05, clf__num_leaves=6, clf__tree_method=gpu_exact, lsi__svd__n_components=300, lsi__vect__max_df=0.95, score=0.9165701042873696, total=   8.9s\n",
      "[CV] clf__max_depth=5, clf__min_child_samples=500, clf__min_child_weight=1e-05, clf__num_leaves=6, clf__tree_method=gpu_exact, lsi__svd__n_components=300, lsi__vect__max_df=0.95 \n",
      "[CV]  clf__max_depth=5, clf__min_child_samples=500, clf__min_child_weight=1e-05, clf__num_leaves=6, clf__tree_method=gpu_exact, lsi__svd__n_components=300, lsi__vect__max_df=0.95, score=0.9188876013904983, total=   9.1s\n",
      "[CV] clf__max_depth=5, clf__min_child_samples=500, clf__min_child_weight=1e-05, clf__num_leaves=6, clf__tree_method=gpu_exact, lsi__svd__n_components=300, lsi__vect__max_df=0.95 \n",
      "[CV]  clf__max_depth=5, clf__min_child_samples=500, clf__min_child_weight=1e-05, clf__num_leaves=6, clf__tree_method=gpu_exact, lsi__svd__n_components=300, lsi__vect__max_df=0.95, score=0.8906976744186047, total=   9.5s\n",
      "[CV] clf__max_depth=5, clf__min_child_samples=500, clf__min_child_weight=1e-05, clf__num_leaves=6, clf__tree_method=gpu_exact, lsi__svd__n_components=300, lsi__vect__max_df=0.98 \n",
      "[CV]  clf__max_depth=5, clf__min_child_samples=500, clf__min_child_weight=1e-05, clf__num_leaves=6, clf__tree_method=gpu_exact, lsi__svd__n_components=300, lsi__vect__max_df=0.98, score=0.9142526071842411, total=   9.1s\n",
      "[CV] clf__max_depth=5, clf__min_child_samples=500, clf__min_child_weight=1e-05, clf__num_leaves=6, clf__tree_method=gpu_exact, lsi__svd__n_components=300, lsi__vect__max_df=0.98 \n",
      "[CV]  clf__max_depth=5, clf__min_child_samples=500, clf__min_child_weight=1e-05, clf__num_leaves=6, clf__tree_method=gpu_exact, lsi__svd__n_components=300, lsi__vect__max_df=0.98, score=0.9223638470451911, total=  10.4s\n",
      "[CV] clf__max_depth=5, clf__min_child_samples=500, clf__min_child_weight=1e-05, clf__num_leaves=6, clf__tree_method=gpu_exact, lsi__svd__n_components=300, lsi__vect__max_df=0.98 \n",
      "[CV]  clf__max_depth=5, clf__min_child_samples=500, clf__min_child_weight=1e-05, clf__num_leaves=6, clf__tree_method=gpu_exact, lsi__svd__n_components=300, lsi__vect__max_df=0.98, score=0.8965116279069767, total=   9.4s\n",
      "[CV] clf__max_depth=5, clf__min_child_samples=500, clf__min_child_weight=1e-05, clf__num_leaves=50, clf__tree_method=gpu_exact, lsi__svd__n_components=250, lsi__vect__max_df=0.93 \n",
      "[CV]  clf__max_depth=5, clf__min_child_samples=500, clf__min_child_weight=1e-05, clf__num_leaves=50, clf__tree_method=gpu_exact, lsi__svd__n_components=250, lsi__vect__max_df=0.93, score=0.9154113557358053, total=   7.4s\n",
      "[CV] clf__max_depth=5, clf__min_child_samples=500, clf__min_child_weight=1e-05, clf__num_leaves=50, clf__tree_method=gpu_exact, lsi__svd__n_components=250, lsi__vect__max_df=0.93 \n",
      "[CV]  clf__max_depth=5, clf__min_child_samples=500, clf__min_child_weight=1e-05, clf__num_leaves=50, clf__tree_method=gpu_exact, lsi__svd__n_components=250, lsi__vect__max_df=0.93, score=0.9235225955967555, total=   7.6s\n",
      "[CV] clf__max_depth=5, clf__min_child_samples=500, clf__min_child_weight=1e-05, clf__num_leaves=50, clf__tree_method=gpu_exact, lsi__svd__n_components=250, lsi__vect__max_df=0.93 \n",
      "[CV]  clf__max_depth=5, clf__min_child_samples=500, clf__min_child_weight=1e-05, clf__num_leaves=50, clf__tree_method=gpu_exact, lsi__svd__n_components=250, lsi__vect__max_df=0.93, score=0.8883720930232558, total=   7.9s\n",
      "[CV] clf__max_depth=5, clf__min_child_samples=500, clf__min_child_weight=1e-05, clf__num_leaves=50, clf__tree_method=gpu_exact, lsi__svd__n_components=250, lsi__vect__max_df=0.95 \n",
      "[CV]  clf__max_depth=5, clf__min_child_samples=500, clf__min_child_weight=1e-05, clf__num_leaves=50, clf__tree_method=gpu_exact, lsi__svd__n_components=250, lsi__vect__max_df=0.95, score=0.9084588644264194, total=   7.3s\n",
      "[CV] clf__max_depth=5, clf__min_child_samples=500, clf__min_child_weight=1e-05, clf__num_leaves=50, clf__tree_method=gpu_exact, lsi__svd__n_components=250, lsi__vect__max_df=0.95 \n",
      "[CV]  clf__max_depth=5, clf__min_child_samples=500, clf__min_child_weight=1e-05, clf__num_leaves=50, clf__tree_method=gpu_exact, lsi__svd__n_components=250, lsi__vect__max_df=0.95, score=0.9269988412514485, total=   7.3s\n",
      "[CV] clf__max_depth=5, clf__min_child_samples=500, clf__min_child_weight=1e-05, clf__num_leaves=50, clf__tree_method=gpu_exact, lsi__svd__n_components=250, lsi__vect__max_df=0.95 \n",
      "[CV]  clf__max_depth=5, clf__min_child_samples=500, clf__min_child_weight=1e-05, clf__num_leaves=50, clf__tree_method=gpu_exact, lsi__svd__n_components=250, lsi__vect__max_df=0.95, score=0.8895348837209303, total=   7.6s\n",
      "[CV] clf__max_depth=5, clf__min_child_samples=500, clf__min_child_weight=1e-05, clf__num_leaves=50, clf__tree_method=gpu_exact, lsi__svd__n_components=250, lsi__vect__max_df=0.98 \n",
      "[CV]  clf__max_depth=5, clf__min_child_samples=500, clf__min_child_weight=1e-05, clf__num_leaves=50, clf__tree_method=gpu_exact, lsi__svd__n_components=250, lsi__vect__max_df=0.98, score=0.9142526071842411, total=   7.1s\n",
      "[CV] clf__max_depth=5, clf__min_child_samples=500, clf__min_child_weight=1e-05, clf__num_leaves=50, clf__tree_method=gpu_exact, lsi__svd__n_components=250, lsi__vect__max_df=0.98 \n",
      "[CV]  clf__max_depth=5, clf__min_child_samples=500, clf__min_child_weight=1e-05, clf__num_leaves=50, clf__tree_method=gpu_exact, lsi__svd__n_components=250, lsi__vect__max_df=0.98, score=0.9258400926998841, total=   7.8s\n",
      "[CV] clf__max_depth=5, clf__min_child_samples=500, clf__min_child_weight=1e-05, clf__num_leaves=50, clf__tree_method=gpu_exact, lsi__svd__n_components=250, lsi__vect__max_df=0.98 \n",
      "[CV]  clf__max_depth=5, clf__min_child_samples=500, clf__min_child_weight=1e-05, clf__num_leaves=50, clf__tree_method=gpu_exact, lsi__svd__n_components=250, lsi__vect__max_df=0.98, score=0.8906976744186047, total=   7.6s\n",
      "[CV] clf__max_depth=5, clf__min_child_samples=500, clf__min_child_weight=1e-05, clf__num_leaves=50, clf__tree_method=gpu_exact, lsi__svd__n_components=300, lsi__vect__max_df=0.93 \n",
      "[CV]  clf__max_depth=5, clf__min_child_samples=500, clf__min_child_weight=1e-05, clf__num_leaves=50, clf__tree_method=gpu_exact, lsi__svd__n_components=300, lsi__vect__max_df=0.93, score=0.9235225955967555, total=   9.3s\n",
      "[CV] clf__max_depth=5, clf__min_child_samples=500, clf__min_child_weight=1e-05, clf__num_leaves=50, clf__tree_method=gpu_exact, lsi__svd__n_components=300, lsi__vect__max_df=0.93 \n",
      "[CV]  clf__max_depth=5, clf__min_child_samples=500, clf__min_child_weight=1e-05, clf__num_leaves=50, clf__tree_method=gpu_exact, lsi__svd__n_components=300, lsi__vect__max_df=0.93, score=0.9223638470451911, total=   9.9s\n",
      "[CV] clf__max_depth=5, clf__min_child_samples=500, clf__min_child_weight=1e-05, clf__num_leaves=50, clf__tree_method=gpu_exact, lsi__svd__n_components=300, lsi__vect__max_df=0.93 \n",
      "[CV]  clf__max_depth=5, clf__min_child_samples=500, clf__min_child_weight=1e-05, clf__num_leaves=50, clf__tree_method=gpu_exact, lsi__svd__n_components=300, lsi__vect__max_df=0.93, score=0.891860465116279, total=   9.7s\n",
      "[CV] clf__max_depth=5, clf__min_child_samples=500, clf__min_child_weight=1e-05, clf__num_leaves=50, clf__tree_method=gpu_exact, lsi__svd__n_components=300, lsi__vect__max_df=0.95 \n",
      "[CV]  clf__max_depth=5, clf__min_child_samples=500, clf__min_child_weight=1e-05, clf__num_leaves=50, clf__tree_method=gpu_exact, lsi__svd__n_components=300, lsi__vect__max_df=0.95, score=0.9154113557358053, total=   9.0s\n",
      "[CV] clf__max_depth=5, clf__min_child_samples=500, clf__min_child_weight=1e-05, clf__num_leaves=50, clf__tree_method=gpu_exact, lsi__svd__n_components=300, lsi__vect__max_df=0.95 \n",
      "[CV]  clf__max_depth=5, clf__min_child_samples=500, clf__min_child_weight=1e-05, clf__num_leaves=50, clf__tree_method=gpu_exact, lsi__svd__n_components=300, lsi__vect__max_df=0.95, score=0.9200463499420626, total=   8.9s\n",
      "[CV] clf__max_depth=5, clf__min_child_samples=500, clf__min_child_weight=1e-05, clf__num_leaves=50, clf__tree_method=gpu_exact, lsi__svd__n_components=300, lsi__vect__max_df=0.95 \n",
      "[CV]  clf__max_depth=5, clf__min_child_samples=500, clf__min_child_weight=1e-05, clf__num_leaves=50, clf__tree_method=gpu_exact, lsi__svd__n_components=300, lsi__vect__max_df=0.95, score=0.8930232558139535, total=   9.1s\n",
      "[CV] clf__max_depth=5, clf__min_child_samples=500, clf__min_child_weight=1e-05, clf__num_leaves=50, clf__tree_method=gpu_exact, lsi__svd__n_components=300, lsi__vect__max_df=0.98 \n",
      "[CV]  clf__max_depth=5, clf__min_child_samples=500, clf__min_child_weight=1e-05, clf__num_leaves=50, clf__tree_method=gpu_exact, lsi__svd__n_components=300, lsi__vect__max_df=0.98, score=0.9200463499420626, total=   8.6s\n",
      "[CV] clf__max_depth=5, clf__min_child_samples=500, clf__min_child_weight=1e-05, clf__num_leaves=50, clf__tree_method=gpu_exact, lsi__svd__n_components=300, lsi__vect__max_df=0.98 \n",
      "[CV]  clf__max_depth=5, clf__min_child_samples=500, clf__min_child_weight=1e-05, clf__num_leaves=50, clf__tree_method=gpu_exact, lsi__svd__n_components=300, lsi__vect__max_df=0.98, score=0.9223638470451911, total=   9.1s\n",
      "[CV] clf__max_depth=5, clf__min_child_samples=500, clf__min_child_weight=1e-05, clf__num_leaves=50, clf__tree_method=gpu_exact, lsi__svd__n_components=300, lsi__vect__max_df=0.98 \n",
      "[CV]  clf__max_depth=5, clf__min_child_samples=500, clf__min_child_weight=1e-05, clf__num_leaves=50, clf__tree_method=gpu_exact, lsi__svd__n_components=300, lsi__vect__max_df=0.98, score=0.8883720930232558, total=   9.0s\n",
      "[CV] clf__max_depth=5, clf__min_child_samples=500, clf__min_child_weight=1, clf__num_leaves=6, clf__tree_method=gpu_exact, lsi__svd__n_components=250, lsi__vect__max_df=0.93 \n",
      "[CV]  clf__max_depth=5, clf__min_child_samples=500, clf__min_child_weight=1, clf__num_leaves=6, clf__tree_method=gpu_exact, lsi__svd__n_components=250, lsi__vect__max_df=0.93, score=0.9223638470451911, total=   7.2s\n",
      "[CV] clf__max_depth=5, clf__min_child_samples=500, clf__min_child_weight=1, clf__num_leaves=6, clf__tree_method=gpu_exact, lsi__svd__n_components=250, lsi__vect__max_df=0.93 \n",
      "[CV]  clf__max_depth=5, clf__min_child_samples=500, clf__min_child_weight=1, clf__num_leaves=6, clf__tree_method=gpu_exact, lsi__svd__n_components=250, lsi__vect__max_df=0.93, score=0.9223638470451911, total=   7.4s\n",
      "[CV] clf__max_depth=5, clf__min_child_samples=500, clf__min_child_weight=1, clf__num_leaves=6, clf__tree_method=gpu_exact, lsi__svd__n_components=250, lsi__vect__max_df=0.93 \n",
      "[CV]  clf__max_depth=5, clf__min_child_samples=500, clf__min_child_weight=1, clf__num_leaves=6, clf__tree_method=gpu_exact, lsi__svd__n_components=250, lsi__vect__max_df=0.93, score=0.8872093023255814, total=   7.5s\n",
      "[CV] clf__max_depth=5, clf__min_child_samples=500, clf__min_child_weight=1, clf__num_leaves=6, clf__tree_method=gpu_exact, lsi__svd__n_components=250, lsi__vect__max_df=0.95 \n",
      "[CV]  clf__max_depth=5, clf__min_child_samples=500, clf__min_child_weight=1, clf__num_leaves=6, clf__tree_method=gpu_exact, lsi__svd__n_components=250, lsi__vect__max_df=0.95, score=0.9246813441483198, total=   7.2s\n",
      "[CV] clf__max_depth=5, clf__min_child_samples=500, clf__min_child_weight=1, clf__num_leaves=6, clf__tree_method=gpu_exact, lsi__svd__n_components=250, lsi__vect__max_df=0.95 \n",
      "[CV]  clf__max_depth=5, clf__min_child_samples=500, clf__min_child_weight=1, clf__num_leaves=6, clf__tree_method=gpu_exact, lsi__svd__n_components=250, lsi__vect__max_df=0.95, score=0.9235225955967555, total=   7.7s\n",
      "[CV] clf__max_depth=5, clf__min_child_samples=500, clf__min_child_weight=1, clf__num_leaves=6, clf__tree_method=gpu_exact, lsi__svd__n_components=250, lsi__vect__max_df=0.95 \n",
      "[CV]  clf__max_depth=5, clf__min_child_samples=500, clf__min_child_weight=1, clf__num_leaves=6, clf__tree_method=gpu_exact, lsi__svd__n_components=250, lsi__vect__max_df=0.95, score=0.891860465116279, total=   7.6s\n",
      "[CV] clf__max_depth=5, clf__min_child_samples=500, clf__min_child_weight=1, clf__num_leaves=6, clf__tree_method=gpu_exact, lsi__svd__n_components=250, lsi__vect__max_df=0.98 \n",
      "[CV]  clf__max_depth=5, clf__min_child_samples=500, clf__min_child_weight=1, clf__num_leaves=6, clf__tree_method=gpu_exact, lsi__svd__n_components=250, lsi__vect__max_df=0.98, score=0.9154113557358053, total=   7.3s\n",
      "[CV] clf__max_depth=5, clf__min_child_samples=500, clf__min_child_weight=1, clf__num_leaves=6, clf__tree_method=gpu_exact, lsi__svd__n_components=250, lsi__vect__max_df=0.98 \n",
      "[CV]  clf__max_depth=5, clf__min_child_samples=500, clf__min_child_weight=1, clf__num_leaves=6, clf__tree_method=gpu_exact, lsi__svd__n_components=250, lsi__vect__max_df=0.98, score=0.9269988412514485, total=   7.6s\n",
      "[CV] clf__max_depth=5, clf__min_child_samples=500, clf__min_child_weight=1, clf__num_leaves=6, clf__tree_method=gpu_exact, lsi__svd__n_components=250, lsi__vect__max_df=0.98 \n",
      "[CV]  clf__max_depth=5, clf__min_child_samples=500, clf__min_child_weight=1, clf__num_leaves=6, clf__tree_method=gpu_exact, lsi__svd__n_components=250, lsi__vect__max_df=0.98, score=0.8906976744186047, total=   8.0s\n",
      "[CV] clf__max_depth=5, clf__min_child_samples=500, clf__min_child_weight=1, clf__num_leaves=6, clf__tree_method=gpu_exact, lsi__svd__n_components=300, lsi__vect__max_df=0.93 \n",
      "[CV]  clf__max_depth=5, clf__min_child_samples=500, clf__min_child_weight=1, clf__num_leaves=6, clf__tree_method=gpu_exact, lsi__svd__n_components=300, lsi__vect__max_df=0.93, score=0.9165701042873696, total=   9.0s\n",
      "[CV] clf__max_depth=5, clf__min_child_samples=500, clf__min_child_weight=1, clf__num_leaves=6, clf__tree_method=gpu_exact, lsi__svd__n_components=300, lsi__vect__max_df=0.93 \n",
      "[CV]  clf__max_depth=5, clf__min_child_samples=500, clf__min_child_weight=1, clf__num_leaves=6, clf__tree_method=gpu_exact, lsi__svd__n_components=300, lsi__vect__max_df=0.93, score=0.9246813441483198, total=   9.2s\n",
      "[CV] clf__max_depth=5, clf__min_child_samples=500, clf__min_child_weight=1, clf__num_leaves=6, clf__tree_method=gpu_exact, lsi__svd__n_components=300, lsi__vect__max_df=0.93 \n",
      "[CV]  clf__max_depth=5, clf__min_child_samples=500, clf__min_child_weight=1, clf__num_leaves=6, clf__tree_method=gpu_exact, lsi__svd__n_components=300, lsi__vect__max_df=0.93, score=0.8895348837209303, total=   9.6s\n",
      "[CV] clf__max_depth=5, clf__min_child_samples=500, clf__min_child_weight=1, clf__num_leaves=6, clf__tree_method=gpu_exact, lsi__svd__n_components=300, lsi__vect__max_df=0.95 \n",
      "[CV]  clf__max_depth=5, clf__min_child_samples=500, clf__min_child_weight=1, clf__num_leaves=6, clf__tree_method=gpu_exact, lsi__svd__n_components=300, lsi__vect__max_df=0.95, score=0.9246813441483198, total=   8.8s\n",
      "[CV] clf__max_depth=5, clf__min_child_samples=500, clf__min_child_weight=1, clf__num_leaves=6, clf__tree_method=gpu_exact, lsi__svd__n_components=300, lsi__vect__max_df=0.95 \n",
      "[CV]  clf__max_depth=5, clf__min_child_samples=500, clf__min_child_weight=1, clf__num_leaves=6, clf__tree_method=gpu_exact, lsi__svd__n_components=300, lsi__vect__max_df=0.95, score=0.9223638470451911, total=   9.4s\n",
      "[CV] clf__max_depth=5, clf__min_child_samples=500, clf__min_child_weight=1, clf__num_leaves=6, clf__tree_method=gpu_exact, lsi__svd__n_components=300, lsi__vect__max_df=0.95 \n",
      "[CV]  clf__max_depth=5, clf__min_child_samples=500, clf__min_child_weight=1, clf__num_leaves=6, clf__tree_method=gpu_exact, lsi__svd__n_components=300, lsi__vect__max_df=0.95, score=0.8906976744186047, total=   9.7s\n",
      "[CV] clf__max_depth=5, clf__min_child_samples=500, clf__min_child_weight=1, clf__num_leaves=6, clf__tree_method=gpu_exact, lsi__svd__n_components=300, lsi__vect__max_df=0.98 \n",
      "[CV]  clf__max_depth=5, clf__min_child_samples=500, clf__min_child_weight=1, clf__num_leaves=6, clf__tree_method=gpu_exact, lsi__svd__n_components=300, lsi__vect__max_df=0.98, score=0.9165701042873696, total=   8.8s\n",
      "[CV] clf__max_depth=5, clf__min_child_samples=500, clf__min_child_weight=1, clf__num_leaves=6, clf__tree_method=gpu_exact, lsi__svd__n_components=300, lsi__vect__max_df=0.98 \n",
      "[CV]  clf__max_depth=5, clf__min_child_samples=500, clf__min_child_weight=1, clf__num_leaves=6, clf__tree_method=gpu_exact, lsi__svd__n_components=300, lsi__vect__max_df=0.98, score=0.9212050984936269, total=   9.5s\n",
      "[CV] clf__max_depth=5, clf__min_child_samples=500, clf__min_child_weight=1, clf__num_leaves=6, clf__tree_method=gpu_exact, lsi__svd__n_components=300, lsi__vect__max_df=0.98 \n",
      "[CV]  clf__max_depth=5, clf__min_child_samples=500, clf__min_child_weight=1, clf__num_leaves=6, clf__tree_method=gpu_exact, lsi__svd__n_components=300, lsi__vect__max_df=0.98, score=0.8953488372093024, total=   9.3s\n",
      "[CV] clf__max_depth=5, clf__min_child_samples=500, clf__min_child_weight=1, clf__num_leaves=50, clf__tree_method=gpu_exact, lsi__svd__n_components=250, lsi__vect__max_df=0.93 \n",
      "[CV]  clf__max_depth=5, clf__min_child_samples=500, clf__min_child_weight=1, clf__num_leaves=50, clf__tree_method=gpu_exact, lsi__svd__n_components=250, lsi__vect__max_df=0.93, score=0.9200463499420626, total=   8.1s\n",
      "[CV] clf__max_depth=5, clf__min_child_samples=500, clf__min_child_weight=1, clf__num_leaves=50, clf__tree_method=gpu_exact, lsi__svd__n_components=250, lsi__vect__max_df=0.93 \n",
      "[CV]  clf__max_depth=5, clf__min_child_samples=500, clf__min_child_weight=1, clf__num_leaves=50, clf__tree_method=gpu_exact, lsi__svd__n_components=250, lsi__vect__max_df=0.93, score=0.9235225955967555, total=   7.8s\n",
      "[CV] clf__max_depth=5, clf__min_child_samples=500, clf__min_child_weight=1, clf__num_leaves=50, clf__tree_method=gpu_exact, lsi__svd__n_components=250, lsi__vect__max_df=0.93 \n",
      "[CV]  clf__max_depth=5, clf__min_child_samples=500, clf__min_child_weight=1, clf__num_leaves=50, clf__tree_method=gpu_exact, lsi__svd__n_components=250, lsi__vect__max_df=0.93, score=0.8906976744186047, total=   7.7s\n",
      "[CV] clf__max_depth=5, clf__min_child_samples=500, clf__min_child_weight=1, clf__num_leaves=50, clf__tree_method=gpu_exact, lsi__svd__n_components=250, lsi__vect__max_df=0.95 \n",
      "[CV]  clf__max_depth=5, clf__min_child_samples=500, clf__min_child_weight=1, clf__num_leaves=50, clf__tree_method=gpu_exact, lsi__svd__n_components=250, lsi__vect__max_df=0.95, score=0.9154113557358053, total=   7.6s\n",
      "[CV] clf__max_depth=5, clf__min_child_samples=500, clf__min_child_weight=1, clf__num_leaves=50, clf__tree_method=gpu_exact, lsi__svd__n_components=250, lsi__vect__max_df=0.95 \n",
      "[CV]  clf__max_depth=5, clf__min_child_samples=500, clf__min_child_weight=1, clf__num_leaves=50, clf__tree_method=gpu_exact, lsi__svd__n_components=250, lsi__vect__max_df=0.95, score=0.9223638470451911, total=   7.9s\n",
      "[CV] clf__max_depth=5, clf__min_child_samples=500, clf__min_child_weight=1, clf__num_leaves=50, clf__tree_method=gpu_exact, lsi__svd__n_components=250, lsi__vect__max_df=0.95 \n",
      "[CV]  clf__max_depth=5, clf__min_child_samples=500, clf__min_child_weight=1, clf__num_leaves=50, clf__tree_method=gpu_exact, lsi__svd__n_components=250, lsi__vect__max_df=0.95, score=0.8895348837209303, total=   7.4s\n",
      "[CV] clf__max_depth=5, clf__min_child_samples=500, clf__min_child_weight=1, clf__num_leaves=50, clf__tree_method=gpu_exact, lsi__svd__n_components=250, lsi__vect__max_df=0.98 \n",
      "[CV]  clf__max_depth=5, clf__min_child_samples=500, clf__min_child_weight=1, clf__num_leaves=50, clf__tree_method=gpu_exact, lsi__svd__n_components=250, lsi__vect__max_df=0.98, score=0.9188876013904983, total=   7.7s\n",
      "[CV] clf__max_depth=5, clf__min_child_samples=500, clf__min_child_weight=1, clf__num_leaves=50, clf__tree_method=gpu_exact, lsi__svd__n_components=250, lsi__vect__max_df=0.98 \n",
      "[CV]  clf__max_depth=5, clf__min_child_samples=500, clf__min_child_weight=1, clf__num_leaves=50, clf__tree_method=gpu_exact, lsi__svd__n_components=250, lsi__vect__max_df=0.98, score=0.9258400926998841, total=   7.5s\n",
      "[CV] clf__max_depth=5, clf__min_child_samples=500, clf__min_child_weight=1, clf__num_leaves=50, clf__tree_method=gpu_exact, lsi__svd__n_components=250, lsi__vect__max_df=0.98 \n",
      "[CV]  clf__max_depth=5, clf__min_child_samples=500, clf__min_child_weight=1, clf__num_leaves=50, clf__tree_method=gpu_exact, lsi__svd__n_components=250, lsi__vect__max_df=0.98, score=0.8895348837209303, total=   7.4s\n",
      "[CV] clf__max_depth=5, clf__min_child_samples=500, clf__min_child_weight=1, clf__num_leaves=50, clf__tree_method=gpu_exact, lsi__svd__n_components=300, lsi__vect__max_df=0.93 \n",
      "[CV]  clf__max_depth=5, clf__min_child_samples=500, clf__min_child_weight=1, clf__num_leaves=50, clf__tree_method=gpu_exact, lsi__svd__n_components=300, lsi__vect__max_df=0.93, score=0.9223638470451911, total=   8.8s\n",
      "[CV] clf__max_depth=5, clf__min_child_samples=500, clf__min_child_weight=1, clf__num_leaves=50, clf__tree_method=gpu_exact, lsi__svd__n_components=300, lsi__vect__max_df=0.93 \n",
      "[CV]  clf__max_depth=5, clf__min_child_samples=500, clf__min_child_weight=1, clf__num_leaves=50, clf__tree_method=gpu_exact, lsi__svd__n_components=300, lsi__vect__max_df=0.93, score=0.9223638470451911, total=  10.1s\n",
      "[CV] clf__max_depth=5, clf__min_child_samples=500, clf__min_child_weight=1, clf__num_leaves=50, clf__tree_method=gpu_exact, lsi__svd__n_components=300, lsi__vect__max_df=0.93 \n",
      "[CV]  clf__max_depth=5, clf__min_child_samples=500, clf__min_child_weight=1, clf__num_leaves=50, clf__tree_method=gpu_exact, lsi__svd__n_components=300, lsi__vect__max_df=0.93, score=0.8941860465116279, total=  11.0s\n",
      "[CV] clf__max_depth=5, clf__min_child_samples=500, clf__min_child_weight=1, clf__num_leaves=50, clf__tree_method=gpu_exact, lsi__svd__n_components=300, lsi__vect__max_df=0.95 \n",
      "[CV]  clf__max_depth=5, clf__min_child_samples=500, clf__min_child_weight=1, clf__num_leaves=50, clf__tree_method=gpu_exact, lsi__svd__n_components=300, lsi__vect__max_df=0.95, score=0.9130938586326767, total=   8.5s\n",
      "[CV] clf__max_depth=5, clf__min_child_samples=500, clf__min_child_weight=1, clf__num_leaves=50, clf__tree_method=gpu_exact, lsi__svd__n_components=300, lsi__vect__max_df=0.95 \n",
      "[CV]  clf__max_depth=5, clf__min_child_samples=500, clf__min_child_weight=1, clf__num_leaves=50, clf__tree_method=gpu_exact, lsi__svd__n_components=300, lsi__vect__max_df=0.95, score=0.9200463499420626, total=   8.8s\n",
      "[CV] clf__max_depth=5, clf__min_child_samples=500, clf__min_child_weight=1, clf__num_leaves=50, clf__tree_method=gpu_exact, lsi__svd__n_components=300, lsi__vect__max_df=0.95 \n",
      "[CV]  clf__max_depth=5, clf__min_child_samples=500, clf__min_child_weight=1, clf__num_leaves=50, clf__tree_method=gpu_exact, lsi__svd__n_components=300, lsi__vect__max_df=0.95, score=0.8895348837209303, total=   8.8s\n",
      "[CV] clf__max_depth=5, clf__min_child_samples=500, clf__min_child_weight=1, clf__num_leaves=50, clf__tree_method=gpu_exact, lsi__svd__n_components=300, lsi__vect__max_df=0.98 \n",
      "[CV]  clf__max_depth=5, clf__min_child_samples=500, clf__min_child_weight=1, clf__num_leaves=50, clf__tree_method=gpu_exact, lsi__svd__n_components=300, lsi__vect__max_df=0.98, score=0.9212050984936269, total=   8.5s\n",
      "[CV] clf__max_depth=5, clf__min_child_samples=500, clf__min_child_weight=1, clf__num_leaves=50, clf__tree_method=gpu_exact, lsi__svd__n_components=300, lsi__vect__max_df=0.98 \n",
      "[CV]  clf__max_depth=5, clf__min_child_samples=500, clf__min_child_weight=1, clf__num_leaves=50, clf__tree_method=gpu_exact, lsi__svd__n_components=300, lsi__vect__max_df=0.98, score=0.9281575898030128, total=   8.6s\n",
      "[CV] clf__max_depth=5, clf__min_child_samples=500, clf__min_child_weight=1, clf__num_leaves=50, clf__tree_method=gpu_exact, lsi__svd__n_components=300, lsi__vect__max_df=0.98 \n",
      "[CV]  clf__max_depth=5, clf__min_child_samples=500, clf__min_child_weight=1, clf__num_leaves=50, clf__tree_method=gpu_exact, lsi__svd__n_components=300, lsi__vect__max_df=0.98, score=0.8872093023255814, total=   8.6s\n",
      "[CV] clf__max_depth=5, clf__min_child_samples=500, clf__min_child_weight=10000.0, clf__num_leaves=6, clf__tree_method=gpu_exact, lsi__svd__n_components=250, lsi__vect__max_df=0.93 \n",
      "[CV]  clf__max_depth=5, clf__min_child_samples=500, clf__min_child_weight=10000.0, clf__num_leaves=6, clf__tree_method=gpu_exact, lsi__svd__n_components=250, lsi__vect__max_df=0.93, score=0.6326767091541136, total=   6.9s\n",
      "[CV] clf__max_depth=5, clf__min_child_samples=500, clf__min_child_weight=10000.0, clf__num_leaves=6, clf__tree_method=gpu_exact, lsi__svd__n_components=250, lsi__vect__max_df=0.93 \n",
      "[CV]  clf__max_depth=5, clf__min_child_samples=500, clf__min_child_weight=10000.0, clf__num_leaves=6, clf__tree_method=gpu_exact, lsi__svd__n_components=250, lsi__vect__max_df=0.93, score=0.6326767091541136, total=   7.1s\n",
      "[CV] clf__max_depth=5, clf__min_child_samples=500, clf__min_child_weight=10000.0, clf__num_leaves=6, clf__tree_method=gpu_exact, lsi__svd__n_components=250, lsi__vect__max_df=0.93 \n",
      "[CV]  clf__max_depth=5, clf__min_child_samples=500, clf__min_child_weight=10000.0, clf__num_leaves=6, clf__tree_method=gpu_exact, lsi__svd__n_components=250, lsi__vect__max_df=0.93, score=0.6337209302325582, total=   7.1s\n",
      "[CV] clf__max_depth=5, clf__min_child_samples=500, clf__min_child_weight=10000.0, clf__num_leaves=6, clf__tree_method=gpu_exact, lsi__svd__n_components=250, lsi__vect__max_df=0.95 \n",
      "[CV]  clf__max_depth=5, clf__min_child_samples=500, clf__min_child_weight=10000.0, clf__num_leaves=6, clf__tree_method=gpu_exact, lsi__svd__n_components=250, lsi__vect__max_df=0.95, score=0.6326767091541136, total=   6.9s\n",
      "[CV] clf__max_depth=5, clf__min_child_samples=500, clf__min_child_weight=10000.0, clf__num_leaves=6, clf__tree_method=gpu_exact, lsi__svd__n_components=250, lsi__vect__max_df=0.95 \n",
      "[CV]  clf__max_depth=5, clf__min_child_samples=500, clf__min_child_weight=10000.0, clf__num_leaves=6, clf__tree_method=gpu_exact, lsi__svd__n_components=250, lsi__vect__max_df=0.95, score=0.6326767091541136, total=   7.1s\n",
      "[CV] clf__max_depth=5, clf__min_child_samples=500, clf__min_child_weight=10000.0, clf__num_leaves=6, clf__tree_method=gpu_exact, lsi__svd__n_components=250, lsi__vect__max_df=0.95 \n",
      "[CV]  clf__max_depth=5, clf__min_child_samples=500, clf__min_child_weight=10000.0, clf__num_leaves=6, clf__tree_method=gpu_exact, lsi__svd__n_components=250, lsi__vect__max_df=0.95, score=0.6337209302325582, total=   7.3s\n",
      "[CV] clf__max_depth=5, clf__min_child_samples=500, clf__min_child_weight=10000.0, clf__num_leaves=6, clf__tree_method=gpu_exact, lsi__svd__n_components=250, lsi__vect__max_df=0.98 \n",
      "[CV]  clf__max_depth=5, clf__min_child_samples=500, clf__min_child_weight=10000.0, clf__num_leaves=6, clf__tree_method=gpu_exact, lsi__svd__n_components=250, lsi__vect__max_df=0.98, score=0.6326767091541136, total=   6.9s\n",
      "[CV] clf__max_depth=5, clf__min_child_samples=500, clf__min_child_weight=10000.0, clf__num_leaves=6, clf__tree_method=gpu_exact, lsi__svd__n_components=250, lsi__vect__max_df=0.98 \n",
      "[CV]  clf__max_depth=5, clf__min_child_samples=500, clf__min_child_weight=10000.0, clf__num_leaves=6, clf__tree_method=gpu_exact, lsi__svd__n_components=250, lsi__vect__max_df=0.98, score=0.6326767091541136, total=   7.2s\n",
      "[CV] clf__max_depth=5, clf__min_child_samples=500, clf__min_child_weight=10000.0, clf__num_leaves=6, clf__tree_method=gpu_exact, lsi__svd__n_components=250, lsi__vect__max_df=0.98 \n",
      "[CV]  clf__max_depth=5, clf__min_child_samples=500, clf__min_child_weight=10000.0, clf__num_leaves=6, clf__tree_method=gpu_exact, lsi__svd__n_components=250, lsi__vect__max_df=0.98, score=0.6337209302325582, total=   7.8s\n",
      "[CV] clf__max_depth=5, clf__min_child_samples=500, clf__min_child_weight=10000.0, clf__num_leaves=6, clf__tree_method=gpu_exact, lsi__svd__n_components=300, lsi__vect__max_df=0.93 \n",
      "[CV]  clf__max_depth=5, clf__min_child_samples=500, clf__min_child_weight=10000.0, clf__num_leaves=6, clf__tree_method=gpu_exact, lsi__svd__n_components=300, lsi__vect__max_df=0.93, score=0.6326767091541136, total=   9.3s\n",
      "[CV] clf__max_depth=5, clf__min_child_samples=500, clf__min_child_weight=10000.0, clf__num_leaves=6, clf__tree_method=gpu_exact, lsi__svd__n_components=300, lsi__vect__max_df=0.93 \n",
      "[CV]  clf__max_depth=5, clf__min_child_samples=500, clf__min_child_weight=10000.0, clf__num_leaves=6, clf__tree_method=gpu_exact, lsi__svd__n_components=300, lsi__vect__max_df=0.93, score=0.6326767091541136, total=   9.0s\n",
      "[CV] clf__max_depth=5, clf__min_child_samples=500, clf__min_child_weight=10000.0, clf__num_leaves=6, clf__tree_method=gpu_exact, lsi__svd__n_components=300, lsi__vect__max_df=0.93 \n",
      "[CV]  clf__max_depth=5, clf__min_child_samples=500, clf__min_child_weight=10000.0, clf__num_leaves=6, clf__tree_method=gpu_exact, lsi__svd__n_components=300, lsi__vect__max_df=0.93, score=0.6337209302325582, total=   9.2s\n",
      "[CV] clf__max_depth=5, clf__min_child_samples=500, clf__min_child_weight=10000.0, clf__num_leaves=6, clf__tree_method=gpu_exact, lsi__svd__n_components=300, lsi__vect__max_df=0.95 \n",
      "[CV]  clf__max_depth=5, clf__min_child_samples=500, clf__min_child_weight=10000.0, clf__num_leaves=6, clf__tree_method=gpu_exact, lsi__svd__n_components=300, lsi__vect__max_df=0.95, score=0.6326767091541136, total=   8.8s\n",
      "[CV] clf__max_depth=5, clf__min_child_samples=500, clf__min_child_weight=10000.0, clf__num_leaves=6, clf__tree_method=gpu_exact, lsi__svd__n_components=300, lsi__vect__max_df=0.95 \n",
      "[CV]  clf__max_depth=5, clf__min_child_samples=500, clf__min_child_weight=10000.0, clf__num_leaves=6, clf__tree_method=gpu_exact, lsi__svd__n_components=300, lsi__vect__max_df=0.95, score=0.6326767091541136, total=   9.2s\n",
      "[CV] clf__max_depth=5, clf__min_child_samples=500, clf__min_child_weight=10000.0, clf__num_leaves=6, clf__tree_method=gpu_exact, lsi__svd__n_components=300, lsi__vect__max_df=0.95 \n",
      "[CV]  clf__max_depth=5, clf__min_child_samples=500, clf__min_child_weight=10000.0, clf__num_leaves=6, clf__tree_method=gpu_exact, lsi__svd__n_components=300, lsi__vect__max_df=0.95, score=0.6337209302325582, total=   9.1s\n",
      "[CV] clf__max_depth=5, clf__min_child_samples=500, clf__min_child_weight=10000.0, clf__num_leaves=6, clf__tree_method=gpu_exact, lsi__svd__n_components=300, lsi__vect__max_df=0.98 \n",
      "[CV]  clf__max_depth=5, clf__min_child_samples=500, clf__min_child_weight=10000.0, clf__num_leaves=6, clf__tree_method=gpu_exact, lsi__svd__n_components=300, lsi__vect__max_df=0.98, score=0.6326767091541136, total=   9.2s\n",
      "[CV] clf__max_depth=5, clf__min_child_samples=500, clf__min_child_weight=10000.0, clf__num_leaves=6, clf__tree_method=gpu_exact, lsi__svd__n_components=300, lsi__vect__max_df=0.98 \n",
      "[CV]  clf__max_depth=5, clf__min_child_samples=500, clf__min_child_weight=10000.0, clf__num_leaves=6, clf__tree_method=gpu_exact, lsi__svd__n_components=300, lsi__vect__max_df=0.98, score=0.6326767091541136, total=   9.1s\n",
      "[CV] clf__max_depth=5, clf__min_child_samples=500, clf__min_child_weight=10000.0, clf__num_leaves=6, clf__tree_method=gpu_exact, lsi__svd__n_components=300, lsi__vect__max_df=0.98 \n",
      "[CV]  clf__max_depth=5, clf__min_child_samples=500, clf__min_child_weight=10000.0, clf__num_leaves=6, clf__tree_method=gpu_exact, lsi__svd__n_components=300, lsi__vect__max_df=0.98, score=0.6337209302325582, total=   9.8s\n",
      "[CV] clf__max_depth=5, clf__min_child_samples=500, clf__min_child_weight=10000.0, clf__num_leaves=50, clf__tree_method=gpu_exact, lsi__svd__n_components=250, lsi__vect__max_df=0.93 \n",
      "[CV]  clf__max_depth=5, clf__min_child_samples=500, clf__min_child_weight=10000.0, clf__num_leaves=50, clf__tree_method=gpu_exact, lsi__svd__n_components=250, lsi__vect__max_df=0.93, score=0.6326767091541136, total=   7.7s\n",
      "[CV] clf__max_depth=5, clf__min_child_samples=500, clf__min_child_weight=10000.0, clf__num_leaves=50, clf__tree_method=gpu_exact, lsi__svd__n_components=250, lsi__vect__max_df=0.93 \n",
      "[CV]  clf__max_depth=5, clf__min_child_samples=500, clf__min_child_weight=10000.0, clf__num_leaves=50, clf__tree_method=gpu_exact, lsi__svd__n_components=250, lsi__vect__max_df=0.93, score=0.6326767091541136, total=   7.4s\n",
      "[CV] clf__max_depth=5, clf__min_child_samples=500, clf__min_child_weight=10000.0, clf__num_leaves=50, clf__tree_method=gpu_exact, lsi__svd__n_components=250, lsi__vect__max_df=0.93 \n",
      "[CV]  clf__max_depth=5, clf__min_child_samples=500, clf__min_child_weight=10000.0, clf__num_leaves=50, clf__tree_method=gpu_exact, lsi__svd__n_components=250, lsi__vect__max_df=0.93, score=0.6337209302325582, total=   7.5s\n",
      "[CV] clf__max_depth=5, clf__min_child_samples=500, clf__min_child_weight=10000.0, clf__num_leaves=50, clf__tree_method=gpu_exact, lsi__svd__n_components=250, lsi__vect__max_df=0.95 \n",
      "[CV]  clf__max_depth=5, clf__min_child_samples=500, clf__min_child_weight=10000.0, clf__num_leaves=50, clf__tree_method=gpu_exact, lsi__svd__n_components=250, lsi__vect__max_df=0.95, score=0.6326767091541136, total=   7.5s\n",
      "[CV] clf__max_depth=5, clf__min_child_samples=500, clf__min_child_weight=10000.0, clf__num_leaves=50, clf__tree_method=gpu_exact, lsi__svd__n_components=250, lsi__vect__max_df=0.95 \n",
      "[CV]  clf__max_depth=5, clf__min_child_samples=500, clf__min_child_weight=10000.0, clf__num_leaves=50, clf__tree_method=gpu_exact, lsi__svd__n_components=250, lsi__vect__max_df=0.95, score=0.6326767091541136, total=   7.4s\n",
      "[CV] clf__max_depth=5, clf__min_child_samples=500, clf__min_child_weight=10000.0, clf__num_leaves=50, clf__tree_method=gpu_exact, lsi__svd__n_components=250, lsi__vect__max_df=0.95 \n",
      "[CV]  clf__max_depth=5, clf__min_child_samples=500, clf__min_child_weight=10000.0, clf__num_leaves=50, clf__tree_method=gpu_exact, lsi__svd__n_components=250, lsi__vect__max_df=0.95, score=0.6337209302325582, total=   7.7s\n",
      "[CV] clf__max_depth=5, clf__min_child_samples=500, clf__min_child_weight=10000.0, clf__num_leaves=50, clf__tree_method=gpu_exact, lsi__svd__n_components=250, lsi__vect__max_df=0.98 \n",
      "[CV]  clf__max_depth=5, clf__min_child_samples=500, clf__min_child_weight=10000.0, clf__num_leaves=50, clf__tree_method=gpu_exact, lsi__svd__n_components=250, lsi__vect__max_df=0.98, score=0.6326767091541136, total=   7.3s\n",
      "[CV] clf__max_depth=5, clf__min_child_samples=500, clf__min_child_weight=10000.0, clf__num_leaves=50, clf__tree_method=gpu_exact, lsi__svd__n_components=250, lsi__vect__max_df=0.98 \n",
      "[CV]  clf__max_depth=5, clf__min_child_samples=500, clf__min_child_weight=10000.0, clf__num_leaves=50, clf__tree_method=gpu_exact, lsi__svd__n_components=250, lsi__vect__max_df=0.98, score=0.6326767091541136, total=   7.8s\n",
      "[CV] clf__max_depth=5, clf__min_child_samples=500, clf__min_child_weight=10000.0, clf__num_leaves=50, clf__tree_method=gpu_exact, lsi__svd__n_components=250, lsi__vect__max_df=0.98 \n",
      "[CV]  clf__max_depth=5, clf__min_child_samples=500, clf__min_child_weight=10000.0, clf__num_leaves=50, clf__tree_method=gpu_exact, lsi__svd__n_components=250, lsi__vect__max_df=0.98, score=0.6337209302325582, total=   7.5s\n",
      "[CV] clf__max_depth=5, clf__min_child_samples=500, clf__min_child_weight=10000.0, clf__num_leaves=50, clf__tree_method=gpu_exact, lsi__svd__n_components=300, lsi__vect__max_df=0.93 \n",
      "[CV]  clf__max_depth=5, clf__min_child_samples=500, clf__min_child_weight=10000.0, clf__num_leaves=50, clf__tree_method=gpu_exact, lsi__svd__n_components=300, lsi__vect__max_df=0.93, score=0.6326767091541136, total=   8.9s\n",
      "[CV] clf__max_depth=5, clf__min_child_samples=500, clf__min_child_weight=10000.0, clf__num_leaves=50, clf__tree_method=gpu_exact, lsi__svd__n_components=300, lsi__vect__max_df=0.93 \n",
      "[CV]  clf__max_depth=5, clf__min_child_samples=500, clf__min_child_weight=10000.0, clf__num_leaves=50, clf__tree_method=gpu_exact, lsi__svd__n_components=300, lsi__vect__max_df=0.93, score=0.6326767091541136, total=   8.8s\n",
      "[CV] clf__max_depth=5, clf__min_child_samples=500, clf__min_child_weight=10000.0, clf__num_leaves=50, clf__tree_method=gpu_exact, lsi__svd__n_components=300, lsi__vect__max_df=0.93 \n",
      "[CV]  clf__max_depth=5, clf__min_child_samples=500, clf__min_child_weight=10000.0, clf__num_leaves=50, clf__tree_method=gpu_exact, lsi__svd__n_components=300, lsi__vect__max_df=0.93, score=0.6337209302325582, total=   9.7s\n",
      "[CV] clf__max_depth=5, clf__min_child_samples=500, clf__min_child_weight=10000.0, clf__num_leaves=50, clf__tree_method=gpu_exact, lsi__svd__n_components=300, lsi__vect__max_df=0.95 \n",
      "[CV]  clf__max_depth=5, clf__min_child_samples=500, clf__min_child_weight=10000.0, clf__num_leaves=50, clf__tree_method=gpu_exact, lsi__svd__n_components=300, lsi__vect__max_df=0.95, score=0.6326767091541136, total=   8.5s\n",
      "[CV] clf__max_depth=5, clf__min_child_samples=500, clf__min_child_weight=10000.0, clf__num_leaves=50, clf__tree_method=gpu_exact, lsi__svd__n_components=300, lsi__vect__max_df=0.95 \n",
      "[CV]  clf__max_depth=5, clf__min_child_samples=500, clf__min_child_weight=10000.0, clf__num_leaves=50, clf__tree_method=gpu_exact, lsi__svd__n_components=300, lsi__vect__max_df=0.95, score=0.6326767091541136, total=   9.1s\n",
      "[CV] clf__max_depth=5, clf__min_child_samples=500, clf__min_child_weight=10000.0, clf__num_leaves=50, clf__tree_method=gpu_exact, lsi__svd__n_components=300, lsi__vect__max_df=0.95 \n",
      "[CV]  clf__max_depth=5, clf__min_child_samples=500, clf__min_child_weight=10000.0, clf__num_leaves=50, clf__tree_method=gpu_exact, lsi__svd__n_components=300, lsi__vect__max_df=0.95, score=0.6337209302325582, total=   9.5s\n",
      "[CV] clf__max_depth=5, clf__min_child_samples=500, clf__min_child_weight=10000.0, clf__num_leaves=50, clf__tree_method=gpu_exact, lsi__svd__n_components=300, lsi__vect__max_df=0.98 \n",
      "[CV]  clf__max_depth=5, clf__min_child_samples=500, clf__min_child_weight=10000.0, clf__num_leaves=50, clf__tree_method=gpu_exact, lsi__svd__n_components=300, lsi__vect__max_df=0.98, score=0.6326767091541136, total=   8.3s\n",
      "[CV] clf__max_depth=5, clf__min_child_samples=500, clf__min_child_weight=10000.0, clf__num_leaves=50, clf__tree_method=gpu_exact, lsi__svd__n_components=300, lsi__vect__max_df=0.98 \n",
      "[CV]  clf__max_depth=5, clf__min_child_samples=500, clf__min_child_weight=10000.0, clf__num_leaves=50, clf__tree_method=gpu_exact, lsi__svd__n_components=300, lsi__vect__max_df=0.98, score=0.6326767091541136, total=   8.8s\n",
      "[CV] clf__max_depth=5, clf__min_child_samples=500, clf__min_child_weight=10000.0, clf__num_leaves=50, clf__tree_method=gpu_exact, lsi__svd__n_components=300, lsi__vect__max_df=0.98 \n",
      "[CV]  clf__max_depth=5, clf__min_child_samples=500, clf__min_child_weight=10000.0, clf__num_leaves=50, clf__tree_method=gpu_exact, lsi__svd__n_components=300, lsi__vect__max_df=0.98, score=0.6337209302325582, total=   8.6s\n",
      "[CV] clf__max_depth=10, clf__min_child_samples=100, clf__min_child_weight=1e-05, clf__num_leaves=6, clf__tree_method=gpu_exact, lsi__svd__n_components=250, lsi__vect__max_df=0.93 \n",
      "[CV]  clf__max_depth=10, clf__min_child_samples=100, clf__min_child_weight=1e-05, clf__num_leaves=6, clf__tree_method=gpu_exact, lsi__svd__n_components=250, lsi__vect__max_df=0.93, score=0.9130938586326767, total=   8.1s\n",
      "[CV] clf__max_depth=10, clf__min_child_samples=100, clf__min_child_weight=1e-05, clf__num_leaves=6, clf__tree_method=gpu_exact, lsi__svd__n_components=250, lsi__vect__max_df=0.93 \n",
      "[CV]  clf__max_depth=10, clf__min_child_samples=100, clf__min_child_weight=1e-05, clf__num_leaves=6, clf__tree_method=gpu_exact, lsi__svd__n_components=250, lsi__vect__max_df=0.93, score=0.9212050984936269, total=   8.6s\n",
      "[CV] clf__max_depth=10, clf__min_child_samples=100, clf__min_child_weight=1e-05, clf__num_leaves=6, clf__tree_method=gpu_exact, lsi__svd__n_components=250, lsi__vect__max_df=0.93 \n",
      "[CV]  clf__max_depth=10, clf__min_child_samples=100, clf__min_child_weight=1e-05, clf__num_leaves=6, clf__tree_method=gpu_exact, lsi__svd__n_components=250, lsi__vect__max_df=0.93, score=0.8860465116279069, total=   8.8s\n",
      "[CV] clf__max_depth=10, clf__min_child_samples=100, clf__min_child_weight=1e-05, clf__num_leaves=6, clf__tree_method=gpu_exact, lsi__svd__n_components=250, lsi__vect__max_df=0.95 \n",
      "[CV]  clf__max_depth=10, clf__min_child_samples=100, clf__min_child_weight=1e-05, clf__num_leaves=6, clf__tree_method=gpu_exact, lsi__svd__n_components=250, lsi__vect__max_df=0.95, score=0.9119351100811124, total=   8.5s\n",
      "[CV] clf__max_depth=10, clf__min_child_samples=100, clf__min_child_weight=1e-05, clf__num_leaves=6, clf__tree_method=gpu_exact, lsi__svd__n_components=250, lsi__vect__max_df=0.95 \n",
      "[CV]  clf__max_depth=10, clf__min_child_samples=100, clf__min_child_weight=1e-05, clf__num_leaves=6, clf__tree_method=gpu_exact, lsi__svd__n_components=250, lsi__vect__max_df=0.95, score=0.9165701042873696, total=   8.4s\n",
      "[CV] clf__max_depth=10, clf__min_child_samples=100, clf__min_child_weight=1e-05, clf__num_leaves=6, clf__tree_method=gpu_exact, lsi__svd__n_components=250, lsi__vect__max_df=0.95 \n",
      "[CV]  clf__max_depth=10, clf__min_child_samples=100, clf__min_child_weight=1e-05, clf__num_leaves=6, clf__tree_method=gpu_exact, lsi__svd__n_components=250, lsi__vect__max_df=0.95, score=0.8848837209302326, total=   8.4s\n",
      "[CV] clf__max_depth=10, clf__min_child_samples=100, clf__min_child_weight=1e-05, clf__num_leaves=6, clf__tree_method=gpu_exact, lsi__svd__n_components=250, lsi__vect__max_df=0.98 \n",
      "[CV]  clf__max_depth=10, clf__min_child_samples=100, clf__min_child_weight=1e-05, clf__num_leaves=6, clf__tree_method=gpu_exact, lsi__svd__n_components=250, lsi__vect__max_df=0.98, score=0.9119351100811124, total=   8.4s\n",
      "[CV] clf__max_depth=10, clf__min_child_samples=100, clf__min_child_weight=1e-05, clf__num_leaves=6, clf__tree_method=gpu_exact, lsi__svd__n_components=250, lsi__vect__max_df=0.98 \n",
      "[CV]  clf__max_depth=10, clf__min_child_samples=100, clf__min_child_weight=1e-05, clf__num_leaves=6, clf__tree_method=gpu_exact, lsi__svd__n_components=250, lsi__vect__max_df=0.98, score=0.9200463499420626, total=   8.9s\n",
      "[CV] clf__max_depth=10, clf__min_child_samples=100, clf__min_child_weight=1e-05, clf__num_leaves=6, clf__tree_method=gpu_exact, lsi__svd__n_components=250, lsi__vect__max_df=0.98 \n",
      "[CV]  clf__max_depth=10, clf__min_child_samples=100, clf__min_child_weight=1e-05, clf__num_leaves=6, clf__tree_method=gpu_exact, lsi__svd__n_components=250, lsi__vect__max_df=0.98, score=0.8860465116279069, total=   8.6s\n",
      "[CV] clf__max_depth=10, clf__min_child_samples=100, clf__min_child_weight=1e-05, clf__num_leaves=6, clf__tree_method=gpu_exact, lsi__svd__n_components=300, lsi__vect__max_df=0.93 \n",
      "[CV]  clf__max_depth=10, clf__min_child_samples=100, clf__min_child_weight=1e-05, clf__num_leaves=6, clf__tree_method=gpu_exact, lsi__svd__n_components=300, lsi__vect__max_df=0.93, score=0.9130938586326767, total=  10.3s\n",
      "[CV] clf__max_depth=10, clf__min_child_samples=100, clf__min_child_weight=1e-05, clf__num_leaves=6, clf__tree_method=gpu_exact, lsi__svd__n_components=300, lsi__vect__max_df=0.93 \n",
      "[CV]  clf__max_depth=10, clf__min_child_samples=100, clf__min_child_weight=1e-05, clf__num_leaves=6, clf__tree_method=gpu_exact, lsi__svd__n_components=300, lsi__vect__max_df=0.93, score=0.9188876013904983, total=  10.4s\n",
      "[CV] clf__max_depth=10, clf__min_child_samples=100, clf__min_child_weight=1e-05, clf__num_leaves=6, clf__tree_method=gpu_exact, lsi__svd__n_components=300, lsi__vect__max_df=0.93 \n",
      "[CV]  clf__max_depth=10, clf__min_child_samples=100, clf__min_child_weight=1e-05, clf__num_leaves=6, clf__tree_method=gpu_exact, lsi__svd__n_components=300, lsi__vect__max_df=0.93, score=0.8872093023255814, total=  10.7s\n",
      "[CV] clf__max_depth=10, clf__min_child_samples=100, clf__min_child_weight=1e-05, clf__num_leaves=6, clf__tree_method=gpu_exact, lsi__svd__n_components=300, lsi__vect__max_df=0.95 \n",
      "[CV]  clf__max_depth=10, clf__min_child_samples=100, clf__min_child_weight=1e-05, clf__num_leaves=6, clf__tree_method=gpu_exact, lsi__svd__n_components=300, lsi__vect__max_df=0.95, score=0.9154113557358053, total=  10.5s\n",
      "[CV] clf__max_depth=10, clf__min_child_samples=100, clf__min_child_weight=1e-05, clf__num_leaves=6, clf__tree_method=gpu_exact, lsi__svd__n_components=300, lsi__vect__max_df=0.95 \n",
      "[CV]  clf__max_depth=10, clf__min_child_samples=100, clf__min_child_weight=1e-05, clf__num_leaves=6, clf__tree_method=gpu_exact, lsi__svd__n_components=300, lsi__vect__max_df=0.95, score=0.9212050984936269, total=  11.0s\n",
      "[CV] clf__max_depth=10, clf__min_child_samples=100, clf__min_child_weight=1e-05, clf__num_leaves=6, clf__tree_method=gpu_exact, lsi__svd__n_components=300, lsi__vect__max_df=0.95 \n",
      "[CV]  clf__max_depth=10, clf__min_child_samples=100, clf__min_child_weight=1e-05, clf__num_leaves=6, clf__tree_method=gpu_exact, lsi__svd__n_components=300, lsi__vect__max_df=0.95, score=0.8872093023255814, total=  11.0s\n",
      "[CV] clf__max_depth=10, clf__min_child_samples=100, clf__min_child_weight=1e-05, clf__num_leaves=6, clf__tree_method=gpu_exact, lsi__svd__n_components=300, lsi__vect__max_df=0.98 \n",
      "[CV]  clf__max_depth=10, clf__min_child_samples=100, clf__min_child_weight=1e-05, clf__num_leaves=6, clf__tree_method=gpu_exact, lsi__svd__n_components=300, lsi__vect__max_df=0.98, score=0.9165701042873696, total=  10.1s\n",
      "[CV] clf__max_depth=10, clf__min_child_samples=100, clf__min_child_weight=1e-05, clf__num_leaves=6, clf__tree_method=gpu_exact, lsi__svd__n_components=300, lsi__vect__max_df=0.98 \n",
      "[CV]  clf__max_depth=10, clf__min_child_samples=100, clf__min_child_weight=1e-05, clf__num_leaves=6, clf__tree_method=gpu_exact, lsi__svd__n_components=300, lsi__vect__max_df=0.98, score=0.9177288528389339, total=  10.2s\n",
      "[CV] clf__max_depth=10, clf__min_child_samples=100, clf__min_child_weight=1e-05, clf__num_leaves=6, clf__tree_method=gpu_exact, lsi__svd__n_components=300, lsi__vect__max_df=0.98 \n",
      "[CV]  clf__max_depth=10, clf__min_child_samples=100, clf__min_child_weight=1e-05, clf__num_leaves=6, clf__tree_method=gpu_exact, lsi__svd__n_components=300, lsi__vect__max_df=0.98, score=0.8860465116279069, total=  10.5s\n",
      "[CV] clf__max_depth=10, clf__min_child_samples=100, clf__min_child_weight=1e-05, clf__num_leaves=50, clf__tree_method=gpu_exact, lsi__svd__n_components=250, lsi__vect__max_df=0.93 \n",
      "[CV]  clf__max_depth=10, clf__min_child_samples=100, clf__min_child_weight=1e-05, clf__num_leaves=50, clf__tree_method=gpu_exact, lsi__svd__n_components=250, lsi__vect__max_df=0.93, score=0.9154113557358053, total=   8.6s\n",
      "[CV] clf__max_depth=10, clf__min_child_samples=100, clf__min_child_weight=1e-05, clf__num_leaves=50, clf__tree_method=gpu_exact, lsi__svd__n_components=250, lsi__vect__max_df=0.93 \n",
      "[CV]  clf__max_depth=10, clf__min_child_samples=100, clf__min_child_weight=1e-05, clf__num_leaves=50, clf__tree_method=gpu_exact, lsi__svd__n_components=250, lsi__vect__max_df=0.93, score=0.9177288528389339, total=   8.6s\n",
      "[CV] clf__max_depth=10, clf__min_child_samples=100, clf__min_child_weight=1e-05, clf__num_leaves=50, clf__tree_method=gpu_exact, lsi__svd__n_components=250, lsi__vect__max_df=0.93 \n",
      "[CV]  clf__max_depth=10, clf__min_child_samples=100, clf__min_child_weight=1e-05, clf__num_leaves=50, clf__tree_method=gpu_exact, lsi__svd__n_components=250, lsi__vect__max_df=0.93, score=0.8906976744186047, total=   9.1s\n",
      "[CV] clf__max_depth=10, clf__min_child_samples=100, clf__min_child_weight=1e-05, clf__num_leaves=50, clf__tree_method=gpu_exact, lsi__svd__n_components=250, lsi__vect__max_df=0.95 \n",
      "[CV]  clf__max_depth=10, clf__min_child_samples=100, clf__min_child_weight=1e-05, clf__num_leaves=50, clf__tree_method=gpu_exact, lsi__svd__n_components=250, lsi__vect__max_df=0.95, score=0.9119351100811124, total=   8.6s\n",
      "[CV] clf__max_depth=10, clf__min_child_samples=100, clf__min_child_weight=1e-05, clf__num_leaves=50, clf__tree_method=gpu_exact, lsi__svd__n_components=250, lsi__vect__max_df=0.95 \n",
      "[CV]  clf__max_depth=10, clf__min_child_samples=100, clf__min_child_weight=1e-05, clf__num_leaves=50, clf__tree_method=gpu_exact, lsi__svd__n_components=250, lsi__vect__max_df=0.95, score=0.9223638470451911, total=   8.5s\n",
      "[CV] clf__max_depth=10, clf__min_child_samples=100, clf__min_child_weight=1e-05, clf__num_leaves=50, clf__tree_method=gpu_exact, lsi__svd__n_components=250, lsi__vect__max_df=0.95 \n",
      "[CV]  clf__max_depth=10, clf__min_child_samples=100, clf__min_child_weight=1e-05, clf__num_leaves=50, clf__tree_method=gpu_exact, lsi__svd__n_components=250, lsi__vect__max_df=0.95, score=0.8813953488372093, total=   8.7s\n",
      "[CV] clf__max_depth=10, clf__min_child_samples=100, clf__min_child_weight=1e-05, clf__num_leaves=50, clf__tree_method=gpu_exact, lsi__svd__n_components=250, lsi__vect__max_df=0.98 \n",
      "[CV]  clf__max_depth=10, clf__min_child_samples=100, clf__min_child_weight=1e-05, clf__num_leaves=50, clf__tree_method=gpu_exact, lsi__svd__n_components=250, lsi__vect__max_df=0.98, score=0.9096176129779838, total=   8.2s\n",
      "[CV] clf__max_depth=10, clf__min_child_samples=100, clf__min_child_weight=1e-05, clf__num_leaves=50, clf__tree_method=gpu_exact, lsi__svd__n_components=250, lsi__vect__max_df=0.98 \n",
      "[CV]  clf__max_depth=10, clf__min_child_samples=100, clf__min_child_weight=1e-05, clf__num_leaves=50, clf__tree_method=gpu_exact, lsi__svd__n_components=250, lsi__vect__max_df=0.98, score=0.9177288528389339, total=   8.5s\n",
      "[CV] clf__max_depth=10, clf__min_child_samples=100, clf__min_child_weight=1e-05, clf__num_leaves=50, clf__tree_method=gpu_exact, lsi__svd__n_components=250, lsi__vect__max_df=0.98 \n",
      "[CV]  clf__max_depth=10, clf__min_child_samples=100, clf__min_child_weight=1e-05, clf__num_leaves=50, clf__tree_method=gpu_exact, lsi__svd__n_components=250, lsi__vect__max_df=0.98, score=0.8802325581395349, total=   8.5s\n",
      "[CV] clf__max_depth=10, clf__min_child_samples=100, clf__min_child_weight=1e-05, clf__num_leaves=50, clf__tree_method=gpu_exact, lsi__svd__n_components=300, lsi__vect__max_df=0.93 \n",
      "[CV]  clf__max_depth=10, clf__min_child_samples=100, clf__min_child_weight=1e-05, clf__num_leaves=50, clf__tree_method=gpu_exact, lsi__svd__n_components=300, lsi__vect__max_df=0.93, score=0.9096176129779838, total=   9.9s\n",
      "[CV] clf__max_depth=10, clf__min_child_samples=100, clf__min_child_weight=1e-05, clf__num_leaves=50, clf__tree_method=gpu_exact, lsi__svd__n_components=300, lsi__vect__max_df=0.93 \n",
      "[CV]  clf__max_depth=10, clf__min_child_samples=100, clf__min_child_weight=1e-05, clf__num_leaves=50, clf__tree_method=gpu_exact, lsi__svd__n_components=300, lsi__vect__max_df=0.93, score=0.9200463499420626, total=  10.4s\n",
      "[CV] clf__max_depth=10, clf__min_child_samples=100, clf__min_child_weight=1e-05, clf__num_leaves=50, clf__tree_method=gpu_exact, lsi__svd__n_components=300, lsi__vect__max_df=0.93 \n",
      "[CV]  clf__max_depth=10, clf__min_child_samples=100, clf__min_child_weight=1e-05, clf__num_leaves=50, clf__tree_method=gpu_exact, lsi__svd__n_components=300, lsi__vect__max_df=0.93, score=0.8860465116279069, total=  10.2s\n",
      "[CV] clf__max_depth=10, clf__min_child_samples=100, clf__min_child_weight=1e-05, clf__num_leaves=50, clf__tree_method=gpu_exact, lsi__svd__n_components=300, lsi__vect__max_df=0.95 \n",
      "[CV]  clf__max_depth=10, clf__min_child_samples=100, clf__min_child_weight=1e-05, clf__num_leaves=50, clf__tree_method=gpu_exact, lsi__svd__n_components=300, lsi__vect__max_df=0.95, score=0.9142526071842411, total=  10.2s\n",
      "[CV] clf__max_depth=10, clf__min_child_samples=100, clf__min_child_weight=1e-05, clf__num_leaves=50, clf__tree_method=gpu_exact, lsi__svd__n_components=300, lsi__vect__max_df=0.95 \n",
      "[CV]  clf__max_depth=10, clf__min_child_samples=100, clf__min_child_weight=1e-05, clf__num_leaves=50, clf__tree_method=gpu_exact, lsi__svd__n_components=300, lsi__vect__max_df=0.95, score=0.9200463499420626, total=  10.1s\n",
      "[CV] clf__max_depth=10, clf__min_child_samples=100, clf__min_child_weight=1e-05, clf__num_leaves=50, clf__tree_method=gpu_exact, lsi__svd__n_components=300, lsi__vect__max_df=0.95 \n",
      "[CV]  clf__max_depth=10, clf__min_child_samples=100, clf__min_child_weight=1e-05, clf__num_leaves=50, clf__tree_method=gpu_exact, lsi__svd__n_components=300, lsi__vect__max_df=0.95, score=0.8860465116279069, total=  10.2s\n",
      "[CV] clf__max_depth=10, clf__min_child_samples=100, clf__min_child_weight=1e-05, clf__num_leaves=50, clf__tree_method=gpu_exact, lsi__svd__n_components=300, lsi__vect__max_df=0.98 \n",
      "[CV]  clf__max_depth=10, clf__min_child_samples=100, clf__min_child_weight=1e-05, clf__num_leaves=50, clf__tree_method=gpu_exact, lsi__svd__n_components=300, lsi__vect__max_df=0.98, score=0.9130938586326767, total=  10.1s\n",
      "[CV] clf__max_depth=10, clf__min_child_samples=100, clf__min_child_weight=1e-05, clf__num_leaves=50, clf__tree_method=gpu_exact, lsi__svd__n_components=300, lsi__vect__max_df=0.98 \n",
      "[CV]  clf__max_depth=10, clf__min_child_samples=100, clf__min_child_weight=1e-05, clf__num_leaves=50, clf__tree_method=gpu_exact, lsi__svd__n_components=300, lsi__vect__max_df=0.98, score=0.9165701042873696, total=  10.8s\n",
      "[CV] clf__max_depth=10, clf__min_child_samples=100, clf__min_child_weight=1e-05, clf__num_leaves=50, clf__tree_method=gpu_exact, lsi__svd__n_components=300, lsi__vect__max_df=0.98 \n",
      "[CV]  clf__max_depth=10, clf__min_child_samples=100, clf__min_child_weight=1e-05, clf__num_leaves=50, clf__tree_method=gpu_exact, lsi__svd__n_components=300, lsi__vect__max_df=0.98, score=0.8837209302325582, total=  10.5s\n",
      "[CV] clf__max_depth=10, clf__min_child_samples=100, clf__min_child_weight=1, clf__num_leaves=6, clf__tree_method=gpu_exact, lsi__svd__n_components=250, lsi__vect__max_df=0.93 \n",
      "[CV]  clf__max_depth=10, clf__min_child_samples=100, clf__min_child_weight=1, clf__num_leaves=6, clf__tree_method=gpu_exact, lsi__svd__n_components=250, lsi__vect__max_df=0.93, score=0.9130938586326767, total=   8.6s\n",
      "[CV] clf__max_depth=10, clf__min_child_samples=100, clf__min_child_weight=1, clf__num_leaves=6, clf__tree_method=gpu_exact, lsi__svd__n_components=250, lsi__vect__max_df=0.93 \n",
      "[CV]  clf__max_depth=10, clf__min_child_samples=100, clf__min_child_weight=1, clf__num_leaves=6, clf__tree_method=gpu_exact, lsi__svd__n_components=250, lsi__vect__max_df=0.93, score=0.9188876013904983, total=   8.5s\n",
      "[CV] clf__max_depth=10, clf__min_child_samples=100, clf__min_child_weight=1, clf__num_leaves=6, clf__tree_method=gpu_exact, lsi__svd__n_components=250, lsi__vect__max_df=0.93 \n",
      "[CV]  clf__max_depth=10, clf__min_child_samples=100, clf__min_child_weight=1, clf__num_leaves=6, clf__tree_method=gpu_exact, lsi__svd__n_components=250, lsi__vect__max_df=0.93, score=0.8825581395348837, total=   8.6s\n",
      "[CV] clf__max_depth=10, clf__min_child_samples=100, clf__min_child_weight=1, clf__num_leaves=6, clf__tree_method=gpu_exact, lsi__svd__n_components=250, lsi__vect__max_df=0.95 \n",
      "[CV]  clf__max_depth=10, clf__min_child_samples=100, clf__min_child_weight=1, clf__num_leaves=6, clf__tree_method=gpu_exact, lsi__svd__n_components=250, lsi__vect__max_df=0.95, score=0.9212050984936269, total=   8.4s\n",
      "[CV] clf__max_depth=10, clf__min_child_samples=100, clf__min_child_weight=1, clf__num_leaves=6, clf__tree_method=gpu_exact, lsi__svd__n_components=250, lsi__vect__max_df=0.95 \n",
      "[CV]  clf__max_depth=10, clf__min_child_samples=100, clf__min_child_weight=1, clf__num_leaves=6, clf__tree_method=gpu_exact, lsi__svd__n_components=250, lsi__vect__max_df=0.95, score=0.9235225955967555, total=   8.8s\n",
      "[CV] clf__max_depth=10, clf__min_child_samples=100, clf__min_child_weight=1, clf__num_leaves=6, clf__tree_method=gpu_exact, lsi__svd__n_components=250, lsi__vect__max_df=0.95 \n",
      "[CV]  clf__max_depth=10, clf__min_child_samples=100, clf__min_child_weight=1, clf__num_leaves=6, clf__tree_method=gpu_exact, lsi__svd__n_components=250, lsi__vect__max_df=0.95, score=0.8848837209302326, total=   8.7s\n",
      "[CV] clf__max_depth=10, clf__min_child_samples=100, clf__min_child_weight=1, clf__num_leaves=6, clf__tree_method=gpu_exact, lsi__svd__n_components=250, lsi__vect__max_df=0.98 \n",
      "[CV]  clf__max_depth=10, clf__min_child_samples=100, clf__min_child_weight=1, clf__num_leaves=6, clf__tree_method=gpu_exact, lsi__svd__n_components=250, lsi__vect__max_df=0.98, score=0.9200463499420626, total=   8.2s\n",
      "[CV] clf__max_depth=10, clf__min_child_samples=100, clf__min_child_weight=1, clf__num_leaves=6, clf__tree_method=gpu_exact, lsi__svd__n_components=250, lsi__vect__max_df=0.98 \n",
      "[CV]  clf__max_depth=10, clf__min_child_samples=100, clf__min_child_weight=1, clf__num_leaves=6, clf__tree_method=gpu_exact, lsi__svd__n_components=250, lsi__vect__max_df=0.98, score=0.9177288528389339, total=   8.5s\n",
      "[CV] clf__max_depth=10, clf__min_child_samples=100, clf__min_child_weight=1, clf__num_leaves=6, clf__tree_method=gpu_exact, lsi__svd__n_components=250, lsi__vect__max_df=0.98 \n",
      "[CV]  clf__max_depth=10, clf__min_child_samples=100, clf__min_child_weight=1, clf__num_leaves=6, clf__tree_method=gpu_exact, lsi__svd__n_components=250, lsi__vect__max_df=0.98, score=0.8895348837209303, total=   8.6s\n",
      "[CV] clf__max_depth=10, clf__min_child_samples=100, clf__min_child_weight=1, clf__num_leaves=6, clf__tree_method=gpu_exact, lsi__svd__n_components=300, lsi__vect__max_df=0.93 \n",
      "[CV]  clf__max_depth=10, clf__min_child_samples=100, clf__min_child_weight=1, clf__num_leaves=6, clf__tree_method=gpu_exact, lsi__svd__n_components=300, lsi__vect__max_df=0.93, score=0.9130938586326767, total=   9.8s\n",
      "[CV] clf__max_depth=10, clf__min_child_samples=100, clf__min_child_weight=1, clf__num_leaves=6, clf__tree_method=gpu_exact, lsi__svd__n_components=300, lsi__vect__max_df=0.93 \n",
      "[CV]  clf__max_depth=10, clf__min_child_samples=100, clf__min_child_weight=1, clf__num_leaves=6, clf__tree_method=gpu_exact, lsi__svd__n_components=300, lsi__vect__max_df=0.93, score=0.9188876013904983, total=  10.0s\n",
      "[CV] clf__max_depth=10, clf__min_child_samples=100, clf__min_child_weight=1, clf__num_leaves=6, clf__tree_method=gpu_exact, lsi__svd__n_components=300, lsi__vect__max_df=0.93 \n",
      "[CV]  clf__max_depth=10, clf__min_child_samples=100, clf__min_child_weight=1, clf__num_leaves=6, clf__tree_method=gpu_exact, lsi__svd__n_components=300, lsi__vect__max_df=0.93, score=0.8883720930232558, total=  10.1s\n",
      "[CV] clf__max_depth=10, clf__min_child_samples=100, clf__min_child_weight=1, clf__num_leaves=6, clf__tree_method=gpu_exact, lsi__svd__n_components=300, lsi__vect__max_df=0.95 \n",
      "[CV]  clf__max_depth=10, clf__min_child_samples=100, clf__min_child_weight=1, clf__num_leaves=6, clf__tree_method=gpu_exact, lsi__svd__n_components=300, lsi__vect__max_df=0.95, score=0.9073001158748552, total=   9.8s\n",
      "[CV] clf__max_depth=10, clf__min_child_samples=100, clf__min_child_weight=1, clf__num_leaves=6, clf__tree_method=gpu_exact, lsi__svd__n_components=300, lsi__vect__max_df=0.95 \n",
      "[CV]  clf__max_depth=10, clf__min_child_samples=100, clf__min_child_weight=1, clf__num_leaves=6, clf__tree_method=gpu_exact, lsi__svd__n_components=300, lsi__vect__max_df=0.95, score=0.9165701042873696, total=  10.1s\n",
      "[CV] clf__max_depth=10, clf__min_child_samples=100, clf__min_child_weight=1, clf__num_leaves=6, clf__tree_method=gpu_exact, lsi__svd__n_components=300, lsi__vect__max_df=0.95 \n",
      "[CV]  clf__max_depth=10, clf__min_child_samples=100, clf__min_child_weight=1, clf__num_leaves=6, clf__tree_method=gpu_exact, lsi__svd__n_components=300, lsi__vect__max_df=0.95, score=0.891860465116279, total=  10.8s\n",
      "[CV] clf__max_depth=10, clf__min_child_samples=100, clf__min_child_weight=1, clf__num_leaves=6, clf__tree_method=gpu_exact, lsi__svd__n_components=300, lsi__vect__max_df=0.98 \n",
      "[CV]  clf__max_depth=10, clf__min_child_samples=100, clf__min_child_weight=1, clf__num_leaves=6, clf__tree_method=gpu_exact, lsi__svd__n_components=300, lsi__vect__max_df=0.98, score=0.9142526071842411, total=  10.0s\n",
      "[CV] clf__max_depth=10, clf__min_child_samples=100, clf__min_child_weight=1, clf__num_leaves=6, clf__tree_method=gpu_exact, lsi__svd__n_components=300, lsi__vect__max_df=0.98 \n",
      "[CV]  clf__max_depth=10, clf__min_child_samples=100, clf__min_child_weight=1, clf__num_leaves=6, clf__tree_method=gpu_exact, lsi__svd__n_components=300, lsi__vect__max_df=0.98, score=0.9177288528389339, total=  10.1s\n",
      "[CV] clf__max_depth=10, clf__min_child_samples=100, clf__min_child_weight=1, clf__num_leaves=6, clf__tree_method=gpu_exact, lsi__svd__n_components=300, lsi__vect__max_df=0.98 \n",
      "[CV]  clf__max_depth=10, clf__min_child_samples=100, clf__min_child_weight=1, clf__num_leaves=6, clf__tree_method=gpu_exact, lsi__svd__n_components=300, lsi__vect__max_df=0.98, score=0.8895348837209303, total=  10.1s\n",
      "[CV] clf__max_depth=10, clf__min_child_samples=100, clf__min_child_weight=1, clf__num_leaves=50, clf__tree_method=gpu_exact, lsi__svd__n_components=250, lsi__vect__max_df=0.93 \n",
      "[CV]  clf__max_depth=10, clf__min_child_samples=100, clf__min_child_weight=1, clf__num_leaves=50, clf__tree_method=gpu_exact, lsi__svd__n_components=250, lsi__vect__max_df=0.93, score=0.9130938586326767, total=   8.9s\n",
      "[CV] clf__max_depth=10, clf__min_child_samples=100, clf__min_child_weight=1, clf__num_leaves=50, clf__tree_method=gpu_exact, lsi__svd__n_components=250, lsi__vect__max_df=0.93 \n",
      "[CV]  clf__max_depth=10, clf__min_child_samples=100, clf__min_child_weight=1, clf__num_leaves=50, clf__tree_method=gpu_exact, lsi__svd__n_components=250, lsi__vect__max_df=0.93, score=0.9223638470451911, total=   8.9s\n",
      "[CV] clf__max_depth=10, clf__min_child_samples=100, clf__min_child_weight=1, clf__num_leaves=50, clf__tree_method=gpu_exact, lsi__svd__n_components=250, lsi__vect__max_df=0.93 \n",
      "[CV]  clf__max_depth=10, clf__min_child_samples=100, clf__min_child_weight=1, clf__num_leaves=50, clf__tree_method=gpu_exact, lsi__svd__n_components=250, lsi__vect__max_df=0.93, score=0.8872093023255814, total=   8.7s\n",
      "[CV] clf__max_depth=10, clf__min_child_samples=100, clf__min_child_weight=1, clf__num_leaves=50, clf__tree_method=gpu_exact, lsi__svd__n_components=250, lsi__vect__max_df=0.95 \n",
      "[CV]  clf__max_depth=10, clf__min_child_samples=100, clf__min_child_weight=1, clf__num_leaves=50, clf__tree_method=gpu_exact, lsi__svd__n_components=250, lsi__vect__max_df=0.95, score=0.9165701042873696, total=   8.4s\n",
      "[CV] clf__max_depth=10, clf__min_child_samples=100, clf__min_child_weight=1, clf__num_leaves=50, clf__tree_method=gpu_exact, lsi__svd__n_components=250, lsi__vect__max_df=0.95 \n",
      "[CV]  clf__max_depth=10, clf__min_child_samples=100, clf__min_child_weight=1, clf__num_leaves=50, clf__tree_method=gpu_exact, lsi__svd__n_components=250, lsi__vect__max_df=0.95, score=0.9177288528389339, total=   8.5s\n",
      "[CV] clf__max_depth=10, clf__min_child_samples=100, clf__min_child_weight=1, clf__num_leaves=50, clf__tree_method=gpu_exact, lsi__svd__n_components=250, lsi__vect__max_df=0.95 \n",
      "[CV]  clf__max_depth=10, clf__min_child_samples=100, clf__min_child_weight=1, clf__num_leaves=50, clf__tree_method=gpu_exact, lsi__svd__n_components=250, lsi__vect__max_df=0.95, score=0.8872093023255814, total=   8.9s\n",
      "[CV] clf__max_depth=10, clf__min_child_samples=100, clf__min_child_weight=1, clf__num_leaves=50, clf__tree_method=gpu_exact, lsi__svd__n_components=250, lsi__vect__max_df=0.98 \n",
      "[CV]  clf__max_depth=10, clf__min_child_samples=100, clf__min_child_weight=1, clf__num_leaves=50, clf__tree_method=gpu_exact, lsi__svd__n_components=250, lsi__vect__max_df=0.98, score=0.9154113557358053, total=   8.5s\n",
      "[CV] clf__max_depth=10, clf__min_child_samples=100, clf__min_child_weight=1, clf__num_leaves=50, clf__tree_method=gpu_exact, lsi__svd__n_components=250, lsi__vect__max_df=0.98 \n",
      "[CV]  clf__max_depth=10, clf__min_child_samples=100, clf__min_child_weight=1, clf__num_leaves=50, clf__tree_method=gpu_exact, lsi__svd__n_components=250, lsi__vect__max_df=0.98, score=0.9212050984936269, total=   8.8s\n",
      "[CV] clf__max_depth=10, clf__min_child_samples=100, clf__min_child_weight=1, clf__num_leaves=50, clf__tree_method=gpu_exact, lsi__svd__n_components=250, lsi__vect__max_df=0.98 \n",
      "[CV]  clf__max_depth=10, clf__min_child_samples=100, clf__min_child_weight=1, clf__num_leaves=50, clf__tree_method=gpu_exact, lsi__svd__n_components=250, lsi__vect__max_df=0.98, score=0.8860465116279069, total=   8.7s\n",
      "[CV] clf__max_depth=10, clf__min_child_samples=100, clf__min_child_weight=1, clf__num_leaves=50, clf__tree_method=gpu_exact, lsi__svd__n_components=300, lsi__vect__max_df=0.93 \n",
      "[CV]  clf__max_depth=10, clf__min_child_samples=100, clf__min_child_weight=1, clf__num_leaves=50, clf__tree_method=gpu_exact, lsi__svd__n_components=300, lsi__vect__max_df=0.93, score=0.9154113557358053, total=  10.2s\n",
      "[CV] clf__max_depth=10, clf__min_child_samples=100, clf__min_child_weight=1, clf__num_leaves=50, clf__tree_method=gpu_exact, lsi__svd__n_components=300, lsi__vect__max_df=0.93 \n",
      "[CV]  clf__max_depth=10, clf__min_child_samples=100, clf__min_child_weight=1, clf__num_leaves=50, clf__tree_method=gpu_exact, lsi__svd__n_components=300, lsi__vect__max_df=0.93, score=0.9223638470451911, total=  10.3s\n",
      "[CV] clf__max_depth=10, clf__min_child_samples=100, clf__min_child_weight=1, clf__num_leaves=50, clf__tree_method=gpu_exact, lsi__svd__n_components=300, lsi__vect__max_df=0.93 \n",
      "[CV]  clf__max_depth=10, clf__min_child_samples=100, clf__min_child_weight=1, clf__num_leaves=50, clf__tree_method=gpu_exact, lsi__svd__n_components=300, lsi__vect__max_df=0.93, score=0.8872093023255814, total=  10.3s\n",
      "[CV] clf__max_depth=10, clf__min_child_samples=100, clf__min_child_weight=1, clf__num_leaves=50, clf__tree_method=gpu_exact, lsi__svd__n_components=300, lsi__vect__max_df=0.95 \n",
      "[CV]  clf__max_depth=10, clf__min_child_samples=100, clf__min_child_weight=1, clf__num_leaves=50, clf__tree_method=gpu_exact, lsi__svd__n_components=300, lsi__vect__max_df=0.95, score=0.9200463499420626, total=  10.0s\n",
      "[CV] clf__max_depth=10, clf__min_child_samples=100, clf__min_child_weight=1, clf__num_leaves=50, clf__tree_method=gpu_exact, lsi__svd__n_components=300, lsi__vect__max_df=0.95 \n",
      "[CV]  clf__max_depth=10, clf__min_child_samples=100, clf__min_child_weight=1, clf__num_leaves=50, clf__tree_method=gpu_exact, lsi__svd__n_components=300, lsi__vect__max_df=0.95, score=0.9165701042873696, total=  10.5s\n",
      "[CV] clf__max_depth=10, clf__min_child_samples=100, clf__min_child_weight=1, clf__num_leaves=50, clf__tree_method=gpu_exact, lsi__svd__n_components=300, lsi__vect__max_df=0.95 \n",
      "[CV]  clf__max_depth=10, clf__min_child_samples=100, clf__min_child_weight=1, clf__num_leaves=50, clf__tree_method=gpu_exact, lsi__svd__n_components=300, lsi__vect__max_df=0.95, score=0.8895348837209303, total=  10.2s\n",
      "[CV] clf__max_depth=10, clf__min_child_samples=100, clf__min_child_weight=1, clf__num_leaves=50, clf__tree_method=gpu_exact, lsi__svd__n_components=300, lsi__vect__max_df=0.98 \n",
      "[CV]  clf__max_depth=10, clf__min_child_samples=100, clf__min_child_weight=1, clf__num_leaves=50, clf__tree_method=gpu_exact, lsi__svd__n_components=300, lsi__vect__max_df=0.98, score=0.9154113557358053, total=  10.1s\n",
      "[CV] clf__max_depth=10, clf__min_child_samples=100, clf__min_child_weight=1, clf__num_leaves=50, clf__tree_method=gpu_exact, lsi__svd__n_components=300, lsi__vect__max_df=0.98 \n",
      "[CV]  clf__max_depth=10, clf__min_child_samples=100, clf__min_child_weight=1, clf__num_leaves=50, clf__tree_method=gpu_exact, lsi__svd__n_components=300, lsi__vect__max_df=0.98, score=0.9212050984936269, total=  11.9s\n",
      "[CV] clf__max_depth=10, clf__min_child_samples=100, clf__min_child_weight=1, clf__num_leaves=50, clf__tree_method=gpu_exact, lsi__svd__n_components=300, lsi__vect__max_df=0.98 \n",
      "[CV]  clf__max_depth=10, clf__min_child_samples=100, clf__min_child_weight=1, clf__num_leaves=50, clf__tree_method=gpu_exact, lsi__svd__n_components=300, lsi__vect__max_df=0.98, score=0.8825581395348837, total=  12.9s\n",
      "[CV] clf__max_depth=10, clf__min_child_samples=100, clf__min_child_weight=10000.0, clf__num_leaves=6, clf__tree_method=gpu_exact, lsi__svd__n_components=250, lsi__vect__max_df=0.93 \n",
      "[CV]  clf__max_depth=10, clf__min_child_samples=100, clf__min_child_weight=10000.0, clf__num_leaves=6, clf__tree_method=gpu_exact, lsi__svd__n_components=250, lsi__vect__max_df=0.93, score=0.6326767091541136, total=  10.5s\n",
      "[CV] clf__max_depth=10, clf__min_child_samples=100, clf__min_child_weight=10000.0, clf__num_leaves=6, clf__tree_method=gpu_exact, lsi__svd__n_components=250, lsi__vect__max_df=0.93 \n",
      "[CV]  clf__max_depth=10, clf__min_child_samples=100, clf__min_child_weight=10000.0, clf__num_leaves=6, clf__tree_method=gpu_exact, lsi__svd__n_components=250, lsi__vect__max_df=0.93, score=0.6326767091541136, total=  10.9s\n",
      "[CV] clf__max_depth=10, clf__min_child_samples=100, clf__min_child_weight=10000.0, clf__num_leaves=6, clf__tree_method=gpu_exact, lsi__svd__n_components=250, lsi__vect__max_df=0.93 \n",
      "[CV]  clf__max_depth=10, clf__min_child_samples=100, clf__min_child_weight=10000.0, clf__num_leaves=6, clf__tree_method=gpu_exact, lsi__svd__n_components=250, lsi__vect__max_df=0.93, score=0.6337209302325582, total=  10.9s\n",
      "[CV] clf__max_depth=10, clf__min_child_samples=100, clf__min_child_weight=10000.0, clf__num_leaves=6, clf__tree_method=gpu_exact, lsi__svd__n_components=250, lsi__vect__max_df=0.95 \n",
      "[CV]  clf__max_depth=10, clf__min_child_samples=100, clf__min_child_weight=10000.0, clf__num_leaves=6, clf__tree_method=gpu_exact, lsi__svd__n_components=250, lsi__vect__max_df=0.95, score=0.6326767091541136, total=  10.8s\n",
      "[CV] clf__max_depth=10, clf__min_child_samples=100, clf__min_child_weight=10000.0, clf__num_leaves=6, clf__tree_method=gpu_exact, lsi__svd__n_components=250, lsi__vect__max_df=0.95 \n",
      "[CV]  clf__max_depth=10, clf__min_child_samples=100, clf__min_child_weight=10000.0, clf__num_leaves=6, clf__tree_method=gpu_exact, lsi__svd__n_components=250, lsi__vect__max_df=0.95, score=0.6326767091541136, total=  11.1s\n",
      "[CV] clf__max_depth=10, clf__min_child_samples=100, clf__min_child_weight=10000.0, clf__num_leaves=6, clf__tree_method=gpu_exact, lsi__svd__n_components=250, lsi__vect__max_df=0.95 \n",
      "[CV]  clf__max_depth=10, clf__min_child_samples=100, clf__min_child_weight=10000.0, clf__num_leaves=6, clf__tree_method=gpu_exact, lsi__svd__n_components=250, lsi__vect__max_df=0.95, score=0.6337209302325582, total=  11.1s\n",
      "[CV] clf__max_depth=10, clf__min_child_samples=100, clf__min_child_weight=10000.0, clf__num_leaves=6, clf__tree_method=gpu_exact, lsi__svd__n_components=250, lsi__vect__max_df=0.98 \n",
      "[CV]  clf__max_depth=10, clf__min_child_samples=100, clf__min_child_weight=10000.0, clf__num_leaves=6, clf__tree_method=gpu_exact, lsi__svd__n_components=250, lsi__vect__max_df=0.98, score=0.6326767091541136, total=   8.5s\n",
      "[CV] clf__max_depth=10, clf__min_child_samples=100, clf__min_child_weight=10000.0, clf__num_leaves=6, clf__tree_method=gpu_exact, lsi__svd__n_components=250, lsi__vect__max_df=0.98 \n",
      "[CV]  clf__max_depth=10, clf__min_child_samples=100, clf__min_child_weight=10000.0, clf__num_leaves=6, clf__tree_method=gpu_exact, lsi__svd__n_components=250, lsi__vect__max_df=0.98, score=0.6326767091541136, total=   9.0s\n",
      "[CV] clf__max_depth=10, clf__min_child_samples=100, clf__min_child_weight=10000.0, clf__num_leaves=6, clf__tree_method=gpu_exact, lsi__svd__n_components=250, lsi__vect__max_df=0.98 \n",
      "[CV]  clf__max_depth=10, clf__min_child_samples=100, clf__min_child_weight=10000.0, clf__num_leaves=6, clf__tree_method=gpu_exact, lsi__svd__n_components=250, lsi__vect__max_df=0.98, score=0.6337209302325582, total=  10.0s\n",
      "[CV] clf__max_depth=10, clf__min_child_samples=100, clf__min_child_weight=10000.0, clf__num_leaves=6, clf__tree_method=gpu_exact, lsi__svd__n_components=300, lsi__vect__max_df=0.93 \n",
      "[CV]  clf__max_depth=10, clf__min_child_samples=100, clf__min_child_weight=10000.0, clf__num_leaves=6, clf__tree_method=gpu_exact, lsi__svd__n_components=300, lsi__vect__max_df=0.93, score=0.6326767091541136, total=  10.1s\n",
      "[CV] clf__max_depth=10, clf__min_child_samples=100, clf__min_child_weight=10000.0, clf__num_leaves=6, clf__tree_method=gpu_exact, lsi__svd__n_components=300, lsi__vect__max_df=0.93 \n",
      "[CV]  clf__max_depth=10, clf__min_child_samples=100, clf__min_child_weight=10000.0, clf__num_leaves=6, clf__tree_method=gpu_exact, lsi__svd__n_components=300, lsi__vect__max_df=0.93, score=0.6326767091541136, total=  10.6s\n",
      "[CV] clf__max_depth=10, clf__min_child_samples=100, clf__min_child_weight=10000.0, clf__num_leaves=6, clf__tree_method=gpu_exact, lsi__svd__n_components=300, lsi__vect__max_df=0.93 \n",
      "[CV]  clf__max_depth=10, clf__min_child_samples=100, clf__min_child_weight=10000.0, clf__num_leaves=6, clf__tree_method=gpu_exact, lsi__svd__n_components=300, lsi__vect__max_df=0.93, score=0.6337209302325582, total=  10.4s\n",
      "[CV] clf__max_depth=10, clf__min_child_samples=100, clf__min_child_weight=10000.0, clf__num_leaves=6, clf__tree_method=gpu_exact, lsi__svd__n_components=300, lsi__vect__max_df=0.95 \n",
      "[CV]  clf__max_depth=10, clf__min_child_samples=100, clf__min_child_weight=10000.0, clf__num_leaves=6, clf__tree_method=gpu_exact, lsi__svd__n_components=300, lsi__vect__max_df=0.95, score=0.6326767091541136, total=  10.3s\n",
      "[CV] clf__max_depth=10, clf__min_child_samples=100, clf__min_child_weight=10000.0, clf__num_leaves=6, clf__tree_method=gpu_exact, lsi__svd__n_components=300, lsi__vect__max_df=0.95 \n",
      "[CV]  clf__max_depth=10, clf__min_child_samples=100, clf__min_child_weight=10000.0, clf__num_leaves=6, clf__tree_method=gpu_exact, lsi__svd__n_components=300, lsi__vect__max_df=0.95, score=0.6326767091541136, total=  11.4s\n",
      "[CV] clf__max_depth=10, clf__min_child_samples=100, clf__min_child_weight=10000.0, clf__num_leaves=6, clf__tree_method=gpu_exact, lsi__svd__n_components=300, lsi__vect__max_df=0.95 \n",
      "[CV]  clf__max_depth=10, clf__min_child_samples=100, clf__min_child_weight=10000.0, clf__num_leaves=6, clf__tree_method=gpu_exact, lsi__svd__n_components=300, lsi__vect__max_df=0.95, score=0.6337209302325582, total=  11.4s\n",
      "[CV] clf__max_depth=10, clf__min_child_samples=100, clf__min_child_weight=10000.0, clf__num_leaves=6, clf__tree_method=gpu_exact, lsi__svd__n_components=300, lsi__vect__max_df=0.98 \n",
      "[CV]  clf__max_depth=10, clf__min_child_samples=100, clf__min_child_weight=10000.0, clf__num_leaves=6, clf__tree_method=gpu_exact, lsi__svd__n_components=300, lsi__vect__max_df=0.98, score=0.6326767091541136, total=  12.8s\n",
      "[CV] clf__max_depth=10, clf__min_child_samples=100, clf__min_child_weight=10000.0, clf__num_leaves=6, clf__tree_method=gpu_exact, lsi__svd__n_components=300, lsi__vect__max_df=0.98 \n",
      "[CV]  clf__max_depth=10, clf__min_child_samples=100, clf__min_child_weight=10000.0, clf__num_leaves=6, clf__tree_method=gpu_exact, lsi__svd__n_components=300, lsi__vect__max_df=0.98, score=0.6326767091541136, total=  12.5s\n",
      "[CV] clf__max_depth=10, clf__min_child_samples=100, clf__min_child_weight=10000.0, clf__num_leaves=6, clf__tree_method=gpu_exact, lsi__svd__n_components=300, lsi__vect__max_df=0.98 \n",
      "[CV]  clf__max_depth=10, clf__min_child_samples=100, clf__min_child_weight=10000.0, clf__num_leaves=6, clf__tree_method=gpu_exact, lsi__svd__n_components=300, lsi__vect__max_df=0.98, score=0.6337209302325582, total=  12.2s\n",
      "[CV] clf__max_depth=10, clf__min_child_samples=100, clf__min_child_weight=10000.0, clf__num_leaves=50, clf__tree_method=gpu_exact, lsi__svd__n_components=250, lsi__vect__max_df=0.93 \n",
      "[CV]  clf__max_depth=10, clf__min_child_samples=100, clf__min_child_weight=10000.0, clf__num_leaves=50, clf__tree_method=gpu_exact, lsi__svd__n_components=250, lsi__vect__max_df=0.93, score=0.6326767091541136, total=  16.0s\n",
      "[CV] clf__max_depth=10, clf__min_child_samples=100, clf__min_child_weight=10000.0, clf__num_leaves=50, clf__tree_method=gpu_exact, lsi__svd__n_components=250, lsi__vect__max_df=0.93 \n",
      "[CV]  clf__max_depth=10, clf__min_child_samples=100, clf__min_child_weight=10000.0, clf__num_leaves=50, clf__tree_method=gpu_exact, lsi__svd__n_components=250, lsi__vect__max_df=0.93, score=0.6326767091541136, total=  57.6s\n",
      "[CV] clf__max_depth=10, clf__min_child_samples=100, clf__min_child_weight=10000.0, clf__num_leaves=50, clf__tree_method=gpu_exact, lsi__svd__n_components=250, lsi__vect__max_df=0.93 \n",
      "[CV]  clf__max_depth=10, clf__min_child_samples=100, clf__min_child_weight=10000.0, clf__num_leaves=50, clf__tree_method=gpu_exact, lsi__svd__n_components=250, lsi__vect__max_df=0.93, score=0.6337209302325582, total=  34.3s\n",
      "[CV] clf__max_depth=10, clf__min_child_samples=100, clf__min_child_weight=10000.0, clf__num_leaves=50, clf__tree_method=gpu_exact, lsi__svd__n_components=250, lsi__vect__max_df=0.95 \n",
      "[CV]  clf__max_depth=10, clf__min_child_samples=100, clf__min_child_weight=10000.0, clf__num_leaves=50, clf__tree_method=gpu_exact, lsi__svd__n_components=250, lsi__vect__max_df=0.95, score=0.6326767091541136, total= 3.9min\n",
      "[CV] clf__max_depth=10, clf__min_child_samples=100, clf__min_child_weight=10000.0, clf__num_leaves=50, clf__tree_method=gpu_exact, lsi__svd__n_components=250, lsi__vect__max_df=0.95 \n",
      "[CV]  clf__max_depth=10, clf__min_child_samples=100, clf__min_child_weight=10000.0, clf__num_leaves=50, clf__tree_method=gpu_exact, lsi__svd__n_components=250, lsi__vect__max_df=0.95, score=0.6326767091541136, total= 2.6min\n",
      "[CV] clf__max_depth=10, clf__min_child_samples=100, clf__min_child_weight=10000.0, clf__num_leaves=50, clf__tree_method=gpu_exact, lsi__svd__n_components=250, lsi__vect__max_df=0.95 \n",
      "[CV]  clf__max_depth=10, clf__min_child_samples=100, clf__min_child_weight=10000.0, clf__num_leaves=50, clf__tree_method=gpu_exact, lsi__svd__n_components=250, lsi__vect__max_df=0.95, score=0.6337209302325582, total=  56.3s\n",
      "[CV] clf__max_depth=10, clf__min_child_samples=100, clf__min_child_weight=10000.0, clf__num_leaves=50, clf__tree_method=gpu_exact, lsi__svd__n_components=250, lsi__vect__max_df=0.98 \n",
      "[CV]  clf__max_depth=10, clf__min_child_samples=100, clf__min_child_weight=10000.0, clf__num_leaves=50, clf__tree_method=gpu_exact, lsi__svd__n_components=250, lsi__vect__max_df=0.98, score=0.6326767091541136, total=  40.3s\n",
      "[CV] clf__max_depth=10, clf__min_child_samples=100, clf__min_child_weight=10000.0, clf__num_leaves=50, clf__tree_method=gpu_exact, lsi__svd__n_components=250, lsi__vect__max_df=0.98 \n",
      "[CV]  clf__max_depth=10, clf__min_child_samples=100, clf__min_child_weight=10000.0, clf__num_leaves=50, clf__tree_method=gpu_exact, lsi__svd__n_components=250, lsi__vect__max_df=0.98, score=0.6326767091541136, total=  40.5s\n",
      "[CV] clf__max_depth=10, clf__min_child_samples=100, clf__min_child_weight=10000.0, clf__num_leaves=50, clf__tree_method=gpu_exact, lsi__svd__n_components=250, lsi__vect__max_df=0.98 \n",
      "[CV]  clf__max_depth=10, clf__min_child_samples=100, clf__min_child_weight=10000.0, clf__num_leaves=50, clf__tree_method=gpu_exact, lsi__svd__n_components=250, lsi__vect__max_df=0.98, score=0.6337209302325582, total=  41.8s\n",
      "[CV] clf__max_depth=10, clf__min_child_samples=100, clf__min_child_weight=10000.0, clf__num_leaves=50, clf__tree_method=gpu_exact, lsi__svd__n_components=300, lsi__vect__max_df=0.93 \n",
      "[CV]  clf__max_depth=10, clf__min_child_samples=100, clf__min_child_weight=10000.0, clf__num_leaves=50, clf__tree_method=gpu_exact, lsi__svd__n_components=300, lsi__vect__max_df=0.93, score=0.6326767091541136, total=  45.3s\n",
      "[CV] clf__max_depth=10, clf__min_child_samples=100, clf__min_child_weight=10000.0, clf__num_leaves=50, clf__tree_method=gpu_exact, lsi__svd__n_components=300, lsi__vect__max_df=0.93 \n",
      "[CV]  clf__max_depth=10, clf__min_child_samples=100, clf__min_child_weight=10000.0, clf__num_leaves=50, clf__tree_method=gpu_exact, lsi__svd__n_components=300, lsi__vect__max_df=0.93, score=0.6326767091541136, total=  47.7s\n",
      "[CV] clf__max_depth=10, clf__min_child_samples=100, clf__min_child_weight=10000.0, clf__num_leaves=50, clf__tree_method=gpu_exact, lsi__svd__n_components=300, lsi__vect__max_df=0.93 \n",
      "[CV]  clf__max_depth=10, clf__min_child_samples=100, clf__min_child_weight=10000.0, clf__num_leaves=50, clf__tree_method=gpu_exact, lsi__svd__n_components=300, lsi__vect__max_df=0.93, score=0.6337209302325582, total=  48.1s\n",
      "[CV] clf__max_depth=10, clf__min_child_samples=100, clf__min_child_weight=10000.0, clf__num_leaves=50, clf__tree_method=gpu_exact, lsi__svd__n_components=300, lsi__vect__max_df=0.95 \n",
      "[CV]  clf__max_depth=10, clf__min_child_samples=100, clf__min_child_weight=10000.0, clf__num_leaves=50, clf__tree_method=gpu_exact, lsi__svd__n_components=300, lsi__vect__max_df=0.95, score=0.6326767091541136, total= 1.3min\n",
      "[CV] clf__max_depth=10, clf__min_child_samples=100, clf__min_child_weight=10000.0, clf__num_leaves=50, clf__tree_method=gpu_exact, lsi__svd__n_components=300, lsi__vect__max_df=0.95 \n",
      "[CV]  clf__max_depth=10, clf__min_child_samples=100, clf__min_child_weight=10000.0, clf__num_leaves=50, clf__tree_method=gpu_exact, lsi__svd__n_components=300, lsi__vect__max_df=0.95, score=0.6326767091541136, total= 1.4min\n",
      "[CV] clf__max_depth=10, clf__min_child_samples=100, clf__min_child_weight=10000.0, clf__num_leaves=50, clf__tree_method=gpu_exact, lsi__svd__n_components=300, lsi__vect__max_df=0.95 \n",
      "[CV]  clf__max_depth=10, clf__min_child_samples=100, clf__min_child_weight=10000.0, clf__num_leaves=50, clf__tree_method=gpu_exact, lsi__svd__n_components=300, lsi__vect__max_df=0.95, score=0.6337209302325582, total= 1.2min\n",
      "[CV] clf__max_depth=10, clf__min_child_samples=100, clf__min_child_weight=10000.0, clf__num_leaves=50, clf__tree_method=gpu_exact, lsi__svd__n_components=300, lsi__vect__max_df=0.98 \n",
      "[CV]  clf__max_depth=10, clf__min_child_samples=100, clf__min_child_weight=10000.0, clf__num_leaves=50, clf__tree_method=gpu_exact, lsi__svd__n_components=300, lsi__vect__max_df=0.98, score=0.6326767091541136, total= 1.2min\n",
      "[CV] clf__max_depth=10, clf__min_child_samples=100, clf__min_child_weight=10000.0, clf__num_leaves=50, clf__tree_method=gpu_exact, lsi__svd__n_components=300, lsi__vect__max_df=0.98 \n",
      "[CV]  clf__max_depth=10, clf__min_child_samples=100, clf__min_child_weight=10000.0, clf__num_leaves=50, clf__tree_method=gpu_exact, lsi__svd__n_components=300, lsi__vect__max_df=0.98, score=0.6326767091541136, total= 1.2min\n",
      "[CV] clf__max_depth=10, clf__min_child_samples=100, clf__min_child_weight=10000.0, clf__num_leaves=50, clf__tree_method=gpu_exact, lsi__svd__n_components=300, lsi__vect__max_df=0.98 \n",
      "[CV]  clf__max_depth=10, clf__min_child_samples=100, clf__min_child_weight=10000.0, clf__num_leaves=50, clf__tree_method=gpu_exact, lsi__svd__n_components=300, lsi__vect__max_df=0.98, score=0.6337209302325582, total= 1.2min\n",
      "[CV] clf__max_depth=10, clf__min_child_samples=500, clf__min_child_weight=1e-05, clf__num_leaves=6, clf__tree_method=gpu_exact, lsi__svd__n_components=250, lsi__vect__max_df=0.93 \n",
      "[CV]  clf__max_depth=10, clf__min_child_samples=500, clf__min_child_weight=1e-05, clf__num_leaves=6, clf__tree_method=gpu_exact, lsi__svd__n_components=250, lsi__vect__max_df=0.93, score=0.9142526071842411, total= 1.1min\n",
      "[CV] clf__max_depth=10, clf__min_child_samples=500, clf__min_child_weight=1e-05, clf__num_leaves=6, clf__tree_method=gpu_exact, lsi__svd__n_components=250, lsi__vect__max_df=0.93 \n",
      "[CV]  clf__max_depth=10, clf__min_child_samples=500, clf__min_child_weight=1e-05, clf__num_leaves=6, clf__tree_method=gpu_exact, lsi__svd__n_components=250, lsi__vect__max_df=0.93, score=0.9200463499420626, total=  52.9s\n",
      "[CV] clf__max_depth=10, clf__min_child_samples=500, clf__min_child_weight=1e-05, clf__num_leaves=6, clf__tree_method=gpu_exact, lsi__svd__n_components=250, lsi__vect__max_df=0.93 \n",
      "[CV]  clf__max_depth=10, clf__min_child_samples=500, clf__min_child_weight=1e-05, clf__num_leaves=6, clf__tree_method=gpu_exact, lsi__svd__n_components=250, lsi__vect__max_df=0.93, score=0.8895348837209303, total=  44.1s\n",
      "[CV] clf__max_depth=10, clf__min_child_samples=500, clf__min_child_weight=1e-05, clf__num_leaves=6, clf__tree_method=gpu_exact, lsi__svd__n_components=250, lsi__vect__max_df=0.95 \n",
      "[CV]  clf__max_depth=10, clf__min_child_samples=500, clf__min_child_weight=1e-05, clf__num_leaves=6, clf__tree_method=gpu_exact, lsi__svd__n_components=250, lsi__vect__max_df=0.95, score=0.9130938586326767, total=  45.7s\n",
      "[CV] clf__max_depth=10, clf__min_child_samples=500, clf__min_child_weight=1e-05, clf__num_leaves=6, clf__tree_method=gpu_exact, lsi__svd__n_components=250, lsi__vect__max_df=0.95 \n",
      "[CV]  clf__max_depth=10, clf__min_child_samples=500, clf__min_child_weight=1e-05, clf__num_leaves=6, clf__tree_method=gpu_exact, lsi__svd__n_components=250, lsi__vect__max_df=0.95, score=0.9200463499420626, total= 1.5min\n",
      "[CV] clf__max_depth=10, clf__min_child_samples=500, clf__min_child_weight=1e-05, clf__num_leaves=6, clf__tree_method=gpu_exact, lsi__svd__n_components=250, lsi__vect__max_df=0.95 \n",
      "[CV]  clf__max_depth=10, clf__min_child_samples=500, clf__min_child_weight=1e-05, clf__num_leaves=6, clf__tree_method=gpu_exact, lsi__svd__n_components=250, lsi__vect__max_df=0.95, score=0.8860465116279069, total= 1.5min\n",
      "[CV] clf__max_depth=10, clf__min_child_samples=500, clf__min_child_weight=1e-05, clf__num_leaves=6, clf__tree_method=gpu_exact, lsi__svd__n_components=250, lsi__vect__max_df=0.98 \n",
      "[CV]  clf__max_depth=10, clf__min_child_samples=500, clf__min_child_weight=1e-05, clf__num_leaves=6, clf__tree_method=gpu_exact, lsi__svd__n_components=250, lsi__vect__max_df=0.98, score=0.9154113557358053, total= 1.6min\n",
      "[CV] clf__max_depth=10, clf__min_child_samples=500, clf__min_child_weight=1e-05, clf__num_leaves=6, clf__tree_method=gpu_exact, lsi__svd__n_components=250, lsi__vect__max_df=0.98 \n",
      "[CV]  clf__max_depth=10, clf__min_child_samples=500, clf__min_child_weight=1e-05, clf__num_leaves=6, clf__tree_method=gpu_exact, lsi__svd__n_components=250, lsi__vect__max_df=0.98, score=0.9200463499420626, total= 1.3min\n",
      "[CV] clf__max_depth=10, clf__min_child_samples=500, clf__min_child_weight=1e-05, clf__num_leaves=6, clf__tree_method=gpu_exact, lsi__svd__n_components=250, lsi__vect__max_df=0.98 \n",
      "[CV]  clf__max_depth=10, clf__min_child_samples=500, clf__min_child_weight=1e-05, clf__num_leaves=6, clf__tree_method=gpu_exact, lsi__svd__n_components=250, lsi__vect__max_df=0.98, score=0.8837209302325582, total= 1.6min\n",
      "[CV] clf__max_depth=10, clf__min_child_samples=500, clf__min_child_weight=1e-05, clf__num_leaves=6, clf__tree_method=gpu_exact, lsi__svd__n_components=300, lsi__vect__max_df=0.93 \n",
      "[CV]  clf__max_depth=10, clf__min_child_samples=500, clf__min_child_weight=1e-05, clf__num_leaves=6, clf__tree_method=gpu_exact, lsi__svd__n_components=300, lsi__vect__max_df=0.93, score=0.9096176129779838, total= 1.2min\n",
      "[CV] clf__max_depth=10, clf__min_child_samples=500, clf__min_child_weight=1e-05, clf__num_leaves=6, clf__tree_method=gpu_exact, lsi__svd__n_components=300, lsi__vect__max_df=0.93 \n",
      "[CV]  clf__max_depth=10, clf__min_child_samples=500, clf__min_child_weight=1e-05, clf__num_leaves=6, clf__tree_method=gpu_exact, lsi__svd__n_components=300, lsi__vect__max_df=0.93, score=0.9188876013904983, total= 1.6min\n",
      "[CV] clf__max_depth=10, clf__min_child_samples=500, clf__min_child_weight=1e-05, clf__num_leaves=6, clf__tree_method=gpu_exact, lsi__svd__n_components=300, lsi__vect__max_df=0.93 \n",
      "[CV]  clf__max_depth=10, clf__min_child_samples=500, clf__min_child_weight=1e-05, clf__num_leaves=6, clf__tree_method=gpu_exact, lsi__svd__n_components=300, lsi__vect__max_df=0.93, score=0.8895348837209303, total=  47.5s\n",
      "[CV] clf__max_depth=10, clf__min_child_samples=500, clf__min_child_weight=1e-05, clf__num_leaves=6, clf__tree_method=gpu_exact, lsi__svd__n_components=300, lsi__vect__max_df=0.95 \n",
      "[CV]  clf__max_depth=10, clf__min_child_samples=500, clf__min_child_weight=1e-05, clf__num_leaves=6, clf__tree_method=gpu_exact, lsi__svd__n_components=300, lsi__vect__max_df=0.95, score=0.9142526071842411, total=  29.9s\n",
      "[CV] clf__max_depth=10, clf__min_child_samples=500, clf__min_child_weight=1e-05, clf__num_leaves=6, clf__tree_method=gpu_exact, lsi__svd__n_components=300, lsi__vect__max_df=0.95 \n",
      "[CV]  clf__max_depth=10, clf__min_child_samples=500, clf__min_child_weight=1e-05, clf__num_leaves=6, clf__tree_method=gpu_exact, lsi__svd__n_components=300, lsi__vect__max_df=0.95, score=0.9188876013904983, total= 1.7min\n",
      "[CV] clf__max_depth=10, clf__min_child_samples=500, clf__min_child_weight=1e-05, clf__num_leaves=6, clf__tree_method=gpu_exact, lsi__svd__n_components=300, lsi__vect__max_df=0.95 \n",
      "[CV]  clf__max_depth=10, clf__min_child_samples=500, clf__min_child_weight=1e-05, clf__num_leaves=6, clf__tree_method=gpu_exact, lsi__svd__n_components=300, lsi__vect__max_df=0.95, score=0.8872093023255814, total= 1.8min\n",
      "[CV] clf__max_depth=10, clf__min_child_samples=500, clf__min_child_weight=1e-05, clf__num_leaves=6, clf__tree_method=gpu_exact, lsi__svd__n_components=300, lsi__vect__max_df=0.98 \n",
      "[CV]  clf__max_depth=10, clf__min_child_samples=500, clf__min_child_weight=1e-05, clf__num_leaves=6, clf__tree_method=gpu_exact, lsi__svd__n_components=300, lsi__vect__max_df=0.98, score=0.9107763615295481, total= 1.6min\n",
      "[CV] clf__max_depth=10, clf__min_child_samples=500, clf__min_child_weight=1e-05, clf__num_leaves=6, clf__tree_method=gpu_exact, lsi__svd__n_components=300, lsi__vect__max_df=0.98 \n",
      "[CV]  clf__max_depth=10, clf__min_child_samples=500, clf__min_child_weight=1e-05, clf__num_leaves=6, clf__tree_method=gpu_exact, lsi__svd__n_components=300, lsi__vect__max_df=0.98, score=0.9188876013904983, total= 1.7min\n",
      "[CV] clf__max_depth=10, clf__min_child_samples=500, clf__min_child_weight=1e-05, clf__num_leaves=6, clf__tree_method=gpu_exact, lsi__svd__n_components=300, lsi__vect__max_df=0.98 \n",
      "[CV]  clf__max_depth=10, clf__min_child_samples=500, clf__min_child_weight=1e-05, clf__num_leaves=6, clf__tree_method=gpu_exact, lsi__svd__n_components=300, lsi__vect__max_df=0.98, score=0.8906976744186047, total= 2.0min\n",
      "[CV] clf__max_depth=10, clf__min_child_samples=500, clf__min_child_weight=1e-05, clf__num_leaves=50, clf__tree_method=gpu_exact, lsi__svd__n_components=250, lsi__vect__max_df=0.93 \n",
      "[CV]  clf__max_depth=10, clf__min_child_samples=500, clf__min_child_weight=1e-05, clf__num_leaves=50, clf__tree_method=gpu_exact, lsi__svd__n_components=250, lsi__vect__max_df=0.93, score=0.9188876013904983, total=  49.4s\n",
      "[CV] clf__max_depth=10, clf__min_child_samples=500, clf__min_child_weight=1e-05, clf__num_leaves=50, clf__tree_method=gpu_exact, lsi__svd__n_components=250, lsi__vect__max_df=0.93 \n",
      "[CV]  clf__max_depth=10, clf__min_child_samples=500, clf__min_child_weight=1e-05, clf__num_leaves=50, clf__tree_method=gpu_exact, lsi__svd__n_components=250, lsi__vect__max_df=0.93, score=0.9212050984936269, total=  32.6s\n",
      "[CV] clf__max_depth=10, clf__min_child_samples=500, clf__min_child_weight=1e-05, clf__num_leaves=50, clf__tree_method=gpu_exact, lsi__svd__n_components=250, lsi__vect__max_df=0.93 \n",
      "[CV]  clf__max_depth=10, clf__min_child_samples=500, clf__min_child_weight=1e-05, clf__num_leaves=50, clf__tree_method=gpu_exact, lsi__svd__n_components=250, lsi__vect__max_df=0.93, score=0.8872093023255814, total=  23.7s\n",
      "[CV] clf__max_depth=10, clf__min_child_samples=500, clf__min_child_weight=1e-05, clf__num_leaves=50, clf__tree_method=gpu_exact, lsi__svd__n_components=250, lsi__vect__max_df=0.95 \n",
      "[CV]  clf__max_depth=10, clf__min_child_samples=500, clf__min_child_weight=1e-05, clf__num_leaves=50, clf__tree_method=gpu_exact, lsi__svd__n_components=250, lsi__vect__max_df=0.95, score=0.9107763615295481, total=  23.3s\n",
      "[CV] clf__max_depth=10, clf__min_child_samples=500, clf__min_child_weight=1e-05, clf__num_leaves=50, clf__tree_method=gpu_exact, lsi__svd__n_components=250, lsi__vect__max_df=0.95 \n",
      "[CV]  clf__max_depth=10, clf__min_child_samples=500, clf__min_child_weight=1e-05, clf__num_leaves=50, clf__tree_method=gpu_exact, lsi__svd__n_components=250, lsi__vect__max_df=0.95, score=0.9223638470451911, total=  22.1s\n",
      "[CV] clf__max_depth=10, clf__min_child_samples=500, clf__min_child_weight=1e-05, clf__num_leaves=50, clf__tree_method=gpu_exact, lsi__svd__n_components=250, lsi__vect__max_df=0.95 \n",
      "[CV]  clf__max_depth=10, clf__min_child_samples=500, clf__min_child_weight=1e-05, clf__num_leaves=50, clf__tree_method=gpu_exact, lsi__svd__n_components=250, lsi__vect__max_df=0.95, score=0.8883720930232558, total=  20.0s\n",
      "[CV] clf__max_depth=10, clf__min_child_samples=500, clf__min_child_weight=1e-05, clf__num_leaves=50, clf__tree_method=gpu_exact, lsi__svd__n_components=250, lsi__vect__max_df=0.98 \n",
      "[CV]  clf__max_depth=10, clf__min_child_samples=500, clf__min_child_weight=1e-05, clf__num_leaves=50, clf__tree_method=gpu_exact, lsi__svd__n_components=250, lsi__vect__max_df=0.98, score=0.9084588644264194, total=   8.4s\n",
      "[CV] clf__max_depth=10, clf__min_child_samples=500, clf__min_child_weight=1e-05, clf__num_leaves=50, clf__tree_method=gpu_exact, lsi__svd__n_components=250, lsi__vect__max_df=0.98 \n",
      "[CV]  clf__max_depth=10, clf__min_child_samples=500, clf__min_child_weight=1e-05, clf__num_leaves=50, clf__tree_method=gpu_exact, lsi__svd__n_components=250, lsi__vect__max_df=0.98, score=0.9200463499420626, total=   8.9s\n",
      "[CV] clf__max_depth=10, clf__min_child_samples=500, clf__min_child_weight=1e-05, clf__num_leaves=50, clf__tree_method=gpu_exact, lsi__svd__n_components=250, lsi__vect__max_df=0.98 \n",
      "[CV]  clf__max_depth=10, clf__min_child_samples=500, clf__min_child_weight=1e-05, clf__num_leaves=50, clf__tree_method=gpu_exact, lsi__svd__n_components=250, lsi__vect__max_df=0.98, score=0.8895348837209303, total=   8.6s\n",
      "[CV] clf__max_depth=10, clf__min_child_samples=500, clf__min_child_weight=1e-05, clf__num_leaves=50, clf__tree_method=gpu_exact, lsi__svd__n_components=300, lsi__vect__max_df=0.93 \n",
      "[CV]  clf__max_depth=10, clf__min_child_samples=500, clf__min_child_weight=1e-05, clf__num_leaves=50, clf__tree_method=gpu_exact, lsi__svd__n_components=300, lsi__vect__max_df=0.93, score=0.9154113557358053, total=   9.9s\n",
      "[CV] clf__max_depth=10, clf__min_child_samples=500, clf__min_child_weight=1e-05, clf__num_leaves=50, clf__tree_method=gpu_exact, lsi__svd__n_components=300, lsi__vect__max_df=0.93 \n",
      "[CV]  clf__max_depth=10, clf__min_child_samples=500, clf__min_child_weight=1e-05, clf__num_leaves=50, clf__tree_method=gpu_exact, lsi__svd__n_components=300, lsi__vect__max_df=0.93, score=0.9154113557358053, total=  10.3s\n",
      "[CV] clf__max_depth=10, clf__min_child_samples=500, clf__min_child_weight=1e-05, clf__num_leaves=50, clf__tree_method=gpu_exact, lsi__svd__n_components=300, lsi__vect__max_df=0.93 \n",
      "[CV]  clf__max_depth=10, clf__min_child_samples=500, clf__min_child_weight=1e-05, clf__num_leaves=50, clf__tree_method=gpu_exact, lsi__svd__n_components=300, lsi__vect__max_df=0.93, score=0.8848837209302326, total=  10.5s\n",
      "[CV] clf__max_depth=10, clf__min_child_samples=500, clf__min_child_weight=1e-05, clf__num_leaves=50, clf__tree_method=gpu_exact, lsi__svd__n_components=300, lsi__vect__max_df=0.95 \n",
      "[CV]  clf__max_depth=10, clf__min_child_samples=500, clf__min_child_weight=1e-05, clf__num_leaves=50, clf__tree_method=gpu_exact, lsi__svd__n_components=300, lsi__vect__max_df=0.95, score=0.9177288528389339, total=  10.7s\n",
      "[CV] clf__max_depth=10, clf__min_child_samples=500, clf__min_child_weight=1e-05, clf__num_leaves=50, clf__tree_method=gpu_exact, lsi__svd__n_components=300, lsi__vect__max_df=0.95 \n",
      "[CV]  clf__max_depth=10, clf__min_child_samples=500, clf__min_child_weight=1e-05, clf__num_leaves=50, clf__tree_method=gpu_exact, lsi__svd__n_components=300, lsi__vect__max_df=0.95, score=0.9212050984936269, total=  10.6s\n",
      "[CV] clf__max_depth=10, clf__min_child_samples=500, clf__min_child_weight=1e-05, clf__num_leaves=50, clf__tree_method=gpu_exact, lsi__svd__n_components=300, lsi__vect__max_df=0.95 \n",
      "[CV]  clf__max_depth=10, clf__min_child_samples=500, clf__min_child_weight=1e-05, clf__num_leaves=50, clf__tree_method=gpu_exact, lsi__svd__n_components=300, lsi__vect__max_df=0.95, score=0.8895348837209303, total=  10.6s\n",
      "[CV] clf__max_depth=10, clf__min_child_samples=500, clf__min_child_weight=1e-05, clf__num_leaves=50, clf__tree_method=gpu_exact, lsi__svd__n_components=300, lsi__vect__max_df=0.98 \n",
      "[CV]  clf__max_depth=10, clf__min_child_samples=500, clf__min_child_weight=1e-05, clf__num_leaves=50, clf__tree_method=gpu_exact, lsi__svd__n_components=300, lsi__vect__max_df=0.98, score=0.9096176129779838, total=  10.4s\n",
      "[CV] clf__max_depth=10, clf__min_child_samples=500, clf__min_child_weight=1e-05, clf__num_leaves=50, clf__tree_method=gpu_exact, lsi__svd__n_components=300, lsi__vect__max_df=0.98 \n",
      "[CV]  clf__max_depth=10, clf__min_child_samples=500, clf__min_child_weight=1e-05, clf__num_leaves=50, clf__tree_method=gpu_exact, lsi__svd__n_components=300, lsi__vect__max_df=0.98, score=0.9165701042873696, total=  10.7s\n",
      "[CV] clf__max_depth=10, clf__min_child_samples=500, clf__min_child_weight=1e-05, clf__num_leaves=50, clf__tree_method=gpu_exact, lsi__svd__n_components=300, lsi__vect__max_df=0.98 \n",
      "[CV]  clf__max_depth=10, clf__min_child_samples=500, clf__min_child_weight=1e-05, clf__num_leaves=50, clf__tree_method=gpu_exact, lsi__svd__n_components=300, lsi__vect__max_df=0.98, score=0.8872093023255814, total=  10.4s\n",
      "[CV] clf__max_depth=10, clf__min_child_samples=500, clf__min_child_weight=1, clf__num_leaves=6, clf__tree_method=gpu_exact, lsi__svd__n_components=250, lsi__vect__max_df=0.93 \n",
      "[CV]  clf__max_depth=10, clf__min_child_samples=500, clf__min_child_weight=1, clf__num_leaves=6, clf__tree_method=gpu_exact, lsi__svd__n_components=250, lsi__vect__max_df=0.93, score=0.9188876013904983, total=   9.1s\n",
      "[CV] clf__max_depth=10, clf__min_child_samples=500, clf__min_child_weight=1, clf__num_leaves=6, clf__tree_method=gpu_exact, lsi__svd__n_components=250, lsi__vect__max_df=0.93 \n",
      "[CV]  clf__max_depth=10, clf__min_child_samples=500, clf__min_child_weight=1, clf__num_leaves=6, clf__tree_method=gpu_exact, lsi__svd__n_components=250, lsi__vect__max_df=0.93, score=0.9177288528389339, total=   8.6s\n",
      "[CV] clf__max_depth=10, clf__min_child_samples=500, clf__min_child_weight=1, clf__num_leaves=6, clf__tree_method=gpu_exact, lsi__svd__n_components=250, lsi__vect__max_df=0.93 \n",
      "[CV]  clf__max_depth=10, clf__min_child_samples=500, clf__min_child_weight=1, clf__num_leaves=6, clf__tree_method=gpu_exact, lsi__svd__n_components=250, lsi__vect__max_df=0.93, score=0.891860465116279, total=   8.6s\n",
      "[CV] clf__max_depth=10, clf__min_child_samples=500, clf__min_child_weight=1, clf__num_leaves=6, clf__tree_method=gpu_exact, lsi__svd__n_components=250, lsi__vect__max_df=0.95 \n",
      "[CV]  clf__max_depth=10, clf__min_child_samples=500, clf__min_child_weight=1, clf__num_leaves=6, clf__tree_method=gpu_exact, lsi__svd__n_components=250, lsi__vect__max_df=0.95, score=0.9119351100811124, total=   8.3s\n",
      "[CV] clf__max_depth=10, clf__min_child_samples=500, clf__min_child_weight=1, clf__num_leaves=6, clf__tree_method=gpu_exact, lsi__svd__n_components=250, lsi__vect__max_df=0.95 \n",
      "[CV]  clf__max_depth=10, clf__min_child_samples=500, clf__min_child_weight=1, clf__num_leaves=6, clf__tree_method=gpu_exact, lsi__svd__n_components=250, lsi__vect__max_df=0.95, score=0.9188876013904983, total=   8.4s\n",
      "[CV] clf__max_depth=10, clf__min_child_samples=500, clf__min_child_weight=1, clf__num_leaves=6, clf__tree_method=gpu_exact, lsi__svd__n_components=250, lsi__vect__max_df=0.95 \n",
      "[CV]  clf__max_depth=10, clf__min_child_samples=500, clf__min_child_weight=1, clf__num_leaves=6, clf__tree_method=gpu_exact, lsi__svd__n_components=250, lsi__vect__max_df=0.95, score=0.8883720930232558, total=   8.7s\n",
      "[CV] clf__max_depth=10, clf__min_child_samples=500, clf__min_child_weight=1, clf__num_leaves=6, clf__tree_method=gpu_exact, lsi__svd__n_components=250, lsi__vect__max_df=0.98 \n",
      "[CV]  clf__max_depth=10, clf__min_child_samples=500, clf__min_child_weight=1, clf__num_leaves=6, clf__tree_method=gpu_exact, lsi__svd__n_components=250, lsi__vect__max_df=0.98, score=0.9165701042873696, total=   8.4s\n",
      "[CV] clf__max_depth=10, clf__min_child_samples=500, clf__min_child_weight=1, clf__num_leaves=6, clf__tree_method=gpu_exact, lsi__svd__n_components=250, lsi__vect__max_df=0.98 \n",
      "[CV]  clf__max_depth=10, clf__min_child_samples=500, clf__min_child_weight=1, clf__num_leaves=6, clf__tree_method=gpu_exact, lsi__svd__n_components=250, lsi__vect__max_df=0.98, score=0.9212050984936269, total=   8.6s\n",
      "[CV] clf__max_depth=10, clf__min_child_samples=500, clf__min_child_weight=1, clf__num_leaves=6, clf__tree_method=gpu_exact, lsi__svd__n_components=250, lsi__vect__max_df=0.98 \n",
      "[CV]  clf__max_depth=10, clf__min_child_samples=500, clf__min_child_weight=1, clf__num_leaves=6, clf__tree_method=gpu_exact, lsi__svd__n_components=250, lsi__vect__max_df=0.98, score=0.8837209302325582, total=   8.6s\n",
      "[CV] clf__max_depth=10, clf__min_child_samples=500, clf__min_child_weight=1, clf__num_leaves=6, clf__tree_method=gpu_exact, lsi__svd__n_components=300, lsi__vect__max_df=0.93 \n",
      "[CV]  clf__max_depth=10, clf__min_child_samples=500, clf__min_child_weight=1, clf__num_leaves=6, clf__tree_method=gpu_exact, lsi__svd__n_components=300, lsi__vect__max_df=0.93, score=0.9188876013904983, total=   9.9s\n",
      "[CV] clf__max_depth=10, clf__min_child_samples=500, clf__min_child_weight=1, clf__num_leaves=6, clf__tree_method=gpu_exact, lsi__svd__n_components=300, lsi__vect__max_df=0.93 \n",
      "[CV]  clf__max_depth=10, clf__min_child_samples=500, clf__min_child_weight=1, clf__num_leaves=6, clf__tree_method=gpu_exact, lsi__svd__n_components=300, lsi__vect__max_df=0.93, score=0.9223638470451911, total=  10.2s\n",
      "[CV] clf__max_depth=10, clf__min_child_samples=500, clf__min_child_weight=1, clf__num_leaves=6, clf__tree_method=gpu_exact, lsi__svd__n_components=300, lsi__vect__max_df=0.93 \n",
      "[CV]  clf__max_depth=10, clf__min_child_samples=500, clf__min_child_weight=1, clf__num_leaves=6, clf__tree_method=gpu_exact, lsi__svd__n_components=300, lsi__vect__max_df=0.93, score=0.8883720930232558, total=  10.1s\n",
      "[CV] clf__max_depth=10, clf__min_child_samples=500, clf__min_child_weight=1, clf__num_leaves=6, clf__tree_method=gpu_exact, lsi__svd__n_components=300, lsi__vect__max_df=0.95 \n",
      "[CV]  clf__max_depth=10, clf__min_child_samples=500, clf__min_child_weight=1, clf__num_leaves=6, clf__tree_method=gpu_exact, lsi__svd__n_components=300, lsi__vect__max_df=0.95, score=0.9142526071842411, total=   9.8s\n",
      "[CV] clf__max_depth=10, clf__min_child_samples=500, clf__min_child_weight=1, clf__num_leaves=6, clf__tree_method=gpu_exact, lsi__svd__n_components=300, lsi__vect__max_df=0.95 \n",
      "[CV]  clf__max_depth=10, clf__min_child_samples=500, clf__min_child_weight=1, clf__num_leaves=6, clf__tree_method=gpu_exact, lsi__svd__n_components=300, lsi__vect__max_df=0.95, score=0.9188876013904983, total=  10.0s\n",
      "[CV] clf__max_depth=10, clf__min_child_samples=500, clf__min_child_weight=1, clf__num_leaves=6, clf__tree_method=gpu_exact, lsi__svd__n_components=300, lsi__vect__max_df=0.95 \n",
      "[CV]  clf__max_depth=10, clf__min_child_samples=500, clf__min_child_weight=1, clf__num_leaves=6, clf__tree_method=gpu_exact, lsi__svd__n_components=300, lsi__vect__max_df=0.95, score=0.8906976744186047, total=  10.1s\n",
      "[CV] clf__max_depth=10, clf__min_child_samples=500, clf__min_child_weight=1, clf__num_leaves=6, clf__tree_method=gpu_exact, lsi__svd__n_components=300, lsi__vect__max_df=0.98 \n",
      "[CV]  clf__max_depth=10, clf__min_child_samples=500, clf__min_child_weight=1, clf__num_leaves=6, clf__tree_method=gpu_exact, lsi__svd__n_components=300, lsi__vect__max_df=0.98, score=0.9096176129779838, total=   9.9s\n",
      "[CV] clf__max_depth=10, clf__min_child_samples=500, clf__min_child_weight=1, clf__num_leaves=6, clf__tree_method=gpu_exact, lsi__svd__n_components=300, lsi__vect__max_df=0.98 \n",
      "[CV]  clf__max_depth=10, clf__min_child_samples=500, clf__min_child_weight=1, clf__num_leaves=6, clf__tree_method=gpu_exact, lsi__svd__n_components=300, lsi__vect__max_df=0.98, score=0.9223638470451911, total=  10.0s\n",
      "[CV] clf__max_depth=10, clf__min_child_samples=500, clf__min_child_weight=1, clf__num_leaves=6, clf__tree_method=gpu_exact, lsi__svd__n_components=300, lsi__vect__max_df=0.98 \n",
      "[CV]  clf__max_depth=10, clf__min_child_samples=500, clf__min_child_weight=1, clf__num_leaves=6, clf__tree_method=gpu_exact, lsi__svd__n_components=300, lsi__vect__max_df=0.98, score=0.8883720930232558, total=  10.1s\n",
      "[CV] clf__max_depth=10, clf__min_child_samples=500, clf__min_child_weight=1, clf__num_leaves=50, clf__tree_method=gpu_exact, lsi__svd__n_components=250, lsi__vect__max_df=0.93 \n",
      "[CV]  clf__max_depth=10, clf__min_child_samples=500, clf__min_child_weight=1, clf__num_leaves=50, clf__tree_method=gpu_exact, lsi__svd__n_components=250, lsi__vect__max_df=0.93, score=0.9130938586326767, total=   8.3s\n",
      "[CV] clf__max_depth=10, clf__min_child_samples=500, clf__min_child_weight=1, clf__num_leaves=50, clf__tree_method=gpu_exact, lsi__svd__n_components=250, lsi__vect__max_df=0.93 \n",
      "[CV]  clf__max_depth=10, clf__min_child_samples=500, clf__min_child_weight=1, clf__num_leaves=50, clf__tree_method=gpu_exact, lsi__svd__n_components=250, lsi__vect__max_df=0.93, score=0.9200463499420626, total=   8.4s\n",
      "[CV] clf__max_depth=10, clf__min_child_samples=500, clf__min_child_weight=1, clf__num_leaves=50, clf__tree_method=gpu_exact, lsi__svd__n_components=250, lsi__vect__max_df=0.93 \n",
      "[CV]  clf__max_depth=10, clf__min_child_samples=500, clf__min_child_weight=1, clf__num_leaves=50, clf__tree_method=gpu_exact, lsi__svd__n_components=250, lsi__vect__max_df=0.93, score=0.891860465116279, total=   8.7s\n",
      "[CV] clf__max_depth=10, clf__min_child_samples=500, clf__min_child_weight=1, clf__num_leaves=50, clf__tree_method=gpu_exact, lsi__svd__n_components=250, lsi__vect__max_df=0.95 \n",
      "[CV]  clf__max_depth=10, clf__min_child_samples=500, clf__min_child_weight=1, clf__num_leaves=50, clf__tree_method=gpu_exact, lsi__svd__n_components=250, lsi__vect__max_df=0.95, score=0.9188876013904983, total=   8.3s\n",
      "[CV] clf__max_depth=10, clf__min_child_samples=500, clf__min_child_weight=1, clf__num_leaves=50, clf__tree_method=gpu_exact, lsi__svd__n_components=250, lsi__vect__max_df=0.95 \n",
      "[CV]  clf__max_depth=10, clf__min_child_samples=500, clf__min_child_weight=1, clf__num_leaves=50, clf__tree_method=gpu_exact, lsi__svd__n_components=250, lsi__vect__max_df=0.95, score=0.9177288528389339, total=   8.6s\n",
      "[CV] clf__max_depth=10, clf__min_child_samples=500, clf__min_child_weight=1, clf__num_leaves=50, clf__tree_method=gpu_exact, lsi__svd__n_components=250, lsi__vect__max_df=0.95 \n",
      "[CV]  clf__max_depth=10, clf__min_child_samples=500, clf__min_child_weight=1, clf__num_leaves=50, clf__tree_method=gpu_exact, lsi__svd__n_components=250, lsi__vect__max_df=0.95, score=0.8895348837209303, total=   8.5s\n",
      "[CV] clf__max_depth=10, clf__min_child_samples=500, clf__min_child_weight=1, clf__num_leaves=50, clf__tree_method=gpu_exact, lsi__svd__n_components=250, lsi__vect__max_df=0.98 \n",
      "[CV]  clf__max_depth=10, clf__min_child_samples=500, clf__min_child_weight=1, clf__num_leaves=50, clf__tree_method=gpu_exact, lsi__svd__n_components=250, lsi__vect__max_df=0.98, score=0.9130938586326767, total=   8.4s\n",
      "[CV] clf__max_depth=10, clf__min_child_samples=500, clf__min_child_weight=1, clf__num_leaves=50, clf__tree_method=gpu_exact, lsi__svd__n_components=250, lsi__vect__max_df=0.98 \n",
      "[CV]  clf__max_depth=10, clf__min_child_samples=500, clf__min_child_weight=1, clf__num_leaves=50, clf__tree_method=gpu_exact, lsi__svd__n_components=250, lsi__vect__max_df=0.98, score=0.9177288528389339, total=   8.6s\n",
      "[CV] clf__max_depth=10, clf__min_child_samples=500, clf__min_child_weight=1, clf__num_leaves=50, clf__tree_method=gpu_exact, lsi__svd__n_components=250, lsi__vect__max_df=0.98 \n",
      "[CV]  clf__max_depth=10, clf__min_child_samples=500, clf__min_child_weight=1, clf__num_leaves=50, clf__tree_method=gpu_exact, lsi__svd__n_components=250, lsi__vect__max_df=0.98, score=0.8941860465116279, total=   8.6s\n",
      "[CV] clf__max_depth=10, clf__min_child_samples=500, clf__min_child_weight=1, clf__num_leaves=50, clf__tree_method=gpu_exact, lsi__svd__n_components=300, lsi__vect__max_df=0.93 \n",
      "[CV]  clf__max_depth=10, clf__min_child_samples=500, clf__min_child_weight=1, clf__num_leaves=50, clf__tree_method=gpu_exact, lsi__svd__n_components=300, lsi__vect__max_df=0.93, score=0.9165701042873696, total=  10.0s\n",
      "[CV] clf__max_depth=10, clf__min_child_samples=500, clf__min_child_weight=1, clf__num_leaves=50, clf__tree_method=gpu_exact, lsi__svd__n_components=300, lsi__vect__max_df=0.93 \n",
      "[CV]  clf__max_depth=10, clf__min_child_samples=500, clf__min_child_weight=1, clf__num_leaves=50, clf__tree_method=gpu_exact, lsi__svd__n_components=300, lsi__vect__max_df=0.93, score=0.9212050984936269, total=  10.1s\n",
      "[CV] clf__max_depth=10, clf__min_child_samples=500, clf__min_child_weight=1, clf__num_leaves=50, clf__tree_method=gpu_exact, lsi__svd__n_components=300, lsi__vect__max_df=0.93 \n",
      "[CV]  clf__max_depth=10, clf__min_child_samples=500, clf__min_child_weight=1, clf__num_leaves=50, clf__tree_method=gpu_exact, lsi__svd__n_components=300, lsi__vect__max_df=0.93, score=0.8872093023255814, total=  10.1s\n",
      "[CV] clf__max_depth=10, clf__min_child_samples=500, clf__min_child_weight=1, clf__num_leaves=50, clf__tree_method=gpu_exact, lsi__svd__n_components=300, lsi__vect__max_df=0.95 \n",
      "[CV]  clf__max_depth=10, clf__min_child_samples=500, clf__min_child_weight=1, clf__num_leaves=50, clf__tree_method=gpu_exact, lsi__svd__n_components=300, lsi__vect__max_df=0.95, score=0.9200463499420626, total=  10.1s\n",
      "[CV] clf__max_depth=10, clf__min_child_samples=500, clf__min_child_weight=1, clf__num_leaves=50, clf__tree_method=gpu_exact, lsi__svd__n_components=300, lsi__vect__max_df=0.95 \n",
      "[CV]  clf__max_depth=10, clf__min_child_samples=500, clf__min_child_weight=1, clf__num_leaves=50, clf__tree_method=gpu_exact, lsi__svd__n_components=300, lsi__vect__max_df=0.95, score=0.9246813441483198, total=  10.0s\n",
      "[CV] clf__max_depth=10, clf__min_child_samples=500, clf__min_child_weight=1, clf__num_leaves=50, clf__tree_method=gpu_exact, lsi__svd__n_components=300, lsi__vect__max_df=0.95 \n",
      "[CV]  clf__max_depth=10, clf__min_child_samples=500, clf__min_child_weight=1, clf__num_leaves=50, clf__tree_method=gpu_exact, lsi__svd__n_components=300, lsi__vect__max_df=0.95, score=0.8872093023255814, total=  10.3s\n",
      "[CV] clf__max_depth=10, clf__min_child_samples=500, clf__min_child_weight=1, clf__num_leaves=50, clf__tree_method=gpu_exact, lsi__svd__n_components=300, lsi__vect__max_df=0.98 \n",
      "[CV]  clf__max_depth=10, clf__min_child_samples=500, clf__min_child_weight=1, clf__num_leaves=50, clf__tree_method=gpu_exact, lsi__svd__n_components=300, lsi__vect__max_df=0.98, score=0.9073001158748552, total=  10.2s\n",
      "[CV] clf__max_depth=10, clf__min_child_samples=500, clf__min_child_weight=1, clf__num_leaves=50, clf__tree_method=gpu_exact, lsi__svd__n_components=300, lsi__vect__max_df=0.98 \n",
      "[CV]  clf__max_depth=10, clf__min_child_samples=500, clf__min_child_weight=1, clf__num_leaves=50, clf__tree_method=gpu_exact, lsi__svd__n_components=300, lsi__vect__max_df=0.98, score=0.9177288528389339, total=  10.0s\n",
      "[CV] clf__max_depth=10, clf__min_child_samples=500, clf__min_child_weight=1, clf__num_leaves=50, clf__tree_method=gpu_exact, lsi__svd__n_components=300, lsi__vect__max_df=0.98 \n",
      "[CV]  clf__max_depth=10, clf__min_child_samples=500, clf__min_child_weight=1, clf__num_leaves=50, clf__tree_method=gpu_exact, lsi__svd__n_components=300, lsi__vect__max_df=0.98, score=0.8860465116279069, total=  10.1s\n",
      "[CV] clf__max_depth=10, clf__min_child_samples=500, clf__min_child_weight=10000.0, clf__num_leaves=6, clf__tree_method=gpu_exact, lsi__svd__n_components=250, lsi__vect__max_df=0.93 \n",
      "[CV]  clf__max_depth=10, clf__min_child_samples=500, clf__min_child_weight=10000.0, clf__num_leaves=6, clf__tree_method=gpu_exact, lsi__svd__n_components=250, lsi__vect__max_df=0.93, score=0.6326767091541136, total=   8.7s\n",
      "[CV] clf__max_depth=10, clf__min_child_samples=500, clf__min_child_weight=10000.0, clf__num_leaves=6, clf__tree_method=gpu_exact, lsi__svd__n_components=250, lsi__vect__max_df=0.93 \n",
      "[CV]  clf__max_depth=10, clf__min_child_samples=500, clf__min_child_weight=10000.0, clf__num_leaves=6, clf__tree_method=gpu_exact, lsi__svd__n_components=250, lsi__vect__max_df=0.93, score=0.6326767091541136, total=   8.5s\n",
      "[CV] clf__max_depth=10, clf__min_child_samples=500, clf__min_child_weight=10000.0, clf__num_leaves=6, clf__tree_method=gpu_exact, lsi__svd__n_components=250, lsi__vect__max_df=0.93 \n",
      "[CV]  clf__max_depth=10, clf__min_child_samples=500, clf__min_child_weight=10000.0, clf__num_leaves=6, clf__tree_method=gpu_exact, lsi__svd__n_components=250, lsi__vect__max_df=0.93, score=0.6337209302325582, total=   8.7s\n",
      "[CV] clf__max_depth=10, clf__min_child_samples=500, clf__min_child_weight=10000.0, clf__num_leaves=6, clf__tree_method=gpu_exact, lsi__svd__n_components=250, lsi__vect__max_df=0.95 \n",
      "[CV]  clf__max_depth=10, clf__min_child_samples=500, clf__min_child_weight=10000.0, clf__num_leaves=6, clf__tree_method=gpu_exact, lsi__svd__n_components=250, lsi__vect__max_df=0.95, score=0.6326767091541136, total=   8.4s\n",
      "[CV] clf__max_depth=10, clf__min_child_samples=500, clf__min_child_weight=10000.0, clf__num_leaves=6, clf__tree_method=gpu_exact, lsi__svd__n_components=250, lsi__vect__max_df=0.95 \n",
      "[CV]  clf__max_depth=10, clf__min_child_samples=500, clf__min_child_weight=10000.0, clf__num_leaves=6, clf__tree_method=gpu_exact, lsi__svd__n_components=250, lsi__vect__max_df=0.95, score=0.6326767091541136, total=   8.7s\n",
      "[CV] clf__max_depth=10, clf__min_child_samples=500, clf__min_child_weight=10000.0, clf__num_leaves=6, clf__tree_method=gpu_exact, lsi__svd__n_components=250, lsi__vect__max_df=0.95 \n",
      "[CV]  clf__max_depth=10, clf__min_child_samples=500, clf__min_child_weight=10000.0, clf__num_leaves=6, clf__tree_method=gpu_exact, lsi__svd__n_components=250, lsi__vect__max_df=0.95, score=0.6337209302325582, total=   8.6s\n",
      "[CV] clf__max_depth=10, clf__min_child_samples=500, clf__min_child_weight=10000.0, clf__num_leaves=6, clf__tree_method=gpu_exact, lsi__svd__n_components=250, lsi__vect__max_df=0.98 \n",
      "[CV]  clf__max_depth=10, clf__min_child_samples=500, clf__min_child_weight=10000.0, clf__num_leaves=6, clf__tree_method=gpu_exact, lsi__svd__n_components=250, lsi__vect__max_df=0.98, score=0.6326767091541136, total=   8.3s\n",
      "[CV] clf__max_depth=10, clf__min_child_samples=500, clf__min_child_weight=10000.0, clf__num_leaves=6, clf__tree_method=gpu_exact, lsi__svd__n_components=250, lsi__vect__max_df=0.98 \n",
      "[CV]  clf__max_depth=10, clf__min_child_samples=500, clf__min_child_weight=10000.0, clf__num_leaves=6, clf__tree_method=gpu_exact, lsi__svd__n_components=250, lsi__vect__max_df=0.98, score=0.6326767091541136, total=   8.7s\n",
      "[CV] clf__max_depth=10, clf__min_child_samples=500, clf__min_child_weight=10000.0, clf__num_leaves=6, clf__tree_method=gpu_exact, lsi__svd__n_components=250, lsi__vect__max_df=0.98 \n",
      "[CV]  clf__max_depth=10, clf__min_child_samples=500, clf__min_child_weight=10000.0, clf__num_leaves=6, clf__tree_method=gpu_exact, lsi__svd__n_components=250, lsi__vect__max_df=0.98, score=0.6337209302325582, total=   8.5s\n",
      "[CV] clf__max_depth=10, clf__min_child_samples=500, clf__min_child_weight=10000.0, clf__num_leaves=6, clf__tree_method=gpu_exact, lsi__svd__n_components=300, lsi__vect__max_df=0.93 \n",
      "[CV]  clf__max_depth=10, clf__min_child_samples=500, clf__min_child_weight=10000.0, clf__num_leaves=6, clf__tree_method=gpu_exact, lsi__svd__n_components=300, lsi__vect__max_df=0.93, score=0.6326767091541136, total=  10.1s\n",
      "[CV] clf__max_depth=10, clf__min_child_samples=500, clf__min_child_weight=10000.0, clf__num_leaves=6, clf__tree_method=gpu_exact, lsi__svd__n_components=300, lsi__vect__max_df=0.93 \n",
      "[CV]  clf__max_depth=10, clf__min_child_samples=500, clf__min_child_weight=10000.0, clf__num_leaves=6, clf__tree_method=gpu_exact, lsi__svd__n_components=300, lsi__vect__max_df=0.93, score=0.6326767091541136, total=  10.3s\n",
      "[CV] clf__max_depth=10, clf__min_child_samples=500, clf__min_child_weight=10000.0, clf__num_leaves=6, clf__tree_method=gpu_exact, lsi__svd__n_components=300, lsi__vect__max_df=0.93 \n",
      "[CV]  clf__max_depth=10, clf__min_child_samples=500, clf__min_child_weight=10000.0, clf__num_leaves=6, clf__tree_method=gpu_exact, lsi__svd__n_components=300, lsi__vect__max_df=0.93, score=0.6337209302325582, total=  10.3s\n",
      "[CV] clf__max_depth=10, clf__min_child_samples=500, clf__min_child_weight=10000.0, clf__num_leaves=6, clf__tree_method=gpu_exact, lsi__svd__n_components=300, lsi__vect__max_df=0.95 \n",
      "[CV]  clf__max_depth=10, clf__min_child_samples=500, clf__min_child_weight=10000.0, clf__num_leaves=6, clf__tree_method=gpu_exact, lsi__svd__n_components=300, lsi__vect__max_df=0.95, score=0.6326767091541136, total=  10.2s\n",
      "[CV] clf__max_depth=10, clf__min_child_samples=500, clf__min_child_weight=10000.0, clf__num_leaves=6, clf__tree_method=gpu_exact, lsi__svd__n_components=300, lsi__vect__max_df=0.95 \n",
      "[CV]  clf__max_depth=10, clf__min_child_samples=500, clf__min_child_weight=10000.0, clf__num_leaves=6, clf__tree_method=gpu_exact, lsi__svd__n_components=300, lsi__vect__max_df=0.95, score=0.6326767091541136, total=  10.2s\n",
      "[CV] clf__max_depth=10, clf__min_child_samples=500, clf__min_child_weight=10000.0, clf__num_leaves=6, clf__tree_method=gpu_exact, lsi__svd__n_components=300, lsi__vect__max_df=0.95 \n",
      "[CV]  clf__max_depth=10, clf__min_child_samples=500, clf__min_child_weight=10000.0, clf__num_leaves=6, clf__tree_method=gpu_exact, lsi__svd__n_components=300, lsi__vect__max_df=0.95, score=0.6337209302325582, total=  10.3s\n",
      "[CV] clf__max_depth=10, clf__min_child_samples=500, clf__min_child_weight=10000.0, clf__num_leaves=6, clf__tree_method=gpu_exact, lsi__svd__n_components=300, lsi__vect__max_df=0.98 \n",
      "[CV]  clf__max_depth=10, clf__min_child_samples=500, clf__min_child_weight=10000.0, clf__num_leaves=6, clf__tree_method=gpu_exact, lsi__svd__n_components=300, lsi__vect__max_df=0.98, score=0.6326767091541136, total=  10.1s\n",
      "[CV] clf__max_depth=10, clf__min_child_samples=500, clf__min_child_weight=10000.0, clf__num_leaves=6, clf__tree_method=gpu_exact, lsi__svd__n_components=300, lsi__vect__max_df=0.98 \n",
      "[CV]  clf__max_depth=10, clf__min_child_samples=500, clf__min_child_weight=10000.0, clf__num_leaves=6, clf__tree_method=gpu_exact, lsi__svd__n_components=300, lsi__vect__max_df=0.98, score=0.6326767091541136, total=  10.2s\n",
      "[CV] clf__max_depth=10, clf__min_child_samples=500, clf__min_child_weight=10000.0, clf__num_leaves=6, clf__tree_method=gpu_exact, lsi__svd__n_components=300, lsi__vect__max_df=0.98 \n",
      "[CV]  clf__max_depth=10, clf__min_child_samples=500, clf__min_child_weight=10000.0, clf__num_leaves=6, clf__tree_method=gpu_exact, lsi__svd__n_components=300, lsi__vect__max_df=0.98, score=0.6337209302325582, total=  10.3s\n",
      "[CV] clf__max_depth=10, clf__min_child_samples=500, clf__min_child_weight=10000.0, clf__num_leaves=50, clf__tree_method=gpu_exact, lsi__svd__n_components=250, lsi__vect__max_df=0.93 \n",
      "[CV]  clf__max_depth=10, clf__min_child_samples=500, clf__min_child_weight=10000.0, clf__num_leaves=50, clf__tree_method=gpu_exact, lsi__svd__n_components=250, lsi__vect__max_df=0.93, score=0.6326767091541136, total=   8.4s\n",
      "[CV] clf__max_depth=10, clf__min_child_samples=500, clf__min_child_weight=10000.0, clf__num_leaves=50, clf__tree_method=gpu_exact, lsi__svd__n_components=250, lsi__vect__max_df=0.93 \n",
      "[CV]  clf__max_depth=10, clf__min_child_samples=500, clf__min_child_weight=10000.0, clf__num_leaves=50, clf__tree_method=gpu_exact, lsi__svd__n_components=250, lsi__vect__max_df=0.93, score=0.6326767091541136, total=   8.5s\n",
      "[CV] clf__max_depth=10, clf__min_child_samples=500, clf__min_child_weight=10000.0, clf__num_leaves=50, clf__tree_method=gpu_exact, lsi__svd__n_components=250, lsi__vect__max_df=0.93 \n",
      "[CV]  clf__max_depth=10, clf__min_child_samples=500, clf__min_child_weight=10000.0, clf__num_leaves=50, clf__tree_method=gpu_exact, lsi__svd__n_components=250, lsi__vect__max_df=0.93, score=0.6337209302325582, total=   8.7s\n",
      "[CV] clf__max_depth=10, clf__min_child_samples=500, clf__min_child_weight=10000.0, clf__num_leaves=50, clf__tree_method=gpu_exact, lsi__svd__n_components=250, lsi__vect__max_df=0.95 \n",
      "[CV]  clf__max_depth=10, clf__min_child_samples=500, clf__min_child_weight=10000.0, clf__num_leaves=50, clf__tree_method=gpu_exact, lsi__svd__n_components=250, lsi__vect__max_df=0.95, score=0.6326767091541136, total=   8.4s\n",
      "[CV] clf__max_depth=10, clf__min_child_samples=500, clf__min_child_weight=10000.0, clf__num_leaves=50, clf__tree_method=gpu_exact, lsi__svd__n_components=250, lsi__vect__max_df=0.95 \n",
      "[CV]  clf__max_depth=10, clf__min_child_samples=500, clf__min_child_weight=10000.0, clf__num_leaves=50, clf__tree_method=gpu_exact, lsi__svd__n_components=250, lsi__vect__max_df=0.95, score=0.6326767091541136, total=   8.8s\n",
      "[CV] clf__max_depth=10, clf__min_child_samples=500, clf__min_child_weight=10000.0, clf__num_leaves=50, clf__tree_method=gpu_exact, lsi__svd__n_components=250, lsi__vect__max_df=0.95 \n",
      "[CV]  clf__max_depth=10, clf__min_child_samples=500, clf__min_child_weight=10000.0, clf__num_leaves=50, clf__tree_method=gpu_exact, lsi__svd__n_components=250, lsi__vect__max_df=0.95, score=0.6337209302325582, total=   8.7s\n",
      "[CV] clf__max_depth=10, clf__min_child_samples=500, clf__min_child_weight=10000.0, clf__num_leaves=50, clf__tree_method=gpu_exact, lsi__svd__n_components=250, lsi__vect__max_df=0.98 \n",
      "[CV]  clf__max_depth=10, clf__min_child_samples=500, clf__min_child_weight=10000.0, clf__num_leaves=50, clf__tree_method=gpu_exact, lsi__svd__n_components=250, lsi__vect__max_df=0.98, score=0.6326767091541136, total=   8.4s\n",
      "[CV] clf__max_depth=10, clf__min_child_samples=500, clf__min_child_weight=10000.0, clf__num_leaves=50, clf__tree_method=gpu_exact, lsi__svd__n_components=250, lsi__vect__max_df=0.98 \n",
      "[CV]  clf__max_depth=10, clf__min_child_samples=500, clf__min_child_weight=10000.0, clf__num_leaves=50, clf__tree_method=gpu_exact, lsi__svd__n_components=250, lsi__vect__max_df=0.98, score=0.6326767091541136, total=   8.7s\n",
      "[CV] clf__max_depth=10, clf__min_child_samples=500, clf__min_child_weight=10000.0, clf__num_leaves=50, clf__tree_method=gpu_exact, lsi__svd__n_components=250, lsi__vect__max_df=0.98 \n",
      "[CV]  clf__max_depth=10, clf__min_child_samples=500, clf__min_child_weight=10000.0, clf__num_leaves=50, clf__tree_method=gpu_exact, lsi__svd__n_components=250, lsi__vect__max_df=0.98, score=0.6337209302325582, total=   8.6s\n",
      "[CV] clf__max_depth=10, clf__min_child_samples=500, clf__min_child_weight=10000.0, clf__num_leaves=50, clf__tree_method=gpu_exact, lsi__svd__n_components=300, lsi__vect__max_df=0.93 \n",
      "[CV]  clf__max_depth=10, clf__min_child_samples=500, clf__min_child_weight=10000.0, clf__num_leaves=50, clf__tree_method=gpu_exact, lsi__svd__n_components=300, lsi__vect__max_df=0.93, score=0.6326767091541136, total=  10.2s\n",
      "[CV] clf__max_depth=10, clf__min_child_samples=500, clf__min_child_weight=10000.0, clf__num_leaves=50, clf__tree_method=gpu_exact, lsi__svd__n_components=300, lsi__vect__max_df=0.93 \n",
      "[CV]  clf__max_depth=10, clf__min_child_samples=500, clf__min_child_weight=10000.0, clf__num_leaves=50, clf__tree_method=gpu_exact, lsi__svd__n_components=300, lsi__vect__max_df=0.93, score=0.6326767091541136, total=  10.3s\n",
      "[CV] clf__max_depth=10, clf__min_child_samples=500, clf__min_child_weight=10000.0, clf__num_leaves=50, clf__tree_method=gpu_exact, lsi__svd__n_components=300, lsi__vect__max_df=0.93 \n",
      "[CV]  clf__max_depth=10, clf__min_child_samples=500, clf__min_child_weight=10000.0, clf__num_leaves=50, clf__tree_method=gpu_exact, lsi__svd__n_components=300, lsi__vect__max_df=0.93, score=0.6337209302325582, total=  10.3s\n",
      "[CV] clf__max_depth=10, clf__min_child_samples=500, clf__min_child_weight=10000.0, clf__num_leaves=50, clf__tree_method=gpu_exact, lsi__svd__n_components=300, lsi__vect__max_df=0.95 \n",
      "[CV]  clf__max_depth=10, clf__min_child_samples=500, clf__min_child_weight=10000.0, clf__num_leaves=50, clf__tree_method=gpu_exact, lsi__svd__n_components=300, lsi__vect__max_df=0.95, score=0.6326767091541136, total=  10.0s\n",
      "[CV] clf__max_depth=10, clf__min_child_samples=500, clf__min_child_weight=10000.0, clf__num_leaves=50, clf__tree_method=gpu_exact, lsi__svd__n_components=300, lsi__vect__max_df=0.95 \n",
      "[CV]  clf__max_depth=10, clf__min_child_samples=500, clf__min_child_weight=10000.0, clf__num_leaves=50, clf__tree_method=gpu_exact, lsi__svd__n_components=300, lsi__vect__max_df=0.95, score=0.6326767091541136, total=  10.7s\n",
      "[CV] clf__max_depth=10, clf__min_child_samples=500, clf__min_child_weight=10000.0, clf__num_leaves=50, clf__tree_method=gpu_exact, lsi__svd__n_components=300, lsi__vect__max_df=0.95 \n",
      "[CV]  clf__max_depth=10, clf__min_child_samples=500, clf__min_child_weight=10000.0, clf__num_leaves=50, clf__tree_method=gpu_exact, lsi__svd__n_components=300, lsi__vect__max_df=0.95, score=0.6337209302325582, total=  10.6s\n",
      "[CV] clf__max_depth=10, clf__min_child_samples=500, clf__min_child_weight=10000.0, clf__num_leaves=50, clf__tree_method=gpu_exact, lsi__svd__n_components=300, lsi__vect__max_df=0.98 \n",
      "[CV]  clf__max_depth=10, clf__min_child_samples=500, clf__min_child_weight=10000.0, clf__num_leaves=50, clf__tree_method=gpu_exact, lsi__svd__n_components=300, lsi__vect__max_df=0.98, score=0.6326767091541136, total=  10.3s\n",
      "[CV] clf__max_depth=10, clf__min_child_samples=500, clf__min_child_weight=10000.0, clf__num_leaves=50, clf__tree_method=gpu_exact, lsi__svd__n_components=300, lsi__vect__max_df=0.98 \n",
      "[CV]  clf__max_depth=10, clf__min_child_samples=500, clf__min_child_weight=10000.0, clf__num_leaves=50, clf__tree_method=gpu_exact, lsi__svd__n_components=300, lsi__vect__max_df=0.98, score=0.6326767091541136, total=  10.4s\n",
      "[CV] clf__max_depth=10, clf__min_child_samples=500, clf__min_child_weight=10000.0, clf__num_leaves=50, clf__tree_method=gpu_exact, lsi__svd__n_components=300, lsi__vect__max_df=0.98 \n",
      "[CV]  clf__max_depth=10, clf__min_child_samples=500, clf__min_child_weight=10000.0, clf__num_leaves=50, clf__tree_method=gpu_exact, lsi__svd__n_components=300, lsi__vect__max_df=0.98, score=0.6337209302325582, total=  10.4s\n"
     ]
    },
    {
     "name": "stderr",
     "output_type": "stream",
     "text": [
      "[Parallel(n_jobs=1)]: Done 648 out of 648 | elapsed: 151.3min finished\n"
     ]
    },
    {
     "data": {
      "text/plain": [
       "GridSearchCV(cv=3, error_score='raise-deprecating',\n",
       "       estimator=Pipeline(memory=None,\n",
       "     steps=[('lsi', Pipeline(memory=None,\n",
       "     steps=[('vect', TfidfVectorizer(analyzer='word', binary=False, decode_error='strict',\n",
       "        dtype=<class 'numpy.float64'>, encoding='utf-8', input='content',\n",
       "        lowercase=True, max_df=1.0, max_features=None, min_df=1,\n",
       "        ngram_range=(1, 2), norm=...\n",
       "       reg_lambda=1, scale_pos_weight=1, seed=None, silent=None,\n",
       "       subsample=1, verbosity=1))]),\n",
       "       fit_params=None, iid='warn', n_jobs=1,\n",
       "       param_grid={'lsi__svd__n_components': [250, 300], 'lsi__vect__max_df': [0.93, 0.95, 0.98], 'clf__max_depth': (3, 5, 10), 'clf__tree_method': ['gpu_exact'], 'clf__num_leaves': (6, 50), 'clf__min_child_samples': (100, 500), 'clf__min_child_weight': [1e-05, 1, 10000.0]},\n",
       "       pre_dispatch='2*n_jobs', refit=True, return_train_score='warn',\n",
       "       scoring=None, verbose=10)"
      ]
     },
     "execution_count": 13,
     "metadata": {},
     "output_type": "execute_result"
    }
   ],
   "source": [
    "parameters = {\n",
    "    'lsi__svd__n_components': [250, 300],\n",
    "    'lsi__vect__max_df': [.93, .95, .98],\n",
    "    'clf__max_depth':(3, 5, 10),\n",
    "    'clf__tree_method': ['gpu_exact'],\n",
    "    'clf__num_leaves': (6, 50),\n",
    "    'clf__min_child_samples': (100, 500),\n",
    "    'clf__min_child_weight': [1e-5, 1, 1e4]\n",
    "}\n",
    "\n",
    "grid_search = GridSearchCV(pipe,parameters, cv=3, n_jobs=1, verbose=10)\n",
    "grid_search.fit(train.description, train.category)"
   ]
  },
  {
   "cell_type": "code",
   "execution_count": 14,
   "metadata": {},
   "outputs": [
    {
     "data": {
      "text/plain": [
       "0.9203402938901779"
      ]
     },
     "execution_count": 14,
     "metadata": {},
     "output_type": "execute_result"
    }
   ],
   "source": [
    "grid_search.best_score_"
   ]
  },
  {
   "cell_type": "code",
   "execution_count": 15,
   "metadata": {},
   "outputs": [
    {
     "data": {
      "text/plain": [
       "{'clf__max_depth': 3,\n",
       " 'clf__min_child_samples': 100,\n",
       " 'clf__min_child_weight': 1e-05,\n",
       " 'clf__num_leaves': 6,\n",
       " 'clf__tree_method': 'gpu_exact',\n",
       " 'lsi__svd__n_components': 250,\n",
       " 'lsi__vect__max_df': 0.95}"
      ]
     },
     "execution_count": 15,
     "metadata": {},
     "output_type": "execute_result"
    }
   ],
   "source": [
    "grid_search.best_params_"
   ]
  },
  {
   "cell_type": "markdown",
   "metadata": {},
   "source": [
    "### Make a Submission File\n",
    "*Note:* You are only allowed two submissions a day. Only submit if you feel you cannot achieve higher test accuracy. "
   ]
  },
  {
   "cell_type": "code",
   "execution_count": 16,
   "metadata": {},
   "outputs": [],
   "source": [
    "# Predictions on test sample\n",
    "pred = grid_search.predict(test['description'])"
   ]
  },
  {
   "cell_type": "code",
   "execution_count": 17,
   "metadata": {},
   "outputs": [],
   "source": [
    "submission = pd.DataFrame({'id': test['id'], 'category':pred})\n",
    "submission['category'] = submission['category'].astype('int64')"
   ]
  },
  {
   "cell_type": "code",
   "execution_count": 18,
   "metadata": {},
   "outputs": [
    {
     "data": {
      "text/html": [
       "<div>\n",
       "<style scoped>\n",
       "    .dataframe tbody tr th:only-of-type {\n",
       "        vertical-align: middle;\n",
       "    }\n",
       "\n",
       "    .dataframe tbody tr th {\n",
       "        vertical-align: top;\n",
       "    }\n",
       "\n",
       "    .dataframe thead th {\n",
       "        text-align: right;\n",
       "    }\n",
       "</style>\n",
       "<table border=\"1\" class=\"dataframe\">\n",
       "  <thead>\n",
       "    <tr style=\"text-align: right;\">\n",
       "      <th></th>\n",
       "      <th>id</th>\n",
       "      <th>category</th>\n",
       "    </tr>\n",
       "  </thead>\n",
       "  <tbody>\n",
       "    <tr>\n",
       "      <th>0</th>\n",
       "      <td>955</td>\n",
       "      <td>2</td>\n",
       "    </tr>\n",
       "    <tr>\n",
       "      <th>1</th>\n",
       "      <td>3532</td>\n",
       "      <td>2</td>\n",
       "    </tr>\n",
       "    <tr>\n",
       "      <th>2</th>\n",
       "      <td>1390</td>\n",
       "      <td>1</td>\n",
       "    </tr>\n",
       "    <tr>\n",
       "      <th>3</th>\n",
       "      <td>1024</td>\n",
       "      <td>1</td>\n",
       "    </tr>\n",
       "    <tr>\n",
       "      <th>4</th>\n",
       "      <td>1902</td>\n",
       "      <td>1</td>\n",
       "    </tr>\n",
       "  </tbody>\n",
       "</table>\n",
       "</div>"
      ],
      "text/plain": [
       "     id  category\n",
       "0   955         2\n",
       "1  3532         2\n",
       "2  1390         1\n",
       "3  1024         1\n",
       "4  1902         1"
      ]
     },
     "execution_count": 18,
     "metadata": {},
     "output_type": "execute_result"
    }
   ],
   "source": [
    "# Make Sure the Category is an Integer\n",
    "submission.head()"
   ]
  },
  {
   "cell_type": "code",
   "execution_count": 19,
   "metadata": {},
   "outputs": [],
   "source": [
    "# Save your Submission File\n",
    "# Best to Use an Integer or Timestamp for different versions of your model\n",
    "submission.to_csv('./data/submission4.csv', index=False)"
   ]
  },
  {
   "cell_type": "markdown",
   "metadata": {},
   "source": [
    "## Challenge\n",
    "\n",
    "Continue to apply Latent Semantic Indexing (LSI) to various datasets. "
   ]
  },
  {
   "cell_type": "markdown",
   "metadata": {},
   "source": [
    "# Word Embeddings with Spacy (Learn)\n",
    "<a id=\"p3\"></a>"
   ]
  },
  {
   "cell_type": "markdown",
   "metadata": {},
   "source": [
    "# Overview"
   ]
  },
  {
   "cell_type": "code",
   "execution_count": 19,
   "metadata": {},
   "outputs": [],
   "source": [
    "import spacy\n",
    "nlp = spacy.load(\"en_core_web_lg\")"
   ]
  },
  {
   "cell_type": "code",
   "execution_count": 20,
   "metadata": {},
   "outputs": [],
   "source": [
    "doc = nlp(\"Two bananas in pyjamas\")"
   ]
  },
  {
   "cell_type": "code",
   "execution_count": 21,
   "metadata": {},
   "outputs": [
    {
     "name": "stdout",
     "output_type": "stream",
     "text": [
      "300\n"
     ]
    }
   ],
   "source": [
    "bananas_vector = doc.vector\n",
    "print(len(bananas_vector))"
   ]
  },
  {
   "cell_type": "code",
   "execution_count": 26,
   "metadata": {},
   "outputs": [
    {
     "data": {
      "text/plain": [
       "True"
      ]
     },
     "execution_count": 26,
     "metadata": {},
     "output_type": "execute_result"
    }
   ],
   "source": [
    "len(X) == len(data.data)"
   ]
  },
  {
   "cell_type": "code",
   "execution_count": 22,
   "metadata": {},
   "outputs": [],
   "source": [
    "def get_word_vectors(docs):\n",
    "    return [nlp(doc).vector for doc in docs]"
   ]
  },
  {
   "cell_type": "code",
   "execution_count": 23,
   "metadata": {},
   "outputs": [
    {
     "name": "stderr",
     "output_type": "stream",
     "text": [
      "/Users/jonathansokoll/anaconda3/envs/U4-S1-NLP-DS6/lib/python3.7/site-packages/sklearn/ensemble/forest.py:246: FutureWarning: The default value of n_estimators will change from 10 in version 0.20 to 100 in 0.22.\n",
      "  \"10 in version 0.20 to 100 in 0.22.\", FutureWarning)\n"
     ]
    },
    {
     "data": {
      "text/plain": [
       "RandomForestClassifier(bootstrap=True, class_weight=None, criterion='gini',\n",
       "            max_depth=None, max_features='auto', max_leaf_nodes=None,\n",
       "            min_impurity_decrease=0.0, min_impurity_split=None,\n",
       "            min_samples_leaf=1, min_samples_split=2,\n",
       "            min_weight_fraction_leaf=0.0, n_estimators=10, n_jobs=None,\n",
       "            oob_score=False, random_state=None, verbose=0,\n",
       "            warm_start=False)"
      ]
     },
     "execution_count": 23,
     "metadata": {},
     "output_type": "execute_result"
    }
   ],
   "source": [
    "X = get_word_vectors(data.data)\n",
    "\n",
    "rfc.fit(X, data.target)"
   ]
  },
  {
   "cell_type": "code",
   "execution_count": 27,
   "metadata": {},
   "outputs": [
    {
     "data": {
      "text/plain": [
       "0.9918319719953326"
      ]
     },
     "execution_count": 27,
     "metadata": {},
     "output_type": "execute_result"
    }
   ],
   "source": [
    "rfc.score(X, data.target)"
   ]
  },
  {
   "cell_type": "markdown",
   "metadata": {},
   "source": [
    "## Follow Along"
   ]
  },
  {
   "cell_type": "code",
   "execution_count": null,
   "metadata": {},
   "outputs": [],
   "source": [
    "# Apply to your Dataset"
   ]
  },
  {
   "cell_type": "markdown",
   "metadata": {},
   "source": [
    "## Challenge\n",
    "\n",
    "What you should be doing now:\n",
    "1. Join the Kaggle Competition\n",
    "2. Download the data\n",
    "3. Train a model & try: \n",
    "    - Creating a Text Extraction & Classification Pipeline\n",
    "    - Tune the pipeline with a `GridSearchCV` or `RandomizedSearchCV`\n",
    "    - Add some Latent Semantic Indexing (lsi) into your pipeline. *Note:* You can grid search a nested pipeline, but you have to use double underscores ie `lsi__svd__n_components`\n",
    "    - Try to extract word embeddings with Spacy and use those embeddings as your features for a classification model.\n",
    "4. Make a submission to Kaggle "
   ]
  },
  {
   "cell_type": "markdown",
   "metadata": {},
   "source": [
    "# Review\n",
    "\n",
    "To review this module: \n",
    "* Continue working on the Kaggle comeptition\n",
    "* Find another text classification task to work on"
   ]
  }
 ],
 "metadata": {
  "kernelspec": {
   "display_name": "U4-S1-NLP (Python3)",
   "language": "python",
   "name": "u4-s1-nlp"
  },
  "language_info": {
   "codemirror_mode": {
    "name": "ipython",
    "version": 3
   },
   "file_extension": ".py",
   "mimetype": "text/x-python",
   "name": "python",
   "nbconvert_exporter": "python",
   "pygments_lexer": "ipython3",
   "version": "3.7.5"
  }
 },
 "nbformat": 4,
 "nbformat_minor": 4
}
